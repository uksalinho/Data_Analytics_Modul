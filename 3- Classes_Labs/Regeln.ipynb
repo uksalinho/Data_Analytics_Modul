{
 "cells": [
  {
   "cell_type": "code",
   "execution_count": null,
   "metadata": {},
   "outputs": [],
   "source": [
    "import numpy as np\n",
    "# metot'lar bir class'a aidiyet gösterir\n",
    "my_list = [1, 2, 3] \n",
    "my_array = np.array(my_list)  # array metodu ile liste\n",
    "np.arange(10)  # veya (0,10,2) ile Belirli bir aralıkta eşit aralıklı değerler döndürür.\n",
    "np.linspace(0, 10, 3)  # esit aralikta(3 adet) diziler olusturur. endpoint default olarak inclusive yani 10 dahil ve float \n",
    "np.eye(4)  # Köşegende olanlar ve başka yerde sıfırlar içeren 2 boyutlu bir dizi döndürün.\n",
    "np.random.rand(2)  # 2 tane random deger verir. \"uniform distribution\"\n",
    "np.random.rand(4, 4)  # tek parametre ihtiyaci old. icin boyut kazandirmak icin normalde kullanilan \n",
    "                      # ((4, 4)) seklinde tuple olarak yazilmaz\n",
    "import matplotlib.pyplot as plt\n",
    "%matplotlib inline\n",
    "plt.hist(np.random.rand(444), bins=40);  # bins cubuk sayisi\n",
    "plt.show()\n",
    "plt.hist(np.random.rand(4444), bins=40);  # sayi arttikca düzlesiyor\n",
    "plt.show()\n",
    "np.random.randn(3,3)  # \"normal distribution\"\n",
    "plt.hist(np.random.randn(444), bins=40);  # rand ile sayi arttikca düzlesirken bu normal dagilim olur \n",
    "plt.show()\n",
    "np.random.randint(1907)  # random degerler integers olarak gelir\n",
    "np.random.randint(1, 100, 10)  # 1-100 arasi ve 10 tane random deger\n",
    "np.random.randint(5, 25, size=(2, 4))\n",
    "np.random.randint([1, 30, 70], 111)  # 1-11, 30-11, 70-11 arasi degerler \n",
    "arr = np.arange(36)  #36ya kadar deger olustutrur\n",
    "rand_arr = np.random.randint(0, 50, 10)  # 0-50 arasi integer olarak 10 random deger\n",
    "arr.shape  # 1 boyutlu 36 tane eleman var\n",
    "arr.reshape(1, 36)  # 1 ile boyut kattim ve 2 boyutlu hale getirdim\n",
    "arr.reshape(6, 6) # 6 siradan 6 columndan 2 boyutlu. 36 = 6 * 6\n",
    "rand_arr  # 1 köseli parantez tek boyutlu oldugunu gösterir\n",
    "rand_arr.max()\n",
    "rand_arr.min()\n",
    "rand_arr.argmax()  # max. kacinci argüman\n",
    "rand_arr.argmin()  # min. kacinci argüman\n",
    "arr.shape  # bir metod'un/class'in özelligini verdi. shape attribute old. icin () kullanilmaz\n",
    "arr.dtype\n",
    "type(arr)\n",
    "type(arr[1])\n",
    "arr.ndim  # ndim kac boyutlu old. gösterir\n",
    "len(arr)  # , sayarar yani 3\n",
    "arr.itemsize  # her item'daki eleman sayisi"
   ]
  }
 ],
 "metadata": {
  "language_info": {
   "name": "python"
  },
  "orig_nbformat": 4
 },
 "nbformat": 4,
 "nbformat_minor": 2
}
