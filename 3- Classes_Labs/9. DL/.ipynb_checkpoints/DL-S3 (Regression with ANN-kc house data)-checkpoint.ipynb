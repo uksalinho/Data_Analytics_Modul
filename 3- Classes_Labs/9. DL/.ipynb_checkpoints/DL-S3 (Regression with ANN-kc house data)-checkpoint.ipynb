{
 "cells": [
  {
   "cell_type": "markdown",
   "metadata": {},
   "source": [
    "___\n",
    "\n",
    "<p style=\"text-align: center;\"><img src=\"https://docs.google.com/uc?id=1lY0Uj5R04yMY3-ZppPWxqCr5pvBLYPnV\" class=\"img-fluid\" alt=\"CLRSWY\"></p>\n",
    "\n",
    "___"
   ]
  },
  {
   "cell_type": "markdown",
   "metadata": {},
   "source": [
    "<h1 style=\"text-align: center;\">Deep Learning<br><br>Session - 3<br><br>Regression with ANN<br><br>KC House Data<br><h1>"
   ]
  },
  {
   "cell_type": "markdown",
   "metadata": {},
   "source": [
    "# Keras Regression"
   ]
  },
  {
   "cell_type": "code",
   "execution_count": 1,
   "metadata": {},
   "outputs": [],
   "source": [
    "import numpy as np\n",
    "import pandas as pd\n",
    "import matplotlib.pyplot as plt\n",
    "import seaborn as sns\n",
    "\n",
    "import warnings\n",
    "warnings.filterwarnings(\"ignore\")\n",
    "warnings.warn(\"this will not show\")\n",
    "\n",
    "plt.rcParams[\"figure.figsize\"] = (10,6)\n",
    "\n",
    "sns.set_style(\"whitegrid\")\n",
    "pd.set_option('display.float_format', lambda x: '%.3f' % x)\n",
    "\n",
    "# Set it None to display all rows in the dataframe\n",
    "# pd.set_option('display.max_rows', None)\n",
    "\n",
    "# Set it to None to display all columns in the dataframe\n",
    "pd.set_option('display.max_columns', None)"
   ]
  },
  {
   "cell_type": "code",
   "execution_count": null,
   "metadata": {},
   "outputs": [],
   "source": [
    "#!pip install folium "
   ]
  },
  {
   "cell_type": "code",
   "execution_count": null,
   "metadata": {},
   "outputs": [],
   "source": [
    "#from google.colab import drive\n",
    "#drive.mount('/content/drive')"
   ]
  },
  {
   "cell_type": "code",
   "execution_count": 2,
   "metadata": {},
   "outputs": [],
   "source": [
    "df = pd.read_csv(\"kc_house_data.csv\")"
   ]
  },
  {
   "cell_type": "code",
   "execution_count": null,
   "metadata": {},
   "outputs": [],
   "source": [
    "#from matplotlib import style\n",
    "#style.use('dark_background')"
   ]
  },
  {
   "cell_type": "code",
   "execution_count": null,
   "metadata": {},
   "outputs": [],
   "source": [
    "#df = pd.read_csv(\"../data&resources/kc_house_data.csv\")"
   ]
  },
  {
   "cell_type": "markdown",
   "metadata": {},
   "source": [
    "## Exploratory Data Analysis and Visualization"
   ]
  },
  {
   "cell_type": "code",
   "execution_count": 3,
   "metadata": {},
   "outputs": [
    {
     "data": {
      "text/html": [
       "<div>\n",
       "<style scoped>\n",
       "    .dataframe tbody tr th:only-of-type {\n",
       "        vertical-align: middle;\n",
       "    }\n",
       "\n",
       "    .dataframe tbody tr th {\n",
       "        vertical-align: top;\n",
       "    }\n",
       "\n",
       "    .dataframe thead th {\n",
       "        text-align: right;\n",
       "    }\n",
       "</style>\n",
       "<table border=\"1\" class=\"dataframe\">\n",
       "  <thead>\n",
       "    <tr style=\"text-align: right;\">\n",
       "      <th></th>\n",
       "      <th>id</th>\n",
       "      <th>date</th>\n",
       "      <th>price</th>\n",
       "      <th>bedrooms</th>\n",
       "      <th>bathrooms</th>\n",
       "      <th>sqft_living</th>\n",
       "      <th>sqft_lot</th>\n",
       "      <th>floors</th>\n",
       "      <th>waterfront</th>\n",
       "      <th>view</th>\n",
       "      <th>condition</th>\n",
       "      <th>grade</th>\n",
       "      <th>sqft_above</th>\n",
       "      <th>sqft_basement</th>\n",
       "      <th>yr_built</th>\n",
       "      <th>yr_renovated</th>\n",
       "      <th>zipcode</th>\n",
       "      <th>lat</th>\n",
       "      <th>long</th>\n",
       "      <th>sqft_living15</th>\n",
       "      <th>sqft_lot15</th>\n",
       "    </tr>\n",
       "  </thead>\n",
       "  <tbody>\n",
       "    <tr>\n",
       "      <th>0</th>\n",
       "      <td>7129300520</td>\n",
       "      <td>10/13/2014</td>\n",
       "      <td>221900.000</td>\n",
       "      <td>3</td>\n",
       "      <td>1.000</td>\n",
       "      <td>1180</td>\n",
       "      <td>5650</td>\n",
       "      <td>1.000</td>\n",
       "      <td>0</td>\n",
       "      <td>0</td>\n",
       "      <td>3</td>\n",
       "      <td>7</td>\n",
       "      <td>1180</td>\n",
       "      <td>0</td>\n",
       "      <td>1955</td>\n",
       "      <td>0</td>\n",
       "      <td>98178</td>\n",
       "      <td>47.511</td>\n",
       "      <td>-122.257</td>\n",
       "      <td>1340</td>\n",
       "      <td>5650</td>\n",
       "    </tr>\n",
       "    <tr>\n",
       "      <th>1</th>\n",
       "      <td>6414100192</td>\n",
       "      <td>12/9/2014</td>\n",
       "      <td>538000.000</td>\n",
       "      <td>3</td>\n",
       "      <td>2.250</td>\n",
       "      <td>2570</td>\n",
       "      <td>7242</td>\n",
       "      <td>2.000</td>\n",
       "      <td>0</td>\n",
       "      <td>0</td>\n",
       "      <td>3</td>\n",
       "      <td>7</td>\n",
       "      <td>2170</td>\n",
       "      <td>400</td>\n",
       "      <td>1951</td>\n",
       "      <td>1991</td>\n",
       "      <td>98125</td>\n",
       "      <td>47.721</td>\n",
       "      <td>-122.319</td>\n",
       "      <td>1690</td>\n",
       "      <td>7639</td>\n",
       "    </tr>\n",
       "    <tr>\n",
       "      <th>2</th>\n",
       "      <td>5631500400</td>\n",
       "      <td>2/25/2015</td>\n",
       "      <td>180000.000</td>\n",
       "      <td>2</td>\n",
       "      <td>1.000</td>\n",
       "      <td>770</td>\n",
       "      <td>10000</td>\n",
       "      <td>1.000</td>\n",
       "      <td>0</td>\n",
       "      <td>0</td>\n",
       "      <td>3</td>\n",
       "      <td>6</td>\n",
       "      <td>770</td>\n",
       "      <td>0</td>\n",
       "      <td>1933</td>\n",
       "      <td>0</td>\n",
       "      <td>98028</td>\n",
       "      <td>47.738</td>\n",
       "      <td>-122.233</td>\n",
       "      <td>2720</td>\n",
       "      <td>8062</td>\n",
       "    </tr>\n",
       "    <tr>\n",
       "      <th>3</th>\n",
       "      <td>2487200875</td>\n",
       "      <td>12/9/2014</td>\n",
       "      <td>604000.000</td>\n",
       "      <td>4</td>\n",
       "      <td>3.000</td>\n",
       "      <td>1960</td>\n",
       "      <td>5000</td>\n",
       "      <td>1.000</td>\n",
       "      <td>0</td>\n",
       "      <td>0</td>\n",
       "      <td>5</td>\n",
       "      <td>7</td>\n",
       "      <td>1050</td>\n",
       "      <td>910</td>\n",
       "      <td>1965</td>\n",
       "      <td>0</td>\n",
       "      <td>98136</td>\n",
       "      <td>47.521</td>\n",
       "      <td>-122.393</td>\n",
       "      <td>1360</td>\n",
       "      <td>5000</td>\n",
       "    </tr>\n",
       "    <tr>\n",
       "      <th>4</th>\n",
       "      <td>1954400510</td>\n",
       "      <td>2/18/2015</td>\n",
       "      <td>510000.000</td>\n",
       "      <td>3</td>\n",
       "      <td>2.000</td>\n",
       "      <td>1680</td>\n",
       "      <td>8080</td>\n",
       "      <td>1.000</td>\n",
       "      <td>0</td>\n",
       "      <td>0</td>\n",
       "      <td>3</td>\n",
       "      <td>8</td>\n",
       "      <td>1680</td>\n",
       "      <td>0</td>\n",
       "      <td>1987</td>\n",
       "      <td>0</td>\n",
       "      <td>98074</td>\n",
       "      <td>47.617</td>\n",
       "      <td>-122.045</td>\n",
       "      <td>1800</td>\n",
       "      <td>7503</td>\n",
       "    </tr>\n",
       "  </tbody>\n",
       "</table>\n",
       "</div>"
      ],
      "text/plain": [
       "           id        date      price  bedrooms  bathrooms  sqft_living  \\\n",
       "0  7129300520  10/13/2014 221900.000         3      1.000         1180   \n",
       "1  6414100192   12/9/2014 538000.000         3      2.250         2570   \n",
       "2  5631500400   2/25/2015 180000.000         2      1.000          770   \n",
       "3  2487200875   12/9/2014 604000.000         4      3.000         1960   \n",
       "4  1954400510   2/18/2015 510000.000         3      2.000         1680   \n",
       "\n",
       "   sqft_lot  floors  waterfront  view  condition  grade  sqft_above  \\\n",
       "0      5650   1.000           0     0          3      7        1180   \n",
       "1      7242   2.000           0     0          3      7        2170   \n",
       "2     10000   1.000           0     0          3      6         770   \n",
       "3      5000   1.000           0     0          5      7        1050   \n",
       "4      8080   1.000           0     0          3      8        1680   \n",
       "\n",
       "   sqft_basement  yr_built  yr_renovated  zipcode    lat     long  \\\n",
       "0              0      1955             0    98178 47.511 -122.257   \n",
       "1            400      1951          1991    98125 47.721 -122.319   \n",
       "2              0      1933             0    98028 47.738 -122.233   \n",
       "3            910      1965             0    98136 47.521 -122.393   \n",
       "4              0      1987             0    98074 47.617 -122.045   \n",
       "\n",
       "   sqft_living15  sqft_lot15  \n",
       "0           1340        5650  \n",
       "1           1690        7639  \n",
       "2           2720        8062  \n",
       "3           1360        5000  \n",
       "4           1800        7503  "
      ]
     },
     "execution_count": 3,
     "metadata": {},
     "output_type": "execute_result"
    }
   ],
   "source": [
    "df.head()"
   ]
  },
  {
   "cell_type": "markdown",
   "metadata": {},
   "source": [
    "We will be using data from a Kaggle data set:\n",
    "\n",
    "https://www.kaggle.com/harlfoxem/housesalesprediction\n",
    "\n",
    "#### Feature Columns\n",
    "    \n",
    "* id - Unique ID for each home sold\n",
    "* date - Date of the home sale\n",
    "* price - Price of each home sold\n",
    "* bedrooms - Number of bedrooms\n",
    "* bathrooms - Number of bathrooms, where .5 accounts for a room with a toilet but no shower\n",
    "* sqft_living - Square footage of the apartments interior living space\n",
    "* sqft_lot - Square footage of the land space\n",
    "* floors - Number of floors\n",
    "* waterfront - A dummy variable for whether the apartment was overlooking the waterfront or not\n",
    "* view - An index from 0 to 4 of how good the view of the property was\n",
    "* condition - An index from 1 to 5 on the condition of the apartment,\n",
    "* grade - An index from 1 to 13, where 1-3 falls short of building construction and design, 7 has an average level of construction and design, and 11-13 have a high quality level of construction and design.\n",
    "* sqft_above - The square footage of the interior housing space that is above ground level\n",
    "* sqft_basement - The square footage of the interior housing space that is below ground level\n",
    "* yr_built - The year the house was initially built\n",
    "* yr_renovated - The year of the house’s last renovation\n",
    "* zipcode - What zipcode area the house is in\n",
    "* lat - Lattitude\n",
    "* long - Longitude\n",
    "* sqft_living15 - The square footage of interior housing living space for the nearest 15 neighbors\n",
    "* sqft_lot15 - The square footage of the land lots of the nearest 15 neighbors"
   ]
  },
  {
   "cell_type": "code",
   "execution_count": 4,
   "metadata": {},
   "outputs": [
    {
     "name": "stdout",
     "output_type": "stream",
     "text": [
      "<class 'pandas.core.frame.DataFrame'>\n",
      "RangeIndex: 21597 entries, 0 to 21596\n",
      "Data columns (total 21 columns):\n",
      " #   Column         Non-Null Count  Dtype  \n",
      "---  ------         --------------  -----  \n",
      " 0   id             21597 non-null  int64  \n",
      " 1   date           21597 non-null  object \n",
      " 2   price          21597 non-null  float64\n",
      " 3   bedrooms       21597 non-null  int64  \n",
      " 4   bathrooms      21597 non-null  float64\n",
      " 5   sqft_living    21597 non-null  int64  \n",
      " 6   sqft_lot       21597 non-null  int64  \n",
      " 7   floors         21597 non-null  float64\n",
      " 8   waterfront     21597 non-null  int64  \n",
      " 9   view           21597 non-null  int64  \n",
      " 10  condition      21597 non-null  int64  \n",
      " 11  grade          21597 non-null  int64  \n",
      " 12  sqft_above     21597 non-null  int64  \n",
      " 13  sqft_basement  21597 non-null  int64  \n",
      " 14  yr_built       21597 non-null  int64  \n",
      " 15  yr_renovated   21597 non-null  int64  \n",
      " 16  zipcode        21597 non-null  int64  \n",
      " 17  lat            21597 non-null  float64\n",
      " 18  long           21597 non-null  float64\n",
      " 19  sqft_living15  21597 non-null  int64  \n",
      " 20  sqft_lot15     21597 non-null  int64  \n",
      "dtypes: float64(5), int64(15), object(1)\n",
      "memory usage: 3.5+ MB\n"
     ]
    }
   ],
   "source": [
    "df.info()"
   ]
  },
  {
   "cell_type": "code",
   "execution_count": 5,
   "metadata": {},
   "outputs": [
    {
     "data": {
      "text/plain": [
       "False"
      ]
     },
     "execution_count": 5,
     "metadata": {},
     "output_type": "execute_result"
    }
   ],
   "source": [
    "df.isnull().sum().any()"
   ]
  },
  {
   "cell_type": "code",
   "execution_count": 6,
   "metadata": {},
   "outputs": [
    {
     "data": {
      "text/html": [
       "<div>\n",
       "<style scoped>\n",
       "    .dataframe tbody tr th:only-of-type {\n",
       "        vertical-align: middle;\n",
       "    }\n",
       "\n",
       "    .dataframe tbody tr th {\n",
       "        vertical-align: top;\n",
       "    }\n",
       "\n",
       "    .dataframe thead th {\n",
       "        text-align: right;\n",
       "    }\n",
       "</style>\n",
       "<table border=\"1\" class=\"dataframe\">\n",
       "  <thead>\n",
       "    <tr style=\"text-align: right;\">\n",
       "      <th></th>\n",
       "      <th>count</th>\n",
       "      <th>mean</th>\n",
       "      <th>std</th>\n",
       "      <th>min</th>\n",
       "      <th>25%</th>\n",
       "      <th>50%</th>\n",
       "      <th>75%</th>\n",
       "      <th>max</th>\n",
       "    </tr>\n",
       "  </thead>\n",
       "  <tbody>\n",
       "    <tr>\n",
       "      <th>id</th>\n",
       "      <td>21597.000</td>\n",
       "      <td>4580474287.771</td>\n",
       "      <td>2876735715.748</td>\n",
       "      <td>1000102.000</td>\n",
       "      <td>2123049175.000</td>\n",
       "      <td>3904930410.000</td>\n",
       "      <td>7308900490.000</td>\n",
       "      <td>9900000190.000</td>\n",
       "    </tr>\n",
       "    <tr>\n",
       "      <th>price</th>\n",
       "      <td>21597.000</td>\n",
       "      <td>540296.574</td>\n",
       "      <td>367368.140</td>\n",
       "      <td>78000.000</td>\n",
       "      <td>322000.000</td>\n",
       "      <td>450000.000</td>\n",
       "      <td>645000.000</td>\n",
       "      <td>7700000.000</td>\n",
       "    </tr>\n",
       "    <tr>\n",
       "      <th>bedrooms</th>\n",
       "      <td>21597.000</td>\n",
       "      <td>3.373</td>\n",
       "      <td>0.926</td>\n",
       "      <td>1.000</td>\n",
       "      <td>3.000</td>\n",
       "      <td>3.000</td>\n",
       "      <td>4.000</td>\n",
       "      <td>33.000</td>\n",
       "    </tr>\n",
       "    <tr>\n",
       "      <th>bathrooms</th>\n",
       "      <td>21597.000</td>\n",
       "      <td>2.116</td>\n",
       "      <td>0.769</td>\n",
       "      <td>0.500</td>\n",
       "      <td>1.750</td>\n",
       "      <td>2.250</td>\n",
       "      <td>2.500</td>\n",
       "      <td>8.000</td>\n",
       "    </tr>\n",
       "    <tr>\n",
       "      <th>sqft_living</th>\n",
       "      <td>21597.000</td>\n",
       "      <td>2080.322</td>\n",
       "      <td>918.106</td>\n",
       "      <td>370.000</td>\n",
       "      <td>1430.000</td>\n",
       "      <td>1910.000</td>\n",
       "      <td>2550.000</td>\n",
       "      <td>13540.000</td>\n",
       "    </tr>\n",
       "    <tr>\n",
       "      <th>sqft_lot</th>\n",
       "      <td>21597.000</td>\n",
       "      <td>15099.409</td>\n",
       "      <td>41412.637</td>\n",
       "      <td>520.000</td>\n",
       "      <td>5040.000</td>\n",
       "      <td>7618.000</td>\n",
       "      <td>10685.000</td>\n",
       "      <td>1651359.000</td>\n",
       "    </tr>\n",
       "    <tr>\n",
       "      <th>floors</th>\n",
       "      <td>21597.000</td>\n",
       "      <td>1.494</td>\n",
       "      <td>0.540</td>\n",
       "      <td>1.000</td>\n",
       "      <td>1.000</td>\n",
       "      <td>1.500</td>\n",
       "      <td>2.000</td>\n",
       "      <td>3.500</td>\n",
       "    </tr>\n",
       "    <tr>\n",
       "      <th>waterfront</th>\n",
       "      <td>21597.000</td>\n",
       "      <td>0.008</td>\n",
       "      <td>0.087</td>\n",
       "      <td>0.000</td>\n",
       "      <td>0.000</td>\n",
       "      <td>0.000</td>\n",
       "      <td>0.000</td>\n",
       "      <td>1.000</td>\n",
       "    </tr>\n",
       "    <tr>\n",
       "      <th>view</th>\n",
       "      <td>21597.000</td>\n",
       "      <td>0.234</td>\n",
       "      <td>0.766</td>\n",
       "      <td>0.000</td>\n",
       "      <td>0.000</td>\n",
       "      <td>0.000</td>\n",
       "      <td>0.000</td>\n",
       "      <td>4.000</td>\n",
       "    </tr>\n",
       "    <tr>\n",
       "      <th>condition</th>\n",
       "      <td>21597.000</td>\n",
       "      <td>3.410</td>\n",
       "      <td>0.651</td>\n",
       "      <td>1.000</td>\n",
       "      <td>3.000</td>\n",
       "      <td>3.000</td>\n",
       "      <td>4.000</td>\n",
       "      <td>5.000</td>\n",
       "    </tr>\n",
       "    <tr>\n",
       "      <th>grade</th>\n",
       "      <td>21597.000</td>\n",
       "      <td>7.658</td>\n",
       "      <td>1.173</td>\n",
       "      <td>3.000</td>\n",
       "      <td>7.000</td>\n",
       "      <td>7.000</td>\n",
       "      <td>8.000</td>\n",
       "      <td>13.000</td>\n",
       "    </tr>\n",
       "    <tr>\n",
       "      <th>sqft_above</th>\n",
       "      <td>21597.000</td>\n",
       "      <td>1788.597</td>\n",
       "      <td>827.760</td>\n",
       "      <td>370.000</td>\n",
       "      <td>1190.000</td>\n",
       "      <td>1560.000</td>\n",
       "      <td>2210.000</td>\n",
       "      <td>9410.000</td>\n",
       "    </tr>\n",
       "    <tr>\n",
       "      <th>sqft_basement</th>\n",
       "      <td>21597.000</td>\n",
       "      <td>291.725</td>\n",
       "      <td>442.668</td>\n",
       "      <td>0.000</td>\n",
       "      <td>0.000</td>\n",
       "      <td>0.000</td>\n",
       "      <td>560.000</td>\n",
       "      <td>4820.000</td>\n",
       "    </tr>\n",
       "    <tr>\n",
       "      <th>yr_built</th>\n",
       "      <td>21597.000</td>\n",
       "      <td>1971.000</td>\n",
       "      <td>29.375</td>\n",
       "      <td>1900.000</td>\n",
       "      <td>1951.000</td>\n",
       "      <td>1975.000</td>\n",
       "      <td>1997.000</td>\n",
       "      <td>2015.000</td>\n",
       "    </tr>\n",
       "    <tr>\n",
       "      <th>yr_renovated</th>\n",
       "      <td>21597.000</td>\n",
       "      <td>84.465</td>\n",
       "      <td>401.821</td>\n",
       "      <td>0.000</td>\n",
       "      <td>0.000</td>\n",
       "      <td>0.000</td>\n",
       "      <td>0.000</td>\n",
       "      <td>2015.000</td>\n",
       "    </tr>\n",
       "    <tr>\n",
       "      <th>zipcode</th>\n",
       "      <td>21597.000</td>\n",
       "      <td>98077.952</td>\n",
       "      <td>53.513</td>\n",
       "      <td>98001.000</td>\n",
       "      <td>98033.000</td>\n",
       "      <td>98065.000</td>\n",
       "      <td>98118.000</td>\n",
       "      <td>98199.000</td>\n",
       "    </tr>\n",
       "    <tr>\n",
       "      <th>lat</th>\n",
       "      <td>21597.000</td>\n",
       "      <td>47.560</td>\n",
       "      <td>0.139</td>\n",
       "      <td>47.156</td>\n",
       "      <td>47.471</td>\n",
       "      <td>47.572</td>\n",
       "      <td>47.678</td>\n",
       "      <td>47.778</td>\n",
       "    </tr>\n",
       "    <tr>\n",
       "      <th>long</th>\n",
       "      <td>21597.000</td>\n",
       "      <td>-122.214</td>\n",
       "      <td>0.141</td>\n",
       "      <td>-122.519</td>\n",
       "      <td>-122.328</td>\n",
       "      <td>-122.231</td>\n",
       "      <td>-122.125</td>\n",
       "      <td>-121.315</td>\n",
       "    </tr>\n",
       "    <tr>\n",
       "      <th>sqft_living15</th>\n",
       "      <td>21597.000</td>\n",
       "      <td>1986.620</td>\n",
       "      <td>685.230</td>\n",
       "      <td>399.000</td>\n",
       "      <td>1490.000</td>\n",
       "      <td>1840.000</td>\n",
       "      <td>2360.000</td>\n",
       "      <td>6210.000</td>\n",
       "    </tr>\n",
       "    <tr>\n",
       "      <th>sqft_lot15</th>\n",
       "      <td>21597.000</td>\n",
       "      <td>12758.284</td>\n",
       "      <td>27274.442</td>\n",
       "      <td>651.000</td>\n",
       "      <td>5100.000</td>\n",
       "      <td>7620.000</td>\n",
       "      <td>10083.000</td>\n",
       "      <td>871200.000</td>\n",
       "    </tr>\n",
       "  </tbody>\n",
       "</table>\n",
       "</div>"
      ],
      "text/plain": [
       "                  count           mean            std         min  \\\n",
       "id            21597.000 4580474287.771 2876735715.748 1000102.000   \n",
       "price         21597.000     540296.574     367368.140   78000.000   \n",
       "bedrooms      21597.000          3.373          0.926       1.000   \n",
       "bathrooms     21597.000          2.116          0.769       0.500   \n",
       "sqft_living   21597.000       2080.322        918.106     370.000   \n",
       "sqft_lot      21597.000      15099.409      41412.637     520.000   \n",
       "floors        21597.000          1.494          0.540       1.000   \n",
       "waterfront    21597.000          0.008          0.087       0.000   \n",
       "view          21597.000          0.234          0.766       0.000   \n",
       "condition     21597.000          3.410          0.651       1.000   \n",
       "grade         21597.000          7.658          1.173       3.000   \n",
       "sqft_above    21597.000       1788.597        827.760     370.000   \n",
       "sqft_basement 21597.000        291.725        442.668       0.000   \n",
       "yr_built      21597.000       1971.000         29.375    1900.000   \n",
       "yr_renovated  21597.000         84.465        401.821       0.000   \n",
       "zipcode       21597.000      98077.952         53.513   98001.000   \n",
       "lat           21597.000         47.560          0.139      47.156   \n",
       "long          21597.000       -122.214          0.141    -122.519   \n",
       "sqft_living15 21597.000       1986.620        685.230     399.000   \n",
       "sqft_lot15    21597.000      12758.284      27274.442     651.000   \n",
       "\n",
       "                         25%            50%            75%            max  \n",
       "id            2123049175.000 3904930410.000 7308900490.000 9900000190.000  \n",
       "price             322000.000     450000.000     645000.000    7700000.000  \n",
       "bedrooms               3.000          3.000          4.000         33.000  \n",
       "bathrooms              1.750          2.250          2.500          8.000  \n",
       "sqft_living         1430.000       1910.000       2550.000      13540.000  \n",
       "sqft_lot            5040.000       7618.000      10685.000    1651359.000  \n",
       "floors                 1.000          1.500          2.000          3.500  \n",
       "waterfront             0.000          0.000          0.000          1.000  \n",
       "view                   0.000          0.000          0.000          4.000  \n",
       "condition              3.000          3.000          4.000          5.000  \n",
       "grade                  7.000          7.000          8.000         13.000  \n",
       "sqft_above          1190.000       1560.000       2210.000       9410.000  \n",
       "sqft_basement          0.000          0.000        560.000       4820.000  \n",
       "yr_built            1951.000       1975.000       1997.000       2015.000  \n",
       "yr_renovated           0.000          0.000          0.000       2015.000  \n",
       "zipcode            98033.000      98065.000      98118.000      98199.000  \n",
       "lat                   47.471         47.572         47.678         47.778  \n",
       "long                -122.328       -122.231       -122.125       -121.315  \n",
       "sqft_living15       1490.000       1840.000       2360.000       6210.000  \n",
       "sqft_lot15          5100.000       7620.000      10083.000     871200.000  "
      ]
     },
     "execution_count": 6,
     "metadata": {},
     "output_type": "execute_result"
    }
   ],
   "source": [
    "df.describe().T"
   ]
  },
  {
   "cell_type": "markdown",
   "metadata": {},
   "source": [
    "### İd_number"
   ]
  },
  {
   "cell_type": "code",
   "execution_count": 7,
   "metadata": {},
   "outputs": [],
   "source": [
    "df = df.drop('id', axis = 1)"
   ]
  },
  {
   "cell_type": "markdown",
   "metadata": {},
   "source": [
    "### price"
   ]
  },
  {
   "cell_type": "code",
   "execution_count": 8,
   "metadata": {},
   "outputs": [
    {
     "data": {
      "image/png": "[encoded data removed]",
      "text/plain": [
       "<Figure size 1000x600 with 1 Axes>"
      ]
     },
     "metadata": {},
     "output_type": "display_data"
    }
   ],
   "source": [
    "sns.distplot(df['price']);"
   ]
  },
  {
   "cell_type": "code",
   "execution_count": 9,
   "metadata": {},
   "outputs": [
    {
     "data": {
      "text/html": [
       "<div>\n",
       "<style scoped>\n",
       "    .dataframe tbody tr th:only-of-type {\n",
       "        vertical-align: middle;\n",
       "    }\n",
       "\n",
       "    .dataframe tbody tr th {\n",
       "        vertical-align: top;\n",
       "    }\n",
       "\n",
       "    .dataframe thead th {\n",
       "        text-align: right;\n",
       "    }\n",
       "</style>\n",
       "<table border=\"1\" class=\"dataframe\">\n",
       "  <thead>\n",
       "    <tr style=\"text-align: right;\">\n",
       "      <th></th>\n",
       "      <th>date</th>\n",
       "      <th>price</th>\n",
       "      <th>bedrooms</th>\n",
       "      <th>bathrooms</th>\n",
       "      <th>sqft_living</th>\n",
       "      <th>sqft_lot</th>\n",
       "      <th>floors</th>\n",
       "      <th>waterfront</th>\n",
       "      <th>view</th>\n",
       "      <th>condition</th>\n",
       "      <th>grade</th>\n",
       "      <th>sqft_above</th>\n",
       "      <th>sqft_basement</th>\n",
       "      <th>yr_built</th>\n",
       "      <th>yr_renovated</th>\n",
       "      <th>zipcode</th>\n",
       "      <th>lat</th>\n",
       "      <th>long</th>\n",
       "      <th>sqft_living15</th>\n",
       "      <th>sqft_lot15</th>\n",
       "    </tr>\n",
       "  </thead>\n",
       "  <tbody>\n",
       "    <tr>\n",
       "      <th>7245</th>\n",
       "      <td>10/13/2014</td>\n",
       "      <td>7700000.000</td>\n",
       "      <td>6</td>\n",
       "      <td>8.000</td>\n",
       "      <td>12050</td>\n",
       "      <td>27600</td>\n",
       "      <td>2.500</td>\n",
       "      <td>0</td>\n",
       "      <td>3</td>\n",
       "      <td>4</td>\n",
       "      <td>13</td>\n",
       "      <td>8570</td>\n",
       "      <td>3480</td>\n",
       "      <td>1910</td>\n",
       "      <td>1987</td>\n",
       "      <td>98102</td>\n",
       "      <td>47.630</td>\n",
       "      <td>-122.323</td>\n",
       "      <td>3940</td>\n",
       "      <td>8800</td>\n",
       "    </tr>\n",
       "    <tr>\n",
       "      <th>3910</th>\n",
       "      <td>6/11/2014</td>\n",
       "      <td>7060000.000</td>\n",
       "      <td>5</td>\n",
       "      <td>4.500</td>\n",
       "      <td>10040</td>\n",
       "      <td>37325</td>\n",
       "      <td>2.000</td>\n",
       "      <td>1</td>\n",
       "      <td>2</td>\n",
       "      <td>3</td>\n",
       "      <td>11</td>\n",
       "      <td>7680</td>\n",
       "      <td>2360</td>\n",
       "      <td>1940</td>\n",
       "      <td>2001</td>\n",
       "      <td>98004</td>\n",
       "      <td>47.650</td>\n",
       "      <td>-122.214</td>\n",
       "      <td>3930</td>\n",
       "      <td>25449</td>\n",
       "    </tr>\n",
       "    <tr>\n",
       "      <th>9245</th>\n",
       "      <td>9/19/2014</td>\n",
       "      <td>6890000.000</td>\n",
       "      <td>6</td>\n",
       "      <td>7.750</td>\n",
       "      <td>9890</td>\n",
       "      <td>31374</td>\n",
       "      <td>2.000</td>\n",
       "      <td>0</td>\n",
       "      <td>4</td>\n",
       "      <td>3</td>\n",
       "      <td>13</td>\n",
       "      <td>8860</td>\n",
       "      <td>1030</td>\n",
       "      <td>2001</td>\n",
       "      <td>0</td>\n",
       "      <td>98039</td>\n",
       "      <td>47.630</td>\n",
       "      <td>-122.240</td>\n",
       "      <td>4540</td>\n",
       "      <td>42730</td>\n",
       "    </tr>\n",
       "    <tr>\n",
       "      <th>4407</th>\n",
       "      <td>8/4/2014</td>\n",
       "      <td>5570000.000</td>\n",
       "      <td>5</td>\n",
       "      <td>5.750</td>\n",
       "      <td>9200</td>\n",
       "      <td>35069</td>\n",
       "      <td>2.000</td>\n",
       "      <td>0</td>\n",
       "      <td>0</td>\n",
       "      <td>3</td>\n",
       "      <td>13</td>\n",
       "      <td>6200</td>\n",
       "      <td>3000</td>\n",
       "      <td>2001</td>\n",
       "      <td>0</td>\n",
       "      <td>98039</td>\n",
       "      <td>47.629</td>\n",
       "      <td>-122.233</td>\n",
       "      <td>3560</td>\n",
       "      <td>24345</td>\n",
       "    </tr>\n",
       "    <tr>\n",
       "      <th>1446</th>\n",
       "      <td>4/13/2015</td>\n",
       "      <td>5350000.000</td>\n",
       "      <td>5</td>\n",
       "      <td>5.000</td>\n",
       "      <td>8000</td>\n",
       "      <td>23985</td>\n",
       "      <td>2.000</td>\n",
       "      <td>0</td>\n",
       "      <td>4</td>\n",
       "      <td>3</td>\n",
       "      <td>12</td>\n",
       "      <td>6720</td>\n",
       "      <td>1280</td>\n",
       "      <td>2009</td>\n",
       "      <td>0</td>\n",
       "      <td>98004</td>\n",
       "      <td>47.623</td>\n",
       "      <td>-122.220</td>\n",
       "      <td>4600</td>\n",
       "      <td>21750</td>\n",
       "    </tr>\n",
       "    <tr>\n",
       "      <th>1313</th>\n",
       "      <td>4/13/2015</td>\n",
       "      <td>5300000.000</td>\n",
       "      <td>6</td>\n",
       "      <td>6.000</td>\n",
       "      <td>7390</td>\n",
       "      <td>24829</td>\n",
       "      <td>2.000</td>\n",
       "      <td>1</td>\n",
       "      <td>4</td>\n",
       "      <td>4</td>\n",
       "      <td>12</td>\n",
       "      <td>5000</td>\n",
       "      <td>2390</td>\n",
       "      <td>1991</td>\n",
       "      <td>0</td>\n",
       "      <td>98040</td>\n",
       "      <td>47.563</td>\n",
       "      <td>-122.210</td>\n",
       "      <td>4320</td>\n",
       "      <td>24619</td>\n",
       "    </tr>\n",
       "    <tr>\n",
       "      <th>1162</th>\n",
       "      <td>10/20/2014</td>\n",
       "      <td>5110000.000</td>\n",
       "      <td>5</td>\n",
       "      <td>5.250</td>\n",
       "      <td>8010</td>\n",
       "      <td>45517</td>\n",
       "      <td>2.000</td>\n",
       "      <td>1</td>\n",
       "      <td>4</td>\n",
       "      <td>3</td>\n",
       "      <td>12</td>\n",
       "      <td>5990</td>\n",
       "      <td>2020</td>\n",
       "      <td>1999</td>\n",
       "      <td>0</td>\n",
       "      <td>98033</td>\n",
       "      <td>47.677</td>\n",
       "      <td>-122.211</td>\n",
       "      <td>3430</td>\n",
       "      <td>26788</td>\n",
       "    </tr>\n",
       "    <tr>\n",
       "      <th>8085</th>\n",
       "      <td>6/17/2014</td>\n",
       "      <td>4670000.000</td>\n",
       "      <td>5</td>\n",
       "      <td>6.750</td>\n",
       "      <td>9640</td>\n",
       "      <td>13068</td>\n",
       "      <td>1.000</td>\n",
       "      <td>1</td>\n",
       "      <td>4</td>\n",
       "      <td>3</td>\n",
       "      <td>12</td>\n",
       "      <td>4820</td>\n",
       "      <td>4820</td>\n",
       "      <td>1983</td>\n",
       "      <td>2009</td>\n",
       "      <td>98040</td>\n",
       "      <td>47.557</td>\n",
       "      <td>-122.210</td>\n",
       "      <td>3270</td>\n",
       "      <td>10454</td>\n",
       "    </tr>\n",
       "    <tr>\n",
       "      <th>2624</th>\n",
       "      <td>8/15/2014</td>\n",
       "      <td>4500000.000</td>\n",
       "      <td>5</td>\n",
       "      <td>5.500</td>\n",
       "      <td>6640</td>\n",
       "      <td>40014</td>\n",
       "      <td>2.000</td>\n",
       "      <td>1</td>\n",
       "      <td>4</td>\n",
       "      <td>3</td>\n",
       "      <td>12</td>\n",
       "      <td>6350</td>\n",
       "      <td>290</td>\n",
       "      <td>2004</td>\n",
       "      <td>0</td>\n",
       "      <td>98155</td>\n",
       "      <td>47.749</td>\n",
       "      <td>-122.280</td>\n",
       "      <td>3030</td>\n",
       "      <td>23408</td>\n",
       "    </tr>\n",
       "    <tr>\n",
       "      <th>8629</th>\n",
       "      <td>6/18/2014</td>\n",
       "      <td>4490000.000</td>\n",
       "      <td>4</td>\n",
       "      <td>3.000</td>\n",
       "      <td>6430</td>\n",
       "      <td>27517</td>\n",
       "      <td>2.000</td>\n",
       "      <td>0</td>\n",
       "      <td>0</td>\n",
       "      <td>3</td>\n",
       "      <td>12</td>\n",
       "      <td>6430</td>\n",
       "      <td>0</td>\n",
       "      <td>2001</td>\n",
       "      <td>0</td>\n",
       "      <td>98004</td>\n",
       "      <td>47.621</td>\n",
       "      <td>-122.219</td>\n",
       "      <td>3720</td>\n",
       "      <td>14592</td>\n",
       "    </tr>\n",
       "    <tr>\n",
       "      <th>12358</th>\n",
       "      <td>5/6/2015</td>\n",
       "      <td>4210000.000</td>\n",
       "      <td>5</td>\n",
       "      <td>6.000</td>\n",
       "      <td>7440</td>\n",
       "      <td>21540</td>\n",
       "      <td>2.000</td>\n",
       "      <td>0</td>\n",
       "      <td>0</td>\n",
       "      <td>3</td>\n",
       "      <td>12</td>\n",
       "      <td>5550</td>\n",
       "      <td>1890</td>\n",
       "      <td>2003</td>\n",
       "      <td>0</td>\n",
       "      <td>98006</td>\n",
       "      <td>47.569</td>\n",
       "      <td>-122.189</td>\n",
       "      <td>4740</td>\n",
       "      <td>19329</td>\n",
       "    </tr>\n",
       "    <tr>\n",
       "      <th>4145</th>\n",
       "      <td>10/14/2014</td>\n",
       "      <td>4000000.000</td>\n",
       "      <td>4</td>\n",
       "      <td>5.500</td>\n",
       "      <td>7080</td>\n",
       "      <td>16573</td>\n",
       "      <td>2.000</td>\n",
       "      <td>0</td>\n",
       "      <td>0</td>\n",
       "      <td>3</td>\n",
       "      <td>12</td>\n",
       "      <td>5760</td>\n",
       "      <td>1320</td>\n",
       "      <td>2008</td>\n",
       "      <td>0</td>\n",
       "      <td>98039</td>\n",
       "      <td>47.615</td>\n",
       "      <td>-122.224</td>\n",
       "      <td>3140</td>\n",
       "      <td>15996</td>\n",
       "    </tr>\n",
       "    <tr>\n",
       "      <th>2083</th>\n",
       "      <td>11/14/2014</td>\n",
       "      <td>3850000.000</td>\n",
       "      <td>4</td>\n",
       "      <td>4.250</td>\n",
       "      <td>5770</td>\n",
       "      <td>21300</td>\n",
       "      <td>2.000</td>\n",
       "      <td>1</td>\n",
       "      <td>4</td>\n",
       "      <td>4</td>\n",
       "      <td>11</td>\n",
       "      <td>5770</td>\n",
       "      <td>0</td>\n",
       "      <td>1980</td>\n",
       "      <td>0</td>\n",
       "      <td>98040</td>\n",
       "      <td>47.585</td>\n",
       "      <td>-122.222</td>\n",
       "      <td>4620</td>\n",
       "      <td>22748</td>\n",
       "    </tr>\n",
       "    <tr>\n",
       "      <th>19002</th>\n",
       "      <td>9/11/2014</td>\n",
       "      <td>3800000.000</td>\n",
       "      <td>3</td>\n",
       "      <td>4.250</td>\n",
       "      <td>5510</td>\n",
       "      <td>35000</td>\n",
       "      <td>2.000</td>\n",
       "      <td>0</td>\n",
       "      <td>4</td>\n",
       "      <td>3</td>\n",
       "      <td>13</td>\n",
       "      <td>4910</td>\n",
       "      <td>600</td>\n",
       "      <td>1997</td>\n",
       "      <td>0</td>\n",
       "      <td>98177</td>\n",
       "      <td>47.730</td>\n",
       "      <td>-122.370</td>\n",
       "      <td>3430</td>\n",
       "      <td>45302</td>\n",
       "    </tr>\n",
       "    <tr>\n",
       "      <th>7028</th>\n",
       "      <td>7/1/2014</td>\n",
       "      <td>3800000.000</td>\n",
       "      <td>5</td>\n",
       "      <td>5.500</td>\n",
       "      <td>7050</td>\n",
       "      <td>42840</td>\n",
       "      <td>1.000</td>\n",
       "      <td>0</td>\n",
       "      <td>2</td>\n",
       "      <td>4</td>\n",
       "      <td>13</td>\n",
       "      <td>4320</td>\n",
       "      <td>2730</td>\n",
       "      <td>1978</td>\n",
       "      <td>0</td>\n",
       "      <td>98004</td>\n",
       "      <td>47.623</td>\n",
       "      <td>-122.220</td>\n",
       "      <td>5070</td>\n",
       "      <td>20570</td>\n",
       "    </tr>\n",
       "    <tr>\n",
       "      <th>16288</th>\n",
       "      <td>5/30/2014</td>\n",
       "      <td>3710000.000</td>\n",
       "      <td>4</td>\n",
       "      <td>3.500</td>\n",
       "      <td>5550</td>\n",
       "      <td>28078</td>\n",
       "      <td>2.000</td>\n",
       "      <td>0</td>\n",
       "      <td>2</td>\n",
       "      <td>4</td>\n",
       "      <td>12</td>\n",
       "      <td>3350</td>\n",
       "      <td>2200</td>\n",
       "      <td>2000</td>\n",
       "      <td>0</td>\n",
       "      <td>98039</td>\n",
       "      <td>47.639</td>\n",
       "      <td>-122.234</td>\n",
       "      <td>2980</td>\n",
       "      <td>19602</td>\n",
       "    </tr>\n",
       "    <tr>\n",
       "      <th>6502</th>\n",
       "      <td>4/21/2015</td>\n",
       "      <td>3650000.000</td>\n",
       "      <td>6</td>\n",
       "      <td>4.750</td>\n",
       "      <td>5480</td>\n",
       "      <td>19401</td>\n",
       "      <td>1.500</td>\n",
       "      <td>1</td>\n",
       "      <td>4</td>\n",
       "      <td>5</td>\n",
       "      <td>11</td>\n",
       "      <td>3910</td>\n",
       "      <td>1570</td>\n",
       "      <td>1936</td>\n",
       "      <td>0</td>\n",
       "      <td>98105</td>\n",
       "      <td>47.651</td>\n",
       "      <td>-122.277</td>\n",
       "      <td>3510</td>\n",
       "      <td>15810</td>\n",
       "    </tr>\n",
       "    <tr>\n",
       "      <th>18467</th>\n",
       "      <td>5/11/2015</td>\n",
       "      <td>3650000.000</td>\n",
       "      <td>5</td>\n",
       "      <td>3.750</td>\n",
       "      <td>5020</td>\n",
       "      <td>8694</td>\n",
       "      <td>2.000</td>\n",
       "      <td>0</td>\n",
       "      <td>1</td>\n",
       "      <td>3</td>\n",
       "      <td>12</td>\n",
       "      <td>3970</td>\n",
       "      <td>1050</td>\n",
       "      <td>2007</td>\n",
       "      <td>0</td>\n",
       "      <td>98004</td>\n",
       "      <td>47.615</td>\n",
       "      <td>-122.213</td>\n",
       "      <td>4190</td>\n",
       "      <td>11275</td>\n",
       "    </tr>\n",
       "    <tr>\n",
       "      <th>19133</th>\n",
       "      <td>10/11/2014</td>\n",
       "      <td>3640000.000</td>\n",
       "      <td>5</td>\n",
       "      <td>6.000</td>\n",
       "      <td>5490</td>\n",
       "      <td>19897</td>\n",
       "      <td>2.000</td>\n",
       "      <td>0</td>\n",
       "      <td>0</td>\n",
       "      <td>3</td>\n",
       "      <td>12</td>\n",
       "      <td>5490</td>\n",
       "      <td>0</td>\n",
       "      <td>2005</td>\n",
       "      <td>0</td>\n",
       "      <td>98039</td>\n",
       "      <td>47.617</td>\n",
       "      <td>-122.236</td>\n",
       "      <td>2910</td>\n",
       "      <td>17600</td>\n",
       "    </tr>\n",
       "    <tr>\n",
       "      <th>15241</th>\n",
       "      <td>9/11/2014</td>\n",
       "      <td>3640000.000</td>\n",
       "      <td>4</td>\n",
       "      <td>3.250</td>\n",
       "      <td>4830</td>\n",
       "      <td>22257</td>\n",
       "      <td>2.000</td>\n",
       "      <td>1</td>\n",
       "      <td>4</td>\n",
       "      <td>4</td>\n",
       "      <td>11</td>\n",
       "      <td>4830</td>\n",
       "      <td>0</td>\n",
       "      <td>1990</td>\n",
       "      <td>0</td>\n",
       "      <td>98039</td>\n",
       "      <td>47.641</td>\n",
       "      <td>-122.241</td>\n",
       "      <td>3820</td>\n",
       "      <td>25582</td>\n",
       "    </tr>\n",
       "    <tr>\n",
       "      <th>2862</th>\n",
       "      <td>11/18/2014</td>\n",
       "      <td>3600000.000</td>\n",
       "      <td>3</td>\n",
       "      <td>3.250</td>\n",
       "      <td>5020</td>\n",
       "      <td>12431</td>\n",
       "      <td>2.000</td>\n",
       "      <td>1</td>\n",
       "      <td>4</td>\n",
       "      <td>3</td>\n",
       "      <td>10</td>\n",
       "      <td>3420</td>\n",
       "      <td>1600</td>\n",
       "      <td>1941</td>\n",
       "      <td>2002</td>\n",
       "      <td>98144</td>\n",
       "      <td>47.593</td>\n",
       "      <td>-122.287</td>\n",
       "      <td>3680</td>\n",
       "      <td>12620</td>\n",
       "    </tr>\n",
       "    <tr>\n",
       "      <th>21560</th>\n",
       "      <td>1/7/2015</td>\n",
       "      <td>3570000.000</td>\n",
       "      <td>5</td>\n",
       "      <td>4.500</td>\n",
       "      <td>4850</td>\n",
       "      <td>10584</td>\n",
       "      <td>2.000</td>\n",
       "      <td>1</td>\n",
       "      <td>4</td>\n",
       "      <td>3</td>\n",
       "      <td>10</td>\n",
       "      <td>3540</td>\n",
       "      <td>1310</td>\n",
       "      <td>2007</td>\n",
       "      <td>0</td>\n",
       "      <td>98008</td>\n",
       "      <td>47.594</td>\n",
       "      <td>-122.110</td>\n",
       "      <td>3470</td>\n",
       "      <td>18270</td>\n",
       "    </tr>\n",
       "    <tr>\n",
       "      <th>5874</th>\n",
       "      <td>10/7/2014</td>\n",
       "      <td>3420000.000</td>\n",
       "      <td>5</td>\n",
       "      <td>5.000</td>\n",
       "      <td>5450</td>\n",
       "      <td>20412</td>\n",
       "      <td>2.000</td>\n",
       "      <td>0</td>\n",
       "      <td>0</td>\n",
       "      <td>3</td>\n",
       "      <td>11</td>\n",
       "      <td>5450</td>\n",
       "      <td>0</td>\n",
       "      <td>2014</td>\n",
       "      <td>0</td>\n",
       "      <td>98039</td>\n",
       "      <td>47.621</td>\n",
       "      <td>-122.237</td>\n",
       "      <td>3160</td>\n",
       "      <td>17825</td>\n",
       "    </tr>\n",
       "    <tr>\n",
       "      <th>10435</th>\n",
       "      <td>5/8/2015</td>\n",
       "      <td>3400000.000</td>\n",
       "      <td>4</td>\n",
       "      <td>4.000</td>\n",
       "      <td>4260</td>\n",
       "      <td>11765</td>\n",
       "      <td>2.000</td>\n",
       "      <td>0</td>\n",
       "      <td>0</td>\n",
       "      <td>3</td>\n",
       "      <td>11</td>\n",
       "      <td>3280</td>\n",
       "      <td>980</td>\n",
       "      <td>1939</td>\n",
       "      <td>2010</td>\n",
       "      <td>98112</td>\n",
       "      <td>47.638</td>\n",
       "      <td>-122.288</td>\n",
       "      <td>4260</td>\n",
       "      <td>10408</td>\n",
       "    </tr>\n",
       "    <tr>\n",
       "      <th>7982</th>\n",
       "      <td>6/23/2014</td>\n",
       "      <td>3400000.000</td>\n",
       "      <td>3</td>\n",
       "      <td>4.500</td>\n",
       "      <td>5230</td>\n",
       "      <td>17826</td>\n",
       "      <td>2.000</td>\n",
       "      <td>1</td>\n",
       "      <td>4</td>\n",
       "      <td>3</td>\n",
       "      <td>10</td>\n",
       "      <td>3740</td>\n",
       "      <td>1490</td>\n",
       "      <td>2005</td>\n",
       "      <td>0</td>\n",
       "      <td>98040</td>\n",
       "      <td>47.535</td>\n",
       "      <td>-122.243</td>\n",
       "      <td>3670</td>\n",
       "      <td>17826</td>\n",
       "    </tr>\n",
       "    <tr>\n",
       "      <th>13954</th>\n",
       "      <td>3/3/2015</td>\n",
       "      <td>3400000.000</td>\n",
       "      <td>4</td>\n",
       "      <td>3.500</td>\n",
       "      <td>4730</td>\n",
       "      <td>47870</td>\n",
       "      <td>1.000</td>\n",
       "      <td>1</td>\n",
       "      <td>4</td>\n",
       "      <td>3</td>\n",
       "      <td>10</td>\n",
       "      <td>2940</td>\n",
       "      <td>1790</td>\n",
       "      <td>1954</td>\n",
       "      <td>0</td>\n",
       "      <td>98033</td>\n",
       "      <td>47.697</td>\n",
       "      <td>-122.216</td>\n",
       "      <td>3250</td>\n",
       "      <td>49346</td>\n",
       "    </tr>\n",
       "    <tr>\n",
       "      <th>20444</th>\n",
       "      <td>4/2/2015</td>\n",
       "      <td>3350000.000</td>\n",
       "      <td>5</td>\n",
       "      <td>3.750</td>\n",
       "      <td>5350</td>\n",
       "      <td>15360</td>\n",
       "      <td>1.000</td>\n",
       "      <td>0</td>\n",
       "      <td>1</td>\n",
       "      <td>3</td>\n",
       "      <td>11</td>\n",
       "      <td>3040</td>\n",
       "      <td>2310</td>\n",
       "      <td>2008</td>\n",
       "      <td>0</td>\n",
       "      <td>98004</td>\n",
       "      <td>47.648</td>\n",
       "      <td>-122.218</td>\n",
       "      <td>3740</td>\n",
       "      <td>15940</td>\n",
       "    </tr>\n",
       "    <tr>\n",
       "      <th>18462</th>\n",
       "      <td>10/20/2014</td>\n",
       "      <td>3300000.000</td>\n",
       "      <td>8</td>\n",
       "      <td>4.000</td>\n",
       "      <td>7710</td>\n",
       "      <td>11750</td>\n",
       "      <td>3.500</td>\n",
       "      <td>0</td>\n",
       "      <td>0</td>\n",
       "      <td>5</td>\n",
       "      <td>12</td>\n",
       "      <td>6090</td>\n",
       "      <td>1620</td>\n",
       "      <td>1904</td>\n",
       "      <td>0</td>\n",
       "      <td>98112</td>\n",
       "      <td>47.626</td>\n",
       "      <td>-122.314</td>\n",
       "      <td>4210</td>\n",
       "      <td>8325</td>\n",
       "    </tr>\n",
       "    <tr>\n",
       "      <th>18288</th>\n",
       "      <td>7/2/2014</td>\n",
       "      <td>3300000.000</td>\n",
       "      <td>5</td>\n",
       "      <td>6.250</td>\n",
       "      <td>8020</td>\n",
       "      <td>21738</td>\n",
       "      <td>2.000</td>\n",
       "      <td>0</td>\n",
       "      <td>0</td>\n",
       "      <td>3</td>\n",
       "      <td>11</td>\n",
       "      <td>8020</td>\n",
       "      <td>0</td>\n",
       "      <td>2001</td>\n",
       "      <td>0</td>\n",
       "      <td>98006</td>\n",
       "      <td>47.568</td>\n",
       "      <td>-122.189</td>\n",
       "      <td>4160</td>\n",
       "      <td>18969</td>\n",
       "    </tr>\n",
       "    <tr>\n",
       "      <th>18185</th>\n",
       "      <td>12/30/2014</td>\n",
       "      <td>3300000.000</td>\n",
       "      <td>3</td>\n",
       "      <td>3.250</td>\n",
       "      <td>4220</td>\n",
       "      <td>41300</td>\n",
       "      <td>1.000</td>\n",
       "      <td>1</td>\n",
       "      <td>4</td>\n",
       "      <td>4</td>\n",
       "      <td>11</td>\n",
       "      <td>2460</td>\n",
       "      <td>1760</td>\n",
       "      <td>1958</td>\n",
       "      <td>1987</td>\n",
       "      <td>98008</td>\n",
       "      <td>47.608</td>\n",
       "      <td>-122.110</td>\n",
       "      <td>3810</td>\n",
       "      <td>30401</td>\n",
       "    </tr>\n",
       "    <tr>\n",
       "      <th>14070</th>\n",
       "      <td>9/4/2014</td>\n",
       "      <td>3300000.000</td>\n",
       "      <td>5</td>\n",
       "      <td>4.750</td>\n",
       "      <td>6200</td>\n",
       "      <td>13873</td>\n",
       "      <td>2.000</td>\n",
       "      <td>1</td>\n",
       "      <td>4</td>\n",
       "      <td>4</td>\n",
       "      <td>11</td>\n",
       "      <td>4440</td>\n",
       "      <td>1760</td>\n",
       "      <td>1989</td>\n",
       "      <td>0</td>\n",
       "      <td>98008</td>\n",
       "      <td>47.605</td>\n",
       "      <td>-122.112</td>\n",
       "      <td>2940</td>\n",
       "      <td>13525</td>\n",
       "    </tr>\n",
       "    <tr>\n",
       "      <th>2442</th>\n",
       "      <td>12/10/2014</td>\n",
       "      <td>3280000.000</td>\n",
       "      <td>2</td>\n",
       "      <td>1.750</td>\n",
       "      <td>6840</td>\n",
       "      <td>10000</td>\n",
       "      <td>2.500</td>\n",
       "      <td>1</td>\n",
       "      <td>4</td>\n",
       "      <td>3</td>\n",
       "      <td>11</td>\n",
       "      <td>4350</td>\n",
       "      <td>2490</td>\n",
       "      <td>2001</td>\n",
       "      <td>0</td>\n",
       "      <td>98008</td>\n",
       "      <td>47.604</td>\n",
       "      <td>-122.112</td>\n",
       "      <td>3120</td>\n",
       "      <td>12300</td>\n",
       "    </tr>\n",
       "    <tr>\n",
       "      <th>20279</th>\n",
       "      <td>8/26/2014</td>\n",
       "      <td>3200000.000</td>\n",
       "      <td>4</td>\n",
       "      <td>4.000</td>\n",
       "      <td>4810</td>\n",
       "      <td>18851</td>\n",
       "      <td>2.000</td>\n",
       "      <td>0</td>\n",
       "      <td>3</td>\n",
       "      <td>3</td>\n",
       "      <td>11</td>\n",
       "      <td>4810</td>\n",
       "      <td>0</td>\n",
       "      <td>2007</td>\n",
       "      <td>0</td>\n",
       "      <td>98004</td>\n",
       "      <td>47.636</td>\n",
       "      <td>-122.214</td>\n",
       "      <td>3970</td>\n",
       "      <td>19929</td>\n",
       "    </tr>\n",
       "    <tr>\n",
       "      <th>7900</th>\n",
       "      <td>9/23/2014</td>\n",
       "      <td>3200000.000</td>\n",
       "      <td>6</td>\n",
       "      <td>5.000</td>\n",
       "      <td>7100</td>\n",
       "      <td>18200</td>\n",
       "      <td>2.500</td>\n",
       "      <td>0</td>\n",
       "      <td>0</td>\n",
       "      <td>3</td>\n",
       "      <td>13</td>\n",
       "      <td>5240</td>\n",
       "      <td>1860</td>\n",
       "      <td>1933</td>\n",
       "      <td>2002</td>\n",
       "      <td>98199</td>\n",
       "      <td>47.643</td>\n",
       "      <td>-122.408</td>\n",
       "      <td>3130</td>\n",
       "      <td>6477</td>\n",
       "    </tr>\n",
       "    <tr>\n",
       "      <th>11523</th>\n",
       "      <td>1/9/2015</td>\n",
       "      <td>3200000.000</td>\n",
       "      <td>3</td>\n",
       "      <td>3.250</td>\n",
       "      <td>4560</td>\n",
       "      <td>13363</td>\n",
       "      <td>1.000</td>\n",
       "      <td>0</td>\n",
       "      <td>4</td>\n",
       "      <td>3</td>\n",
       "      <td>11</td>\n",
       "      <td>2760</td>\n",
       "      <td>1800</td>\n",
       "      <td>1995</td>\n",
       "      <td>0</td>\n",
       "      <td>98004</td>\n",
       "      <td>47.620</td>\n",
       "      <td>-122.214</td>\n",
       "      <td>4060</td>\n",
       "      <td>13362</td>\n",
       "    </tr>\n",
       "    <tr>\n",
       "      <th>7184</th>\n",
       "      <td>5/7/2014</td>\n",
       "      <td>3200000.000</td>\n",
       "      <td>7</td>\n",
       "      <td>4.500</td>\n",
       "      <td>6210</td>\n",
       "      <td>8856</td>\n",
       "      <td>2.500</td>\n",
       "      <td>0</td>\n",
       "      <td>2</td>\n",
       "      <td>5</td>\n",
       "      <td>11</td>\n",
       "      <td>4760</td>\n",
       "      <td>1450</td>\n",
       "      <td>1910</td>\n",
       "      <td>0</td>\n",
       "      <td>98109</td>\n",
       "      <td>47.631</td>\n",
       "      <td>-122.354</td>\n",
       "      <td>2940</td>\n",
       "      <td>5400</td>\n",
       "    </tr>\n",
       "    <tr>\n",
       "      <th>15468</th>\n",
       "      <td>8/12/2014</td>\n",
       "      <td>3200000.000</td>\n",
       "      <td>4</td>\n",
       "      <td>3.250</td>\n",
       "      <td>7000</td>\n",
       "      <td>28206</td>\n",
       "      <td>1.000</td>\n",
       "      <td>1</td>\n",
       "      <td>4</td>\n",
       "      <td>4</td>\n",
       "      <td>12</td>\n",
       "      <td>3500</td>\n",
       "      <td>3500</td>\n",
       "      <td>1991</td>\n",
       "      <td>0</td>\n",
       "      <td>98075</td>\n",
       "      <td>47.593</td>\n",
       "      <td>-122.086</td>\n",
       "      <td>4913</td>\n",
       "      <td>14663</td>\n",
       "    </tr>\n",
       "    <tr>\n",
       "      <th>13515</th>\n",
       "      <td>8/28/2014</td>\n",
       "      <td>3170000.000</td>\n",
       "      <td>5</td>\n",
       "      <td>3.500</td>\n",
       "      <td>4330</td>\n",
       "      <td>11979</td>\n",
       "      <td>1.000</td>\n",
       "      <td>0</td>\n",
       "      <td>4</td>\n",
       "      <td>3</td>\n",
       "      <td>12</td>\n",
       "      <td>2090</td>\n",
       "      <td>2240</td>\n",
       "      <td>2008</td>\n",
       "      <td>0</td>\n",
       "      <td>98004</td>\n",
       "      <td>47.625</td>\n",
       "      <td>-122.218</td>\n",
       "      <td>4320</td>\n",
       "      <td>12000</td>\n",
       "    </tr>\n",
       "    <tr>\n",
       "      <th>10454</th>\n",
       "      <td>11/24/2014</td>\n",
       "      <td>3120000.000</td>\n",
       "      <td>3</td>\n",
       "      <td>3.500</td>\n",
       "      <td>4490</td>\n",
       "      <td>56609</td>\n",
       "      <td>2.000</td>\n",
       "      <td>1</td>\n",
       "      <td>4</td>\n",
       "      <td>3</td>\n",
       "      <td>12</td>\n",
       "      <td>4490</td>\n",
       "      <td>0</td>\n",
       "      <td>1993</td>\n",
       "      <td>0</td>\n",
       "      <td>98034</td>\n",
       "      <td>47.700</td>\n",
       "      <td>-122.240</td>\n",
       "      <td>2710</td>\n",
       "      <td>51330</td>\n",
       "    </tr>\n",
       "    <tr>\n",
       "      <th>7306</th>\n",
       "      <td>8/25/2014</td>\n",
       "      <td>3100000.000</td>\n",
       "      <td>3</td>\n",
       "      <td>3.000</td>\n",
       "      <td>3920</td>\n",
       "      <td>13085</td>\n",
       "      <td>2.000</td>\n",
       "      <td>1</td>\n",
       "      <td>4</td>\n",
       "      <td>4</td>\n",
       "      <td>11</td>\n",
       "      <td>3920</td>\n",
       "      <td>0</td>\n",
       "      <td>1996</td>\n",
       "      <td>0</td>\n",
       "      <td>98040</td>\n",
       "      <td>47.572</td>\n",
       "      <td>-122.204</td>\n",
       "      <td>3450</td>\n",
       "      <td>13287</td>\n",
       "    </tr>\n",
       "    <tr>\n",
       "      <th>16955</th>\n",
       "      <td>7/29/2014</td>\n",
       "      <td>3100000.000</td>\n",
       "      <td>5</td>\n",
       "      <td>5.250</td>\n",
       "      <td>5090</td>\n",
       "      <td>23669</td>\n",
       "      <td>2.000</td>\n",
       "      <td>0</td>\n",
       "      <td>0</td>\n",
       "      <td>3</td>\n",
       "      <td>12</td>\n",
       "      <td>5090</td>\n",
       "      <td>0</td>\n",
       "      <td>2006</td>\n",
       "      <td>0</td>\n",
       "      <td>98004</td>\n",
       "      <td>47.630</td>\n",
       "      <td>-122.216</td>\n",
       "      <td>3830</td>\n",
       "      <td>22605</td>\n",
       "    </tr>\n",
       "    <tr>\n",
       "      <th>12859</th>\n",
       "      <td>5/29/2014</td>\n",
       "      <td>3100000.000</td>\n",
       "      <td>6</td>\n",
       "      <td>4.250</td>\n",
       "      <td>6980</td>\n",
       "      <td>15682</td>\n",
       "      <td>3.000</td>\n",
       "      <td>0</td>\n",
       "      <td>4</td>\n",
       "      <td>4</td>\n",
       "      <td>12</td>\n",
       "      <td>5330</td>\n",
       "      <td>1650</td>\n",
       "      <td>1999</td>\n",
       "      <td>0</td>\n",
       "      <td>98040</td>\n",
       "      <td>47.555</td>\n",
       "      <td>-122.231</td>\n",
       "      <td>3930</td>\n",
       "      <td>18367</td>\n",
       "    </tr>\n",
       "    <tr>\n",
       "      <th>300</th>\n",
       "      <td>6/24/2014</td>\n",
       "      <td>3080000.000</td>\n",
       "      <td>4</td>\n",
       "      <td>5.000</td>\n",
       "      <td>4550</td>\n",
       "      <td>18641</td>\n",
       "      <td>1.000</td>\n",
       "      <td>1</td>\n",
       "      <td>4</td>\n",
       "      <td>3</td>\n",
       "      <td>10</td>\n",
       "      <td>2600</td>\n",
       "      <td>1950</td>\n",
       "      <td>2002</td>\n",
       "      <td>0</td>\n",
       "      <td>98074</td>\n",
       "      <td>47.605</td>\n",
       "      <td>-122.077</td>\n",
       "      <td>4550</td>\n",
       "      <td>19508</td>\n",
       "    </tr>\n",
       "    <tr>\n",
       "      <th>15244</th>\n",
       "      <td>2/12/2015</td>\n",
       "      <td>3070000.000</td>\n",
       "      <td>5</td>\n",
       "      <td>3.000</td>\n",
       "      <td>4150</td>\n",
       "      <td>7500</td>\n",
       "      <td>2.500</td>\n",
       "      <td>0</td>\n",
       "      <td>4</td>\n",
       "      <td>5</td>\n",
       "      <td>11</td>\n",
       "      <td>3510</td>\n",
       "      <td>640</td>\n",
       "      <td>1909</td>\n",
       "      <td>0</td>\n",
       "      <td>98119</td>\n",
       "      <td>47.630</td>\n",
       "      <td>-122.362</td>\n",
       "      <td>2250</td>\n",
       "      <td>4050</td>\n",
       "    </tr>\n",
       "    <tr>\n",
       "      <th>656</th>\n",
       "      <td>11/20/2014</td>\n",
       "      <td>3070000.000</td>\n",
       "      <td>3</td>\n",
       "      <td>2.500</td>\n",
       "      <td>3930</td>\n",
       "      <td>55867</td>\n",
       "      <td>1.000</td>\n",
       "      <td>1</td>\n",
       "      <td>4</td>\n",
       "      <td>4</td>\n",
       "      <td>8</td>\n",
       "      <td>2330</td>\n",
       "      <td>1600</td>\n",
       "      <td>1957</td>\n",
       "      <td>0</td>\n",
       "      <td>98034</td>\n",
       "      <td>47.702</td>\n",
       "      <td>-122.224</td>\n",
       "      <td>2730</td>\n",
       "      <td>26324</td>\n",
       "    </tr>\n",
       "  </tbody>\n",
       "</table>\n",
       "</div>"
      ],
      "text/plain": [
       "             date       price  bedrooms  bathrooms  sqft_living  sqft_lot  \\\n",
       "7245   10/13/2014 7700000.000         6      8.000        12050     27600   \n",
       "3910    6/11/2014 7060000.000         5      4.500        10040     37325   \n",
       "9245    9/19/2014 6890000.000         6      7.750         9890     31374   \n",
       "4407     8/4/2014 5570000.000         5      5.750         9200     35069   \n",
       "1446    4/13/2015 5350000.000         5      5.000         8000     23985   \n",
       "1313    4/13/2015 5300000.000         6      6.000         7390     24829   \n",
       "1162   10/20/2014 5110000.000         5      5.250         8010     45517   \n",
       "8085    6/17/2014 4670000.000         5      6.750         9640     13068   \n",
       "2624    8/15/2014 4500000.000         5      5.500         6640     40014   \n",
       "8629    6/18/2014 4490000.000         4      3.000         6430     27517   \n",
       "12358    5/6/2015 4210000.000         5      6.000         7440     21540   \n",
       "4145   10/14/2014 4000000.000         4      5.500         7080     16573   \n",
       "2083   11/14/2014 3850000.000         4      4.250         5770     21300   \n",
       "19002   9/11/2014 3800000.000         3      4.250         5510     35000   \n",
       "7028     7/1/2014 3800000.000         5      5.500         7050     42840   \n",
       "16288   5/30/2014 3710000.000         4      3.500         5550     28078   \n",
       "6502    4/21/2015 3650000.000         6      4.750         5480     19401   \n",
       "18467   5/11/2015 3650000.000         5      3.750         5020      8694   \n",
       "19133  10/11/2014 3640000.000         5      6.000         5490     19897   \n",
       "15241   9/11/2014 3640000.000         4      3.250         4830     22257   \n",
       "2862   11/18/2014 3600000.000         3      3.250         5020     12431   \n",
       "21560    1/7/2015 3570000.000         5      4.500         4850     10584   \n",
       "5874    10/7/2014 3420000.000         5      5.000         5450     20412   \n",
       "10435    5/8/2015 3400000.000         4      4.000         4260     11765   \n",
       "7982    6/23/2014 3400000.000         3      4.500         5230     17826   \n",
       "13954    3/3/2015 3400000.000         4      3.500         4730     47870   \n",
       "20444    4/2/2015 3350000.000         5      3.750         5350     15360   \n",
       "18462  10/20/2014 3300000.000         8      4.000         7710     11750   \n",
       "18288    7/2/2014 3300000.000         5      6.250         8020     21738   \n",
       "18185  12/30/2014 3300000.000         3      3.250         4220     41300   \n",
       "14070    9/4/2014 3300000.000         5      4.750         6200     13873   \n",
       "2442   12/10/2014 3280000.000         2      1.750         6840     10000   \n",
       "20279   8/26/2014 3200000.000         4      4.000         4810     18851   \n",
       "7900    9/23/2014 3200000.000         6      5.000         7100     18200   \n",
       "11523    1/9/2015 3200000.000         3      3.250         4560     13363   \n",
       "7184     5/7/2014 3200000.000         7      4.500         6210      8856   \n",
       "15468   8/12/2014 3200000.000         4      3.250         7000     28206   \n",
       "13515   8/28/2014 3170000.000         5      3.500         4330     11979   \n",
       "10454  11/24/2014 3120000.000         3      3.500         4490     56609   \n",
       "7306    8/25/2014 3100000.000         3      3.000         3920     13085   \n",
       "16955   7/29/2014 3100000.000         5      5.250         5090     23669   \n",
       "12859   5/29/2014 3100000.000         6      4.250         6980     15682   \n",
       "300     6/24/2014 3080000.000         4      5.000         4550     18641   \n",
       "15244   2/12/2015 3070000.000         5      3.000         4150      7500   \n",
       "656    11/20/2014 3070000.000         3      2.500         3930     55867   \n",
       "\n",
       "       floors  waterfront  view  condition  grade  sqft_above  sqft_basement  \\\n",
       "7245    2.500           0     3          4     13        8570           3480   \n",
       "3910    2.000           1     2          3     11        7680           2360   \n",
       "9245    2.000           0     4          3     13        8860           1030   \n",
       "4407    2.000           0     0          3     13        6200           3000   \n",
       "1446    2.000           0     4          3     12        6720           1280   \n",
       "1313    2.000           1     4          4     12        5000           2390   \n",
       "1162    2.000           1     4          3     12        5990           2020   \n",
       "8085    1.000           1     4          3     12        4820           4820   \n",
       "2624    2.000           1     4          3     12        6350            290   \n",
       "8629    2.000           0     0          3     12        6430              0   \n",
       "12358   2.000           0     0          3     12        5550           1890   \n",
       "4145    2.000           0     0          3     12        5760           1320   \n",
       "2083    2.000           1     4          4     11        5770              0   \n",
       "19002   2.000           0     4          3     13        4910            600   \n",
       "7028    1.000           0     2          4     13        4320           2730   \n",
       "16288   2.000           0     2          4     12        3350           2200   \n",
       "6502    1.500           1     4          5     11        3910           1570   \n",
       "18467   2.000           0     1          3     12        3970           1050   \n",
       "19133   2.000           0     0          3     12        5490              0   \n",
       "15241   2.000           1     4          4     11        4830              0   \n",
       "2862    2.000           1     4          3     10        3420           1600   \n",
       "21560   2.000           1     4          3     10        3540           1310   \n",
       "5874    2.000           0     0          3     11        5450              0   \n",
       "10435   2.000           0     0          3     11        3280            980   \n",
       "7982    2.000           1     4          3     10        3740           1490   \n",
       "13954   1.000           1     4          3     10        2940           1790   \n",
       "20444   1.000           0     1          3     11        3040           2310   \n",
       "18462   3.500           0     0          5     12        6090           1620   \n",
       "18288   2.000           0     0          3     11        8020              0   \n",
       "18185   1.000           1     4          4     11        2460           1760   \n",
       "14070   2.000           1     4          4     11        4440           1760   \n",
       "2442    2.500           1     4          3     11        4350           2490   \n",
       "20279   2.000           0     3          3     11        4810              0   \n",
       "7900    2.500           0     0          3     13        5240           1860   \n",
       "11523   1.000           0     4          3     11        2760           1800   \n",
       "7184    2.500           0     2          5     11        4760           1450   \n",
       "15468   1.000           1     4          4     12        3500           3500   \n",
       "13515   1.000           0     4          3     12        2090           2240   \n",
       "10454   2.000           1     4          3     12        4490              0   \n",
       "7306    2.000           1     4          4     11        3920              0   \n",
       "16955   2.000           0     0          3     12        5090              0   \n",
       "12859   3.000           0     4          4     12        5330           1650   \n",
       "300     1.000           1     4          3     10        2600           1950   \n",
       "15244   2.500           0     4          5     11        3510            640   \n",
       "656     1.000           1     4          4      8        2330           1600   \n",
       "\n",
       "       yr_built  yr_renovated  zipcode    lat     long  sqft_living15  \\\n",
       "7245       1910          1987    98102 47.630 -122.323           3940   \n",
       "3910       1940          2001    98004 47.650 -122.214           3930   \n",
       "9245       2001             0    98039 47.630 -122.240           4540   \n",
       "4407       2001             0    98039 47.629 -122.233           3560   \n",
       "1446       2009             0    98004 47.623 -122.220           4600   \n",
       "1313       1991             0    98040 47.563 -122.210           4320   \n",
       "1162       1999             0    98033 47.677 -122.211           3430   \n",
       "8085       1983          2009    98040 47.557 -122.210           3270   \n",
       "2624       2004             0    98155 47.749 -122.280           3030   \n",
       "8629       2001             0    98004 47.621 -122.219           3720   \n",
       "12358      2003             0    98006 47.569 -122.189           4740   \n",
       "4145       2008             0    98039 47.615 -122.224           3140   \n",
       "2083       1980             0    98040 47.585 -122.222           4620   \n",
       "19002      1997             0    98177 47.730 -122.370           3430   \n",
       "7028       1978             0    98004 47.623 -122.220           5070   \n",
       "16288      2000             0    98039 47.639 -122.234           2980   \n",
       "6502       1936             0    98105 47.651 -122.277           3510   \n",
       "18467      2007             0    98004 47.615 -122.213           4190   \n",
       "19133      2005             0    98039 47.617 -122.236           2910   \n",
       "15241      1990             0    98039 47.641 -122.241           3820   \n",
       "2862       1941          2002    98144 47.593 -122.287           3680   \n",
       "21560      2007             0    98008 47.594 -122.110           3470   \n",
       "5874       2014             0    98039 47.621 -122.237           3160   \n",
       "10435      1939          2010    98112 47.638 -122.288           4260   \n",
       "7982       2005             0    98040 47.535 -122.243           3670   \n",
       "13954      1954             0    98033 47.697 -122.216           3250   \n",
       "20444      2008             0    98004 47.648 -122.218           3740   \n",
       "18462      1904             0    98112 47.626 -122.314           4210   \n",
       "18288      2001             0    98006 47.568 -122.189           4160   \n",
       "18185      1958          1987    98008 47.608 -122.110           3810   \n",
       "14070      1989             0    98008 47.605 -122.112           2940   \n",
       "2442       2001             0    98008 47.604 -122.112           3120   \n",
       "20279      2007             0    98004 47.636 -122.214           3970   \n",
       "7900       1933          2002    98199 47.643 -122.408           3130   \n",
       "11523      1995             0    98004 47.620 -122.214           4060   \n",
       "7184       1910             0    98109 47.631 -122.354           2940   \n",
       "15468      1991             0    98075 47.593 -122.086           4913   \n",
       "13515      2008             0    98004 47.625 -122.218           4320   \n",
       "10454      1993             0    98034 47.700 -122.240           2710   \n",
       "7306       1996             0    98040 47.572 -122.204           3450   \n",
       "16955      2006             0    98004 47.630 -122.216           3830   \n",
       "12859      1999             0    98040 47.555 -122.231           3930   \n",
       "300        2002             0    98074 47.605 -122.077           4550   \n",
       "15244      1909             0    98119 47.630 -122.362           2250   \n",
       "656        1957             0    98034 47.702 -122.224           2730   \n",
       "\n",
       "       sqft_lot15  \n",
       "7245         8800  \n",
       "3910        25449  \n",
       "9245        42730  \n",
       "4407        24345  \n",
       "1446        21750  \n",
       "1313        24619  \n",
       "1162        26788  \n",
       "8085        10454  \n",
       "2624        23408  \n",
       "8629        14592  \n",
       "12358       19329  \n",
       "4145        15996  \n",
       "2083        22748  \n",
       "19002       45302  \n",
       "7028        20570  \n",
       "16288       19602  \n",
       "6502        15810  \n",
       "18467       11275  \n",
       "19133       17600  \n",
       "15241       25582  \n",
       "2862        12620  \n",
       "21560       18270  \n",
       "5874        17825  \n",
       "10435       10408  \n",
       "7982        17826  \n",
       "13954       49346  \n",
       "20444       15940  \n",
       "18462        8325  \n",
       "18288       18969  \n",
       "18185       30401  \n",
       "14070       13525  \n",
       "2442        12300  \n",
       "20279       19929  \n",
       "7900         6477  \n",
       "11523       13362  \n",
       "7184         5400  \n",
       "15468       14663  \n",
       "13515       12000  \n",
       "10454       51330  \n",
       "7306        13287  \n",
       "16955       22605  \n",
       "12859       18367  \n",
       "300         19508  \n",
       "15244        4050  \n",
       "656         26324  "
      ]
     },
     "execution_count": 9,
     "metadata": {},
     "output_type": "execute_result"
    }
   ],
   "source": [
    "df[df[\"price\"] > 3000000].sort_values(by=\"price\", ascending=False)"
   ]
  },
  {
   "cell_type": "code",
   "execution_count": 10,
   "metadata": {},
   "outputs": [
    {
     "data": {
      "image/png": "[encoded data removed]",
      "text/plain": [
       "<Figure size 800x1000 with 1 Axes>"
      ]
     },
     "metadata": {},
     "output_type": "display_data"
    }
   ],
   "source": [
    "plt.figure(figsize = (8,10))\n",
    "df.corr()[\"price\"].sort_values().drop(\"price\").plot(kind = \"barh\");"
   ]
  },
  {
   "cell_type": "code",
   "execution_count": 11,
   "metadata": {},
   "outputs": [
    {
     "data": {
      "image/png": "[encoded data removed]",
      "text/plain": [
       "<Figure size 1000x600 with 1 Axes>"
      ]
     },
     "metadata": {},
     "output_type": "display_data"
    }
   ],
   "source": [
    "sns.scatterplot(x = 'price',y = 'sqft_living', data = df, hue = \"grade\");"
   ]
  },
  {
   "cell_type": "markdown",
   "metadata": {},
   "source": [
    "### bedrooms"
   ]
  },
  {
   "cell_type": "code",
   "execution_count": 12,
   "metadata": {},
   "outputs": [
    {
     "data": {
      "image/png": "[encoded data removed]",
      "text/plain": [
       "<Figure size 1000x600 with 1 Axes>"
      ]
     },
     "metadata": {},
     "output_type": "display_data"
    }
   ],
   "source": [
    "sns.countplot(df['bedrooms']);"
   ]
  },
  {
   "cell_type": "code",
   "execution_count": 13,
   "metadata": {},
   "outputs": [
    {
     "data": {
      "image/png": "[encoded data removed]",
      "text/plain": [
       "<Figure size 1000x600 with 1 Axes>"
      ]
     },
     "metadata": {},
     "output_type": "display_data"
    }
   ],
   "source": [
    "sns.boxplot(x = 'bedrooms', y = 'price', data = df);"
   ]
  },
  {
   "cell_type": "code",
   "execution_count": 14,
   "metadata": {},
   "outputs": [
    {
     "data": {
      "text/html": [
       "<div>\n",
       "<style scoped>\n",
       "    .dataframe tbody tr th:only-of-type {\n",
       "        vertical-align: middle;\n",
       "    }\n",
       "\n",
       "    .dataframe tbody tr th {\n",
       "        vertical-align: top;\n",
       "    }\n",
       "\n",
       "    .dataframe thead th {\n",
       "        text-align: right;\n",
       "    }\n",
       "</style>\n",
       "<table border=\"1\" class=\"dataframe\">\n",
       "  <thead>\n",
       "    <tr style=\"text-align: right;\">\n",
       "      <th></th>\n",
       "      <th>date</th>\n",
       "      <th>price</th>\n",
       "      <th>bedrooms</th>\n",
       "      <th>bathrooms</th>\n",
       "      <th>sqft_living</th>\n",
       "      <th>sqft_lot</th>\n",
       "      <th>floors</th>\n",
       "      <th>waterfront</th>\n",
       "      <th>view</th>\n",
       "      <th>condition</th>\n",
       "      <th>grade</th>\n",
       "      <th>sqft_above</th>\n",
       "      <th>sqft_basement</th>\n",
       "      <th>yr_built</th>\n",
       "      <th>yr_renovated</th>\n",
       "      <th>zipcode</th>\n",
       "      <th>lat</th>\n",
       "      <th>long</th>\n",
       "      <th>sqft_living15</th>\n",
       "      <th>sqft_lot15</th>\n",
       "    </tr>\n",
       "  </thead>\n",
       "  <tbody>\n",
       "    <tr>\n",
       "      <th>8748</th>\n",
       "      <td>8/21/2014</td>\n",
       "      <td>520000.000</td>\n",
       "      <td>11</td>\n",
       "      <td>3.000</td>\n",
       "      <td>3000</td>\n",
       "      <td>4960</td>\n",
       "      <td>2.000</td>\n",
       "      <td>0</td>\n",
       "      <td>0</td>\n",
       "      <td>3</td>\n",
       "      <td>7</td>\n",
       "      <td>2400</td>\n",
       "      <td>600</td>\n",
       "      <td>1918</td>\n",
       "      <td>1999</td>\n",
       "      <td>98106</td>\n",
       "      <td>47.556</td>\n",
       "      <td>-122.363</td>\n",
       "      <td>1420</td>\n",
       "      <td>4960</td>\n",
       "    </tr>\n",
       "    <tr>\n",
       "      <th>15856</th>\n",
       "      <td>6/25/2014</td>\n",
       "      <td>640000.000</td>\n",
       "      <td>33</td>\n",
       "      <td>1.750</td>\n",
       "      <td>1620</td>\n",
       "      <td>6000</td>\n",
       "      <td>1.000</td>\n",
       "      <td>0</td>\n",
       "      <td>0</td>\n",
       "      <td>5</td>\n",
       "      <td>7</td>\n",
       "      <td>1040</td>\n",
       "      <td>580</td>\n",
       "      <td>1947</td>\n",
       "      <td>0</td>\n",
       "      <td>98103</td>\n",
       "      <td>47.688</td>\n",
       "      <td>-122.331</td>\n",
       "      <td>1330</td>\n",
       "      <td>4700</td>\n",
       "    </tr>\n",
       "  </tbody>\n",
       "</table>\n",
       "</div>"
      ],
      "text/plain": [
       "            date      price  bedrooms  bathrooms  sqft_living  sqft_lot  \\\n",
       "8748   8/21/2014 520000.000        11      3.000         3000      4960   \n",
       "15856  6/25/2014 640000.000        33      1.750         1620      6000   \n",
       "\n",
       "       floors  waterfront  view  condition  grade  sqft_above  sqft_basement  \\\n",
       "8748    2.000           0     0          3      7        2400            600   \n",
       "15856   1.000           0     0          5      7        1040            580   \n",
       "\n",
       "       yr_built  yr_renovated  zipcode    lat     long  sqft_living15  \\\n",
       "8748       1918          1999    98106 47.556 -122.363           1420   \n",
       "15856      1947             0    98103 47.688 -122.331           1330   \n",
       "\n",
       "       sqft_lot15  \n",
       "8748         4960  \n",
       "15856        4700  "
      ]
     },
     "execution_count": 14,
     "metadata": {},
     "output_type": "execute_result"
    }
   ],
   "source": [
    "df[df[\"bedrooms\"] > 10]"
   ]
  },
  {
   "cell_type": "code",
   "execution_count": 15,
   "metadata": {},
   "outputs": [],
   "source": [
    "df = df[df[\"bedrooms\"] != 33]"
   ]
  },
  {
   "cell_type": "markdown",
   "metadata": {},
   "source": [
    "Most likely the data was entered incorrectly."
   ]
  },
  {
   "cell_type": "code",
   "execution_count": 16,
   "metadata": {},
   "outputs": [
    {
     "data": {
      "text/plain": [
       "(21596, 20)"
      ]
     },
     "execution_count": 16,
     "metadata": {},
     "output_type": "execute_result"
    }
   ],
   "source": [
    "df.shape"
   ]
  },
  {
   "cell_type": "markdown",
   "metadata": {},
   "source": [
    "### date"
   ]
  },
  {
   "cell_type": "code",
   "execution_count": 17,
   "metadata": {},
   "outputs": [
    {
     "data": {
      "text/plain": [
       "dtype('O')"
      ]
     },
     "execution_count": 17,
     "metadata": {},
     "output_type": "execute_result"
    }
   ],
   "source": [
    "df['date'].dtype"
   ]
  },
  {
   "cell_type": "code",
   "execution_count": 18,
   "metadata": {},
   "outputs": [],
   "source": [
    "df['date'] = pd.to_datetime(df['date'])"
   ]
  },
  {
   "cell_type": "code",
   "execution_count": 19,
   "metadata": {},
   "outputs": [
    {
     "data": {
      "text/plain": [
       "0       2014-10-13\n",
       "1       2014-12-09\n",
       "2       2015-02-25\n",
       "3       2014-12-09\n",
       "4       2015-02-18\n",
       "           ...    \n",
       "21592   2014-05-21\n",
       "21593   2015-02-23\n",
       "21594   2014-06-23\n",
       "21595   2015-01-16\n",
       "21596   2014-10-15\n",
       "Name: date, Length: 21596, dtype: datetime64[ns]"
      ]
     },
     "execution_count": 19,
     "metadata": {},
     "output_type": "execute_result"
    }
   ],
   "source": [
    "df['date']"
   ]
  },
  {
   "cell_type": "code",
   "execution_count": 20,
   "metadata": {},
   "outputs": [],
   "source": [
    "df['year'] = df['date'].dt.year\n",
    "#df['year'] = df['date'].apply(lambda date : date.year)"
   ]
  },
  {
   "cell_type": "code",
   "execution_count": 21,
   "metadata": {},
   "outputs": [],
   "source": [
    "df['month'] = df['date'].dt.month"
   ]
  },
  {
   "cell_type": "code",
   "execution_count": 22,
   "metadata": {},
   "outputs": [
    {
     "data": {
      "text/html": [
       "<div>\n",
       "<style scoped>\n",
       "    .dataframe tbody tr th:only-of-type {\n",
       "        vertical-align: middle;\n",
       "    }\n",
       "\n",
       "    .dataframe tbody tr th {\n",
       "        vertical-align: top;\n",
       "    }\n",
       "\n",
       "    .dataframe thead th {\n",
       "        text-align: right;\n",
       "    }\n",
       "</style>\n",
       "<table border=\"1\" class=\"dataframe\">\n",
       "  <thead>\n",
       "    <tr style=\"text-align: right;\">\n",
       "      <th></th>\n",
       "      <th>date</th>\n",
       "      <th>price</th>\n",
       "      <th>bedrooms</th>\n",
       "      <th>bathrooms</th>\n",
       "      <th>sqft_living</th>\n",
       "      <th>sqft_lot</th>\n",
       "      <th>floors</th>\n",
       "      <th>waterfront</th>\n",
       "      <th>view</th>\n",
       "      <th>condition</th>\n",
       "      <th>grade</th>\n",
       "      <th>sqft_above</th>\n",
       "      <th>sqft_basement</th>\n",
       "      <th>yr_built</th>\n",
       "      <th>yr_renovated</th>\n",
       "      <th>zipcode</th>\n",
       "      <th>lat</th>\n",
       "      <th>long</th>\n",
       "      <th>sqft_living15</th>\n",
       "      <th>sqft_lot15</th>\n",
       "      <th>year</th>\n",
       "      <th>month</th>\n",
       "    </tr>\n",
       "  </thead>\n",
       "  <tbody>\n",
       "    <tr>\n",
       "      <th>0</th>\n",
       "      <td>2014-10-13</td>\n",
       "      <td>221900.000</td>\n",
       "      <td>3</td>\n",
       "      <td>1.000</td>\n",
       "      <td>1180</td>\n",
       "      <td>5650</td>\n",
       "      <td>1.000</td>\n",
       "      <td>0</td>\n",
       "      <td>0</td>\n",
       "      <td>3</td>\n",
       "      <td>7</td>\n",
       "      <td>1180</td>\n",
       "      <td>0</td>\n",
       "      <td>1955</td>\n",
       "      <td>0</td>\n",
       "      <td>98178</td>\n",
       "      <td>47.511</td>\n",
       "      <td>-122.257</td>\n",
       "      <td>1340</td>\n",
       "      <td>5650</td>\n",
       "      <td>2014</td>\n",
       "      <td>10</td>\n",
       "    </tr>\n",
       "    <tr>\n",
       "      <th>1</th>\n",
       "      <td>2014-12-09</td>\n",
       "      <td>538000.000</td>\n",
       "      <td>3</td>\n",
       "      <td>2.250</td>\n",
       "      <td>2570</td>\n",
       "      <td>7242</td>\n",
       "      <td>2.000</td>\n",
       "      <td>0</td>\n",
       "      <td>0</td>\n",
       "      <td>3</td>\n",
       "      <td>7</td>\n",
       "      <td>2170</td>\n",
       "      <td>400</td>\n",
       "      <td>1951</td>\n",
       "      <td>1991</td>\n",
       "      <td>98125</td>\n",
       "      <td>47.721</td>\n",
       "      <td>-122.319</td>\n",
       "      <td>1690</td>\n",
       "      <td>7639</td>\n",
       "      <td>2014</td>\n",
       "      <td>12</td>\n",
       "    </tr>\n",
       "    <tr>\n",
       "      <th>2</th>\n",
       "      <td>2015-02-25</td>\n",
       "      <td>180000.000</td>\n",
       "      <td>2</td>\n",
       "      <td>1.000</td>\n",
       "      <td>770</td>\n",
       "      <td>10000</td>\n",
       "      <td>1.000</td>\n",
       "      <td>0</td>\n",
       "      <td>0</td>\n",
       "      <td>3</td>\n",
       "      <td>6</td>\n",
       "      <td>770</td>\n",
       "      <td>0</td>\n",
       "      <td>1933</td>\n",
       "      <td>0</td>\n",
       "      <td>98028</td>\n",
       "      <td>47.738</td>\n",
       "      <td>-122.233</td>\n",
       "      <td>2720</td>\n",
       "      <td>8062</td>\n",
       "      <td>2015</td>\n",
       "      <td>2</td>\n",
       "    </tr>\n",
       "    <tr>\n",
       "      <th>3</th>\n",
       "      <td>2014-12-09</td>\n",
       "      <td>604000.000</td>\n",
       "      <td>4</td>\n",
       "      <td>3.000</td>\n",
       "      <td>1960</td>\n",
       "      <td>5000</td>\n",
       "      <td>1.000</td>\n",
       "      <td>0</td>\n",
       "      <td>0</td>\n",
       "      <td>5</td>\n",
       "      <td>7</td>\n",
       "      <td>1050</td>\n",
       "      <td>910</td>\n",
       "      <td>1965</td>\n",
       "      <td>0</td>\n",
       "      <td>98136</td>\n",
       "      <td>47.521</td>\n",
       "      <td>-122.393</td>\n",
       "      <td>1360</td>\n",
       "      <td>5000</td>\n",
       "      <td>2014</td>\n",
       "      <td>12</td>\n",
       "    </tr>\n",
       "    <tr>\n",
       "      <th>4</th>\n",
       "      <td>2015-02-18</td>\n",
       "      <td>510000.000</td>\n",
       "      <td>3</td>\n",
       "      <td>2.000</td>\n",
       "      <td>1680</td>\n",
       "      <td>8080</td>\n",
       "      <td>1.000</td>\n",
       "      <td>0</td>\n",
       "      <td>0</td>\n",
       "      <td>3</td>\n",
       "      <td>8</td>\n",
       "      <td>1680</td>\n",
       "      <td>0</td>\n",
       "      <td>1987</td>\n",
       "      <td>0</td>\n",
       "      <td>98074</td>\n",
       "      <td>47.617</td>\n",
       "      <td>-122.045</td>\n",
       "      <td>1800</td>\n",
       "      <td>7503</td>\n",
       "      <td>2015</td>\n",
       "      <td>2</td>\n",
       "    </tr>\n",
       "  </tbody>\n",
       "</table>\n",
       "</div>"
      ],
      "text/plain": [
       "        date      price  bedrooms  bathrooms  sqft_living  sqft_lot  floors  \\\n",
       "0 2014-10-13 221900.000         3      1.000         1180      5650   1.000   \n",
       "1 2014-12-09 538000.000         3      2.250         2570      7242   2.000   \n",
       "2 2015-02-25 180000.000         2      1.000          770     10000   1.000   \n",
       "3 2014-12-09 604000.000         4      3.000         1960      5000   1.000   \n",
       "4 2015-02-18 510000.000         3      2.000         1680      8080   1.000   \n",
       "\n",
       "   waterfront  view  condition  grade  sqft_above  sqft_basement  yr_built  \\\n",
       "0           0     0          3      7        1180              0      1955   \n",
       "1           0     0          3      7        2170            400      1951   \n",
       "2           0     0          3      6         770              0      1933   \n",
       "3           0     0          5      7        1050            910      1965   \n",
       "4           0     0          3      8        1680              0      1987   \n",
       "\n",
       "   yr_renovated  zipcode    lat     long  sqft_living15  sqft_lot15  year  \\\n",
       "0             0    98178 47.511 -122.257           1340        5650  2014   \n",
       "1          1991    98125 47.721 -122.319           1690        7639  2014   \n",
       "2             0    98028 47.738 -122.233           2720        8062  2015   \n",
       "3             0    98136 47.521 -122.393           1360        5000  2014   \n",
       "4             0    98074 47.617 -122.045           1800        7503  2015   \n",
       "\n",
       "   month  \n",
       "0     10  \n",
       "1     12  \n",
       "2      2  \n",
       "3     12  \n",
       "4      2  "
      ]
     },
     "execution_count": 22,
     "metadata": {},
     "output_type": "execute_result"
    }
   ],
   "source": [
    "df.head()"
   ]
  },
  {
   "cell_type": "code",
   "execution_count": 23,
   "metadata": {},
   "outputs": [
    {
     "data": {
      "image/png": "[encoded data removed]",
      "text/plain": [
       "<Figure size 1000x600 with 1 Axes>"
      ]
     },
     "metadata": {},
     "output_type": "display_data"
    }
   ],
   "source": [
    "sns.boxplot(x = 'year', y = 'price', data = df);"
   ]
  },
  {
   "cell_type": "code",
   "execution_count": 24,
   "metadata": {
    "scrolled": false
   },
   "outputs": [
    {
     "data": {
      "image/png": "[encoded data removed]",
      "text/plain": [
       "<Figure size 1000x600 with 1 Axes>"
      ]
     },
     "metadata": {},
     "output_type": "display_data"
    }
   ],
   "source": [
    "df.groupby('year')['price'].mean().plot();"
   ]
  },
  {
   "cell_type": "code",
   "execution_count": 25,
   "metadata": {},
   "outputs": [
    {
     "data": {
      "image/png": "[encoded data removed]",
      "text/plain": [
       "<Figure size 1000x600 with 1 Axes>"
      ]
     },
     "metadata": {},
     "output_type": "display_data"
    }
   ],
   "source": [
    "sns.boxplot(x = 'month', y = 'price', data = df);"
   ]
  },
  {
   "cell_type": "code",
   "execution_count": 26,
   "metadata": {},
   "outputs": [
    {
     "data": {
      "image/png": "[encoded data removed]",
      "text/plain": [
       "<Figure size 1000x600 with 1 Axes>"
      ]
     },
     "metadata": {},
     "output_type": "display_data"
    }
   ],
   "source": [
    "df.groupby('month')['price'].mean().plot();"
   ]
  },
  {
   "cell_type": "code",
   "execution_count": 27,
   "metadata": {},
   "outputs": [],
   "source": [
    "# month_dummy = pd.get_dummies(df[\"month\"], prefix = \"month\")\n",
    "# df = pd.concat([df, month_dummy], axis = 1)\n",
    "# df.head()"
   ]
  },
  {
   "cell_type": "code",
   "execution_count": 28,
   "metadata": {},
   "outputs": [],
   "source": [
    "df = df.drop(['date', \"year\", \"month\"], axis = 1)"
   ]
  },
  {
   "cell_type": "markdown",
   "metadata": {},
   "source": [
    "### zipcode"
   ]
  },
  {
   "cell_type": "code",
   "execution_count": null,
   "metadata": {},
   "outputs": [],
   "source": [
    "df['zipcode'].value_counts(dropna = False)"
   ]
  },
  {
   "cell_type": "markdown",
   "metadata": {},
   "source": [
    "we can categorize the zipcodes as north, south, west, east, middle by regions. But it can be made manually and taken many time and we need domain knowladge to do that. So we will drop this column."
   ]
  },
  {
   "cell_type": "code",
   "execution_count": null,
   "metadata": {},
   "outputs": [],
   "source": [
    "df = df.drop('zipcode', axis = 1)"
   ]
  },
  {
   "cell_type": "markdown",
   "metadata": {},
   "source": [
    "### yr_renovated & yr_built"
   ]
  },
  {
   "cell_type": "code",
   "execution_count": null,
   "metadata": {},
   "outputs": [],
   "source": [
    "df['yr_renovated'].value_counts(dropna = False)"
   ]
  },
  {
   "cell_type": "code",
   "execution_count": null,
   "metadata": {},
   "outputs": [],
   "source": [
    "sns.scatterplot(x = 'price',y = 'yr_renovated', data = df[df.yr_renovated!=0], hue = \"grade\");"
   ]
  },
  {
   "cell_type": "code",
   "execution_count": null,
   "metadata": {},
   "outputs": [],
   "source": [
    "df['yr_built'].value_counts(dropna = False)"
   ]
  },
  {
   "cell_type": "code",
   "execution_count": null,
   "metadata": {},
   "outputs": [],
   "source": [
    "sns.scatterplot(x = 'price',y = 'yr_built', data = df);"
   ]
  },
  {
   "cell_type": "code",
   "execution_count": null,
   "metadata": {},
   "outputs": [],
   "source": [
    "df.yr_renovated.apply(lambda x : x if x == 0 else 1).value_counts()"
   ]
  },
  {
   "cell_type": "code",
   "execution_count": null,
   "metadata": {},
   "outputs": [],
   "source": [
    "df[\"renovated\"] = df.yr_renovated.apply(lambda x : x if x == 0 else 1)"
   ]
  },
  {
   "cell_type": "code",
   "execution_count": null,
   "metadata": {},
   "outputs": [],
   "source": [
    "sns.scatterplot(x = 'price',y = 'yr_built', data = df, hue = \"renovated\");"
   ]
  },
  {
   "cell_type": "code",
   "execution_count": null,
   "metadata": {},
   "outputs": [],
   "source": [
    "df[\"built|renovated\"] = df[\"yr_renovated\"].replace(0, np.nan).fillna(df[\"yr_built\"])\n",
    "df[\"built|renovated\"]"
   ]
  },
  {
   "cell_type": "code",
   "execution_count": null,
   "metadata": {},
   "outputs": [],
   "source": [
    "sns.scatterplot(x = 'price',y = 'built|renovated', data = df, hue = \"grade\");"
   ]
  },
  {
   "cell_type": "code",
   "execution_count": null,
   "metadata": {},
   "outputs": [],
   "source": [
    "df.drop([\"yr_renovated\", \"yr_built\", \"renovated\"], axis = 1, inplace = True)\n",
    "# df.drop([\"built|renovated\", \"renovated\"], axis = 1, inplace = True)"
   ]
  },
  {
   "cell_type": "markdown",
   "metadata": {},
   "source": [
    "could make sense due to scaling, higher should correlate to more value"
   ]
  },
  {
   "cell_type": "markdown",
   "metadata": {},
   "source": [
    "### sqft_basement"
   ]
  },
  {
   "cell_type": "code",
   "execution_count": null,
   "metadata": {},
   "outputs": [],
   "source": [
    "sns.distplot(df['sqft_basement']);"
   ]
  },
  {
   "cell_type": "code",
   "execution_count": null,
   "metadata": {
    "scrolled": false
   },
   "outputs": [],
   "source": [
    "df[df[\"sqft_basement\"] > 3000].sort_values(by=\"sqft_basement\", ascending=False)"
   ]
  },
  {
   "cell_type": "markdown",
   "metadata": {},
   "source": [
    "could make sense due to scaling, higher should correlate to more value"
   ]
  },
  {
   "cell_type": "markdown",
   "metadata": {},
   "source": [
    "### sqft_above"
   ]
  },
  {
   "cell_type": "code",
   "execution_count": null,
   "metadata": {},
   "outputs": [],
   "source": [
    "sns.distplot(df['sqft_above']);"
   ]
  },
  {
   "cell_type": "code",
   "execution_count": null,
   "metadata": {
    "scrolled": false
   },
   "outputs": [],
   "source": [
    "df[df[\"sqft_above\"] > 6000].sort_values(by=\"sqft_above\", ascending=False)"
   ]
  },
  {
   "cell_type": "markdown",
   "metadata": {},
   "source": [
    "### Geographical Properties"
   ]
  },
  {
   "cell_type": "code",
   "execution_count": null,
   "metadata": {},
   "outputs": [],
   "source": [
    "plt.figure(figsize = (12, 8))\n",
    "sns.scatterplot(x = 'price', y = 'long', data = df);"
   ]
  },
  {
   "cell_type": "code",
   "execution_count": null,
   "metadata": {},
   "outputs": [],
   "source": [
    "plt.figure(figsize  = (12, 8))\n",
    "sns.scatterplot(x = 'price', y = 'lat', data = df);"
   ]
  },
  {
   "cell_type": "code",
   "execution_count": null,
   "metadata": {},
   "outputs": [],
   "source": [
    "plt.figure(figsize = (12, 8))\n",
    "sns.scatterplot(x = 'long', y = 'lat', data = df, hue = 'price');"
   ]
  },
  {
   "cell_type": "code",
   "execution_count": null,
   "metadata": {},
   "outputs": [],
   "source": [
    "len(df) * (0.01)"
   ]
  },
  {
   "cell_type": "code",
   "execution_count": null,
   "metadata": {},
   "outputs": [],
   "source": [
    "df.sort_values('price', ascending = False).head(216)"
   ]
  },
  {
   "cell_type": "code",
   "execution_count": null,
   "metadata": {},
   "outputs": [],
   "source": [
    "non_top_1_perc = df.sort_values('price', ascending = False).iloc[216:]"
   ]
  },
  {
   "cell_type": "code",
   "execution_count": null,
   "metadata": {
    "scrolled": false
   },
   "outputs": [],
   "source": [
    "plt.figure(figsize = (12, 8))\n",
    "sns.scatterplot(x = 'long', y = 'lat', data = non_top_1_perc, hue = 'price',\n",
    "                palette = 'RdYlGn', edgecolor = None, alpha = 0.2);"
   ]
  },
  {
   "cell_type": "code",
   "execution_count": null,
   "metadata": {},
   "outputs": [],
   "source": [
    "import folium\n",
    "import branca.colormap as cm"
   ]
  },
  {
   "cell_type": "code",
   "execution_count": null,
   "metadata": {},
   "outputs": [],
   "source": [
    "folium.Map(location=[df[\"lat\"].mean(), df[\"long\"].mean()], zoom_start=10)"
   ]
  },
  {
   "cell_type": "code",
   "execution_count": null,
   "metadata": {},
   "outputs": [],
   "source": [
    "step_1 = df.price.min()\n",
    "step_2 = df.price.quantile(0.25)\n",
    "step_3 = df.price.quantile(0.50)\n",
    "step_4 = df.price.quantile(0.75)\n",
    "step_5 = df.price.max()"
   ]
  },
  {
   "cell_type": "code",
   "execution_count": null,
   "metadata": {
    "scrolled": false
   },
   "outputs": [],
   "source": [
    "m = folium.Map(location=[df[\"lat\"].mean(), df[\"long\"].mean()], zoom_start = 10)\n",
    "colormap = cm.StepColormap(colors=[\"red\",\"orange\",\"yellow\",\"green\"] ,\n",
    "                           index=[step_1, step_2, step_3, step_4, step_5],\n",
    "                           vmin=step_1,\n",
    "                           vmax=step_5)\n",
    "for loc, p in zip(zip(df['lat'], df['long']),df[\"price\"]):\n",
    "      folium.Circle(\n",
    "      location=loc,\n",
    "      radius=1,\n",
    "      fill=True, \n",
    "      color=colormap(p)\n",
    "      ).add_to(m)\n",
    "m"
   ]
  },
  {
   "cell_type": "code",
   "execution_count": null,
   "metadata": {
    "scrolled": false
   },
   "outputs": [],
   "source": [
    "sns.boxplot(x = 'waterfront', y = 'price', data = df);"
   ]
  },
  {
   "cell_type": "code",
   "execution_count": null,
   "metadata": {},
   "outputs": [],
   "source": [
    "df.groupby(\"waterfront\").price.mean()"
   ]
  },
  {
   "cell_type": "markdown",
   "metadata": {},
   "source": [
    "### latest data"
   ]
  },
  {
   "cell_type": "code",
   "execution_count": null,
   "metadata": {},
   "outputs": [],
   "source": [
    "df.head()"
   ]
  },
  {
   "cell_type": "code",
   "execution_count": null,
   "metadata": {
    "scrolled": true
   },
   "outputs": [],
   "source": [
    "df.shape"
   ]
  },
  {
   "cell_type": "markdown",
   "metadata": {},
   "source": [
    "## Preprocessing of Data\n",
    "- Train | Test Split, Scalling"
   ]
  },
  {
   "cell_type": "code",
   "execution_count": null,
   "metadata": {},
   "outputs": [],
   "source": [
    "from sklearn.model_selection import train_test_split"
   ]
  },
  {
   "cell_type": "code",
   "execution_count": null,
   "metadata": {},
   "outputs": [],
   "source": [
    "X = df.drop('price', axis = 1)\n",
    "y = df['price']"
   ]
  },
  {
   "cell_type": "code",
   "execution_count": null,
   "metadata": {},
   "outputs": [],
   "source": [
    "seed = 101"
   ]
  },
  {
   "cell_type": "code",
   "execution_count": null,
   "metadata": {},
   "outputs": [],
   "source": [
    "X_train, X_test, y_train, y_test = train_test_split(X, y, test_size=0.1, random_state=seed)"
   ]
  },
  {
   "cell_type": "code",
   "execution_count": null,
   "metadata": {},
   "outputs": [],
   "source": [
    "from sklearn.preprocessing import MinMaxScaler  # RobustScaler()\n",
    "\n",
    "# If there are too many outliers in the data, robust scaler should be used, otherwise minmax can be used."
   ]
  },
  {
   "cell_type": "code",
   "execution_count": null,
   "metadata": {},
   "outputs": [],
   "source": [
    "scaler = MinMaxScaler()"
   ]
  },
  {
   "cell_type": "code",
   "execution_count": null,
   "metadata": {},
   "outputs": [],
   "source": [
    "X_train= scaler.fit_transform(X_train)\n",
    "X_test = scaler.transform(X_test)"
   ]
  },
  {
   "cell_type": "markdown",
   "metadata": {},
   "source": [
    "## Modelling & Model Performance"
   ]
  },
  {
   "cell_type": "code",
   "execution_count": null,
   "metadata": {},
   "outputs": [],
   "source": [
    "import tensorflow as tf\n",
    "from tensorflow.keras.models import Sequential\n",
    "from tensorflow.keras.layers import Dense, Activation"
   ]
  },
  {
   "cell_type": "code",
   "execution_count": null,
   "metadata": {},
   "outputs": [],
   "source": [
    "from sklearn.metrics import mean_squared_error, mean_absolute_error, r2_score"
   ]
  },
  {
   "cell_type": "code",
   "execution_count": null,
   "metadata": {},
   "outputs": [],
   "source": [
    "def eval_metric(actual, pred):\n",
    "    mae = mean_absolute_error(actual, pred)\n",
    "    mse = mean_squared_error(actual, pred)\n",
    "    rmse = np.sqrt(mean_squared_error(actual, pred))\n",
    "    score = r2_score(actual, pred)\n",
    "    return print(\"r2_score:\", score, \"\\nmae:\", mae, \"\\nmse:\", mse, \"\\nrmse:\", rmse)"
   ]
  },
  {
   "cell_type": "code",
   "execution_count": null,
   "metadata": {},
   "outputs": [],
   "source": [
    "X_train.shape"
   ]
  },
  {
   "cell_type": "code",
   "execution_count": null,
   "metadata": {},
   "outputs": [],
   "source": [
    "tf.random.set_seed(seed)\n",
    "\n",
    "model = Sequential()\n",
    "\n",
    "model.add(Dense(24, activation = 'relu', input_dim = X_train.shape[1]))\n",
    "#model.add(Activation(\"relu\")) # Activation function can be added separately as a different line after each layer.  \n",
    "model.add(Dense(24, activation = 'relu'))\n",
    "model.add(Dense(12, activation = 'relu'))\n",
    "model.add(Dense(6, activation = 'relu'))\n",
    "model.add(Dense(1))\n",
    "\n",
    "model.compile(optimizer = 'adam', loss = 'mse')"
   ]
  },
  {
   "cell_type": "code",
   "execution_count": null,
   "metadata": {},
   "outputs": [],
   "source": [
    "model.summary()"
   ]
  },
  {
   "cell_type": "code",
   "execution_count": null,
   "metadata": {},
   "outputs": [],
   "source": [
    "model.weights"
   ]
  },
  {
   "cell_type": "code",
   "execution_count": null,
   "metadata": {},
   "outputs": [],
   "source": [
    "model.fit(x = X_train, y = y_train, validation_split = 0.15, batch_size = 128, epochs = 1000)"
   ]
  },
  {
   "cell_type": "code",
   "execution_count": null,
   "metadata": {},
   "outputs": [],
   "source": [
    "model.weights"
   ]
  },
  {
   "cell_type": "code",
   "execution_count": null,
   "metadata": {},
   "outputs": [],
   "source": [
    "pd.DataFrame(model.history.history)"
   ]
  },
  {
   "cell_type": "code",
   "execution_count": null,
   "metadata": {},
   "outputs": [],
   "source": [
    "loss_df = pd.DataFrame(model.history.history)\n",
    "loss_df.plot()"
   ]
  },
  {
   "cell_type": "code",
   "execution_count": null,
   "metadata": {},
   "outputs": [],
   "source": [
    "model.evaluate(X_test, y_test, verbose=0)"
   ]
  },
  {
   "cell_type": "code",
   "execution_count": null,
   "metadata": {},
   "outputs": [],
   "source": [
    "y_pred = model.predict(X_test)"
   ]
  },
  {
   "cell_type": "code",
   "execution_count": null,
   "metadata": {},
   "outputs": [],
   "source": [
    "eval_metric(y_test, y_pred)"
   ]
  },
  {
   "cell_type": "markdown",
   "metadata": {},
   "source": [
    "### learning_rate"
   ]
  },
  {
   "cell_type": "code",
   "execution_count": null,
   "metadata": {},
   "outputs": [],
   "source": [
    "from tensorflow.keras.optimizers import Adam"
   ]
  },
  {
   "cell_type": "code",
   "execution_count": null,
   "metadata": {},
   "outputs": [],
   "source": [
    "tf.random.set_seed(seed)\n",
    "\n",
    "model = Sequential()\n",
    "\n",
    "model.add(Dense(24, activation = 'relu', input_dim = X_train.shape[1]))\n",
    "model.add(Dense(24, activation = 'relu'))\n",
    "model.add(Dense(12, activation = 'relu'))\n",
    "model.add(Dense(6, activation = 'relu'))\n",
    "model.add(Dense(1))\n",
    "\n",
    "opt = Adam(lr = 0.003) # default learning rate value is 0.001\n",
    "model.compile(optimizer = opt, loss = 'mse')"
   ]
  },
  {
   "cell_type": "code",
   "execution_count": null,
   "metadata": {},
   "outputs": [],
   "source": [
    "model.weights"
   ]
  },
  {
   "cell_type": "code",
   "execution_count": null,
   "metadata": {},
   "outputs": [],
   "source": [
    "model.fit(x = X_train, y = y_train, validation_split = 0.15, batch_size = 128, epochs = 1000)"
   ]
  },
  {
   "cell_type": "code",
   "execution_count": null,
   "metadata": {},
   "outputs": [],
   "source": [
    "loss_df = pd.DataFrame(model.history.history)\n",
    "loss_df.plot()"
   ]
  },
  {
   "cell_type": "code",
   "execution_count": null,
   "metadata": {},
   "outputs": [],
   "source": [
    "y_pred = model.predict(X_test)"
   ]
  },
  {
   "cell_type": "code",
   "execution_count": null,
   "metadata": {
    "scrolled": true
   },
   "outputs": [],
   "source": [
    "eval_metric(y_test, y_pred)"
   ]
  },
  {
   "cell_type": "markdown",
   "metadata": {},
   "source": [
    "### EarlyStopping"
   ]
  },
  {
   "cell_type": "code",
   "execution_count": null,
   "metadata": {},
   "outputs": [],
   "source": [
    "from tensorflow.keras.callbacks import EarlyStopping"
   ]
  },
  {
   "cell_type": "code",
   "execution_count": null,
   "metadata": {},
   "outputs": [],
   "source": [
    "tf.random.set_seed(seed)\n",
    "\n",
    "model = Sequential()\n",
    "\n",
    "model.add(Dense(24, activation = 'relu', input_dim = X_train.shape[1]))\n",
    "model.add(Dense(24, activation = 'relu'))\n",
    "model.add(Dense(12, activation = 'relu'))\n",
    "model.add(Dense(6, activation = 'relu'))\n",
    "model.add(Dense(1))\n",
    "\n",
    "opt = Adam(lr = 0.003)\n",
    "model.compile(optimizer = opt, loss = 'mse')"
   ]
  },
  {
   "cell_type": "code",
   "execution_count": null,
   "metadata": {},
   "outputs": [],
   "source": [
    "early_stop = EarlyStopping(monitor = \"val_loss\", mode = \"min\", verbose = 1, patience = 25, restore_best_weights = True)"
   ]
  },
  {
   "cell_type": "code",
   "execution_count": null,
   "metadata": {},
   "outputs": [],
   "source": [
    "model.fit(x = X_train, y = y_train, validation_split = 0.15, batch_size = 128, epochs = 1000, callbacks = [early_stop])"
   ]
  },
  {
   "cell_type": "code",
   "execution_count": null,
   "metadata": {},
   "outputs": [],
   "source": [
    "loss_df = pd.DataFrame(model.history.history)\n",
    "loss_df.plot()"
   ]
  },
  {
   "cell_type": "code",
   "execution_count": null,
   "metadata": {},
   "outputs": [],
   "source": [
    "y_pred = model.predict(X_test)"
   ]
  },
  {
   "cell_type": "code",
   "execution_count": null,
   "metadata": {},
   "outputs": [],
   "source": [
    "eval_metric(y_test, y_pred)"
   ]
  },
  {
   "cell_type": "markdown",
   "metadata": {},
   "source": [
    "### Dropout"
   ]
  },
  {
   "cell_type": "markdown",
   "metadata": {},
   "source": [
    "The Dropout layer randomly sets input units to 0 with a frequency of `rate`\n",
    "at each step during training time, which helps prevent overfitting.\n",
    "\n",
    "Dropout refers to ignoring units (i.e. neurons) during the training phase of certain set of neurons which is chosen at random. By “ignoring”, I mean these units are not considered during a particular forward or backward pass.\n",
    "\n",
    "For each hidden layer, for each training sample, for each iteration, ignore (zero out) a random fraction, p, of nodes (and corresponding activations).\n",
    "\n",
    "![dropout.PNG](https://miro.medium.com/max/1400/1*nty4xtm9UBuWLqxHVaamjw.png)\n",
    "[Source-1](https://medium.com/@amarbudhiraja/https-medium-com-amarbudhiraja-learning-less-to-learn-better-dropout-in-deep-machine-learning-74334da4bfc5)\n",
    "[Source-2](https://medium.com/unpackai/introduction-of-dropout-and-ensemble-model-in-the-history-of-deep-learning-a4c2a512dcca)"
   ]
  },
  {
   "cell_type": "code",
   "execution_count": null,
   "metadata": {},
   "outputs": [],
   "source": [
    "from tensorflow.keras.layers import Dropout"
   ]
  },
  {
   "cell_type": "code",
   "execution_count": null,
   "metadata": {},
   "outputs": [],
   "source": [
    "tf.random.set_seed(seed)\n",
    "\n",
    "model = Sequential()\n",
    "\n",
    "model.add(Dense(24, activation = 'relu', input_dim = X_train.shape[1]))\n",
    "model.add(Dropout(0.2))\n",
    "model.add(Dense(24, activation = 'relu'))\n",
    "model.add(Dropout(0.2))\n",
    "model.add(Dense(12, activation = 'relu'))\n",
    "model.add(Dropout(0.2))\n",
    "model.add(Dense(6, activation = 'relu'))\n",
    "model.add(Dropout(0.2))\n",
    "model.add(Dense(1))\n",
    "\n",
    "opt = Adam(lr = 0.003)\n",
    "model.compile(optimizer = opt, loss = 'mse')"
   ]
  },
  {
   "cell_type": "code",
   "execution_count": null,
   "metadata": {},
   "outputs": [],
   "source": [
    "early_stop = EarlyStopping(monitor = \"val_loss\", mode = \"min\", verbose = 1, patience = 25, restore_best_weights = True)"
   ]
  },
  {
   "cell_type": "code",
   "execution_count": null,
   "metadata": {},
   "outputs": [],
   "source": [
    "model.fit(x = X_train, y = y_train, validation_split = 0.15, batch_size = 128, epochs = 1000, callbacks = [early_stop])"
   ]
  },
  {
   "cell_type": "code",
   "execution_count": null,
   "metadata": {},
   "outputs": [],
   "source": [
    "loss_df = pd.DataFrame(model.history.history)\n",
    "loss_df.plot()"
   ]
  },
  {
   "cell_type": "code",
   "execution_count": null,
   "metadata": {},
   "outputs": [],
   "source": [
    "y_pred = model.predict(X_test)"
   ]
  },
  {
   "cell_type": "code",
   "execution_count": null,
   "metadata": {},
   "outputs": [],
   "source": [
    "eval_metric(y_test, y_pred)"
   ]
  },
  {
   "cell_type": "markdown",
   "metadata": {},
   "source": [
    "## Saving Final Model and Scaler"
   ]
  },
  {
   "cell_type": "code",
   "execution_count": null,
   "metadata": {},
   "outputs": [],
   "source": [
    "import pickle\n",
    "pickle.dump(scaler, open(\"scaler_kc_house\", 'wb'))"
   ]
  },
  {
   "cell_type": "code",
   "execution_count": null,
   "metadata": {},
   "outputs": [],
   "source": [
    "tf.random.set_seed(seed)\n",
    "\n",
    "model = Sequential()\n",
    "\n",
    "model.add(Dense(24, activation = 'relu', input_dim = X_train.shape[1]))\n",
    "model.add(Dense(24, activation = 'relu'))\n",
    "model.add(Dense(12, activation = 'relu'))\n",
    "model.add(Dense(6, activation = 'relu'))\n",
    "model.add(Dense(1))\n",
    "\n",
    "opt = Adam(lr = 0.003)\n",
    "model.compile(optimizer = opt, loss = 'mse')"
   ]
  },
  {
   "cell_type": "code",
   "execution_count": null,
   "metadata": {},
   "outputs": [],
   "source": [
    "early_stop = EarlyStopping(monitor = \"val_loss\", mode = \"min\", verbose = 1, patience = 100, restore_best_weights = True)"
   ]
  },
  {
   "cell_type": "code",
   "execution_count": null,
   "metadata": {},
   "outputs": [],
   "source": [
    "model.fit(x = X_train, y = y_train, validation_data = (X_test, y_test), batch_size = 128, epochs = 1500,\n",
    "         callbacks = [early_stop]\n",
    "         )"
   ]
  },
  {
   "cell_type": "code",
   "execution_count": null,
   "metadata": {},
   "outputs": [],
   "source": [
    "loss_df = pd.DataFrame(model.history.history)\n",
    "loss_df.plot()"
   ]
  },
  {
   "cell_type": "code",
   "execution_count": null,
   "metadata": {},
   "outputs": [],
   "source": [
    "y_pred = model.predict(X_test)"
   ]
  },
  {
   "cell_type": "code",
   "execution_count": null,
   "metadata": {},
   "outputs": [],
   "source": [
    "eval_metric(y_test, y_pred)"
   ]
  },
  {
   "cell_type": "code",
   "execution_count": null,
   "metadata": {},
   "outputs": [],
   "source": [
    "model.save('model_kc_house.h5')  # creates a HDF5 file 'my_model.h5'"
   ]
  },
  {
   "cell_type": "markdown",
   "metadata": {},
   "source": [
    "## Loading Model and Scaler"
   ]
  },
  {
   "cell_type": "code",
   "execution_count": null,
   "metadata": {},
   "outputs": [],
   "source": [
    "from tensorflow.keras.models import load_model"
   ]
  },
  {
   "cell_type": "code",
   "execution_count": null,
   "metadata": {},
   "outputs": [],
   "source": [
    "model_kc_house = load_model('model_kc_house.h5')\n",
    "scaler_kc_house = pickle.load(open(\"scaler_kc_house\", \"rb\"))"
   ]
  },
  {
   "cell_type": "markdown",
   "metadata": {},
   "source": [
    "## Prediction"
   ]
  },
  {
   "cell_type": "code",
   "execution_count": null,
   "metadata": {},
   "outputs": [],
   "source": [
    "single_house = df.drop('price', axis = 1).iloc[0:1, :]\n",
    "single_house"
   ]
  },
  {
   "cell_type": "code",
   "execution_count": null,
   "metadata": {},
   "outputs": [],
   "source": [
    "single_house = scaler_kc_house.transform(single_house)\n",
    "single_house"
   ]
  },
  {
   "cell_type": "code",
   "execution_count": null,
   "metadata": {},
   "outputs": [],
   "source": [
    "model_kc_house.predict(single_house)"
   ]
  },
  {
   "cell_type": "code",
   "execution_count": null,
   "metadata": {},
   "outputs": [],
   "source": [
    "df.iloc[0][0]"
   ]
  },
  {
   "cell_type": "markdown",
   "metadata": {},
   "source": [
    "## Comparison with ML"
   ]
  },
  {
   "cell_type": "markdown",
   "metadata": {},
   "source": [
    "### Linear Regression"
   ]
  },
  {
   "cell_type": "code",
   "execution_count": null,
   "metadata": {},
   "outputs": [],
   "source": [
    "from sklearn.linear_model import LinearRegression "
   ]
  },
  {
   "cell_type": "code",
   "execution_count": null,
   "metadata": {},
   "outputs": [],
   "source": [
    "ln_model = LinearRegression()\n",
    "ln_model.fit(X_train, y_train)\n",
    "y_pred = ln_model.predict(X_test)\n",
    "eval_metric(y_test, y_pred)"
   ]
  },
  {
   "cell_type": "markdown",
   "metadata": {},
   "source": [
    "### Random Forest"
   ]
  },
  {
   "cell_type": "code",
   "execution_count": null,
   "metadata": {},
   "outputs": [],
   "source": [
    "from sklearn.ensemble import RandomForestRegressor"
   ]
  },
  {
   "cell_type": "code",
   "execution_count": null,
   "metadata": {},
   "outputs": [],
   "source": [
    "rf_model = RandomForestRegressor(random_state = seed)\n",
    "rf_model.fit(X_train, y_train)\n",
    "y_pred = rf_model.predict(X_test)\n",
    "eval_metric(y_test, y_pred)"
   ]
  },
  {
   "cell_type": "markdown",
   "metadata": {},
   "source": [
    "___\n",
    "\n",
    "<p style=\"text-align: center;\"><img src=\"https://docs.google.com/uc?id=1lY0Uj5R04yMY3-ZppPWxqCr5pvBLYPnV\" class=\"img-fluid\" alt=\"CLRSWY\"></p>\n",
    "\n",
    "___"
   ]
  }
 ],
 "metadata": {
  "kernelspec": {
   "display_name": "Python 3 (ipykernel)",
   "language": "python",
   "name": "python3"
  },
  "language_info": {
   "codemirror_mode": {
    "name": "ipython",
    "version": 3
   },
   "file_extension": ".py",
   "mimetype": "text/x-python",
   "name": "python",
   "nbconvert_exporter": "python",
   "pygments_lexer": "ipython3",
   "version": "3.9.13"
  },
  "toc": {
   "base_numbering": 1,
   "nav_menu": {},
   "number_sections": false,
   "sideBar": true,
   "skip_h1_title": false,
   "title_cell": "Table of Contents",
   "title_sidebar": "Contents",
   "toc_cell": false,
   "toc_position": {},
   "toc_section_display": true,
   "toc_window_display": true
  },
  "varInspector": {
   "cols": {
    "lenName": 16,
    "lenType": 16,
    "lenVar": 40
   },
   "kernels_config": {
    "python": {
     "delete_cmd_postfix": "",
     "delete_cmd_prefix": "del ",
     "library": "var_list.py",
     "varRefreshCmd": "print(var_dic_list())"
    },
    "r": {
     "delete_cmd_postfix": ") ",
     "delete_cmd_prefix": "rm(",
     "library": "var_list.r",
     "varRefreshCmd": "cat(var_dic_list()) "
    }
   },
   "types_to_exclude": [
    "module",
    "function",
    "builtin_function_or_method",
    "instance",
    "_Feature"
   ],
   "window_display": false
  }
 },
 "nbformat": 4,
 "nbformat_minor": 4
}
