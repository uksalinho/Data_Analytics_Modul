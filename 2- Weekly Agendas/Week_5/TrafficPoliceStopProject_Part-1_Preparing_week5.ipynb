{
 "cells": [
  {
   "cell_type": "markdown",
   "metadata": {
    "colab_type": "text",
    "id": "view-in-github"
   },
   "source": [
    "<a href=\"https://colab.research.google.com/github/KdrDrn-C8301Sam/01-DAwPy-NumPy/blob/main/01_01_Preparing_The_Data_For_Analysis(Student_C8301_Sam).ipynb\" target=\"_parent\"><img src=\"https://colab.research.google.com/assets/colab-badge.svg\" alt=\"Open In Colab\"/></a>"
   ]
  },
  {
   "cell_type": "markdown",
   "metadata": {
    "id": "pFGYhf_xwYh2"
   },
   "source": [
    "___\n",
    "\n",
    "<p style=\"text-align: center;\"><img src=\"https://docs.google.com/uc?id=1lY0Uj5R04yMY3-ZppPWxqCr5pvBLYPnV\" class=\"img-fluid\" alt=\"CLRSWY\"></p>\n",
    "\n",
    "___"
   ]
  },
  {
   "cell_type": "markdown",
   "metadata": {
    "id": "uBurcBAPwYh3"
   },
   "source": [
    "<h1><p style='text-align: center;'>Traffic Police Stops<br>Part - 1</p><h1> - Preparing The Data For Analysis <img src='https://docs.google.com/uc?id=17CPCwi3_VvzcS87TOsh4_U8eExOhL6Ki' class='img-fluid' alt='CLRSWY' width='200' height='100'> "
   ]
  },
  {
   "cell_type": "markdown",
   "metadata": {
    "id": "skDsVnMvwYh4"
   },
   "source": [
    "Before beginning your analysis, it is critical that you first examine and clean the dataset, to make working with it a more efficient process. You will practice fixing data types, handling missing values, and dropping columns and rows while learning about the Stanford Open Policing Project dataset."
   ]
  },
  {
   "cell_type": "markdown",
   "metadata": {
    "id": "tCO_gG8vwYh4"
   },
   "source": [
    "***"
   ]
  },
  {
   "cell_type": "markdown",
   "metadata": {
    "id": "gIhvzSpOwYh5"
   },
   "source": [
    "## Examining the dataset"
   ]
  },
  {
   "cell_type": "markdown",
   "metadata": {
    "id": "D2j16cTLwYh5"
   },
   "source": [
    "You'll be analyzing a dataset of traffic stops in Rhode Island that was collected by the Stanford Open Policing Project."
   ]
  },
  {
   "cell_type": "markdown",
   "metadata": {
    "id": "n9f1EGo7wYh5"
   },
   "source": [
    "Before beginning your analysis, it's important that you familiarize yourself with the dataset. You'll read the dataset into pandas, examine the first few rows, and then count the number of missing values."
   ]
  },
  {
   "cell_type": "markdown",
   "metadata": {
    "id": "4jnENKsjwYh6"
   },
   "source": [
    "**INSTRUCTIONS**\n",
    "\n",
    "*   Import related libraries with their alias.\n",
    "*   Read the file RI_cleaned.csv into a DataFrame named ``ri``\n",
    "*   Examine the first 5 rows of the ``DataFrame`` (known as the ``\"head\"``).\n",
    "*   Examine the last 5 rows of the ``DataFrame`` (known as the ``\"tail\"``).\n",
    "*   Examine the ``DataFrame``'s ``\"columns\"``.\n",
    "*   Count the number of missing values in each column: Use ``.isnull()`` to check which ``DataFrame`` elements are missing, and then take the ``.sum()`` to count the number of ``True`` values in each column."
   ]
  },
  {
   "cell_type": "code",
   "execution_count": 2,
   "metadata": {
    "id": "QeH_On81wYh6"
   },
   "outputs": [],
   "source": [
    "import numpy as np\n",
    "import pandas as pd\n",
    "import matplotlib.pyplot as plt\n",
    "import seaborn as sns\n",
    "from scipy import stats"
   ]
  },
  {
   "cell_type": "markdown",
   "metadata": {},
   "source": [
    "**Since the dataset has 509681 rows, you can work with the first 50000 rows if you wish.**"
   ]
  },
  {
   "cell_type": "code",
   "execution_count": 3,
   "metadata": {},
   "outputs": [
    {
     "name": "stderr",
     "output_type": "stream",
     "text": [
      "C:\\Users\\Birgül\\AppData\\Local\\Temp\\ipykernel_15896\\908125187.py:1: DtypeWarning: Columns (8) have mixed types. Specify dtype option on import or set low_memory=False.\n",
      "  ri= pd.read_csv(\"RI_cleaned.csv\",nrows=50000)\n"
     ]
    }
   ],
   "source": [
    "\n",
    "ri= pd.read_csv(\"RI_cleaned.csv\",nrows=50000)"
   ]
  },
  {
   "cell_type": "code",
   "execution_count": 4,
   "metadata": {},
   "outputs": [
    {
     "data": {
      "text/plain": [
       "(50000, 26)"
      ]
     },
     "execution_count": 4,
     "metadata": {},
     "output_type": "execute_result"
    }
   ],
   "source": [
    "ri.shape"
   ]
  },
  {
   "cell_type": "code",
   "execution_count": 5,
   "metadata": {},
   "outputs": [
    {
     "data": {
      "text/html": [
       "<div>\n",
       "<style scoped>\n",
       "    .dataframe tbody tr th:only-of-type {\n",
       "        vertical-align: middle;\n",
       "    }\n",
       "\n",
       "    .dataframe tbody tr th {\n",
       "        vertical-align: top;\n",
       "    }\n",
       "\n",
       "    .dataframe thead th {\n",
       "        text-align: right;\n",
       "    }\n",
       "</style>\n",
       "<table border=\"1\" class=\"dataframe\">\n",
       "  <thead>\n",
       "    <tr style=\"text-align: right;\">\n",
       "      <th></th>\n",
       "      <th>id</th>\n",
       "      <th>state</th>\n",
       "      <th>stop_date</th>\n",
       "      <th>stop_time</th>\n",
       "      <th>location_raw</th>\n",
       "      <th>county_name</th>\n",
       "      <th>county_fips</th>\n",
       "      <th>fine_grained_location</th>\n",
       "      <th>police_department</th>\n",
       "      <th>driver_gender</th>\n",
       "      <th>...</th>\n",
       "      <th>search_conducted</th>\n",
       "      <th>search_type_raw</th>\n",
       "      <th>search_type</th>\n",
       "      <th>contraband_found</th>\n",
       "      <th>stop_outcome</th>\n",
       "      <th>is_arrested</th>\n",
       "      <th>stop_duration</th>\n",
       "      <th>out_of_state</th>\n",
       "      <th>drugs_related_stop</th>\n",
       "      <th>district</th>\n",
       "    </tr>\n",
       "  </thead>\n",
       "  <tbody>\n",
       "    <tr>\n",
       "      <th>0</th>\n",
       "      <td>RI-2005-00001</td>\n",
       "      <td>RI</td>\n",
       "      <td>2005-01-02</td>\n",
       "      <td>01:55</td>\n",
       "      <td>Zone K1</td>\n",
       "      <td>NaN</td>\n",
       "      <td>NaN</td>\n",
       "      <td>NaN</td>\n",
       "      <td>600</td>\n",
       "      <td>M</td>\n",
       "      <td>...</td>\n",
       "      <td>False</td>\n",
       "      <td>NaN</td>\n",
       "      <td>NaN</td>\n",
       "      <td>False</td>\n",
       "      <td>Citation</td>\n",
       "      <td>False</td>\n",
       "      <td>0-15 Min</td>\n",
       "      <td>False</td>\n",
       "      <td>False</td>\n",
       "      <td>Zone K1</td>\n",
       "    </tr>\n",
       "    <tr>\n",
       "      <th>1</th>\n",
       "      <td>RI-2005-00002</td>\n",
       "      <td>RI</td>\n",
       "      <td>2005-01-02</td>\n",
       "      <td>20:30</td>\n",
       "      <td>Zone X4</td>\n",
       "      <td>NaN</td>\n",
       "      <td>NaN</td>\n",
       "      <td>NaN</td>\n",
       "      <td>500</td>\n",
       "      <td>M</td>\n",
       "      <td>...</td>\n",
       "      <td>False</td>\n",
       "      <td>NaN</td>\n",
       "      <td>NaN</td>\n",
       "      <td>False</td>\n",
       "      <td>Citation</td>\n",
       "      <td>False</td>\n",
       "      <td>16-30 Min</td>\n",
       "      <td>False</td>\n",
       "      <td>False</td>\n",
       "      <td>Zone X4</td>\n",
       "    </tr>\n",
       "    <tr>\n",
       "      <th>2</th>\n",
       "      <td>RI-2005-00003</td>\n",
       "      <td>RI</td>\n",
       "      <td>2005-01-04</td>\n",
       "      <td>11:30</td>\n",
       "      <td>Zone X1</td>\n",
       "      <td>NaN</td>\n",
       "      <td>NaN</td>\n",
       "      <td>NaN</td>\n",
       "      <td>0</td>\n",
       "      <td>NaN</td>\n",
       "      <td>...</td>\n",
       "      <td>False</td>\n",
       "      <td>NaN</td>\n",
       "      <td>NaN</td>\n",
       "      <td>False</td>\n",
       "      <td>NaN</td>\n",
       "      <td>NaN</td>\n",
       "      <td>NaN</td>\n",
       "      <td>NaN</td>\n",
       "      <td>False</td>\n",
       "      <td>Zone X1</td>\n",
       "    </tr>\n",
       "    <tr>\n",
       "      <th>3</th>\n",
       "      <td>RI-2005-00004</td>\n",
       "      <td>RI</td>\n",
       "      <td>2005-01-04</td>\n",
       "      <td>12:55</td>\n",
       "      <td>Zone X4</td>\n",
       "      <td>NaN</td>\n",
       "      <td>NaN</td>\n",
       "      <td>NaN</td>\n",
       "      <td>500</td>\n",
       "      <td>M</td>\n",
       "      <td>...</td>\n",
       "      <td>False</td>\n",
       "      <td>NaN</td>\n",
       "      <td>NaN</td>\n",
       "      <td>False</td>\n",
       "      <td>Citation</td>\n",
       "      <td>False</td>\n",
       "      <td>0-15 Min</td>\n",
       "      <td>False</td>\n",
       "      <td>False</td>\n",
       "      <td>Zone X4</td>\n",
       "    </tr>\n",
       "    <tr>\n",
       "      <th>4</th>\n",
       "      <td>RI-2005-00005</td>\n",
       "      <td>RI</td>\n",
       "      <td>2005-01-06</td>\n",
       "      <td>01:30</td>\n",
       "      <td>Zone X4</td>\n",
       "      <td>NaN</td>\n",
       "      <td>NaN</td>\n",
       "      <td>NaN</td>\n",
       "      <td>500</td>\n",
       "      <td>M</td>\n",
       "      <td>...</td>\n",
       "      <td>False</td>\n",
       "      <td>NaN</td>\n",
       "      <td>NaN</td>\n",
       "      <td>False</td>\n",
       "      <td>Citation</td>\n",
       "      <td>False</td>\n",
       "      <td>0-15 Min</td>\n",
       "      <td>False</td>\n",
       "      <td>False</td>\n",
       "      <td>Zone X4</td>\n",
       "    </tr>\n",
       "  </tbody>\n",
       "</table>\n",
       "<p>5 rows × 26 columns</p>\n",
       "</div>"
      ],
      "text/plain": [
       "              id state   stop_date stop_time location_raw  county_name  \\\n",
       "0  RI-2005-00001    RI  2005-01-02     01:55      Zone K1          NaN   \n",
       "1  RI-2005-00002    RI  2005-01-02     20:30      Zone X4          NaN   \n",
       "2  RI-2005-00003    RI  2005-01-04     11:30      Zone X1          NaN   \n",
       "3  RI-2005-00004    RI  2005-01-04     12:55      Zone X4          NaN   \n",
       "4  RI-2005-00005    RI  2005-01-06     01:30      Zone X4          NaN   \n",
       "\n",
       "   county_fips  fine_grained_location police_department driver_gender  ...  \\\n",
       "0          NaN                    NaN               600             M  ...   \n",
       "1          NaN                    NaN               500             M  ...   \n",
       "2          NaN                    NaN                 0           NaN  ...   \n",
       "3          NaN                    NaN               500             M  ...   \n",
       "4          NaN                    NaN               500             M  ...   \n",
       "\n",
       "   search_conducted  search_type_raw search_type contraband_found  \\\n",
       "0             False              NaN         NaN            False   \n",
       "1             False              NaN         NaN            False   \n",
       "2             False              NaN         NaN            False   \n",
       "3             False              NaN         NaN            False   \n",
       "4             False              NaN         NaN            False   \n",
       "\n",
       "  stop_outcome is_arrested  stop_duration out_of_state drugs_related_stop  \\\n",
       "0     Citation       False       0-15 Min        False              False   \n",
       "1     Citation       False      16-30 Min        False              False   \n",
       "2          NaN         NaN            NaN          NaN              False   \n",
       "3     Citation       False       0-15 Min        False              False   \n",
       "4     Citation       False       0-15 Min        False              False   \n",
       "\n",
       "   district  \n",
       "0   Zone K1  \n",
       "1   Zone X4  \n",
       "2   Zone X1  \n",
       "3   Zone X4  \n",
       "4   Zone X4  \n",
       "\n",
       "[5 rows x 26 columns]"
      ]
     },
     "execution_count": 5,
     "metadata": {},
     "output_type": "execute_result"
    }
   ],
   "source": [
    "ri.head(5)"
   ]
  },
  {
   "cell_type": "code",
   "execution_count": 6,
   "metadata": {
    "id": "CFo6oRaMnN8U",
    "outputId": "3cf964d2-8c35-469e-87e8-577df305292a"
   },
   "outputs": [
    {
     "data": {
      "text/html": [
       "<div>\n",
       "<style scoped>\n",
       "    .dataframe tbody tr th:only-of-type {\n",
       "        vertical-align: middle;\n",
       "    }\n",
       "\n",
       "    .dataframe tbody tr th {\n",
       "        vertical-align: top;\n",
       "    }\n",
       "\n",
       "    .dataframe thead th {\n",
       "        text-align: right;\n",
       "    }\n",
       "</style>\n",
       "<table border=\"1\" class=\"dataframe\">\n",
       "  <thead>\n",
       "    <tr style=\"text-align: right;\">\n",
       "      <th></th>\n",
       "      <th>id</th>\n",
       "      <th>state</th>\n",
       "      <th>stop_date</th>\n",
       "      <th>stop_time</th>\n",
       "      <th>location_raw</th>\n",
       "      <th>county_name</th>\n",
       "      <th>county_fips</th>\n",
       "      <th>fine_grained_location</th>\n",
       "      <th>police_department</th>\n",
       "      <th>driver_gender</th>\n",
       "      <th>...</th>\n",
       "      <th>search_conducted</th>\n",
       "      <th>search_type_raw</th>\n",
       "      <th>search_type</th>\n",
       "      <th>contraband_found</th>\n",
       "      <th>stop_outcome</th>\n",
       "      <th>is_arrested</th>\n",
       "      <th>stop_duration</th>\n",
       "      <th>out_of_state</th>\n",
       "      <th>drugs_related_stop</th>\n",
       "      <th>district</th>\n",
       "    </tr>\n",
       "  </thead>\n",
       "  <tbody>\n",
       "    <tr>\n",
       "      <th>49995</th>\n",
       "      <td>RI-2006-35917</td>\n",
       "      <td>RI</td>\n",
       "      <td>2006-08-08</td>\n",
       "      <td>22:45</td>\n",
       "      <td>Zone K3</td>\n",
       "      <td>NaN</td>\n",
       "      <td>NaN</td>\n",
       "      <td>NaN</td>\n",
       "      <td>300</td>\n",
       "      <td>M</td>\n",
       "      <td>...</td>\n",
       "      <td>False</td>\n",
       "      <td>NaN</td>\n",
       "      <td>NaN</td>\n",
       "      <td>False</td>\n",
       "      <td>Citation</td>\n",
       "      <td>False</td>\n",
       "      <td>0-15 Min</td>\n",
       "      <td>False</td>\n",
       "      <td>False</td>\n",
       "      <td>Zone K3</td>\n",
       "    </tr>\n",
       "    <tr>\n",
       "      <th>49996</th>\n",
       "      <td>RI-2006-35918</td>\n",
       "      <td>RI</td>\n",
       "      <td>2006-08-08</td>\n",
       "      <td>22:45</td>\n",
       "      <td>Zone K3</td>\n",
       "      <td>NaN</td>\n",
       "      <td>NaN</td>\n",
       "      <td>NaN</td>\n",
       "      <td>300</td>\n",
       "      <td>F</td>\n",
       "      <td>...</td>\n",
       "      <td>False</td>\n",
       "      <td>NaN</td>\n",
       "      <td>NaN</td>\n",
       "      <td>False</td>\n",
       "      <td>Citation</td>\n",
       "      <td>False</td>\n",
       "      <td>0-15 Min</td>\n",
       "      <td>True</td>\n",
       "      <td>False</td>\n",
       "      <td>Zone K3</td>\n",
       "    </tr>\n",
       "    <tr>\n",
       "      <th>49997</th>\n",
       "      <td>RI-2006-35919</td>\n",
       "      <td>RI</td>\n",
       "      <td>2006-08-08</td>\n",
       "      <td>22:53</td>\n",
       "      <td>Zone X4</td>\n",
       "      <td>NaN</td>\n",
       "      <td>NaN</td>\n",
       "      <td>NaN</td>\n",
       "      <td>500</td>\n",
       "      <td>M</td>\n",
       "      <td>...</td>\n",
       "      <td>False</td>\n",
       "      <td>NaN</td>\n",
       "      <td>NaN</td>\n",
       "      <td>False</td>\n",
       "      <td>Citation</td>\n",
       "      <td>False</td>\n",
       "      <td>16-30 Min</td>\n",
       "      <td>True</td>\n",
       "      <td>False</td>\n",
       "      <td>Zone X4</td>\n",
       "    </tr>\n",
       "    <tr>\n",
       "      <th>49998</th>\n",
       "      <td>RI-2006-35920</td>\n",
       "      <td>RI</td>\n",
       "      <td>2006-08-08</td>\n",
       "      <td>23:00</td>\n",
       "      <td>Zone K1</td>\n",
       "      <td>NaN</td>\n",
       "      <td>NaN</td>\n",
       "      <td>NaN</td>\n",
       "      <td>600</td>\n",
       "      <td>F</td>\n",
       "      <td>...</td>\n",
       "      <td>False</td>\n",
       "      <td>NaN</td>\n",
       "      <td>NaN</td>\n",
       "      <td>False</td>\n",
       "      <td>Citation</td>\n",
       "      <td>False</td>\n",
       "      <td>0-15 Min</td>\n",
       "      <td>False</td>\n",
       "      <td>False</td>\n",
       "      <td>Zone K1</td>\n",
       "    </tr>\n",
       "    <tr>\n",
       "      <th>49999</th>\n",
       "      <td>RI-2006-35921</td>\n",
       "      <td>RI</td>\n",
       "      <td>2006-08-08</td>\n",
       "      <td>23:00</td>\n",
       "      <td>Zone K3</td>\n",
       "      <td>NaN</td>\n",
       "      <td>NaN</td>\n",
       "      <td>NaN</td>\n",
       "      <td>300</td>\n",
       "      <td>M</td>\n",
       "      <td>...</td>\n",
       "      <td>False</td>\n",
       "      <td>NaN</td>\n",
       "      <td>NaN</td>\n",
       "      <td>False</td>\n",
       "      <td>Citation</td>\n",
       "      <td>False</td>\n",
       "      <td>16-30 Min</td>\n",
       "      <td>False</td>\n",
       "      <td>False</td>\n",
       "      <td>Zone K3</td>\n",
       "    </tr>\n",
       "  </tbody>\n",
       "</table>\n",
       "<p>5 rows × 26 columns</p>\n",
       "</div>"
      ],
      "text/plain": [
       "                  id state   stop_date stop_time location_raw  county_name  \\\n",
       "49995  RI-2006-35917    RI  2006-08-08     22:45      Zone K3          NaN   \n",
       "49996  RI-2006-35918    RI  2006-08-08     22:45      Zone K3          NaN   \n",
       "49997  RI-2006-35919    RI  2006-08-08     22:53      Zone X4          NaN   \n",
       "49998  RI-2006-35920    RI  2006-08-08     23:00      Zone K1          NaN   \n",
       "49999  RI-2006-35921    RI  2006-08-08     23:00      Zone K3          NaN   \n",
       "\n",
       "       county_fips  fine_grained_location police_department driver_gender  \\\n",
       "49995          NaN                    NaN               300             M   \n",
       "49996          NaN                    NaN               300             F   \n",
       "49997          NaN                    NaN               500             M   \n",
       "49998          NaN                    NaN               600             F   \n",
       "49999          NaN                    NaN               300             M   \n",
       "\n",
       "       ...  search_conducted  search_type_raw search_type contraband_found  \\\n",
       "49995  ...             False              NaN         NaN            False   \n",
       "49996  ...             False              NaN         NaN            False   \n",
       "49997  ...             False              NaN         NaN            False   \n",
       "49998  ...             False              NaN         NaN            False   \n",
       "49999  ...             False              NaN         NaN            False   \n",
       "\n",
       "      stop_outcome is_arrested  stop_duration out_of_state drugs_related_stop  \\\n",
       "49995     Citation       False       0-15 Min        False              False   \n",
       "49996     Citation       False       0-15 Min         True              False   \n",
       "49997     Citation       False      16-30 Min         True              False   \n",
       "49998     Citation       False       0-15 Min        False              False   \n",
       "49999     Citation       False      16-30 Min        False              False   \n",
       "\n",
       "       district  \n",
       "49995   Zone K3  \n",
       "49996   Zone K3  \n",
       "49997   Zone X4  \n",
       "49998   Zone K1  \n",
       "49999   Zone K3  \n",
       "\n",
       "[5 rows x 26 columns]"
      ]
     },
     "execution_count": 6,
     "metadata": {},
     "output_type": "execute_result"
    }
   ],
   "source": [
    "ri.tail(5)"
   ]
  },
  {
   "cell_type": "code",
   "execution_count": 7,
   "metadata": {},
   "outputs": [
    {
     "data": {
      "text/plain": [
       "Index(['id', 'state', 'stop_date', 'stop_time', 'location_raw', 'county_name',\n",
       "       'county_fips', 'fine_grained_location', 'police_department',\n",
       "       'driver_gender', 'driver_age_raw', 'driver_age', 'driver_race_raw',\n",
       "       'driver_race', 'violation_raw', 'violation', 'search_conducted',\n",
       "       'search_type_raw', 'search_type', 'contraband_found', 'stop_outcome',\n",
       "       'is_arrested', 'stop_duration', 'out_of_state', 'drugs_related_stop',\n",
       "       'district'],\n",
       "      dtype='object')"
      ]
     },
     "execution_count": 7,
     "metadata": {},
     "output_type": "execute_result"
    }
   ],
   "source": [
    "ri.columns"
   ]
  },
  {
   "cell_type": "code",
   "execution_count": 8,
   "metadata": {},
   "outputs": [
    {
     "data": {
      "text/html": [
       "<div>\n",
       "<style scoped>\n",
       "    .dataframe tbody tr th:only-of-type {\n",
       "        vertical-align: middle;\n",
       "    }\n",
       "\n",
       "    .dataframe tbody tr th {\n",
       "        vertical-align: top;\n",
       "    }\n",
       "\n",
       "    .dataframe thead th {\n",
       "        text-align: right;\n",
       "    }\n",
       "</style>\n",
       "<table border=\"1\" class=\"dataframe\">\n",
       "  <thead>\n",
       "    <tr style=\"text-align: right;\">\n",
       "      <th></th>\n",
       "      <th>id</th>\n",
       "      <th>state</th>\n",
       "      <th>stop_date</th>\n",
       "      <th>stop_time</th>\n",
       "      <th>location_raw</th>\n",
       "      <th>county_name</th>\n",
       "      <th>county_fips</th>\n",
       "      <th>fine_grained_location</th>\n",
       "      <th>police_department</th>\n",
       "      <th>driver_gender</th>\n",
       "      <th>...</th>\n",
       "      <th>search_conducted</th>\n",
       "      <th>search_type_raw</th>\n",
       "      <th>search_type</th>\n",
       "      <th>contraband_found</th>\n",
       "      <th>stop_outcome</th>\n",
       "      <th>is_arrested</th>\n",
       "      <th>stop_duration</th>\n",
       "      <th>out_of_state</th>\n",
       "      <th>drugs_related_stop</th>\n",
       "      <th>district</th>\n",
       "    </tr>\n",
       "  </thead>\n",
       "  <tbody>\n",
       "    <tr>\n",
       "      <th>0</th>\n",
       "      <td>False</td>\n",
       "      <td>False</td>\n",
       "      <td>False</td>\n",
       "      <td>False</td>\n",
       "      <td>False</td>\n",
       "      <td>True</td>\n",
       "      <td>True</td>\n",
       "      <td>True</td>\n",
       "      <td>False</td>\n",
       "      <td>False</td>\n",
       "      <td>...</td>\n",
       "      <td>False</td>\n",
       "      <td>True</td>\n",
       "      <td>True</td>\n",
       "      <td>False</td>\n",
       "      <td>False</td>\n",
       "      <td>False</td>\n",
       "      <td>False</td>\n",
       "      <td>False</td>\n",
       "      <td>False</td>\n",
       "      <td>False</td>\n",
       "    </tr>\n",
       "    <tr>\n",
       "      <th>1</th>\n",
       "      <td>False</td>\n",
       "      <td>False</td>\n",
       "      <td>False</td>\n",
       "      <td>False</td>\n",
       "      <td>False</td>\n",
       "      <td>True</td>\n",
       "      <td>True</td>\n",
       "      <td>True</td>\n",
       "      <td>False</td>\n",
       "      <td>False</td>\n",
       "      <td>...</td>\n",
       "      <td>False</td>\n",
       "      <td>True</td>\n",
       "      <td>True</td>\n",
       "      <td>False</td>\n",
       "      <td>False</td>\n",
       "      <td>False</td>\n",
       "      <td>False</td>\n",
       "      <td>False</td>\n",
       "      <td>False</td>\n",
       "      <td>False</td>\n",
       "    </tr>\n",
       "    <tr>\n",
       "      <th>2</th>\n",
       "      <td>False</td>\n",
       "      <td>False</td>\n",
       "      <td>False</td>\n",
       "      <td>False</td>\n",
       "      <td>False</td>\n",
       "      <td>True</td>\n",
       "      <td>True</td>\n",
       "      <td>True</td>\n",
       "      <td>False</td>\n",
       "      <td>True</td>\n",
       "      <td>...</td>\n",
       "      <td>False</td>\n",
       "      <td>True</td>\n",
       "      <td>True</td>\n",
       "      <td>False</td>\n",
       "      <td>True</td>\n",
       "      <td>True</td>\n",
       "      <td>True</td>\n",
       "      <td>True</td>\n",
       "      <td>False</td>\n",
       "      <td>False</td>\n",
       "    </tr>\n",
       "    <tr>\n",
       "      <th>3</th>\n",
       "      <td>False</td>\n",
       "      <td>False</td>\n",
       "      <td>False</td>\n",
       "      <td>False</td>\n",
       "      <td>False</td>\n",
       "      <td>True</td>\n",
       "      <td>True</td>\n",
       "      <td>True</td>\n",
       "      <td>False</td>\n",
       "      <td>False</td>\n",
       "      <td>...</td>\n",
       "      <td>False</td>\n",
       "      <td>True</td>\n",
       "      <td>True</td>\n",
       "      <td>False</td>\n",
       "      <td>False</td>\n",
       "      <td>False</td>\n",
       "      <td>False</td>\n",
       "      <td>False</td>\n",
       "      <td>False</td>\n",
       "      <td>False</td>\n",
       "    </tr>\n",
       "    <tr>\n",
       "      <th>4</th>\n",
       "      <td>False</td>\n",
       "      <td>False</td>\n",
       "      <td>False</td>\n",
       "      <td>False</td>\n",
       "      <td>False</td>\n",
       "      <td>True</td>\n",
       "      <td>True</td>\n",
       "      <td>True</td>\n",
       "      <td>False</td>\n",
       "      <td>False</td>\n",
       "      <td>...</td>\n",
       "      <td>False</td>\n",
       "      <td>True</td>\n",
       "      <td>True</td>\n",
       "      <td>False</td>\n",
       "      <td>False</td>\n",
       "      <td>False</td>\n",
       "      <td>False</td>\n",
       "      <td>False</td>\n",
       "      <td>False</td>\n",
       "      <td>False</td>\n",
       "    </tr>\n",
       "    <tr>\n",
       "      <th>...</th>\n",
       "      <td>...</td>\n",
       "      <td>...</td>\n",
       "      <td>...</td>\n",
       "      <td>...</td>\n",
       "      <td>...</td>\n",
       "      <td>...</td>\n",
       "      <td>...</td>\n",
       "      <td>...</td>\n",
       "      <td>...</td>\n",
       "      <td>...</td>\n",
       "      <td>...</td>\n",
       "      <td>...</td>\n",
       "      <td>...</td>\n",
       "      <td>...</td>\n",
       "      <td>...</td>\n",
       "      <td>...</td>\n",
       "      <td>...</td>\n",
       "      <td>...</td>\n",
       "      <td>...</td>\n",
       "      <td>...</td>\n",
       "      <td>...</td>\n",
       "    </tr>\n",
       "    <tr>\n",
       "      <th>49995</th>\n",
       "      <td>False</td>\n",
       "      <td>False</td>\n",
       "      <td>False</td>\n",
       "      <td>False</td>\n",
       "      <td>False</td>\n",
       "      <td>True</td>\n",
       "      <td>True</td>\n",
       "      <td>True</td>\n",
       "      <td>False</td>\n",
       "      <td>False</td>\n",
       "      <td>...</td>\n",
       "      <td>False</td>\n",
       "      <td>True</td>\n",
       "      <td>True</td>\n",
       "      <td>False</td>\n",
       "      <td>False</td>\n",
       "      <td>False</td>\n",
       "      <td>False</td>\n",
       "      <td>False</td>\n",
       "      <td>False</td>\n",
       "      <td>False</td>\n",
       "    </tr>\n",
       "    <tr>\n",
       "      <th>49996</th>\n",
       "      <td>False</td>\n",
       "      <td>False</td>\n",
       "      <td>False</td>\n",
       "      <td>False</td>\n",
       "      <td>False</td>\n",
       "      <td>True</td>\n",
       "      <td>True</td>\n",
       "      <td>True</td>\n",
       "      <td>False</td>\n",
       "      <td>False</td>\n",
       "      <td>...</td>\n",
       "      <td>False</td>\n",
       "      <td>True</td>\n",
       "      <td>True</td>\n",
       "      <td>False</td>\n",
       "      <td>False</td>\n",
       "      <td>False</td>\n",
       "      <td>False</td>\n",
       "      <td>False</td>\n",
       "      <td>False</td>\n",
       "      <td>False</td>\n",
       "    </tr>\n",
       "    <tr>\n",
       "      <th>49997</th>\n",
       "      <td>False</td>\n",
       "      <td>False</td>\n",
       "      <td>False</td>\n",
       "      <td>False</td>\n",
       "      <td>False</td>\n",
       "      <td>True</td>\n",
       "      <td>True</td>\n",
       "      <td>True</td>\n",
       "      <td>False</td>\n",
       "      <td>False</td>\n",
       "      <td>...</td>\n",
       "      <td>False</td>\n",
       "      <td>True</td>\n",
       "      <td>True</td>\n",
       "      <td>False</td>\n",
       "      <td>False</td>\n",
       "      <td>False</td>\n",
       "      <td>False</td>\n",
       "      <td>False</td>\n",
       "      <td>False</td>\n",
       "      <td>False</td>\n",
       "    </tr>\n",
       "    <tr>\n",
       "      <th>49998</th>\n",
       "      <td>False</td>\n",
       "      <td>False</td>\n",
       "      <td>False</td>\n",
       "      <td>False</td>\n",
       "      <td>False</td>\n",
       "      <td>True</td>\n",
       "      <td>True</td>\n",
       "      <td>True</td>\n",
       "      <td>False</td>\n",
       "      <td>False</td>\n",
       "      <td>...</td>\n",
       "      <td>False</td>\n",
       "      <td>True</td>\n",
       "      <td>True</td>\n",
       "      <td>False</td>\n",
       "      <td>False</td>\n",
       "      <td>False</td>\n",
       "      <td>False</td>\n",
       "      <td>False</td>\n",
       "      <td>False</td>\n",
       "      <td>False</td>\n",
       "    </tr>\n",
       "    <tr>\n",
       "      <th>49999</th>\n",
       "      <td>False</td>\n",
       "      <td>False</td>\n",
       "      <td>False</td>\n",
       "      <td>False</td>\n",
       "      <td>False</td>\n",
       "      <td>True</td>\n",
       "      <td>True</td>\n",
       "      <td>True</td>\n",
       "      <td>False</td>\n",
       "      <td>False</td>\n",
       "      <td>...</td>\n",
       "      <td>False</td>\n",
       "      <td>True</td>\n",
       "      <td>True</td>\n",
       "      <td>False</td>\n",
       "      <td>False</td>\n",
       "      <td>False</td>\n",
       "      <td>False</td>\n",
       "      <td>False</td>\n",
       "      <td>False</td>\n",
       "      <td>False</td>\n",
       "    </tr>\n",
       "  </tbody>\n",
       "</table>\n",
       "<p>50000 rows × 26 columns</p>\n",
       "</div>"
      ],
      "text/plain": [
       "          id  state  stop_date  stop_time  location_raw  county_name  \\\n",
       "0      False  False      False      False         False         True   \n",
       "1      False  False      False      False         False         True   \n",
       "2      False  False      False      False         False         True   \n",
       "3      False  False      False      False         False         True   \n",
       "4      False  False      False      False         False         True   \n",
       "...      ...    ...        ...        ...           ...          ...   \n",
       "49995  False  False      False      False         False         True   \n",
       "49996  False  False      False      False         False         True   \n",
       "49997  False  False      False      False         False         True   \n",
       "49998  False  False      False      False         False         True   \n",
       "49999  False  False      False      False         False         True   \n",
       "\n",
       "       county_fips  fine_grained_location  police_department  driver_gender  \\\n",
       "0             True                   True              False          False   \n",
       "1             True                   True              False          False   \n",
       "2             True                   True              False           True   \n",
       "3             True                   True              False          False   \n",
       "4             True                   True              False          False   \n",
       "...            ...                    ...                ...            ...   \n",
       "49995         True                   True              False          False   \n",
       "49996         True                   True              False          False   \n",
       "49997         True                   True              False          False   \n",
       "49998         True                   True              False          False   \n",
       "49999         True                   True              False          False   \n",
       "\n",
       "       ...  search_conducted  search_type_raw  search_type  contraband_found  \\\n",
       "0      ...             False             True         True             False   \n",
       "1      ...             False             True         True             False   \n",
       "2      ...             False             True         True             False   \n",
       "3      ...             False             True         True             False   \n",
       "4      ...             False             True         True             False   \n",
       "...    ...               ...              ...          ...               ...   \n",
       "49995  ...             False             True         True             False   \n",
       "49996  ...             False             True         True             False   \n",
       "49997  ...             False             True         True             False   \n",
       "49998  ...             False             True         True             False   \n",
       "49999  ...             False             True         True             False   \n",
       "\n",
       "       stop_outcome  is_arrested  stop_duration  out_of_state  \\\n",
       "0             False        False          False         False   \n",
       "1             False        False          False         False   \n",
       "2              True         True           True          True   \n",
       "3             False        False          False         False   \n",
       "4             False        False          False         False   \n",
       "...             ...          ...            ...           ...   \n",
       "49995         False        False          False         False   \n",
       "49996         False        False          False         False   \n",
       "49997         False        False          False         False   \n",
       "49998         False        False          False         False   \n",
       "49999         False        False          False         False   \n",
       "\n",
       "       drugs_related_stop  district  \n",
       "0                   False     False  \n",
       "1                   False     False  \n",
       "2                   False     False  \n",
       "3                   False     False  \n",
       "4                   False     False  \n",
       "...                   ...       ...  \n",
       "49995               False     False  \n",
       "49996               False     False  \n",
       "49997               False     False  \n",
       "49998               False     False  \n",
       "49999               False     False  \n",
       "\n",
       "[50000 rows x 26 columns]"
      ]
     },
     "execution_count": 8,
     "metadata": {},
     "output_type": "execute_result"
    }
   ],
   "source": [
    "ri.isnull()"
   ]
  },
  {
   "cell_type": "code",
   "execution_count": 9,
   "metadata": {},
   "outputs": [
    {
     "data": {
      "text/plain": [
       "id                           0\n",
       "state                        0\n",
       "stop_date                    0\n",
       "stop_time                    0\n",
       "location_raw                 0\n",
       "county_name              50000\n",
       "county_fips              50000\n",
       "fine_grained_location    50000\n",
       "police_department            0\n",
       "driver_gender             1990\n",
       "driver_age_raw            1971\n",
       "driver_age                2208\n",
       "driver_race_raw           1988\n",
       "driver_race               1988\n",
       "violation_raw             1988\n",
       "violation                 1988\n",
       "search_conducted             0\n",
       "search_type_raw          47988\n",
       "search_type              47988\n",
       "contraband_found             0\n",
       "stop_outcome              1988\n",
       "is_arrested               1988\n",
       "stop_duration             1988\n",
       "out_of_state              2203\n",
       "drugs_related_stop           0\n",
       "district                     0\n",
       "dtype: int64"
      ]
     },
     "execution_count": 9,
     "metadata": {},
     "output_type": "execute_result"
    }
   ],
   "source": [
    "ri.isnull().sum() "
   ]
  },
  {
   "cell_type": "markdown",
   "metadata": {},
   "source": [
    "***"
   ]
  },
  {
   "cell_type": "code",
   "execution_count": 10,
   "metadata": {},
   "outputs": [
    {
     "data": {
      "text/plain": [
       "268264"
      ]
     },
     "execution_count": 10,
     "metadata": {},
     "output_type": "execute_result"
    }
   ],
   "source": [
    "sum(ri.isnull().sum())"
   ]
  },
  {
   "cell_type": "code",
   "execution_count": 11,
   "metadata": {},
   "outputs": [
    {
     "data": {
      "text/plain": [
       "268264"
      ]
     },
     "execution_count": 11,
     "metadata": {},
     "output_type": "execute_result"
    }
   ],
   "source": [
    "ri.isnull().sum().sum()"
   ]
  },
  {
   "cell_type": "markdown",
   "metadata": {
    "id": "pdZ2vrcnwYh7"
   },
   "source": [
    "## Dropping columns"
   ]
  },
  {
   "cell_type": "markdown",
   "metadata": {
    "id": "0SBCnN6wwYh7"
   },
   "source": [
    "Often, a DataFrame will contain columns that are not useful to your analysis. Such columns should be dropped from the ``DataFrame``, to make it easier for you to focus on the remaining columns.\n",
    "\n",
    "You'll drop the ``county_name`` column because it only contains missing values, and you'll drop the ``state`` column because all of the traffic stops took place in one state (Rhode Island). Thus, these columns can be dropped because they contain no useful information."
   ]
  },
  {
   "cell_type": "markdown",
   "metadata": {
    "id": "xY_8SVFCwYh8"
   },
   "source": [
    "**INSTRUCTIONS**\n",
    "\n",
    "*   Examine the ``DataFrame``'s shape to find out the number of rows and columns.\n",
    "\n",
    "*   Drop the columns that almost consist of missing values. \n",
    "\n",
    "*   Examine the ``.shape`` again to verify that there are now two fewer columns."
   ]
  },
  {
   "cell_type": "code",
   "execution_count": 12,
   "metadata": {},
   "outputs": [
    {
     "data": {
      "text/html": [
       "<div>\n",
       "<style scoped>\n",
       "    .dataframe tbody tr th:only-of-type {\n",
       "        vertical-align: middle;\n",
       "    }\n",
       "\n",
       "    .dataframe tbody tr th {\n",
       "        vertical-align: top;\n",
       "    }\n",
       "\n",
       "    .dataframe thead th {\n",
       "        text-align: right;\n",
       "    }\n",
       "</style>\n",
       "<table border=\"1\" class=\"dataframe\">\n",
       "  <thead>\n",
       "    <tr style=\"text-align: right;\">\n",
       "      <th></th>\n",
       "      <th>id</th>\n",
       "      <th>stop_date</th>\n",
       "      <th>stop_time</th>\n",
       "      <th>location_raw</th>\n",
       "      <th>county_fips</th>\n",
       "      <th>fine_grained_location</th>\n",
       "      <th>police_department</th>\n",
       "      <th>driver_gender</th>\n",
       "      <th>driver_age_raw</th>\n",
       "      <th>driver_age</th>\n",
       "      <th>...</th>\n",
       "      <th>search_conducted</th>\n",
       "      <th>search_type_raw</th>\n",
       "      <th>search_type</th>\n",
       "      <th>contraband_found</th>\n",
       "      <th>stop_outcome</th>\n",
       "      <th>is_arrested</th>\n",
       "      <th>stop_duration</th>\n",
       "      <th>out_of_state</th>\n",
       "      <th>drugs_related_stop</th>\n",
       "      <th>district</th>\n",
       "    </tr>\n",
       "  </thead>\n",
       "  <tbody>\n",
       "    <tr>\n",
       "      <th>0</th>\n",
       "      <td>RI-2005-00001</td>\n",
       "      <td>2005-01-02</td>\n",
       "      <td>01:55</td>\n",
       "      <td>Zone K1</td>\n",
       "      <td>NaN</td>\n",
       "      <td>NaN</td>\n",
       "      <td>600</td>\n",
       "      <td>M</td>\n",
       "      <td>1985.0</td>\n",
       "      <td>20.0</td>\n",
       "      <td>...</td>\n",
       "      <td>False</td>\n",
       "      <td>NaN</td>\n",
       "      <td>NaN</td>\n",
       "      <td>False</td>\n",
       "      <td>Citation</td>\n",
       "      <td>False</td>\n",
       "      <td>0-15 Min</td>\n",
       "      <td>False</td>\n",
       "      <td>False</td>\n",
       "      <td>Zone K1</td>\n",
       "    </tr>\n",
       "    <tr>\n",
       "      <th>1</th>\n",
       "      <td>RI-2005-00002</td>\n",
       "      <td>2005-01-02</td>\n",
       "      <td>20:30</td>\n",
       "      <td>Zone X4</td>\n",
       "      <td>NaN</td>\n",
       "      <td>NaN</td>\n",
       "      <td>500</td>\n",
       "      <td>M</td>\n",
       "      <td>1987.0</td>\n",
       "      <td>18.0</td>\n",
       "      <td>...</td>\n",
       "      <td>False</td>\n",
       "      <td>NaN</td>\n",
       "      <td>NaN</td>\n",
       "      <td>False</td>\n",
       "      <td>Citation</td>\n",
       "      <td>False</td>\n",
       "      <td>16-30 Min</td>\n",
       "      <td>False</td>\n",
       "      <td>False</td>\n",
       "      <td>Zone X4</td>\n",
       "    </tr>\n",
       "    <tr>\n",
       "      <th>2</th>\n",
       "      <td>RI-2005-00003</td>\n",
       "      <td>2005-01-04</td>\n",
       "      <td>11:30</td>\n",
       "      <td>Zone X1</td>\n",
       "      <td>NaN</td>\n",
       "      <td>NaN</td>\n",
       "      <td>0</td>\n",
       "      <td>NaN</td>\n",
       "      <td>NaN</td>\n",
       "      <td>NaN</td>\n",
       "      <td>...</td>\n",
       "      <td>False</td>\n",
       "      <td>NaN</td>\n",
       "      <td>NaN</td>\n",
       "      <td>False</td>\n",
       "      <td>NaN</td>\n",
       "      <td>NaN</td>\n",
       "      <td>NaN</td>\n",
       "      <td>NaN</td>\n",
       "      <td>False</td>\n",
       "      <td>Zone X1</td>\n",
       "    </tr>\n",
       "    <tr>\n",
       "      <th>3</th>\n",
       "      <td>RI-2005-00004</td>\n",
       "      <td>2005-01-04</td>\n",
       "      <td>12:55</td>\n",
       "      <td>Zone X4</td>\n",
       "      <td>NaN</td>\n",
       "      <td>NaN</td>\n",
       "      <td>500</td>\n",
       "      <td>M</td>\n",
       "      <td>1986.0</td>\n",
       "      <td>19.0</td>\n",
       "      <td>...</td>\n",
       "      <td>False</td>\n",
       "      <td>NaN</td>\n",
       "      <td>NaN</td>\n",
       "      <td>False</td>\n",
       "      <td>Citation</td>\n",
       "      <td>False</td>\n",
       "      <td>0-15 Min</td>\n",
       "      <td>False</td>\n",
       "      <td>False</td>\n",
       "      <td>Zone X4</td>\n",
       "    </tr>\n",
       "    <tr>\n",
       "      <th>4</th>\n",
       "      <td>RI-2005-00005</td>\n",
       "      <td>2005-01-06</td>\n",
       "      <td>01:30</td>\n",
       "      <td>Zone X4</td>\n",
       "      <td>NaN</td>\n",
       "      <td>NaN</td>\n",
       "      <td>500</td>\n",
       "      <td>M</td>\n",
       "      <td>1978.0</td>\n",
       "      <td>27.0</td>\n",
       "      <td>...</td>\n",
       "      <td>False</td>\n",
       "      <td>NaN</td>\n",
       "      <td>NaN</td>\n",
       "      <td>False</td>\n",
       "      <td>Citation</td>\n",
       "      <td>False</td>\n",
       "      <td>0-15 Min</td>\n",
       "      <td>False</td>\n",
       "      <td>False</td>\n",
       "      <td>Zone X4</td>\n",
       "    </tr>\n",
       "    <tr>\n",
       "      <th>...</th>\n",
       "      <td>...</td>\n",
       "      <td>...</td>\n",
       "      <td>...</td>\n",
       "      <td>...</td>\n",
       "      <td>...</td>\n",
       "      <td>...</td>\n",
       "      <td>...</td>\n",
       "      <td>...</td>\n",
       "      <td>...</td>\n",
       "      <td>...</td>\n",
       "      <td>...</td>\n",
       "      <td>...</td>\n",
       "      <td>...</td>\n",
       "      <td>...</td>\n",
       "      <td>...</td>\n",
       "      <td>...</td>\n",
       "      <td>...</td>\n",
       "      <td>...</td>\n",
       "      <td>...</td>\n",
       "      <td>...</td>\n",
       "      <td>...</td>\n",
       "    </tr>\n",
       "    <tr>\n",
       "      <th>49995</th>\n",
       "      <td>RI-2006-35917</td>\n",
       "      <td>2006-08-08</td>\n",
       "      <td>22:45</td>\n",
       "      <td>Zone K3</td>\n",
       "      <td>NaN</td>\n",
       "      <td>NaN</td>\n",
       "      <td>300</td>\n",
       "      <td>M</td>\n",
       "      <td>1973.0</td>\n",
       "      <td>33.0</td>\n",
       "      <td>...</td>\n",
       "      <td>False</td>\n",
       "      <td>NaN</td>\n",
       "      <td>NaN</td>\n",
       "      <td>False</td>\n",
       "      <td>Citation</td>\n",
       "      <td>False</td>\n",
       "      <td>0-15 Min</td>\n",
       "      <td>False</td>\n",
       "      <td>False</td>\n",
       "      <td>Zone K3</td>\n",
       "    </tr>\n",
       "    <tr>\n",
       "      <th>49996</th>\n",
       "      <td>RI-2006-35918</td>\n",
       "      <td>2006-08-08</td>\n",
       "      <td>22:45</td>\n",
       "      <td>Zone K3</td>\n",
       "      <td>NaN</td>\n",
       "      <td>NaN</td>\n",
       "      <td>300</td>\n",
       "      <td>F</td>\n",
       "      <td>1971.0</td>\n",
       "      <td>35.0</td>\n",
       "      <td>...</td>\n",
       "      <td>False</td>\n",
       "      <td>NaN</td>\n",
       "      <td>NaN</td>\n",
       "      <td>False</td>\n",
       "      <td>Citation</td>\n",
       "      <td>False</td>\n",
       "      <td>0-15 Min</td>\n",
       "      <td>True</td>\n",
       "      <td>False</td>\n",
       "      <td>Zone K3</td>\n",
       "    </tr>\n",
       "    <tr>\n",
       "      <th>49997</th>\n",
       "      <td>RI-2006-35919</td>\n",
       "      <td>2006-08-08</td>\n",
       "      <td>22:53</td>\n",
       "      <td>Zone X4</td>\n",
       "      <td>NaN</td>\n",
       "      <td>NaN</td>\n",
       "      <td>500</td>\n",
       "      <td>M</td>\n",
       "      <td>1952.0</td>\n",
       "      <td>54.0</td>\n",
       "      <td>...</td>\n",
       "      <td>False</td>\n",
       "      <td>NaN</td>\n",
       "      <td>NaN</td>\n",
       "      <td>False</td>\n",
       "      <td>Citation</td>\n",
       "      <td>False</td>\n",
       "      <td>16-30 Min</td>\n",
       "      <td>True</td>\n",
       "      <td>False</td>\n",
       "      <td>Zone X4</td>\n",
       "    </tr>\n",
       "    <tr>\n",
       "      <th>49998</th>\n",
       "      <td>RI-2006-35920</td>\n",
       "      <td>2006-08-08</td>\n",
       "      <td>23:00</td>\n",
       "      <td>Zone K1</td>\n",
       "      <td>NaN</td>\n",
       "      <td>NaN</td>\n",
       "      <td>600</td>\n",
       "      <td>F</td>\n",
       "      <td>1982.0</td>\n",
       "      <td>24.0</td>\n",
       "      <td>...</td>\n",
       "      <td>False</td>\n",
       "      <td>NaN</td>\n",
       "      <td>NaN</td>\n",
       "      <td>False</td>\n",
       "      <td>Citation</td>\n",
       "      <td>False</td>\n",
       "      <td>0-15 Min</td>\n",
       "      <td>False</td>\n",
       "      <td>False</td>\n",
       "      <td>Zone K1</td>\n",
       "    </tr>\n",
       "    <tr>\n",
       "      <th>49999</th>\n",
       "      <td>RI-2006-35921</td>\n",
       "      <td>2006-08-08</td>\n",
       "      <td>23:00</td>\n",
       "      <td>Zone K3</td>\n",
       "      <td>NaN</td>\n",
       "      <td>NaN</td>\n",
       "      <td>300</td>\n",
       "      <td>M</td>\n",
       "      <td>1965.0</td>\n",
       "      <td>41.0</td>\n",
       "      <td>...</td>\n",
       "      <td>False</td>\n",
       "      <td>NaN</td>\n",
       "      <td>NaN</td>\n",
       "      <td>False</td>\n",
       "      <td>Citation</td>\n",
       "      <td>False</td>\n",
       "      <td>16-30 Min</td>\n",
       "      <td>False</td>\n",
       "      <td>False</td>\n",
       "      <td>Zone K3</td>\n",
       "    </tr>\n",
       "  </tbody>\n",
       "</table>\n",
       "<p>50000 rows × 24 columns</p>\n",
       "</div>"
      ],
      "text/plain": [
       "                  id   stop_date stop_time location_raw  county_fips  \\\n",
       "0      RI-2005-00001  2005-01-02     01:55      Zone K1          NaN   \n",
       "1      RI-2005-00002  2005-01-02     20:30      Zone X4          NaN   \n",
       "2      RI-2005-00003  2005-01-04     11:30      Zone X1          NaN   \n",
       "3      RI-2005-00004  2005-01-04     12:55      Zone X4          NaN   \n",
       "4      RI-2005-00005  2005-01-06     01:30      Zone X4          NaN   \n",
       "...              ...         ...       ...          ...          ...   \n",
       "49995  RI-2006-35917  2006-08-08     22:45      Zone K3          NaN   \n",
       "49996  RI-2006-35918  2006-08-08     22:45      Zone K3          NaN   \n",
       "49997  RI-2006-35919  2006-08-08     22:53      Zone X4          NaN   \n",
       "49998  RI-2006-35920  2006-08-08     23:00      Zone K1          NaN   \n",
       "49999  RI-2006-35921  2006-08-08     23:00      Zone K3          NaN   \n",
       "\n",
       "       fine_grained_location police_department driver_gender  driver_age_raw  \\\n",
       "0                        NaN               600             M          1985.0   \n",
       "1                        NaN               500             M          1987.0   \n",
       "2                        NaN                 0           NaN             NaN   \n",
       "3                        NaN               500             M          1986.0   \n",
       "4                        NaN               500             M          1978.0   \n",
       "...                      ...               ...           ...             ...   \n",
       "49995                    NaN               300             M          1973.0   \n",
       "49996                    NaN               300             F          1971.0   \n",
       "49997                    NaN               500             M          1952.0   \n",
       "49998                    NaN               600             F          1982.0   \n",
       "49999                    NaN               300             M          1965.0   \n",
       "\n",
       "       driver_age  ... search_conducted search_type_raw search_type  \\\n",
       "0            20.0  ...            False             NaN         NaN   \n",
       "1            18.0  ...            False             NaN         NaN   \n",
       "2             NaN  ...            False             NaN         NaN   \n",
       "3            19.0  ...            False             NaN         NaN   \n",
       "4            27.0  ...            False             NaN         NaN   \n",
       "...           ...  ...              ...             ...         ...   \n",
       "49995        33.0  ...            False             NaN         NaN   \n",
       "49996        35.0  ...            False             NaN         NaN   \n",
       "49997        54.0  ...            False             NaN         NaN   \n",
       "49998        24.0  ...            False             NaN         NaN   \n",
       "49999        41.0  ...            False             NaN         NaN   \n",
       "\n",
       "      contraband_found  stop_outcome is_arrested stop_duration  out_of_state  \\\n",
       "0                False      Citation       False      0-15 Min         False   \n",
       "1                False      Citation       False     16-30 Min         False   \n",
       "2                False           NaN         NaN           NaN           NaN   \n",
       "3                False      Citation       False      0-15 Min         False   \n",
       "4                False      Citation       False      0-15 Min         False   \n",
       "...                ...           ...         ...           ...           ...   \n",
       "49995            False      Citation       False      0-15 Min         False   \n",
       "49996            False      Citation       False      0-15 Min          True   \n",
       "49997            False      Citation       False     16-30 Min          True   \n",
       "49998            False      Citation       False      0-15 Min         False   \n",
       "49999            False      Citation       False     16-30 Min         False   \n",
       "\n",
       "      drugs_related_stop district  \n",
       "0                  False  Zone K1  \n",
       "1                  False  Zone X4  \n",
       "2                  False  Zone X1  \n",
       "3                  False  Zone X4  \n",
       "4                  False  Zone X4  \n",
       "...                  ...      ...  \n",
       "49995              False  Zone K3  \n",
       "49996              False  Zone K3  \n",
       "49997              False  Zone X4  \n",
       "49998              False  Zone K1  \n",
       "49999              False  Zone K3  \n",
       "\n",
       "[50000 rows x 24 columns]"
      ]
     },
     "execution_count": 12,
     "metadata": {},
     "output_type": "execute_result"
    }
   ],
   "source": [
    "ri.drop(columns = [\"county_name\",\"state\"])"
   ]
  },
  {
   "cell_type": "code",
   "execution_count": 13,
   "metadata": {},
   "outputs": [
    {
     "data": {
      "text/plain": [
       "(50000, 26)"
      ]
     },
     "execution_count": 13,
     "metadata": {},
     "output_type": "execute_result"
    }
   ],
   "source": [
    "ri.shape"
   ]
  },
  {
   "cell_type": "code",
   "execution_count": 14,
   "metadata": {},
   "outputs": [],
   "source": [
    "ri.drop(columns = [\"county_name\",\"state\"],inplace=True)"
   ]
  },
  {
   "cell_type": "markdown",
   "metadata": {
    "id": "AwfajJoowYh8"
   },
   "source": [
    "***"
   ]
  },
  {
   "cell_type": "code",
   "execution_count": 15,
   "metadata": {},
   "outputs": [
    {
     "data": {
      "text/plain": [
       "(50000, 24)"
      ]
     },
     "execution_count": 15,
     "metadata": {},
     "output_type": "execute_result"
    }
   ],
   "source": [
    "ri.shape"
   ]
  },
  {
   "cell_type": "markdown",
   "metadata": {
    "id": "8TOdufeDwYh9"
   },
   "source": [
    "## Dropping rows"
   ]
  },
  {
   "cell_type": "markdown",
   "metadata": {
    "id": "DHlgLgLDwYh9"
   },
   "source": [
    "When you know that a specific column will be critical to your analysis, and only a small fraction of rows are missing a value in that column, it often makes sense to remove those rows from the dataset.\n",
    "\n",
    "During this course, the ``driver_gender`` column will be critical to many of your analyses. Because only a small fraction of rows are missing ``driver_gender``, we'll drop those rows from the dataset."
   ]
  },
  {
   "cell_type": "markdown",
   "metadata": {
    "id": "VkKtUSclwYh9"
   },
   "source": [
    "**INSTRUCTIONS**\n",
    "\n",
    "*   Count the number of missing values in each column.\n",
    "\n",
    "*   Drop all rows that are missing ``driver_gender`` by passing the column name to the subset parameter of ``.dropna()``.\n",
    "*   Count the number of missing values in each column again, to verify that none of the remaining rows are missing ``driver_gender``.\n",
    "*   Examine the ``DataFrame``'s ``.shape`` to see how many rows and columns remain."
   ]
  },
  {
   "cell_type": "code",
   "execution_count": 16,
   "metadata": {},
   "outputs": [
    {
     "data": {
      "text/plain": [
       "id                           0\n",
       "stop_date                    0\n",
       "stop_time                    0\n",
       "location_raw                 0\n",
       "county_fips              50000\n",
       "fine_grained_location    50000\n",
       "police_department            0\n",
       "driver_gender             1990\n",
       "driver_age_raw            1971\n",
       "driver_age                2208\n",
       "driver_race_raw           1988\n",
       "driver_race               1988\n",
       "violation_raw             1988\n",
       "violation                 1988\n",
       "search_conducted             0\n",
       "search_type_raw          47988\n",
       "search_type              47988\n",
       "contraband_found             0\n",
       "stop_outcome              1988\n",
       "is_arrested               1988\n",
       "stop_duration             1988\n",
       "out_of_state              2203\n",
       "drugs_related_stop           0\n",
       "district                     0\n",
       "dtype: int64"
      ]
     },
     "execution_count": 16,
     "metadata": {},
     "output_type": "execute_result"
    }
   ],
   "source": [
    "ri.isnull().sum() "
   ]
  },
  {
   "cell_type": "code",
   "execution_count": 17,
   "metadata": {},
   "outputs": [
    {
     "data": {
      "text/plain": [
       "1990"
      ]
     },
     "execution_count": 17,
     "metadata": {},
     "output_type": "execute_result"
    }
   ],
   "source": [
    "ri.driver_gender.isnull().sum() "
   ]
  },
  {
   "cell_type": "code",
   "execution_count": 18,
   "metadata": {},
   "outputs": [],
   "source": [
    "ri.dropna(axis=0, subset=\"driver_gender\",inplace=True)"
   ]
  },
  {
   "cell_type": "code",
   "execution_count": 19,
   "metadata": {},
   "outputs": [
    {
     "data": {
      "text/plain": [
       "id                           0\n",
       "stop_date                    0\n",
       "stop_time                    0\n",
       "location_raw                 0\n",
       "county_fips              48010\n",
       "fine_grained_location    48010\n",
       "police_department            0\n",
       "driver_gender                0\n",
       "driver_age_raw               0\n",
       "driver_age                 232\n",
       "driver_race_raw              0\n",
       "driver_race                  0\n",
       "violation_raw                0\n",
       "violation                    0\n",
       "search_conducted             0\n",
       "search_type_raw          45998\n",
       "search_type              45998\n",
       "contraband_found             0\n",
       "stop_outcome                 0\n",
       "is_arrested                  0\n",
       "stop_duration                0\n",
       "out_of_state               215\n",
       "drugs_related_stop           0\n",
       "district                     0\n",
       "dtype: int64"
      ]
     },
     "execution_count": 19,
     "metadata": {},
     "output_type": "execute_result"
    }
   ],
   "source": [
    "ri.isnull().sum()"
   ]
  },
  {
   "cell_type": "code",
   "execution_count": 20,
   "metadata": {},
   "outputs": [
    {
     "data": {
      "text/plain": [
       "(48010, 24)"
      ]
     },
     "execution_count": 20,
     "metadata": {},
     "output_type": "execute_result"
    }
   ],
   "source": [
    "ri.shape"
   ]
  },
  {
   "cell_type": "code",
   "execution_count": null,
   "metadata": {},
   "outputs": [],
   "source": []
  },
  {
   "cell_type": "markdown",
   "metadata": {
    "id": "ucaBeBc_wYh-"
   },
   "source": [
    "***"
   ]
  },
  {
   "cell_type": "markdown",
   "metadata": {
    "id": "MzFlcH9UwYh-"
   },
   "source": [
    "## Fixing a data type"
   ]
  },
  {
   "cell_type": "markdown",
   "metadata": {
    "id": "KIPRoJzuwYh-"
   },
   "source": [
    "We know that the ``is_arrested`` column currently has the ``object`` data type. In this exercise, we'll change the data type to ``bool``, which is the most suitable type for a column containing ``True`` and ``False`` values.\n",
    "\n",
    "Fixing the data type will enable us to use mathematical operations on the ``is_arrested`` column that would not be possible otherwise."
   ]
  },
  {
   "cell_type": "markdown",
   "metadata": {
    "id": "SF5vL2TFwYh-"
   },
   "source": [
    "**INSTRUCTIONS**\n",
    "\n",
    "*   Examine the values of the ``is_arrested`` column to verify that it contains ``True`` and ``False`` values.\n",
    "*   Check the current data type of ``is_arrested``.\n",
    "*   Use the ``.astype()`` method to convert ``is_arrested`` to a ``bool`` column.\n",
    "*   Check the new data type of ``is_arrested``, to confirm that it is now a ``bool`` column."
   ]
  },
  {
   "cell_type": "code",
   "execution_count": 21,
   "metadata": {},
   "outputs": [
    {
     "data": {
      "text/plain": [
       "0        False\n",
       "1        False\n",
       "3        False\n",
       "4        False\n",
       "5        False\n",
       "         ...  \n",
       "49995    False\n",
       "49996    False\n",
       "49997    False\n",
       "49998    False\n",
       "49999    False\n",
       "Name: is_arrested, Length: 48010, dtype: object"
      ]
     },
     "execution_count": 21,
     "metadata": {},
     "output_type": "execute_result"
    }
   ],
   "source": [
    "ri.is_arrested"
   ]
  },
  {
   "cell_type": "code",
   "execution_count": 22,
   "metadata": {},
   "outputs": [
    {
     "data": {
      "text/plain": [
       "dtype('O')"
      ]
     },
     "execution_count": 22,
     "metadata": {},
     "output_type": "execute_result"
    }
   ],
   "source": [
    "ri.is_arrested.dtype"
   ]
  },
  {
   "cell_type": "code",
   "execution_count": 23,
   "metadata": {},
   "outputs": [],
   "source": [
    "ri.is_arrested= ri.is_arrested.astype(\"bool\")"
   ]
  },
  {
   "cell_type": "code",
   "execution_count": 24,
   "metadata": {},
   "outputs": [
    {
     "data": {
      "text/plain": [
       "dtype('bool')"
      ]
     },
     "execution_count": 24,
     "metadata": {},
     "output_type": "execute_result"
    }
   ],
   "source": [
    "ri.is_arrested.dtype"
   ]
  },
  {
   "cell_type": "markdown",
   "metadata": {
    "id": "a_hpehkiwYh_"
   },
   "source": [
    "***"
   ]
  },
  {
   "cell_type": "markdown",
   "metadata": {
    "id": "-GEUf8yKwYh_"
   },
   "source": [
    "## Combining object columns"
   ]
  },
  {
   "cell_type": "markdown",
   "metadata": {
    "id": "1Df-ilz2wYh_"
   },
   "source": [
    "Currently, the date and time of each traffic stop are stored in separate object columns: ``stop_date`` and ``stop_time``.\n",
    "\n",
    "You'll combine these two columns into a single column, and then convert it to ``datetime`` format. This will enable convenient date-based attributes that we'll use later in the course."
   ]
  },
  {
   "cell_type": "markdown",
   "metadata": {
    "id": "hZd8wKUMwYiA"
   },
   "source": [
    "**INSTRUCTIONS**\n",
    "\n",
    "*    Get the first row of the data frame and see the dtypes of ``stop_date`` and ``stop_time`` columns.\n",
    "*    Use a string method to concatenate ``stop_date`` and ``stop_time`` (separated by a space), and store the result in ``combined``.\n",
    "*    Convert ``combined`` to ``datetime`` format, and store the result in a new column named ``stop_datetime``.\n",
    "*    Drop ``stop_date`` and ``stop_time`` columns from dataframe and check after dropping by getting first row.\n",
    "*    Examine the ``DataFrame`` ``.dtypes`` to confirm that ``stop_datetime`` is a datetime column."
   ]
  },
  {
   "cell_type": "code",
   "execution_count": 25,
   "metadata": {},
   "outputs": [
    {
     "data": {
      "text/plain": [
       "Index(['id', 'stop_date', 'stop_time', 'location_raw', 'county_fips',\n",
       "       'fine_grained_location', 'police_department', 'driver_gender',\n",
       "       'driver_age_raw', 'driver_age', 'driver_race_raw', 'driver_race',\n",
       "       'violation_raw', 'violation', 'search_conducted', 'search_type_raw',\n",
       "       'search_type', 'contraband_found', 'stop_outcome', 'is_arrested',\n",
       "       'stop_duration', 'out_of_state', 'drugs_related_stop', 'district'],\n",
       "      dtype='object')"
      ]
     },
     "execution_count": 25,
     "metadata": {},
     "output_type": "execute_result"
    }
   ],
   "source": [
    "ri.columns"
   ]
  },
  {
   "cell_type": "code",
   "execution_count": 26,
   "metadata": {},
   "outputs": [
    {
     "data": {
      "text/html": [
       "<div>\n",
       "<style scoped>\n",
       "    .dataframe tbody tr th:only-of-type {\n",
       "        vertical-align: middle;\n",
       "    }\n",
       "\n",
       "    .dataframe tbody tr th {\n",
       "        vertical-align: top;\n",
       "    }\n",
       "\n",
       "    .dataframe thead th {\n",
       "        text-align: right;\n",
       "    }\n",
       "</style>\n",
       "<table border=\"1\" class=\"dataframe\">\n",
       "  <thead>\n",
       "    <tr style=\"text-align: right;\">\n",
       "      <th></th>\n",
       "      <th>id</th>\n",
       "      <th>stop_date</th>\n",
       "      <th>stop_time</th>\n",
       "      <th>location_raw</th>\n",
       "      <th>county_fips</th>\n",
       "      <th>fine_grained_location</th>\n",
       "      <th>police_department</th>\n",
       "      <th>driver_gender</th>\n",
       "      <th>driver_age_raw</th>\n",
       "      <th>driver_age</th>\n",
       "      <th>...</th>\n",
       "      <th>search_conducted</th>\n",
       "      <th>search_type_raw</th>\n",
       "      <th>search_type</th>\n",
       "      <th>contraband_found</th>\n",
       "      <th>stop_outcome</th>\n",
       "      <th>is_arrested</th>\n",
       "      <th>stop_duration</th>\n",
       "      <th>out_of_state</th>\n",
       "      <th>drugs_related_stop</th>\n",
       "      <th>district</th>\n",
       "    </tr>\n",
       "  </thead>\n",
       "  <tbody>\n",
       "    <tr>\n",
       "      <th>0</th>\n",
       "      <td>RI-2005-00001</td>\n",
       "      <td>2005-01-02</td>\n",
       "      <td>01:55</td>\n",
       "      <td>Zone K1</td>\n",
       "      <td>NaN</td>\n",
       "      <td>NaN</td>\n",
       "      <td>600</td>\n",
       "      <td>M</td>\n",
       "      <td>1985.0</td>\n",
       "      <td>20.0</td>\n",
       "      <td>...</td>\n",
       "      <td>False</td>\n",
       "      <td>NaN</td>\n",
       "      <td>NaN</td>\n",
       "      <td>False</td>\n",
       "      <td>Citation</td>\n",
       "      <td>False</td>\n",
       "      <td>0-15 Min</td>\n",
       "      <td>False</td>\n",
       "      <td>False</td>\n",
       "      <td>Zone K1</td>\n",
       "    </tr>\n",
       "  </tbody>\n",
       "</table>\n",
       "<p>1 rows × 24 columns</p>\n",
       "</div>"
      ],
      "text/plain": [
       "              id   stop_date stop_time location_raw  county_fips  \\\n",
       "0  RI-2005-00001  2005-01-02     01:55      Zone K1          NaN   \n",
       "\n",
       "   fine_grained_location police_department driver_gender  driver_age_raw  \\\n",
       "0                    NaN               600             M          1985.0   \n",
       "\n",
       "   driver_age  ... search_conducted search_type_raw search_type  \\\n",
       "0        20.0  ...            False             NaN         NaN   \n",
       "\n",
       "  contraband_found  stop_outcome is_arrested stop_duration  out_of_state  \\\n",
       "0            False      Citation       False      0-15 Min         False   \n",
       "\n",
       "  drugs_related_stop  district  \n",
       "0              False   Zone K1  \n",
       "\n",
       "[1 rows x 24 columns]"
      ]
     },
     "execution_count": 26,
     "metadata": {},
     "output_type": "execute_result"
    }
   ],
   "source": [
    "ri.head(1)"
   ]
  },
  {
   "cell_type": "code",
   "execution_count": 27,
   "metadata": {},
   "outputs": [
    {
     "data": {
      "text/plain": [
       "id                        object\n",
       "stop_date                 object\n",
       "stop_time                 object\n",
       "location_raw              object\n",
       "county_fips              float64\n",
       "fine_grained_location    float64\n",
       "police_department         object\n",
       "driver_gender             object\n",
       "driver_age_raw           float64\n",
       "driver_age               float64\n",
       "driver_race_raw           object\n",
       "driver_race               object\n",
       "violation_raw             object\n",
       "violation                 object\n",
       "search_conducted            bool\n",
       "search_type_raw           object\n",
       "search_type               object\n",
       "contraband_found            bool\n",
       "stop_outcome              object\n",
       "is_arrested                 bool\n",
       "stop_duration             object\n",
       "out_of_state              object\n",
       "drugs_related_stop          bool\n",
       "district                  object\n",
       "dtype: object"
      ]
     },
     "execution_count": 27,
     "metadata": {},
     "output_type": "execute_result"
    }
   ],
   "source": [
    "ri.dtypes"
   ]
  },
  {
   "cell_type": "code",
   "execution_count": 28,
   "metadata": {},
   "outputs": [
    {
     "data": {
      "text/plain": [
       "dtype('O')"
      ]
     },
     "execution_count": 28,
     "metadata": {},
     "output_type": "execute_result"
    }
   ],
   "source": [
    "ri.stop_date.dtype"
   ]
  },
  {
   "cell_type": "code",
   "execution_count": 29,
   "metadata": {},
   "outputs": [
    {
     "data": {
      "text/plain": [
       "dtype('O')"
      ]
     },
     "execution_count": 29,
     "metadata": {},
     "output_type": "execute_result"
    }
   ],
   "source": [
    "ri.stop_time.dtype"
   ]
  },
  {
   "cell_type": "code",
   "execution_count": 30,
   "metadata": {},
   "outputs": [],
   "source": [
    "ri.rename(columns = {'stop_date':'stop date', 'stop_time':'stop time'},inplace=True)"
   ]
  },
  {
   "cell_type": "code",
   "execution_count": 31,
   "metadata": {},
   "outputs": [
    {
     "data": {
      "text/plain": [
       "Index(['id', 'stop date', 'stop time', 'location_raw', 'county_fips',\n",
       "       'fine_grained_location', 'police_department', 'driver_gender',\n",
       "       'driver_age_raw', 'driver_age', 'driver_race_raw', 'driver_race',\n",
       "       'violation_raw', 'violation', 'search_conducted', 'search_type_raw',\n",
       "       'search_type', 'contraband_found', 'stop_outcome', 'is_arrested',\n",
       "       'stop_duration', 'out_of_state', 'drugs_related_stop', 'district'],\n",
       "      dtype='object')"
      ]
     },
     "execution_count": 31,
     "metadata": {},
     "output_type": "execute_result"
    }
   ],
   "source": [
    "ri.columns"
   ]
  },
  {
   "cell_type": "code",
   "execution_count": 32,
   "metadata": {},
   "outputs": [],
   "source": [
    "s1= ri.rename(columns = {'stop_date':'stop date'}, inplace=True)\n",
    "s1"
   ]
  },
  {
   "cell_type": "code",
   "execution_count": 33,
   "metadata": {},
   "outputs": [],
   "source": [
    "s2=ri.rename(columns = {'stop time':'stop time'}, inplace=True)\n",
    "s2"
   ]
  },
  {
   "cell_type": "code",
   "execution_count": 34,
   "metadata": {},
   "outputs": [
    {
     "data": {
      "text/html": [
       "<div>\n",
       "<style scoped>\n",
       "    .dataframe tbody tr th:only-of-type {\n",
       "        vertical-align: middle;\n",
       "    }\n",
       "\n",
       "    .dataframe tbody tr th {\n",
       "        vertical-align: top;\n",
       "    }\n",
       "\n",
       "    .dataframe thead th {\n",
       "        text-align: right;\n",
       "    }\n",
       "</style>\n",
       "<table border=\"1\" class=\"dataframe\">\n",
       "  <thead>\n",
       "    <tr style=\"text-align: right;\">\n",
       "      <th></th>\n",
       "      <th>stop date</th>\n",
       "      <th>stop time</th>\n",
       "    </tr>\n",
       "  </thead>\n",
       "  <tbody>\n",
       "    <tr>\n",
       "      <th>0</th>\n",
       "      <td>2005-01-02</td>\n",
       "      <td>01:55</td>\n",
       "    </tr>\n",
       "    <tr>\n",
       "      <th>1</th>\n",
       "      <td>2005-01-02</td>\n",
       "      <td>20:30</td>\n",
       "    </tr>\n",
       "    <tr>\n",
       "      <th>3</th>\n",
       "      <td>2005-01-04</td>\n",
       "      <td>12:55</td>\n",
       "    </tr>\n",
       "    <tr>\n",
       "      <th>4</th>\n",
       "      <td>2005-01-06</td>\n",
       "      <td>01:30</td>\n",
       "    </tr>\n",
       "    <tr>\n",
       "      <th>5</th>\n",
       "      <td>2005-01-12</td>\n",
       "      <td>08:05</td>\n",
       "    </tr>\n",
       "    <tr>\n",
       "      <th>...</th>\n",
       "      <td>...</td>\n",
       "      <td>...</td>\n",
       "    </tr>\n",
       "    <tr>\n",
       "      <th>49995</th>\n",
       "      <td>2006-08-08</td>\n",
       "      <td>22:45</td>\n",
       "    </tr>\n",
       "    <tr>\n",
       "      <th>49996</th>\n",
       "      <td>2006-08-08</td>\n",
       "      <td>22:45</td>\n",
       "    </tr>\n",
       "    <tr>\n",
       "      <th>49997</th>\n",
       "      <td>2006-08-08</td>\n",
       "      <td>22:53</td>\n",
       "    </tr>\n",
       "    <tr>\n",
       "      <th>49998</th>\n",
       "      <td>2006-08-08</td>\n",
       "      <td>23:00</td>\n",
       "    </tr>\n",
       "    <tr>\n",
       "      <th>49999</th>\n",
       "      <td>2006-08-08</td>\n",
       "      <td>23:00</td>\n",
       "    </tr>\n",
       "  </tbody>\n",
       "</table>\n",
       "<p>48010 rows × 2 columns</p>\n",
       "</div>"
      ],
      "text/plain": [
       "        stop date stop time\n",
       "0      2005-01-02     01:55\n",
       "1      2005-01-02     20:30\n",
       "3      2005-01-04     12:55\n",
       "4      2005-01-06     01:30\n",
       "5      2005-01-12     08:05\n",
       "...           ...       ...\n",
       "49995  2006-08-08     22:45\n",
       "49996  2006-08-08     22:45\n",
       "49997  2006-08-08     22:53\n",
       "49998  2006-08-08     23:00\n",
       "49999  2006-08-08     23:00\n",
       "\n",
       "[48010 rows x 2 columns]"
      ]
     },
     "execution_count": 34,
     "metadata": {},
     "output_type": "execute_result"
    }
   ],
   "source": [
    "ri_final = ri[['stop date', 'stop time']]\n",
    "ri_final"
   ]
  },
  {
   "cell_type": "code",
   "execution_count": 35,
   "metadata": {},
   "outputs": [
    {
     "data": {
      "text/plain": [
       "0        2005-01-02 01:55\n",
       "1        2005-01-02 20:30\n",
       "3        2005-01-04 12:55\n",
       "4        2005-01-06 01:30\n",
       "5        2005-01-12 08:05\n",
       "               ...       \n",
       "49995    2006-08-08 22:45\n",
       "49996    2006-08-08 22:45\n",
       "49997    2006-08-08 22:53\n",
       "49998    2006-08-08 23:00\n",
       "49999    2006-08-08 23:00\n",
       "Length: 48010, dtype: object"
      ]
     },
     "execution_count": 35,
     "metadata": {},
     "output_type": "execute_result"
    }
   ],
   "source": [
    "combined= ri[\"stop date\"] + \" \"+ ri[\"stop time\"]\n",
    "combined"
   ]
  },
  {
   "cell_type": "code",
   "execution_count": 36,
   "metadata": {},
   "outputs": [],
   "source": [
    "\n",
    "ri[\"stop_datetime\"]=pd.to_datetime(combined)"
   ]
  },
  {
   "cell_type": "code",
   "execution_count": 37,
   "metadata": {},
   "outputs": [],
   "source": [
    "ri.drop(columns = [\"stop time\", \"stop date\"], inplace=True)"
   ]
  },
  {
   "cell_type": "code",
   "execution_count": null,
   "metadata": {},
   "outputs": [],
   "source": []
  },
  {
   "cell_type": "markdown",
   "metadata": {},
   "source": [
    "***"
   ]
  },
  {
   "cell_type": "markdown",
   "metadata": {
    "id": "UJoHwRVvwYiA"
   },
   "source": [
    "The last step that you'll take in this chapter is to set the ``stop_datetime`` column as the ``DataFrame``'s index. By replacing the default index with a ``DatetimeIndex``, you'll make it easier to analyze the dataset by date and time, which will come in handy later in the course."
   ]
  },
  {
   "cell_type": "markdown",
   "metadata": {
    "id": "01tck5-WwYiB"
   },
   "source": [
    "**INSTRUCTIONS**\n",
    "\n",
    "*   First check out the shape of the dataframe.\n",
    "*   Set ``stop_datetime`` as the ``DataFrame`` index.\n",
    "*   Examine the index to verify that it is a ``DatetimeIndex``.\n",
    "*   Check again the shape of the dataframe to confirm that ``stop_datetime`` is no longer one of the columns. \n",
    "*   Examine the ``DataFrame`` columns to confirm that ``stop_datetime`` is no longer one of the columns."
   ]
  },
  {
   "cell_type": "code",
   "execution_count": 38,
   "metadata": {},
   "outputs": [
    {
     "data": {
      "text/plain": [
       "(48010, 23)"
      ]
     },
     "execution_count": 38,
     "metadata": {},
     "output_type": "execute_result"
    }
   ],
   "source": [
    "ri.shape"
   ]
  },
  {
   "cell_type": "code",
   "execution_count": 39,
   "metadata": {},
   "outputs": [
    {
     "data": {
      "text/html": [
       "<div>\n",
       "<style scoped>\n",
       "    .dataframe tbody tr th:only-of-type {\n",
       "        vertical-align: middle;\n",
       "    }\n",
       "\n",
       "    .dataframe tbody tr th {\n",
       "        vertical-align: top;\n",
       "    }\n",
       "\n",
       "    .dataframe thead th {\n",
       "        text-align: right;\n",
       "    }\n",
       "</style>\n",
       "<table border=\"1\" class=\"dataframe\">\n",
       "  <thead>\n",
       "    <tr style=\"text-align: right;\">\n",
       "      <th></th>\n",
       "      <th>id</th>\n",
       "      <th>location_raw</th>\n",
       "      <th>county_fips</th>\n",
       "      <th>fine_grained_location</th>\n",
       "      <th>police_department</th>\n",
       "      <th>driver_gender</th>\n",
       "      <th>driver_age_raw</th>\n",
       "      <th>driver_age</th>\n",
       "      <th>driver_race_raw</th>\n",
       "      <th>driver_race</th>\n",
       "      <th>...</th>\n",
       "      <th>search_type_raw</th>\n",
       "      <th>search_type</th>\n",
       "      <th>contraband_found</th>\n",
       "      <th>stop_outcome</th>\n",
       "      <th>is_arrested</th>\n",
       "      <th>stop_duration</th>\n",
       "      <th>out_of_state</th>\n",
       "      <th>drugs_related_stop</th>\n",
       "      <th>district</th>\n",
       "      <th>stop_datetime</th>\n",
       "    </tr>\n",
       "  </thead>\n",
       "  <tbody>\n",
       "    <tr>\n",
       "      <th>0</th>\n",
       "      <td>RI-2005-00001</td>\n",
       "      <td>Zone K1</td>\n",
       "      <td>NaN</td>\n",
       "      <td>NaN</td>\n",
       "      <td>600</td>\n",
       "      <td>M</td>\n",
       "      <td>1985.0</td>\n",
       "      <td>20.0</td>\n",
       "      <td>W</td>\n",
       "      <td>White</td>\n",
       "      <td>...</td>\n",
       "      <td>NaN</td>\n",
       "      <td>NaN</td>\n",
       "      <td>False</td>\n",
       "      <td>Citation</td>\n",
       "      <td>False</td>\n",
       "      <td>0-15 Min</td>\n",
       "      <td>False</td>\n",
       "      <td>False</td>\n",
       "      <td>Zone K1</td>\n",
       "      <td>2005-01-02 01:55:00</td>\n",
       "    </tr>\n",
       "    <tr>\n",
       "      <th>1</th>\n",
       "      <td>RI-2005-00002</td>\n",
       "      <td>Zone X4</td>\n",
       "      <td>NaN</td>\n",
       "      <td>NaN</td>\n",
       "      <td>500</td>\n",
       "      <td>M</td>\n",
       "      <td>1987.0</td>\n",
       "      <td>18.0</td>\n",
       "      <td>W</td>\n",
       "      <td>White</td>\n",
       "      <td>...</td>\n",
       "      <td>NaN</td>\n",
       "      <td>NaN</td>\n",
       "      <td>False</td>\n",
       "      <td>Citation</td>\n",
       "      <td>False</td>\n",
       "      <td>16-30 Min</td>\n",
       "      <td>False</td>\n",
       "      <td>False</td>\n",
       "      <td>Zone X4</td>\n",
       "      <td>2005-01-02 20:30:00</td>\n",
       "    </tr>\n",
       "    <tr>\n",
       "      <th>3</th>\n",
       "      <td>RI-2005-00004</td>\n",
       "      <td>Zone X4</td>\n",
       "      <td>NaN</td>\n",
       "      <td>NaN</td>\n",
       "      <td>500</td>\n",
       "      <td>M</td>\n",
       "      <td>1986.0</td>\n",
       "      <td>19.0</td>\n",
       "      <td>W</td>\n",
       "      <td>White</td>\n",
       "      <td>...</td>\n",
       "      <td>NaN</td>\n",
       "      <td>NaN</td>\n",
       "      <td>False</td>\n",
       "      <td>Citation</td>\n",
       "      <td>False</td>\n",
       "      <td>0-15 Min</td>\n",
       "      <td>False</td>\n",
       "      <td>False</td>\n",
       "      <td>Zone X4</td>\n",
       "      <td>2005-01-04 12:55:00</td>\n",
       "    </tr>\n",
       "    <tr>\n",
       "      <th>4</th>\n",
       "      <td>RI-2005-00005</td>\n",
       "      <td>Zone X4</td>\n",
       "      <td>NaN</td>\n",
       "      <td>NaN</td>\n",
       "      <td>500</td>\n",
       "      <td>M</td>\n",
       "      <td>1978.0</td>\n",
       "      <td>27.0</td>\n",
       "      <td>B</td>\n",
       "      <td>Black</td>\n",
       "      <td>...</td>\n",
       "      <td>NaN</td>\n",
       "      <td>NaN</td>\n",
       "      <td>False</td>\n",
       "      <td>Citation</td>\n",
       "      <td>False</td>\n",
       "      <td>0-15 Min</td>\n",
       "      <td>False</td>\n",
       "      <td>False</td>\n",
       "      <td>Zone X4</td>\n",
       "      <td>2005-01-06 01:30:00</td>\n",
       "    </tr>\n",
       "    <tr>\n",
       "      <th>5</th>\n",
       "      <td>RI-2005-00006</td>\n",
       "      <td>Zone X1</td>\n",
       "      <td>NaN</td>\n",
       "      <td>NaN</td>\n",
       "      <td>0</td>\n",
       "      <td>M</td>\n",
       "      <td>1973.0</td>\n",
       "      <td>32.0</td>\n",
       "      <td>B</td>\n",
       "      <td>Black</td>\n",
       "      <td>...</td>\n",
       "      <td>NaN</td>\n",
       "      <td>NaN</td>\n",
       "      <td>False</td>\n",
       "      <td>Citation</td>\n",
       "      <td>False</td>\n",
       "      <td>30+ Min</td>\n",
       "      <td>True</td>\n",
       "      <td>False</td>\n",
       "      <td>Zone X1</td>\n",
       "      <td>2005-01-12 08:05:00</td>\n",
       "    </tr>\n",
       "  </tbody>\n",
       "</table>\n",
       "<p>5 rows × 23 columns</p>\n",
       "</div>"
      ],
      "text/plain": [
       "              id location_raw  county_fips  fine_grained_location  \\\n",
       "0  RI-2005-00001      Zone K1          NaN                    NaN   \n",
       "1  RI-2005-00002      Zone X4          NaN                    NaN   \n",
       "3  RI-2005-00004      Zone X4          NaN                    NaN   \n",
       "4  RI-2005-00005      Zone X4          NaN                    NaN   \n",
       "5  RI-2005-00006      Zone X1          NaN                    NaN   \n",
       "\n",
       "  police_department driver_gender  driver_age_raw  driver_age driver_race_raw  \\\n",
       "0               600             M          1985.0        20.0               W   \n",
       "1               500             M          1987.0        18.0               W   \n",
       "3               500             M          1986.0        19.0               W   \n",
       "4               500             M          1978.0        27.0               B   \n",
       "5                 0             M          1973.0        32.0               B   \n",
       "\n",
       "  driver_race  ... search_type_raw search_type  contraband_found stop_outcome  \\\n",
       "0       White  ...             NaN         NaN             False     Citation   \n",
       "1       White  ...             NaN         NaN             False     Citation   \n",
       "3       White  ...             NaN         NaN             False     Citation   \n",
       "4       Black  ...             NaN         NaN             False     Citation   \n",
       "5       Black  ...             NaN         NaN             False     Citation   \n",
       "\n",
       "  is_arrested  stop_duration out_of_state  drugs_related_stop district  \\\n",
       "0       False       0-15 Min        False               False  Zone K1   \n",
       "1       False      16-30 Min        False               False  Zone X4   \n",
       "3       False       0-15 Min        False               False  Zone X4   \n",
       "4       False       0-15 Min        False               False  Zone X4   \n",
       "5       False        30+ Min         True               False  Zone X1   \n",
       "\n",
       "        stop_datetime  \n",
       "0 2005-01-02 01:55:00  \n",
       "1 2005-01-02 20:30:00  \n",
       "3 2005-01-04 12:55:00  \n",
       "4 2005-01-06 01:30:00  \n",
       "5 2005-01-12 08:05:00  \n",
       "\n",
       "[5 rows x 23 columns]"
      ]
     },
     "execution_count": 39,
     "metadata": {},
     "output_type": "execute_result"
    }
   ],
   "source": [
    "ri.head()"
   ]
  },
  {
   "cell_type": "code",
   "execution_count": 40,
   "metadata": {},
   "outputs": [],
   "source": [
    "ri.set_index(\"stop_datetime\", inplace=True)"
   ]
  },
  {
   "cell_type": "code",
   "execution_count": 41,
   "metadata": {},
   "outputs": [
    {
     "data": {
      "text/html": [
       "<div>\n",
       "<style scoped>\n",
       "    .dataframe tbody tr th:only-of-type {\n",
       "        vertical-align: middle;\n",
       "    }\n",
       "\n",
       "    .dataframe tbody tr th {\n",
       "        vertical-align: top;\n",
       "    }\n",
       "\n",
       "    .dataframe thead th {\n",
       "        text-align: right;\n",
       "    }\n",
       "</style>\n",
       "<table border=\"1\" class=\"dataframe\">\n",
       "  <thead>\n",
       "    <tr style=\"text-align: right;\">\n",
       "      <th></th>\n",
       "      <th>id</th>\n",
       "      <th>location_raw</th>\n",
       "      <th>county_fips</th>\n",
       "      <th>fine_grained_location</th>\n",
       "      <th>police_department</th>\n",
       "      <th>driver_gender</th>\n",
       "      <th>driver_age_raw</th>\n",
       "      <th>driver_age</th>\n",
       "      <th>driver_race_raw</th>\n",
       "      <th>driver_race</th>\n",
       "      <th>...</th>\n",
       "      <th>search_conducted</th>\n",
       "      <th>search_type_raw</th>\n",
       "      <th>search_type</th>\n",
       "      <th>contraband_found</th>\n",
       "      <th>stop_outcome</th>\n",
       "      <th>is_arrested</th>\n",
       "      <th>stop_duration</th>\n",
       "      <th>out_of_state</th>\n",
       "      <th>drugs_related_stop</th>\n",
       "      <th>district</th>\n",
       "    </tr>\n",
       "    <tr>\n",
       "      <th>stop_datetime</th>\n",
       "      <th></th>\n",
       "      <th></th>\n",
       "      <th></th>\n",
       "      <th></th>\n",
       "      <th></th>\n",
       "      <th></th>\n",
       "      <th></th>\n",
       "      <th></th>\n",
       "      <th></th>\n",
       "      <th></th>\n",
       "      <th></th>\n",
       "      <th></th>\n",
       "      <th></th>\n",
       "      <th></th>\n",
       "      <th></th>\n",
       "      <th></th>\n",
       "      <th></th>\n",
       "      <th></th>\n",
       "      <th></th>\n",
       "      <th></th>\n",
       "      <th></th>\n",
       "    </tr>\n",
       "  </thead>\n",
       "  <tbody>\n",
       "    <tr>\n",
       "      <th>2005-01-02 01:55:00</th>\n",
       "      <td>RI-2005-00001</td>\n",
       "      <td>Zone K1</td>\n",
       "      <td>NaN</td>\n",
       "      <td>NaN</td>\n",
       "      <td>600</td>\n",
       "      <td>M</td>\n",
       "      <td>1985.0</td>\n",
       "      <td>20.0</td>\n",
       "      <td>W</td>\n",
       "      <td>White</td>\n",
       "      <td>...</td>\n",
       "      <td>False</td>\n",
       "      <td>NaN</td>\n",
       "      <td>NaN</td>\n",
       "      <td>False</td>\n",
       "      <td>Citation</td>\n",
       "      <td>False</td>\n",
       "      <td>0-15 Min</td>\n",
       "      <td>False</td>\n",
       "      <td>False</td>\n",
       "      <td>Zone K1</td>\n",
       "    </tr>\n",
       "    <tr>\n",
       "      <th>2005-01-02 20:30:00</th>\n",
       "      <td>RI-2005-00002</td>\n",
       "      <td>Zone X4</td>\n",
       "      <td>NaN</td>\n",
       "      <td>NaN</td>\n",
       "      <td>500</td>\n",
       "      <td>M</td>\n",
       "      <td>1987.0</td>\n",
       "      <td>18.0</td>\n",
       "      <td>W</td>\n",
       "      <td>White</td>\n",
       "      <td>...</td>\n",
       "      <td>False</td>\n",
       "      <td>NaN</td>\n",
       "      <td>NaN</td>\n",
       "      <td>False</td>\n",
       "      <td>Citation</td>\n",
       "      <td>False</td>\n",
       "      <td>16-30 Min</td>\n",
       "      <td>False</td>\n",
       "      <td>False</td>\n",
       "      <td>Zone X4</td>\n",
       "    </tr>\n",
       "    <tr>\n",
       "      <th>2005-01-04 12:55:00</th>\n",
       "      <td>RI-2005-00004</td>\n",
       "      <td>Zone X4</td>\n",
       "      <td>NaN</td>\n",
       "      <td>NaN</td>\n",
       "      <td>500</td>\n",
       "      <td>M</td>\n",
       "      <td>1986.0</td>\n",
       "      <td>19.0</td>\n",
       "      <td>W</td>\n",
       "      <td>White</td>\n",
       "      <td>...</td>\n",
       "      <td>False</td>\n",
       "      <td>NaN</td>\n",
       "      <td>NaN</td>\n",
       "      <td>False</td>\n",
       "      <td>Citation</td>\n",
       "      <td>False</td>\n",
       "      <td>0-15 Min</td>\n",
       "      <td>False</td>\n",
       "      <td>False</td>\n",
       "      <td>Zone X4</td>\n",
       "    </tr>\n",
       "  </tbody>\n",
       "</table>\n",
       "<p>3 rows × 22 columns</p>\n",
       "</div>"
      ],
      "text/plain": [
       "                                id location_raw  county_fips  \\\n",
       "stop_datetime                                                  \n",
       "2005-01-02 01:55:00  RI-2005-00001      Zone K1          NaN   \n",
       "2005-01-02 20:30:00  RI-2005-00002      Zone X4          NaN   \n",
       "2005-01-04 12:55:00  RI-2005-00004      Zone X4          NaN   \n",
       "\n",
       "                     fine_grained_location police_department driver_gender  \\\n",
       "stop_datetime                                                                \n",
       "2005-01-02 01:55:00                    NaN               600             M   \n",
       "2005-01-02 20:30:00                    NaN               500             M   \n",
       "2005-01-04 12:55:00                    NaN               500             M   \n",
       "\n",
       "                     driver_age_raw  driver_age driver_race_raw driver_race  \\\n",
       "stop_datetime                                                                 \n",
       "2005-01-02 01:55:00          1985.0        20.0               W       White   \n",
       "2005-01-02 20:30:00          1987.0        18.0               W       White   \n",
       "2005-01-04 12:55:00          1986.0        19.0               W       White   \n",
       "\n",
       "                     ... search_conducted search_type_raw  search_type  \\\n",
       "stop_datetime        ...                                                 \n",
       "2005-01-02 01:55:00  ...            False             NaN          NaN   \n",
       "2005-01-02 20:30:00  ...            False             NaN          NaN   \n",
       "2005-01-04 12:55:00  ...            False             NaN          NaN   \n",
       "\n",
       "                    contraband_found stop_outcome  is_arrested stop_duration  \\\n",
       "stop_datetime                                                                  \n",
       "2005-01-02 01:55:00            False     Citation        False      0-15 Min   \n",
       "2005-01-02 20:30:00            False     Citation        False     16-30 Min   \n",
       "2005-01-04 12:55:00            False     Citation        False      0-15 Min   \n",
       "\n",
       "                     out_of_state drugs_related_stop district  \n",
       "stop_datetime                                                  \n",
       "2005-01-02 01:55:00         False              False  Zone K1  \n",
       "2005-01-02 20:30:00         False              False  Zone X4  \n",
       "2005-01-04 12:55:00         False              False  Zone X4  \n",
       "\n",
       "[3 rows x 22 columns]"
      ]
     },
     "execution_count": 41,
     "metadata": {},
     "output_type": "execute_result"
    }
   ],
   "source": [
    "ri.head(3)"
   ]
  },
  {
   "cell_type": "code",
   "execution_count": 42,
   "metadata": {},
   "outputs": [
    {
     "data": {
      "text/plain": [
       "(48010, 22)"
      ]
     },
     "execution_count": 42,
     "metadata": {},
     "output_type": "execute_result"
    }
   ],
   "source": [
    "ri.shape"
   ]
  },
  {
   "cell_type": "code",
   "execution_count": 43,
   "metadata": {},
   "outputs": [
    {
     "data": {
      "text/plain": [
       "Index(['id', 'location_raw', 'county_fips', 'fine_grained_location',\n",
       "       'police_department', 'driver_gender', 'driver_age_raw', 'driver_age',\n",
       "       'driver_race_raw', 'driver_race', 'violation_raw', 'violation',\n",
       "       'search_conducted', 'search_type_raw', 'search_type',\n",
       "       'contraband_found', 'stop_outcome', 'is_arrested', 'stop_duration',\n",
       "       'out_of_state', 'drugs_related_stop', 'district'],\n",
       "      dtype='object')"
      ]
     },
     "execution_count": 43,
     "metadata": {},
     "output_type": "execute_result"
    }
   ],
   "source": [
    "ri.columns"
   ]
  },
  {
   "cell_type": "markdown",
   "metadata": {},
   "source": [
    "___\n",
    "\n",
    "<p style=\"text-align: center;\"><img src=\"https://docs.google.com/uc?id=1lY0Uj5R04yMY3-ZppPWxqCr5pvBLYPnV\" class=\"img-fluid\" alt=\"CLRSWY\"></p>\n",
    "\n",
    "___"
   ]
  },
  {
   "cell_type": "markdown",
   "metadata": {},
   "source": [
    "**- Please save the edits made so far to a new csv file with the name RI_Part_1 to use it in the next step.**\n",
    "\n",
    "**- Load and read new csv file.**\n",
    "\n",
    "**- Check the first five rows.***\n",
    "\n",
    "**- Check the shape of the dataframe.**"
   ]
  },
  {
   "cell_type": "code",
   "execution_count": 44,
   "metadata": {},
   "outputs": [
    {
     "data": {
      "text/plain": [
       "True"
      ]
     },
     "execution_count": 44,
     "metadata": {},
     "output_type": "execute_result"
    }
   ],
   "source": [
    "ri.index.inferred_type == \"datetime64\"\n"
   ]
  },
  {
   "cell_type": "code",
   "execution_count": 45,
   "metadata": {},
   "outputs": [],
   "source": [
    "assert ri.index.inferred_type == 'datetime64'\n"
   ]
  },
  {
   "cell_type": "code",
   "execution_count": 46,
   "metadata": {},
   "outputs": [],
   "source": [
    "ri.to_csv(\"RI_Part_1.csv\", index_label = False)\n"
   ]
  },
  {
   "cell_type": "code",
   "execution_count": 47,
   "metadata": {},
   "outputs": [],
   "source": [
    "ri1=pd.read_csv(\"RI_Part_1.csv\", low_memory=False)\n"
   ]
  },
  {
   "cell_type": "code",
   "execution_count": 48,
   "metadata": {},
   "outputs": [
    {
     "data": {
      "text/plain": [
       "(48010, 22)"
      ]
     },
     "execution_count": 48,
     "metadata": {},
     "output_type": "execute_result"
    }
   ],
   "source": [
    "ri1.shape"
   ]
  },
  {
   "cell_type": "code",
   "execution_count": 49,
   "metadata": {},
   "outputs": [
    {
     "name": "stdout",
     "output_type": "stream",
     "text": [
      "<class 'pandas.core.frame.DataFrame'>\n",
      "Index: 48010 entries, 2005-01-02 01:55:00 to 2006-08-08 23:00:00\n",
      "Data columns (total 22 columns):\n",
      " #   Column                 Non-Null Count  Dtype  \n",
      "---  ------                 --------------  -----  \n",
      " 0   id                     48010 non-null  object \n",
      " 1   location_raw           48010 non-null  object \n",
      " 2   county_fips            0 non-null      float64\n",
      " 3   fine_grained_location  0 non-null      float64\n",
      " 4   police_department      48010 non-null  object \n",
      " 5   driver_gender          48010 non-null  object \n",
      " 6   driver_age_raw         48010 non-null  float64\n",
      " 7   driver_age             47778 non-null  float64\n",
      " 8   driver_race_raw        48010 non-null  object \n",
      " 9   driver_race            48010 non-null  object \n",
      " 10  violation_raw          48010 non-null  object \n",
      " 11  violation              48010 non-null  object \n",
      " 12  search_conducted       48010 non-null  bool   \n",
      " 13  search_type_raw        2012 non-null   object \n",
      " 14  search_type            2012 non-null   object \n",
      " 15  contraband_found       48010 non-null  bool   \n",
      " 16  stop_outcome           48010 non-null  object \n",
      " 17  is_arrested            48010 non-null  bool   \n",
      " 18  stop_duration          48010 non-null  object \n",
      " 19  out_of_state           47795 non-null  object \n",
      " 20  drugs_related_stop     48010 non-null  bool   \n",
      " 21  district               48010 non-null  object \n",
      "dtypes: bool(4), float64(4), object(14)\n",
      "memory usage: 7.1+ MB\n"
     ]
    }
   ],
   "source": [
    "ri1.info()"
   ]
  },
  {
   "cell_type": "code",
   "execution_count": 50,
   "metadata": {},
   "outputs": [
    {
     "data": {
      "text/html": [
       "<div>\n",
       "<style scoped>\n",
       "    .dataframe tbody tr th:only-of-type {\n",
       "        vertical-align: middle;\n",
       "    }\n",
       "\n",
       "    .dataframe tbody tr th {\n",
       "        vertical-align: top;\n",
       "    }\n",
       "\n",
       "    .dataframe thead th {\n",
       "        text-align: right;\n",
       "    }\n",
       "</style>\n",
       "<table border=\"1\" class=\"dataframe\">\n",
       "  <thead>\n",
       "    <tr style=\"text-align: right;\">\n",
       "      <th></th>\n",
       "      <th>id</th>\n",
       "      <th>location_raw</th>\n",
       "      <th>county_fips</th>\n",
       "      <th>fine_grained_location</th>\n",
       "      <th>police_department</th>\n",
       "      <th>driver_gender</th>\n",
       "      <th>driver_age_raw</th>\n",
       "      <th>driver_age</th>\n",
       "      <th>driver_race_raw</th>\n",
       "      <th>driver_race</th>\n",
       "      <th>...</th>\n",
       "      <th>search_conducted</th>\n",
       "      <th>search_type_raw</th>\n",
       "      <th>search_type</th>\n",
       "      <th>contraband_found</th>\n",
       "      <th>stop_outcome</th>\n",
       "      <th>is_arrested</th>\n",
       "      <th>stop_duration</th>\n",
       "      <th>out_of_state</th>\n",
       "      <th>drugs_related_stop</th>\n",
       "      <th>district</th>\n",
       "    </tr>\n",
       "  </thead>\n",
       "  <tbody>\n",
       "    <tr>\n",
       "      <th>2005-01-02 01:55:00</th>\n",
       "      <td>RI-2005-00001</td>\n",
       "      <td>Zone K1</td>\n",
       "      <td>NaN</td>\n",
       "      <td>NaN</td>\n",
       "      <td>600</td>\n",
       "      <td>M</td>\n",
       "      <td>1985.0</td>\n",
       "      <td>20.0</td>\n",
       "      <td>W</td>\n",
       "      <td>White</td>\n",
       "      <td>...</td>\n",
       "      <td>False</td>\n",
       "      <td>NaN</td>\n",
       "      <td>NaN</td>\n",
       "      <td>False</td>\n",
       "      <td>Citation</td>\n",
       "      <td>False</td>\n",
       "      <td>0-15 Min</td>\n",
       "      <td>False</td>\n",
       "      <td>False</td>\n",
       "      <td>Zone K1</td>\n",
       "    </tr>\n",
       "  </tbody>\n",
       "</table>\n",
       "<p>1 rows × 22 columns</p>\n",
       "</div>"
      ],
      "text/plain": [
       "                                id location_raw  county_fips  \\\n",
       "2005-01-02 01:55:00  RI-2005-00001      Zone K1          NaN   \n",
       "\n",
       "                     fine_grained_location police_department driver_gender  \\\n",
       "2005-01-02 01:55:00                    NaN               600             M   \n",
       "\n",
       "                     driver_age_raw  driver_age driver_race_raw driver_race  \\\n",
       "2005-01-02 01:55:00          1985.0        20.0               W       White   \n",
       "\n",
       "                     ... search_conducted search_type_raw  search_type  \\\n",
       "2005-01-02 01:55:00  ...            False             NaN          NaN   \n",
       "\n",
       "                    contraband_found stop_outcome  is_arrested stop_duration  \\\n",
       "2005-01-02 01:55:00            False     Citation        False      0-15 Min   \n",
       "\n",
       "                     out_of_state drugs_related_stop district  \n",
       "2005-01-02 01:55:00         False              False  Zone K1  \n",
       "\n",
       "[1 rows x 22 columns]"
      ]
     },
     "execution_count": 50,
     "metadata": {},
     "output_type": "execute_result"
    }
   ],
   "source": [
    "ri1.head(1)"
   ]
  }
 ],
 "metadata": {
  "colab": {
   "collapsed_sections": [],
   "include_colab_link": true,
   "name": "01 01_Preparing_The_Data_For_Analysis(Student-C8301-Sam).ipynb",
   "provenance": []
  },
  "interpreter": {
   "hash": "6572bf9942b77bb3ec5a538efc62ddcece7cc03514ee18e10ea37ae91d0af093"
  },
  "kernelspec": {
   "display_name": "Python 3 (ipykernel)",
   "language": "python",
   "name": "python3"
  },
  "language_info": {
   "codemirror_mode": {
    "name": "ipython",
    "version": 3
   },
   "file_extension": ".py",
   "mimetype": "text/x-python",
   "name": "python",
   "nbconvert_exporter": "python",
   "pygments_lexer": "ipython3",
   "version": "3.9.7"
  },
  "varInspector": {
   "cols": {
    "lenName": 16,
    "lenType": 16,
    "lenVar": 40
   },
   "kernels_config": {
    "python": {
     "delete_cmd_postfix": "",
     "delete_cmd_prefix": "del ",
     "library": "var_list.py",
     "varRefreshCmd": "print(var_dic_list())"
    },
    "r": {
     "delete_cmd_postfix": ") ",
     "delete_cmd_prefix": "rm(",
     "library": "var_list.r",
     "varRefreshCmd": "cat(var_dic_list()) "
    }
   },
   "types_to_exclude": [
    "module",
    "function",
    "builtin_function_or_method",
    "instance",
    "_Feature"
   ],
   "window_display": false
  }
 },
 "nbformat": 4,
 "nbformat_minor": 1
}
