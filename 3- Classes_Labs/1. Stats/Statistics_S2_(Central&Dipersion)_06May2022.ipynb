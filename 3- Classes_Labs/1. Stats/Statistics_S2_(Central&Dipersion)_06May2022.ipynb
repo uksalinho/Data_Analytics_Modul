{
  "nbformat": 4,
  "nbformat_minor": 0,
  "metadata": {
    "colab": {
      "name": "Statistics_S2_(Central&Dipersion)_06May2022.ipynb",
      "provenance": [],
      "collapsed_sections": []
    },
    "kernelspec": {
      "name": "python3",
      "display_name": "Python 3"
    },
    "language_info": {
      "name": "python"
    }
  },
  "cells": [
    {
      "cell_type": "code",
      "execution_count": 1,
      "metadata": {
        "colab": {
          "base_uri": "https://localhost:8080/"
        },
        "id": "H87jY1-aE6rP",
        "outputId": "cb338e51-a74b-4b1b-9eb5-f374af49bf05"
      },
      "outputs": [
        {
          "output_type": "stream",
          "name": "stdout",
          "text": [
            "mean: 37.0\n",
            "median: 30.0\n",
            "mode: ModeResult(mode=array([33]), count=array([3]))\n"
          ]
        }
      ],
      "source": [
        "import numpy as np\n",
        "from scipy import stats\n",
        "\n",
        "salary = [102, 33, 26, 27, 30, 25, 33, 33, 24]\n",
        "\n",
        "mean_salary = np.mean(salary)\n",
        "print(\"mean:\", mean_salary)\n",
        "\n",
        "median_salary = np.median(salary)\n",
        "print(\"median:\", median_salary)\n",
        "\n",
        "mode_salary = stats.mode(salary)\n",
        "print(\"mode:\", mode_salary)\n"
      ]
    },
    {
      "cell_type": "code",
      "source": [
        "mode_salary[0][0]"
      ],
      "metadata": {
        "colab": {
          "base_uri": "https://localhost:8080/"
        },
        "id": "2FiXg1KKFxch",
        "outputId": "5ec95e20-855c-42f5-9e65-6fbea27420e0"
      },
      "execution_count": 2,
      "outputs": [
        {
          "output_type": "execute_result",
          "data": {
            "text/plain": [
              "33"
            ]
          },
          "metadata": {},
          "execution_count": 2
        }
      ]
    },
    {
      "cell_type": "markdown",
      "source": [
        "## How to Find Min, Max, and Range"
      ],
      "metadata": {
        "id": "scybkCY9IoTS"
      }
    },
    {
      "cell_type": "code",
      "source": [
        "data = [32, 36, 46, 47, 56, 69, 75, 79, 79, 88, 89, 91, 92, 93, 96, 97, 101, 105, 112, 116]\n",
        "\n",
        "print(\"min:\", np.min(data))\n",
        "print(\"max:\", np.max(data))\n",
        "print(\"range:\", np.max(data)-np.min(data))"
      ],
      "metadata": {
        "colab": {
          "base_uri": "https://localhost:8080/"
        },
        "id": "bl33vMGVIp3m",
        "outputId": "bc30a050-a1e4-4f28-be4c-f1b831fe5fca"
      },
      "execution_count": 3,
      "outputs": [
        {
          "output_type": "stream",
          "name": "stdout",
          "text": [
            "min: 32\n",
            "max: 116\n",
            "range: 84\n"
          ]
        }
      ]
    },
    {
      "cell_type": "markdown",
      "source": [
        "## How to Find Q1, Q3, and IQR"
      ],
      "metadata": {
        "id": "p6yulkRaIvd3"
      }
    },
    {
      "cell_type": "code",
      "source": [
        "# First quartile (Q1) \n",
        "Q1 = np.percentile(data, 25) \n",
        "print(\"Q1:\", Q1)"
      ],
      "metadata": {
        "colab": {
          "base_uri": "https://localhost:8080/"
        },
        "id": "2kxZdz2sIuPV",
        "outputId": "a88900ee-6d44-439d-b12a-4bf8cbf12c37"
      },
      "execution_count": 4,
      "outputs": [
        {
          "output_type": "stream",
          "name": "stdout",
          "text": [
            "Q1: 65.75\n"
          ]
        }
      ]
    },
    {
      "cell_type": "code",
      "source": [
        "#help(np.percentile)"
      ],
      "metadata": {
        "id": "g1wOq4wtJAMS"
      },
      "execution_count": 5,
      "outputs": []
    },
    {
      "cell_type": "code",
      "source": [
        "# Third quartile (Q3) \n",
        "Q3 = np.percentile(data, 75)\n",
        "print(\"Q3:\", Q3)"
      ],
      "metadata": {
        "colab": {
          "base_uri": "https://localhost:8080/"
        },
        "id": "JIhAqKRoI3Py",
        "outputId": "7872d57b-8ed4-4b9c-d533-352226b10230"
      },
      "execution_count": 6,
      "outputs": [
        {
          "output_type": "stream",
          "name": "stdout",
          "text": [
            "Q3: 96.25\n"
          ]
        }
      ]
    },
    {
      "cell_type": "code",
      "source": [
        "print(\"min:\", np.min(data))\n",
        "print(\"Q1:\", np.percentile(data, 25))\n",
        "print(\"median:\", np.median(data))\n",
        "print(\"Q3:\", np.percentile(data, 75))\n",
        "print(\"max:\", np.max(data))"
      ],
      "metadata": {
        "colab": {
          "base_uri": "https://localhost:8080/"
        },
        "id": "GQez88Uq304E",
        "outputId": "ccd2e58a-514f-4bff-9d9c-311c692a2da7"
      },
      "execution_count": 7,
      "outputs": [
        {
          "output_type": "stream",
          "name": "stdout",
          "text": [
            "min: 32\n",
            "Q1: 65.75\n",
            "median: 88.5\n",
            "Q3: 96.25\n",
            "max: 116\n"
          ]
        }
      ]
    },
    {
      "cell_type": "code",
      "source": [
        "import matplotlib.pyplot as plt\n",
        "plt.boxplot(data);"
      ],
      "metadata": {
        "colab": {
          "base_uri": "https://localhost:8080/",
          "height": 269
        },
        "id": "jVjTQPjlMXP6",
        "outputId": "c342fa11-4b18-45df-a3fe-b30e3a2e9fd7"
      },
      "execution_count": 8,
      "outputs": [
        {
          "output_type": "display_data",
          "data": {
            "text/plain": [
              "<Figure size 432x288 with 1 Axes>"
            ],
            "image/png": "[encoded data removed]"
          },
          "metadata": {
            "needs_background": "light"
          }
        }
      ]
    },
    {
      "cell_type": "code",
      "source": [
        "# Interquaritle range (IQR) \n",
        "IQR = Q3 - Q1 \n",
        "  \n",
        "print(\"IQR:\", IQR)"
      ],
      "metadata": {
        "colab": {
          "base_uri": "https://localhost:8080/"
        },
        "id": "UqFoDj_NKY0p",
        "outputId": "6c26b653-931a-4a52-fa5c-c6d097fd6c42"
      },
      "execution_count": 9,
      "outputs": [
        {
          "output_type": "stream",
          "name": "stdout",
          "text": [
            "IQR: 30.5\n"
          ]
        }
      ]
    },
    {
      "cell_type": "code",
      "source": [
        "q75, q25 = np.percentile(data, [75, 25])"
      ],
      "metadata": {
        "id": "tMdvVqztKed4"
      },
      "execution_count": 10,
      "outputs": []
    },
    {
      "cell_type": "code",
      "source": [
        "q75"
      ],
      "metadata": {
        "colab": {
          "base_uri": "https://localhost:8080/"
        },
        "id": "VNScjebeKhyE",
        "outputId": "2cf78698-bdf1-4a50-b7d0-dd9f132623fd"
      },
      "execution_count": 11,
      "outputs": [
        {
          "output_type": "execute_result",
          "data": {
            "text/plain": [
              "96.25"
            ]
          },
          "metadata": {},
          "execution_count": 11
        }
      ]
    },
    {
      "cell_type": "code",
      "source": [
        "q25"
      ],
      "metadata": {
        "colab": {
          "base_uri": "https://localhost:8080/"
        },
        "id": "ixCxzbCOKi66",
        "outputId": "5fc62394-327f-413d-b07e-b55a91e7163d"
      },
      "execution_count": 12,
      "outputs": [
        {
          "output_type": "execute_result",
          "data": {
            "text/plain": [
              "65.75"
            ]
          },
          "metadata": {},
          "execution_count": 12
        }
      ]
    },
    {
      "cell_type": "code",
      "source": [
        "q50 = np.percentile(data, 50)\n",
        "q50"
      ],
      "metadata": {
        "colab": {
          "base_uri": "https://localhost:8080/"
        },
        "id": "-VJjA3j6KlEV",
        "outputId": "0938b8fc-4b3f-45e6-c198-5c62ad7d4965"
      },
      "execution_count": 13,
      "outputs": [
        {
          "output_type": "execute_result",
          "data": {
            "text/plain": [
              "88.5"
            ]
          },
          "metadata": {},
          "execution_count": 13
        }
      ]
    },
    {
      "cell_type": "code",
      "source": [
        "stats.iqr(data)"
      ],
      "metadata": {
        "id": "znZirrCnLFYw",
        "colab": {
          "base_uri": "https://localhost:8080/"
        },
        "outputId": "2e2450e5-a1c8-45f5-ed27-b8f8a15f8aff"
      },
      "execution_count": 14,
      "outputs": [
        {
          "output_type": "execute_result",
          "data": {
            "text/plain": [
              "30.5"
            ]
          },
          "metadata": {},
          "execution_count": 14
        }
      ]
    },
    {
      "cell_type": "code",
      "source": [
        "plt.hist(data, bins=8);"
      ],
      "metadata": {
        "colab": {
          "base_uri": "https://localhost:8080/",
          "height": 265
        },
        "id": "xtWzWXmL4Nhk",
        "outputId": "0ef6333e-55a5-458a-a9e4-04cd2bbda24b"
      },
      "execution_count": 15,
      "outputs": [
        {
          "output_type": "display_data",
          "data": {
            "text/plain": [
              "<Figure size 432x288 with 1 Axes>"
            ],
            "image/png": "[encoded data removed]"
          },
          "metadata": {
            "needs_background": "light"
          }
        }
      ]
    },
    {
      "cell_type": "markdown",
      "source": [
        "## How to Find Standart Deviation and Variance"
      ],
      "metadata": {
        "id": "tBgPmpHhLUWB"
      }
    },
    {
      "cell_type": "code",
      "source": [
        "np.var(data)"
      ],
      "metadata": {
        "colab": {
          "base_uri": "https://localhost:8080/"
        },
        "id": "Dft2vqzTLLq8",
        "outputId": "2ebb4e85-40be-47d5-e0df-cad156c585f3"
      },
      "execution_count": 16,
      "outputs": [
        {
          "output_type": "execute_result",
          "data": {
            "text/plain": [
              "585.9475"
            ]
          },
          "metadata": {},
          "execution_count": 16
        }
      ]
    },
    {
      "cell_type": "code",
      "source": [
        "np.std(data)"
      ],
      "metadata": {
        "colab": {
          "base_uri": "https://localhost:8080/"
        },
        "id": "yPbfwv8ULVy_",
        "outputId": "b91caf01-3a4b-4649-c8eb-e4cef8806699"
      },
      "execution_count": 17,
      "outputs": [
        {
          "output_type": "execute_result",
          "data": {
            "text/plain": [
              "24.206352472026843"
            ]
          },
          "metadata": {},
          "execution_count": 17
        }
      ]
    },
    {
      "cell_type": "code",
      "source": [
        "stats.skew(data)"
      ],
      "metadata": {
        "id": "UtSlke-rINWk",
        "colab": {
          "base_uri": "https://localhost:8080/"
        },
        "outputId": "f5be0f8f-9e41-48f6-b001-64b544df30c8"
      },
      "execution_count": 18,
      "outputs": [
        {
          "output_type": "execute_result",
          "data": {
            "text/plain": [
              "-0.5806866888327444"
            ]
          },
          "metadata": {},
          "execution_count": 18
        }
      ]
    },
    {
      "cell_type": "code",
      "source": [
        "stats.kurtosis(data)"
      ],
      "metadata": {
        "id": "q0os3WArRVop",
        "colab": {
          "base_uri": "https://localhost:8080/"
        },
        "outputId": "f0d1f9a3-69f6-4cdd-c917-ac1bde585b1a"
      },
      "execution_count": 19,
      "outputs": [
        {
          "output_type": "execute_result",
          "data": {
            "text/plain": [
              "-0.7529721876225253"
            ]
          },
          "metadata": {},
          "execution_count": 19
        }
      ]
    }
  ]
}