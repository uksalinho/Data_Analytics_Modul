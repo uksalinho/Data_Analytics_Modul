{
 "cells": [
  {
   "cell_type": "markdown",
   "id": "a1a62752",
   "metadata": {},
   "source": [
    "___\n",
    "\n",
    "<p style=\"text-align: center;\"><img src=\"https://docs.google.com/uc?id=1lY0Uj5R04yMY3-ZppPWxqCr5pvBLYPnV\" class=\"img-fluid\" \n",
    "alt=\"CLRSWY\"></p>\n",
    "\n",
    "## <p style=\"background-color:#FDFEFE; font-family:newtimeroman; color:#9d4f8c; font-size:100%; text-align:center; border-radius:10px 10px;\">WAY TO REINVENT YOURSELF</p>\n",
    "\n",
    "![image.png](https://i.ibb.co/4gc0nbk/matplotlib.png)\n",
    "\n",
    "Matplotlib is a two-dimensional (2D) plotting library for Python. It was created by John D. Hunter, an American neurobiologist, and was first released in 2002. With Matplotlib, you can generate lines, scatter graphs, bar charts, histograms, error bars, etc, and even do simple 3D plots using the mplot3d toolkit. Matplotlib has a module called Pyplot, which provides an interface similar to MatLab.\n",
    "\n",
    "[MATPLOTLIB Source](https://medium.com/@developit19/matplotlib-python-651fd07e9234)"
   ]
  },
  {
   "cell_type": "markdown",
   "id": "22142974",
   "metadata": {},
   "source": [
    "<a id=\"toc\"></a>\n",
    "\n",
    "## <p style=\"background-color:#9d4f8c; font-family:newtimeroman; color:#FFF9ED; font-size:150%; text-align:center; border-radius:10px 10px;\">CONTENT</p>\n",
    "\n",
    "* [IMPORTING LIBRARIES NEEDED IN THIS NOTEBOOK](#0)\n",
    "* [REVIEW](#1)\n",
    "    * [Subplot](#1.1)\n",
    "    * [Optional](#1.2)\n",
    "* [SPECIAL PLOT TYPES](#2)\n",
    "* [SCATTER PLOT](#3)\n",
    "* [BAR PLOT](#4)\n",
    "    * [Optional](#4.1)\n",
    "* [HISTOGRAM](#5) \n",
    "* [BOX PLOT](#6)\n",
    "* [PIE CHART](#7)\n",
    "* [PANDAS SCATTER](#8) \n",
    "* [PANDAS BAR PLOT](#9)\n",
    "* [PANDAS HISTOGRAM](#10)\n",
    "* [PANDAS BOX PLOT](#11) \n",
    "* [PANDAS PIE CHART](#12)\n",
    "* [KERNEL DENSITY ESTIMATION (KDE)](#13)\n",
    "* [3-DIMENSIONAL PLOTTING IN MATPLOTLIB](#14)\n",
    "* [THE END OF THE MATPLOTLIB SESSION 02](#15)    "
   ]
  },
  {
   "cell_type": "markdown",
   "id": "445382ca",
   "metadata": {},
   "source": [
    "## <p style=\"background-color:#9d4f8c; font-family:newtimeroman; color:#FFF9ED; font-size:150%; text-align:center; border-radius:10px 10px;\">IMPORTING LIBRARIES NEEDED IN THIS NOTEBOOK</p>\n",
    "\n",
    "<a id=\"0\"></a>\n",
    "<a href=\"#toc\" class=\"btn btn-primary btn-sm\" role=\"button\" aria-pressed=\"true\" \n",
    "style=\"color:blue; background-color:#dfa8e4\" data-toggle=\"popover\">Content</a>"
   ]
  },
  {
   "cell_type": "code",
   "execution_count": 1,
   "id": "induced-pursuit",
   "metadata": {
    "id": "induced-pursuit"
   },
   "outputs": [],
   "source": [
    "import matplotlib.pyplot as plt\n",
    "%matplotlib inline\n",
    "import numpy as np\n",
    "import pandas as pd\n",
    "import seaborn as sns\n",
    "\n",
    "import warnings;\n",
    "warnings.filterwarnings('ignore')"
   ]
  },
  {
   "cell_type": "code",
   "execution_count": 2,
   "id": "consecutive-aspect",
   "metadata": {
    "id": "consecutive-aspect"
   },
   "outputs": [],
   "source": [
    "age = [25, 27, 29, 31, 33, 35, 37, 39, 41, 43, 45]\n",
    "\n",
    "salary = [38496, 42000, 46752, 49320, 53200, 56000, 62316, 64928, 67317, 68748, 73752]\n",
    "\n",
    "salary_2 = [45372, 48876, 53850, 57287, 63016, 65998, 70003, 70000, 71496, 75370, 83640]"
   ]
  },
  {
   "cell_type": "markdown",
   "id": "631093d6",
   "metadata": {},
   "source": [
    "## <p style=\"background-color:#9d4f8c; font-family:newtimeroman; color:#FFF9ED; font-size:150%; text-align:center; border-radius:10px 10px;\">REVIEW</p>\n",
    "\n",
    "<a id=\"1\"></a>\n",
    "<a href=\"#toc\" class=\"btn btn-primary btn-sm\" role=\"button\" aria-pressed=\"true\" \n",
    "style=\"color:blue; background-color:#dfa8e4\" data-toggle=\"popover\">Content</a>"
   ]
  },
  {
   "cell_type": "code",
   "execution_count": null,
   "id": "3015af4a",
   "metadata": {},
   "outputs": [],
   "source": []
  },
  {
   "cell_type": "code",
   "execution_count": null,
   "id": "20766486",
   "metadata": {},
   "outputs": [],
   "source": []
  },
  {
   "cell_type": "code",
   "execution_count": null,
   "id": "e4c5205b",
   "metadata": {},
   "outputs": [],
   "source": []
  },
  {
   "cell_type": "markdown",
   "id": "4b9b95e5",
   "metadata": {},
   "source": [
    "### <p style=\"background-color:#9d4f8c; font-family:newtimeroman; color:#FFF9ED; font-size:150%; text-align:left; border-radius:10px 10px;\">Subplot</p>\n",
    "\n",
    "<a id=\"1.1\"></a>\n",
    "<a href=\"#toc\" class=\"btn btn-primary btn-sm\" role=\"button\" aria-pressed=\"true\" \n",
    "style=\"color:blue; background-color:#dfa8e4\" data-toggle=\"popover\">Content</a>\n",
    "\n",
    "![image.png](https://i.ibb.co/mHHtNBx/eggs.jpg) Photo by Tengyart on Unsplash\n",
    "\n",
    "Sometimes it is helpful to compare different views of data side by side. To this end, Matplotlib has the concept of subplots: groups of smaller axes that can exist together within a single figure. These subplots might be insets, grids of plots, or other more complicated layouts.\n",
    "\n",
    "Matplotlib provides a convenient method called subplots to do this. Subplots mean a group of smaller axes (where each axis is a plot) that can exist together within a single figure.\n",
    "\n",
    "[SOURCE 01](https://matplotlib.org/stable/gallery/subplots_axes_and_figures/subplots_demo.html), [SOURCE 02](https://www.machinelearningplus.com/plots/subplots-python-matplotlib/), [SOURCE 03](https://jakevdp.github.io/PythonDataScienceHandbook/04.08-multiple-subplots.html), [SOURCE 04](https://python-course.eu/numerical-programming/creating-subplots-in-matplotlib.php), [SOURCE 05](https://www.tutorialspoint.com/matplotlib/matplotlib_subplots_function.htm), [SOURCE 06](https://towardsdatascience.com/take-full-control-over-the-subplots-in-matplotlib-71b3bc11ff0b) & [SOURCE 07](https://www.youtube.com/watch?v=j4eGsLdh9ws)"
   ]
  },
  {
   "cell_type": "code",
   "execution_count": null,
   "id": "ade078d1",
   "metadata": {},
   "outputs": [],
   "source": []
  },
  {
   "cell_type": "code",
   "execution_count": null,
   "id": "64645024",
   "metadata": {},
   "outputs": [],
   "source": []
  },
  {
   "cell_type": "markdown",
   "id": "56fa989d",
   "metadata": {},
   "source": [
    "### <p style=\"background-color:#9d4f8c; font-family:newtimeroman; color:#FFF9ED; font-size:150%; text-align:left; border-radius:10px 10px;\">Optional</p>\n",
    "\n",
    "<a id=\"1.2\"></a>\n",
    "<a href=\"#toc\" class=\"btn btn-primary btn-sm\" role=\"button\" aria-pressed=\"true\" \n",
    "style=\"color:blue; background-color:#dfa8e4\" data-toggle=\"popover\">Content</a>"
   ]
  },
  {
   "cell_type": "code",
   "execution_count": null,
   "id": "1c1e8551",
   "metadata": {},
   "outputs": [],
   "source": []
  },
  {
   "cell_type": "markdown",
   "id": "6350de08",
   "metadata": {},
   "source": [
    "**Adding Text Inside the Plot in Matplotlib**\n",
    "\n",
    "The matplotlib.pyplot.text() function is used to add text inside the plot. The syntax adds text at an arbitrary location of the axes. It also supports mathematical expressions.\n",
    "\n",
    "**Syntax:** matplotlib.pyplot.text(x, y, s, fontdict=None, **kwargs)\n",
    "\n",
    "Parameters:\n",
    "\n",
    "- where x, y – coordinates\n",
    "- s – text to be added inside the plot(string)\n",
    "- fontdict – optional parameter. It overrides the default text properties\n",
    "- **kwargs – text properties\n",
    "\n",
    "[SOURCE 01](https://matplotlib.org/stable/api/_as_gen/matplotlib.pyplot.text.html) & [SOURCE 02](https://www.geeksforgeeks.org/add-text-inside-the-plot-in-matplotlib/)"
   ]
  },
  {
   "cell_type": "markdown",
   "id": "e131bcc5",
   "metadata": {},
   "source": [
    "## <p style=\"background-color:#9d4f8c; font-family:newtimeroman; color:#FFF9ED; font-size:150%; text-align:center; border-radius:10px 10px;\">SPECIAL PLOT TYPES</p>\n",
    "\n",
    "<a id=\"2\"></a>\n",
    "<a href=\"#toc\" class=\"btn btn-primary btn-sm\" role=\"button\" aria-pressed=\"true\" \n",
    "style=\"color:blue; background-color:#dfa8e4\" data-toggle=\"popover\">Content</a>"
   ]
  },
  {
   "cell_type": "markdown",
   "id": "de88d69c",
   "metadata": {},
   "source": [
    "![Capture6.PNG](https://i.ibb.co/sCWGZCs/Capture6.png)"
   ]
  },
  {
   "cell_type": "markdown",
   "id": "aJtfc-gHcwUY",
   "metadata": {
    "id": "aJtfc-gHcwUY"
   },
   "source": [
    "## <p style=\"background-color:#9d4f8c; font-family:newtimeroman; color:#FFF9ED; font-size:150%; text-align:center; border-radius:10px 10px;\">SCATTER PLOT</p>\n",
    "\n",
    "<a id=\"3\"></a>\n",
    "<a href=\"#toc\" class=\"btn btn-primary btn-sm\" role=\"button\" aria-pressed=\"true\" \n",
    "style=\"color:blue; background-color:#dfa8e4\" data-toggle=\"popover\">Content</a>\n",
    "\n",
    "A `scatter plot` (2D) is a useful method of comparing variables against each other. `Scatter` plots look similar to `line plots` in that they both map independent and dependent variables on a 2D graph. While the data points are connected together by a line in a line plot, they are not connected in a scatter plot. The data in a scatter plot is considered to express a trend. With further analysis using tools like regression, we can mathematically calculate this relationship and use it to predict trends outside the dataset."
   ]
  },
  {
   "cell_type": "markdown",
   "id": "38f8a11a",
   "metadata": {},
   "source": [
    "![Capture7.PNG](https://i.ibb.co/8bXD2Bj/Capture7.png)"
   ]
  },
  {
   "cell_type": "code",
   "execution_count": null,
   "id": "norman-haiti",
   "metadata": {
    "colab": {
     "base_uri": "https://localhost:8080/",
     "height": 268
    },
    "id": "norman-haiti",
    "outputId": "966633b7-67ca-4e82-8116-bc1c62827f4f"
   },
   "outputs": [],
   "source": [
    "x = np.array([15, 17, 18, 17, 12, 17, 12, 19, 14, 11, 12, 19, 16, 13])\n",
    "y = np.array([99, 86, 87, 88, 81, 86, 93, 87, 94, 78, 77, 85, 86, 85])"
   ]
  },
  {
   "cell_type": "code",
   "execution_count": null,
   "id": "805e9ae9",
   "metadata": {},
   "outputs": [],
   "source": []
  },
  {
   "cell_type": "code",
   "execution_count": null,
   "id": "jtjogzmS06XD",
   "metadata": {
    "colab": {
     "base_uri": "https://localhost:8080/",
     "height": 265
    },
    "id": "jtjogzmS06XD",
    "outputId": "15051aa0-6161-4e44-b7a7-f7c1e15a9509"
   },
   "outputs": [],
   "source": [
    "y = np.random.randint(10, 100, 50)\n",
    "x = np.random.randint(10, 100, 50)"
   ]
  },
  {
   "cell_type": "code",
   "execution_count": null,
   "id": "1538161b",
   "metadata": {},
   "outputs": [],
   "source": []
  },
  {
   "cell_type": "code",
   "execution_count": null,
   "id": "624669e1",
   "metadata": {},
   "outputs": [],
   "source": [
    "sns.get_dataset_names()"
   ]
  },
  {
   "cell_type": "code",
   "execution_count": null,
   "id": "xvr542FQb0GY",
   "metadata": {
    "colab": {
     "base_uri": "https://localhost:8080/",
     "height": 203
    },
    "id": "xvr542FQb0GY",
    "outputId": "bd85d76a-43e9-4132-8965-972c302ff19f"
   },
   "outputs": [],
   "source": [
    "tips = sns.load_dataset(\"tips\")\n",
    "\n",
    "tips.head()"
   ]
  },
  {
   "cell_type": "code",
   "execution_count": null,
   "id": "09eba65d",
   "metadata": {},
   "outputs": [],
   "source": []
  },
  {
   "cell_type": "markdown",
   "id": "catholic-floating",
   "metadata": {
    "id": "catholic-floating"
   },
   "source": [
    "## <p style=\"background-color:#9d4f8c; font-family:newtimeroman; color:#FFF9ED; font-size:150%; text-align:center; border-radius:10px 10px;\">BAR PLOT</p>\n",
    "\n",
    "<a id=\"4\"></a>\n",
    "<a href=\"#toc\" class=\"btn btn-primary btn-sm\" role=\"button\" aria-pressed=\"true\" \n",
    "style=\"color:blue; background-color:#dfa8e4\" data-toggle=\"popover\">Content</a>"
   ]
  },
  {
   "cell_type": "markdown",
   "id": "701b848c",
   "metadata": {},
   "source": [
    "![Capture8.PNG](https://i.ibb.co/hK72Tnf/Capture8.png)"
   ]
  },
  {
   "cell_type": "code",
   "execution_count": null,
   "id": "changing-contents",
   "metadata": {
    "colab": {
     "base_uri": "https://localhost:8080/",
     "height": 265
    },
    "id": "changing-contents",
    "outputId": "84ba5d53-64f8-4159-b0a3-5d696a969965"
   },
   "outputs": [],
   "source": [
    "# Object Oriented\n",
    "\n",
    "langs = ['C', 'C++', 'Java', 'Python', 'PHP']\n",
    "students = [23, 17, 35, 29, 12]"
   ]
  },
  {
   "cell_type": "code",
   "execution_count": null,
   "id": "99760746",
   "metadata": {},
   "outputs": [],
   "source": []
  },
  {
   "cell_type": "code",
   "execution_count": null,
   "id": "2a95dfa7",
   "metadata": {},
   "outputs": [],
   "source": []
  },
  {
   "cell_type": "code",
   "execution_count": null,
   "id": "37773172",
   "metadata": {},
   "outputs": [],
   "source": []
  },
  {
   "cell_type": "code",
   "execution_count": null,
   "id": "37e55e69",
   "metadata": {},
   "outputs": [],
   "source": []
  },
  {
   "cell_type": "code",
   "execution_count": null,
   "id": "c283d972",
   "metadata": {},
   "outputs": [],
   "source": []
  },
  {
   "cell_type": "code",
   "execution_count": null,
   "id": "20e95f67",
   "metadata": {},
   "outputs": [],
   "source": []
  },
  {
   "cell_type": "code",
   "execution_count": null,
   "id": "c6307851",
   "metadata": {},
   "outputs": [],
   "source": []
  },
  {
   "cell_type": "code",
   "execution_count": null,
   "id": "4f00dd88",
   "metadata": {},
   "outputs": [],
   "source": []
  },
  {
   "cell_type": "code",
   "execution_count": null,
   "id": "333d1cf2",
   "metadata": {},
   "outputs": [],
   "source": []
  },
  {
   "cell_type": "code",
   "execution_count": null,
   "id": "333ac94e",
   "metadata": {},
   "outputs": [],
   "source": []
  },
  {
   "cell_type": "code",
   "execution_count": null,
   "id": "34037eb2",
   "metadata": {},
   "outputs": [],
   "source": []
  },
  {
   "cell_type": "markdown",
   "id": "54436a17",
   "metadata": {},
   "source": [
    "### <p style=\"background-color:#9d4f8c; font-family:newtimeroman; color:#FFF9ED; font-size:150%; text-align:left; border-radius:10px 10px;\">Optional</p>\n",
    "\n",
    "<a id=\"4.1\"></a>\n",
    "<a href=\"#toc\" class=\"btn btn-primary btn-sm\" role=\"button\" aria-pressed=\"true\" \n",
    "style=\"color:blue; background-color:#dfa8e4\" data-toggle=\"popover\">Content</a>"
   ]
  },
  {
   "cell_type": "code",
   "execution_count": null,
   "id": "cc721927",
   "metadata": {},
   "outputs": [],
   "source": []
  },
  {
   "cell_type": "code",
   "execution_count": null,
   "id": "ce71bfd9",
   "metadata": {},
   "outputs": [],
   "source": []
  },
  {
   "cell_type": "code",
   "execution_count": null,
   "id": "02d6e2c7",
   "metadata": {},
   "outputs": [],
   "source": []
  },
  {
   "cell_type": "code",
   "execution_count": null,
   "id": "f7b98d5e",
   "metadata": {},
   "outputs": [],
   "source": []
  },
  {
   "cell_type": "code",
   "execution_count": null,
   "id": "0d0d7d17",
   "metadata": {},
   "outputs": [],
   "source": []
  },
  {
   "cell_type": "code",
   "execution_count": null,
   "id": "e57b543d",
   "metadata": {},
   "outputs": [],
   "source": []
  },
  {
   "cell_type": "code",
   "execution_count": null,
   "id": "0322629f",
   "metadata": {},
   "outputs": [],
   "source": []
  },
  {
   "cell_type": "markdown",
   "id": "robust-wisdom",
   "metadata": {
    "id": "robust-wisdom"
   },
   "source": [
    "## <p style=\"background-color:#9d4f8c; font-family:newtimeroman; color:#FFF9ED; font-size:150%; text-align:center; border-radius:10px 10px;\">HISTOGRAM</p>\n",
    "\n",
    "<a id=\"5\"></a>\n",
    "<a href=\"#toc\" class=\"btn btn-primary btn-sm\" role=\"button\" aria-pressed=\"true\" \n",
    "style=\"color:blue; background-color:#dfa8e4\" data-toggle=\"popover\">Content</a>"
   ]
  },
  {
   "cell_type": "markdown",
   "id": "05cb51f6",
   "metadata": {},
   "source": [
    "![Capture9.PNG](https://i.ibb.co/pnmw683/Capture9.png)"
   ]
  },
  {
   "cell_type": "code",
   "execution_count": null,
   "id": "cZrSONmG8GXX",
   "metadata": {
    "colab": {
     "base_uri": "https://localhost:8080/"
    },
    "id": "cZrSONmG8GXX",
    "outputId": "6191684b-9eaf-4288-8772-2cd42f9c7d5f"
   },
   "outputs": [],
   "source": [
    "np.random.randn(10)"
   ]
  },
  {
   "cell_type": "code",
   "execution_count": null,
   "id": "continent-sperm",
   "metadata": {
    "colab": {
     "base_uri": "https://localhost:8080/",
     "height": 265
    },
    "id": "continent-sperm",
    "outputId": "1eb000ad-c94d-4433-e1c4-eca80aafea71"
   },
   "outputs": [],
   "source": [
    "np.random.seed(42)\n",
    "\n",
    "x = np.random.randn(250)"
   ]
  },
  {
   "cell_type": "code",
   "execution_count": null,
   "id": "2fd05931",
   "metadata": {},
   "outputs": [],
   "source": []
  },
  {
   "cell_type": "code",
   "execution_count": null,
   "id": "096c2e23",
   "metadata": {},
   "outputs": [],
   "source": []
  },
  {
   "cell_type": "code",
   "execution_count": null,
   "id": "fb8615eb",
   "metadata": {},
   "outputs": [],
   "source": []
  },
  {
   "cell_type": "code",
   "execution_count": null,
   "id": "00af3d97",
   "metadata": {},
   "outputs": [],
   "source": []
  },
  {
   "cell_type": "markdown",
   "id": "bca54923",
   "metadata": {
    "id": "HIoZmGPic2ya"
   },
   "source": [
    "## <p style=\"background-color:#9d4f8c; font-family:newtimeroman; color:#FFF9ED; font-size:150%; text-align:center; border-radius:10px 10px;\">BOX PLOT</p>\n",
    "\n",
    "<a id=\"6\"></a>\n",
    "<a href=\"#toc\" class=\"btn btn-primary btn-sm\" role=\"button\" aria-pressed=\"true\" \n",
    "style=\"color:blue; background-color:#dfa8e4\" data-toggle=\"popover\">Content</a>"
   ]
  },
  {
   "cell_type": "markdown",
   "id": "happy-original",
   "metadata": {
    "id": "happy-original"
   },
   "source": [
    "A `box plot` is a way of statistically representing the *distribution* of the data through five main dimensions:\n",
    "\n",
    "*   **Minimum:** The smallest number in the dataset excluding the outliers.\n",
    "*   **First quartile:** Middle number between the `minimum` and the `median`.\n",
    "*   **Second quartile (Median):** Middle number of the (sorted) dataset.\n",
    "*   **Third quartile:** Middle number between `median` and `maximum`.\n",
    "*   **Maximum:** The largest number in the dataset excluding the outliers.\n",
    "\n",
    "[SOURCE 01](https://matplotlib.org/3.1.1/api/_as_gen/matplotlib.pyplot.boxplot.html), [SOURCE 02](https://towardsdatascience.com/creating-boxplots-of-well-log-data-using-matplotlib-in-python-34c3816e73f4), [SOURCE 03](https://stackabuse.com/matplotlib-box-plot-tutorial-and-examples/), [SOURCE 04](https://www.tutorialspoint.com/matplotlib/matplotlib_box_plot.htm), [SOURCE 05](https://blog.finxter.com/matplotlib-boxplot/), [SOURCE 06](https://www.youtube.com/watch?v=qb6krT2k3xw) & [SOURCE 07](https://youtu.be/xAoljeRJ3lU)"
   ]
  },
  {
   "cell_type": "markdown",
   "id": "aa6ff07a",
   "metadata": {},
   "source": [
    "![Capture10.PNG](https://i.ibb.co/dpg2XkM/Capture10.png)"
   ]
  },
  {
   "cell_type": "markdown",
   "id": "cx13fXFNlUXD",
   "metadata": {
    "id": "cx13fXFNlUXD"
   },
   "source": [
    "<img src=\"https://i.ibb.co/25bZJ9w/boxplot-complete.png\" width=440, align=\"center\">"
   ]
  },
  {
   "cell_type": "code",
   "execution_count": null,
   "id": "roman-delivery",
   "metadata": {
    "colab": {
     "base_uri": "https://localhost:8080/",
     "height": 266
    },
    "id": "roman-delivery",
    "outputId": "737464d2-12e6-4f2f-8574-03eee7c6ba35"
   },
   "outputs": [],
   "source": [
    "import matplotlib.pyplot as plt\n",
    "import numpy as np\n",
    "\n",
    "X = np.random.normal(170, 10, 250)"
   ]
  },
  {
   "cell_type": "code",
   "execution_count": null,
   "id": "a66a8f98",
   "metadata": {},
   "outputs": [],
   "source": []
  },
  {
   "cell_type": "code",
   "execution_count": null,
   "id": "tk6lc-vifDGu",
   "metadata": {
    "colab": {
     "base_uri": "https://localhost:8080/",
     "height": 265
    },
    "id": "tk6lc-vifDGu",
    "outputId": "2561f2c2-d175-47be-c009-74212b74eedb"
   },
   "outputs": [],
   "source": [
    "X = np.random.normal(170, 10, 250)"
   ]
  },
  {
   "cell_type": "code",
   "execution_count": null,
   "id": "106e0b48",
   "metadata": {},
   "outputs": [],
   "source": []
  },
  {
   "cell_type": "code",
   "execution_count": null,
   "id": "ecological-cargo",
   "metadata": {
    "colab": {
     "base_uri": "https://localhost:8080/",
     "height": 265
    },
    "id": "ecological-cargo",
    "outputId": "608d8d57-555e-449c-904a-f4262ec9168d"
   },
   "outputs": [],
   "source": [
    "box = np.array(np.random.rand(10, 4))"
   ]
  },
  {
   "cell_type": "code",
   "execution_count": null,
   "id": "0900cec2",
   "metadata": {},
   "outputs": [],
   "source": []
  },
  {
   "cell_type": "code",
   "execution_count": null,
   "id": "def4bc97",
   "metadata": {},
   "outputs": [],
   "source": []
  },
  {
   "cell_type": "code",
   "execution_count": null,
   "id": "bad7ffe9",
   "metadata": {},
   "outputs": [],
   "source": []
  },
  {
   "cell_type": "code",
   "execution_count": null,
   "id": "c6506b82",
   "metadata": {},
   "outputs": [],
   "source": []
  },
  {
   "cell_type": "code",
   "execution_count": null,
   "id": "f1327015",
   "metadata": {},
   "outputs": [],
   "source": []
  },
  {
   "cell_type": "code",
   "execution_count": null,
   "id": "80878e5f",
   "metadata": {},
   "outputs": [],
   "source": []
  },
  {
   "cell_type": "markdown",
   "id": "square-throat",
   "metadata": {
    "id": "square-throat"
   },
   "source": [
    "## <p style=\"background-color:#9d4f8c; font-family:newtimeroman; color:#FFF9ED; font-size:150%; text-align:center; border-radius:10px 10px;\">PIE CHART</p>\n",
    "\n",
    "<a id=\"7\"></a>\n",
    "<a href=\"#toc\" class=\"btn btn-primary btn-sm\" role=\"button\" aria-pressed=\"true\" \n",
    "style=\"color:blue; background-color:#dfa8e4\" data-toggle=\"popover\">Content</a>\n",
    "\n",
    "A `pie chart` is a circular graphic that displays numeric proportions by dividing a circle (or pie) into proportional slices. You are most likely already familiar with pie charts as it is widely used in business and media. We can create pie charts in Matplotlib by passing in the `kind=pie` keyword.\n",
    "\n",
    "[SOURCE 01](https://matplotlib.org/stable/gallery/pie_and_polar_charts/pie_features.html), [SOURCE 02](https://www.tutorialspoint.com/matplotlib/matplotlib_pie_chart.htm), [SOURCE 03](https://pythonguides.com/matplotlib-pie-chart/), [SOURCE 04](https://stackabuse.com/matplotlib-pie-chart-tutorial-and-examples/), [SOURCE 05](https://www.youtube.com/watch?v=MPiz50TsyF0) & [SOURCE 06](https://www.youtube.com/watch?v=oUe2Q2yz5tM)"
   ]
  },
  {
   "cell_type": "markdown",
   "id": "eac6279b",
   "metadata": {},
   "source": [
    "![Capture11.PNG](https://i.ibb.co/stSwj18/Capture11.png)"
   ]
  },
  {
   "cell_type": "code",
   "execution_count": null,
   "id": "phantom-dream",
   "metadata": {
    "colab": {
     "base_uri": "https://localhost:8080/",
     "height": 466
    },
    "id": "phantom-dream",
    "outputId": "f067d2c9-ba4b-4442-f69c-bb23d464dd14"
   },
   "outputs": [],
   "source": [
    "y = np.array([35, 25, 25, 15])\n",
    "mylabels = [\"Apples\", \"Bananas\", \"Cherries\", \"Dates\"]"
   ]
  },
  {
   "cell_type": "code",
   "execution_count": null,
   "id": "2e262f44",
   "metadata": {},
   "outputs": [],
   "source": []
  },
  {
   "cell_type": "markdown",
   "id": "QUEt22QFmabN",
   "metadata": {
    "id": "QUEt22QFmabN"
   },
   "source": [
    "The above visual is not very clear, the numbers and text overlap in some instances. Let's make a few modifications to improve the visuals:\n",
    "\n",
    "*   Remove the text labels on the pie chart by passing in `legend` and add it as a seperate legend using `plt.legend()`.\n",
    "*   Push out the percentages to sit just outside the pie chart by passing in `pctdistance` parameter.\n",
    "*   Pass in a custom set of colors for continents by passing in `colors` parameter.\n",
    "*   **Explode** the pie chart to emphasize the lowest three continents (Bananas, Apples, Dates and Cherries) by passing in `explode` parameter."
   ]
  },
  {
   "cell_type": "code",
   "execution_count": null,
   "id": "lucky-appliance",
   "metadata": {
    "colab": {
     "base_uri": "https://localhost:8080/",
     "height": 466
    },
    "id": "lucky-appliance",
    "outputId": "9713d725-cf97-471f-c5cd-16ee2f59d950"
   },
   "outputs": [],
   "source": [
    "y = np.array([35, 25, 25, 15])\n",
    "mylabels = [\"Apples\", \"Bananas\", \"Cherries\", \"Dates\"]\n",
    "myexplode = [0.1, 0, 0, 0]"
   ]
  },
  {
   "cell_type": "code",
   "execution_count": null,
   "id": "4e8f9ef2",
   "metadata": {},
   "outputs": [],
   "source": []
  },
  {
   "cell_type": "code",
   "execution_count": null,
   "id": "aeaea94c",
   "metadata": {},
   "outputs": [],
   "source": []
  },
  {
   "cell_type": "markdown",
   "id": "worst-samoa",
   "metadata": {
    "id": "worst-samoa"
   },
   "source": [
    "![image.png](https://i.ibb.co/qk9y7sC/datavisualizatinwithpython.jpg)\n",
    "\n",
    "[Video Source on Data Visualization in Pandas](https://www.youtube.com/watch?v=0IKz-KxDCuM)"
   ]
  },
  {
   "cell_type": "code",
   "execution_count": null,
   "id": "parental-cooperation",
   "metadata": {
    "colab": {
     "base_uri": "https://localhost:8080/",
     "height": 203
    },
    "id": "parental-cooperation",
    "outputId": "3cb5c756-35cd-4cf5-e4a0-a9a919646c18"
   },
   "outputs": [],
   "source": [
    "tips = sns.load_dataset(\"tips\")\n",
    "tips.head()"
   ]
  },
  {
   "cell_type": "code",
   "execution_count": null,
   "id": "7ec5c9a8",
   "metadata": {},
   "outputs": [],
   "source": []
  },
  {
   "cell_type": "code",
   "execution_count": null,
   "id": "f829725a",
   "metadata": {},
   "outputs": [],
   "source": []
  },
  {
   "cell_type": "markdown",
   "id": "geographic-equipment",
   "metadata": {
    "id": "geographic-equipment"
   },
   "source": [
    "## <p style=\"background-color:#9d4f8c; font-family:newtimeroman; color:#FFF9ED; font-size:150%; text-align:center; border-radius:10px 10px;\">PANDAS SCATTER</p>\n",
    "\n",
    "<a id=\"8\"></a>\n",
    "<a href=\"#toc\" class=\"btn btn-primary btn-sm\" role=\"button\" aria-pressed=\"true\" \n",
    "style=\"color:blue; background-color:#dfa8e4\" data-toggle=\"popover\">Content</a>\n",
    "\n",
    "[SOURCE 01](https://pandas.pydata.org/pandas-docs/version/0.25.0/reference/api/pandas.DataFrame.plot.scatter.html), [SOURCE 02](https://www.geeksforgeeks.org/pandas-scatter-plot-dataframe-plot-scatter/#:~:text=A%20Scatter%20plot%20is%20a,relationship%20between%20two%20numerical%20variables.&text=Calling%20the%20scatter()%20method,two%20columns%20of%20pandas%20DataFrame.), [SOURCE 03](https://data36.com/scatter-plot-pandas-matplotlib/), [SOURCE 04](https://pythontic.com/pandas/dataframe-plotting/scatter%20plot), [SOURCE 05](https://saralgyaan.com/posts/matplotlib-tutorial-in-python-chapter-6-scatter-plotting/), [SOURCE 06](https://www.youtube.com/watch?v=0IKz-KxDCuM), [SOURCE 07](https://www.youtube.com/watch?v=DWhwQ1_oXnw), [SOURCE 08](https://www.youtube.com/watch?v=i_H5fjqRUDE) & [SOURCE 09](https://www.youtube.com/watch?v=9q-d7TzRjG0&t=28s)"
   ]
  },
  {
   "cell_type": "code",
   "execution_count": null,
   "id": "b23762de",
   "metadata": {},
   "outputs": [],
   "source": []
  },
  {
   "cell_type": "code",
   "execution_count": null,
   "id": "5b727b2f",
   "metadata": {},
   "outputs": [],
   "source": []
  },
  {
   "cell_type": "markdown",
   "id": "speaking-composer",
   "metadata": {
    "id": "speaking-composer"
   },
   "source": [
    "## <p style=\"background-color:#9d4f8c; font-family:newtimeroman; color:#FFF9ED; font-size:150%; text-align:center; border-radius:10px 10px;\">PANDAS BAR PLOT</p>\n",
    "\n",
    "<a id=\"9\"></a>\n",
    "<a href=\"#toc\" class=\"btn btn-primary btn-sm\" role=\"button\" aria-pressed=\"true\" \n",
    "style=\"color:blue; background-color:#dfa8e4\" data-toggle=\"popover\">Content</a>\n",
    "\n",
    "[SOURCE 01](https://pandas.pydata.org/docs/reference/api/pandas.DataFrame.plot.bar.html), [SOURCE 02](https://pythontic.com/pandas/dataframe-plotting/bar%20chart), [SOURCE 03](https://stackoverflow.com/questions/29498652/plot-bar-graph-from-pandas-dataframe), [SOURCE 04](https://www.youtube.com/watch?v=lRPisI6kzLg), [SOURCE 05](https://www.youtube.com/watch?v=lRPisI6kzLg) & [SOURCE 06](https://youtu.be/lomuFOEGLSM)"
   ]
  },
  {
   "cell_type": "code",
   "execution_count": null,
   "id": "JfOm3eU4Ffk3",
   "metadata": {
    "colab": {
     "base_uri": "https://localhost:8080/",
     "height": 279
    },
    "id": "JfOm3eU4Ffk3",
    "outputId": "98380ff8-4fa8-493c-c6b0-4ce243cabc6a"
   },
   "outputs": [],
   "source": [
    "df = pd.DataFrame(np.random.rand(5, 4), columns=['a', 'b', 'c', 'd'])\n",
    "print(df)"
   ]
  },
  {
   "cell_type": "code",
   "execution_count": null,
   "id": "47e346ed",
   "metadata": {},
   "outputs": [],
   "source": []
  },
  {
   "cell_type": "code",
   "execution_count": null,
   "id": "ac51439a",
   "metadata": {},
   "outputs": [],
   "source": []
  },
  {
   "cell_type": "code",
   "execution_count": null,
   "id": "7f92f481",
   "metadata": {},
   "outputs": [],
   "source": []
  },
  {
   "cell_type": "markdown",
   "id": "d6c20708",
   "metadata": {
    "id": "exotic-recipient"
   },
   "source": [
    "## <p style=\"background-color:#9d4f8c; font-family:newtimeroman; color:#FFF9ED; font-size:150%; text-align:center; border-radius:10px 10px;\">PANDAS HISTOGRAM</p>\n",
    "\n",
    "<a id=\"10\"></a>\n",
    "<a href=\"#toc\" class=\"btn btn-primary btn-sm\" role=\"button\" aria-pressed=\"true\" \n",
    "style=\"color:blue; background-color:#dfa8e4\" data-toggle=\"popover\">Content</a>\n",
    "\n",
    "[SOURCE 01](https://pandas.pydata.org/docs/reference/api/pandas.DataFrame.hist.html), [SOURCE 02](https://www.machinelearningplus.com/pandas/pandas-histogram/), [SOURCE 03](https://www.dataindependent.com/pandas/pandas-histogram/), [SOURCE 04](https://www.tutorialspoint.com/python-plot-a-histogram-for-pandas-dataframe-with-matplotlib), [SOURCE 05](https://www.youtube.com/watch?v=zNvxJNQhmRs) & [SOURCE 06](https://youtu.be/zNvxJNQhmRs)"
   ]
  },
  {
   "cell_type": "code",
   "execution_count": null,
   "id": "f2d33756",
   "metadata": {},
   "outputs": [],
   "source": []
  },
  {
   "cell_type": "code",
   "execution_count": null,
   "id": "2edfb522",
   "metadata": {},
   "outputs": [],
   "source": []
  },
  {
   "cell_type": "markdown",
   "id": "academic-universal",
   "metadata": {
    "id": "academic-universal"
   },
   "source": [
    "## <p style=\"background-color:#9d4f8c; font-family:newtimeroman; color:#FFF9ED; font-size:150%; text-align:center; border-radius:10px 10px;\">PANDAS BOX PLOT</p>\n",
    "\n",
    "<a id=\"11\"></a>\n",
    "<a href=\"#toc\" class=\"btn btn-primary btn-sm\" role=\"button\" aria-pressed=\"true\" \n",
    "style=\"color:blue; background-color:#dfa8e4\" data-toggle=\"popover\">Content</a>\n",
    "\n",
    "a box plot is a method for graphically depicting groups of numerical data through their quartiles.\n",
    "\n",
    "a box plot generally shows median, 25th and 75th percentiles, and outliers.\n",
    "\n",
    "[SOURCE 01](https://pandas.pydata.org/docs/reference/api/pandas.DataFrame.boxplot.html), [SOURCE 02](https://www.educative.io/edpresso/how-to-make-a-boxplot-in-pandas), [SOURCE 03](https://stackoverflow.com/questions/38120688/how-do-i-create-a-box-plot-for-each-column-in-a-pandas-dataframe) & [SOURCE 04](https://www.youtube.com/watch?v=TJDYXmE1swY)"
   ]
  },
  {
   "cell_type": "code",
   "execution_count": null,
   "id": "d0a60328",
   "metadata": {},
   "outputs": [],
   "source": []
  },
  {
   "cell_type": "markdown",
   "id": "bClfS9TyEkWO",
   "metadata": {
    "id": "bClfS9TyEkWO"
   },
   "source": [
    "## <p style=\"background-color:#9d4f8c; font-family:newtimeroman; color:#FFF9ED; font-size:150%; text-align:center; border-radius:10px 10px;\">PANDAS PIE CHART</p>\n",
    "\n",
    "<a id=\"12\"></a>\n",
    "<a href=\"#toc\" class=\"btn btn-primary btn-sm\" role=\"button\" aria-pressed=\"true\" \n",
    "style=\"color:blue; background-color:#dfa8e4\" data-toggle=\"popover\">Content</a>\n",
    "\n",
    "[SOURCE 01](https://pandas.pydata.org/docs/reference/api/pandas.DataFrame.plot.pie.html), [SOURCE 02](https://www.plus2net.com/python/pandas-dataframe-plot-pie.php), [SOURCE 03](https://blog.finxter.com/boxplot-the-pandas-plotting-module/), [SOURCE 04](https://youtu.be/yWwlVsiefWQ), [SOURCE 05](https://www.youtube.com/watch?v=kX5oTJoadJ8) & [SOURCE 06](https://www.youtube.com/watch?v=tWEYMIJdxjk)"
   ]
  },
  {
   "cell_type": "code",
   "execution_count": null,
   "id": "666f0a82",
   "metadata": {},
   "outputs": [],
   "source": []
  },
  {
   "cell_type": "code",
   "execution_count": null,
   "id": "bfd0d445",
   "metadata": {},
   "outputs": [],
   "source": []
  },
  {
   "cell_type": "code",
   "execution_count": null,
   "id": "9a2121c8",
   "metadata": {},
   "outputs": [],
   "source": []
  },
  {
   "cell_type": "markdown",
   "id": "46f527ed",
   "metadata": {},
   "source": [
    "## <p style=\"background-color:#9d4f8c; font-family:newtimeroman; color:#FFF9ED; font-size:150%; text-align:center; border-radius:10px 10px;\">KERNEL DENSITY ESTIMATION (KDE)</p>\n",
    "\n",
    "<a id=\"13\"></a>\n",
    "<a href=\"#toc\" class=\"btn btn-primary btn-sm\" role=\"button\" aria-pressed=\"true\" \n",
    "style=\"color:blue; background-color:#dfa8e4\" data-toggle=\"popover\">Content</a>\n",
    "\n",
    "[SOURCE 01](https://pandas.pydata.org/docs/reference/api/pandas.DataFrame.plot.kde.html), [SOURCE 02](https://www.geeksforgeeks.org/kde-plot-visualization-with-pandas-and-seaborn/) & [SOURCE 03](https://neptune.ai/blog/pandas-plot-deep-dive-into-plotting-directly-with-pandas)"
   ]
  },
  {
   "cell_type": "code",
   "execution_count": null,
   "id": "third-thesis",
   "metadata": {
    "colab": {
     "base_uri": "https://localhost:8080/",
     "height": 269
    },
    "id": "third-thesis",
    "outputId": "5f3de400-07d0-445d-a523-248a5fd21852"
   },
   "outputs": [],
   "source": [
    "df_kde = pd.Series(np.random.randn(1000))"
   ]
  },
  {
   "cell_type": "code",
   "execution_count": null,
   "id": "6d63b0d8",
   "metadata": {},
   "outputs": [],
   "source": []
  },
  {
   "cell_type": "code",
   "execution_count": null,
   "id": "8d669cf1",
   "metadata": {},
   "outputs": [],
   "source": []
  },
  {
   "cell_type": "markdown",
   "id": "coated-august",
   "metadata": {
    "id": "coated-august"
   },
   "source": [
    "## <p style=\"background-color:#9d4f8c; font-family:newtimeroman; color:#FFF9ED; font-size:150%; text-align:center; border-radius:10px 10px;\">3-DIMENSIONAL PLOTTING IN MATPLOTLIB</p>\n",
    "\n",
    "<a id=\"14\"></a>\n",
    "<a href=\"#toc\" class=\"btn btn-primary btn-sm\" role=\"button\" aria-pressed=\"true\" \n",
    "style=\"color:blue; background-color:#dfa8e4\" data-toggle=\"popover\">Content</a>\n",
    "\n",
    "![image.png](https://i.ibb.co/TKhTf2g/3d-plots.png)\n",
    "\n",
    "Matplotlib was introduced keeping in mind, only two-dimensional plotting. But at the time when the release of 1.0 occurred, the 3d utilities were developed upon the 2d and thus, we have 3d implementation of data available today! The 3d plots are enabled by importing the mplot3d toolkit. \n",
    "\n",
    "[SOURCE 01](https://www.tutorialspoint.com/matplotlib/matplotlib_three_dimensional_plotting.htm), [SOURCE 02](https://towardsdatascience.com/an-easy-introduction-to-3d-plotting-with-matplotlib-801561999725), [SOURCE 03](https://www.geeksforgeeks.org/three-dimensional-plotting-in-python-using-matplotlib/), [SOURCE 04](https://jakevdp.github.io/PythonDataScienceHandbook/04.12-three-dimensional-plotting.html), [SOURCE 05](https://www.youtube.com/watch?v=gqoLLGgbeAE) & [SOURCE 06](https://www.youtube.com/watch?v=6ljHxJQ47Uk)"
   ]
  },
  {
   "cell_type": "code",
   "execution_count": null,
   "id": "phantom-briefing",
   "metadata": {
    "colab": {
     "base_uri": "https://localhost:8080/",
     "height": 248
    },
    "id": "phantom-briefing",
    "outputId": "7cb4fd07-d27d-4387-eb00-1250d3dd09b8"
   },
   "outputs": [],
   "source": [
    "from mpl_toolkits import mplot3d"
   ]
  },
  {
   "cell_type": "code",
   "execution_count": null,
   "id": "c64af73a",
   "metadata": {},
   "outputs": [],
   "source": []
  },
  {
   "cell_type": "code",
   "execution_count": null,
   "id": "3d4ecb0c",
   "metadata": {},
   "outputs": [],
   "source": []
  },
  {
   "cell_type": "code",
   "execution_count": null,
   "id": "16861f8c",
   "metadata": {},
   "outputs": [],
   "source": []
  },
  {
   "cell_type": "code",
   "execution_count": null,
   "id": "f7a1f22f",
   "metadata": {},
   "outputs": [],
   "source": []
  },
  {
   "cell_type": "markdown",
   "id": "5e69b27f",
   "metadata": {},
   "source": [
    "## <p style=\"background-color:#9d4f8c; font-family:newtimeroman; color:#FFF9ED; font-size:150%; text-align:center; border-radius:10px 10px;\">THE END OF THE MATPLOTLIB SESSION 02</p>\n",
    "\n",
    "<a id=\"15\"></a>\n",
    "<a href=\"#toc\" class=\"btn btn-primary btn-sm\" role=\"button\" aria-pressed=\"true\" \n",
    "style=\"color:blue; background-color:#dfa8e4\" data-toggle=\"popover\">Content</a>"
   ]
  },
  {
   "cell_type": "markdown",
   "id": "e084f69f",
   "metadata": {},
   "source": [
    "___\n",
    "\n",
    "<p style=\"text-align: center;\"><img src=\"https://docs.google.com/uc?id=1lY0Uj5R04yMY3-ZppPWxqCr5pvBLYPnV\" class=\"img-fluid\" alt=\"CLRSWY\"></p>\n",
    "\n",
    "## <p style=\"background-color:#FDFEFE; font-family:newtimeroman; color:#9d4f8c; font-size:100%; text-align:center; border-radius:10px 10px;\">WAY TO REINVENT YOURSELF</p>\n",
    "___"
   ]
  }
 ],
 "metadata": {
  "colab": {
   "collapsed_sections": [],
   "name": "2S-Matplotlib_Pandas.ipynb",
   "provenance": []
  },
  "kernelspec": {
   "display_name": "Python 3 (ipykernel)",
   "language": "python",
   "name": "python3"
  },
  "language_info": {
   "codemirror_mode": {
    "name": "ipython",
    "version": 3
   },
   "file_extension": ".py",
   "mimetype": "text/x-python",
   "name": "python",
   "nbconvert_exporter": "python",
   "pygments_lexer": "ipython3",
   "version": "3.9.7"
  },
  "toc": {
   "base_numbering": 1,
   "nav_menu": {},
   "number_sections": false,
   "sideBar": true,
   "skip_h1_title": false,
   "title_cell": "Table of Contents",
   "title_sidebar": "Contents",
   "toc_cell": false,
   "toc_position": {},
   "toc_section_display": true,
   "toc_window_display": false
  }
 },
 "nbformat": 4,
 "nbformat_minor": 5
}
