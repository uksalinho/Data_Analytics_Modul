{
  "nbformat": 4,
  "nbformat_minor": 0,
  "metadata": {
    "colab": {
      "name": "Statistics_S3_(Correl&Norm.Dist.)_09May2022.ipynb",
      "provenance": [],
      "collapsed_sections": []
    },
    "kernelspec": {
      "name": "python3",
      "display_name": "Python 3"
    },
    "language_info": {
      "name": "python"
    }
  },
  "cells": [
    {
      "cell_type": "markdown",
      "source": [
        "## Importing Libraries"
      ],
      "metadata": {
        "id": "ENhrb3o6FDJ7"
      }
    },
    {
      "cell_type": "code",
      "execution_count": null,
      "metadata": {
        "id": "w2JTaoNY5g2l"
      },
      "outputs": [],
      "source": [
        "import seaborn as sns   #statistical visualization\n",
        "import numpy as np      #matrices"
      ]
    },
    {
      "cell_type": "markdown",
      "source": [
        "## Load Dataset"
      ],
      "metadata": {
        "id": "3zSVBD01FJ3q"
      }
    },
    {
      "cell_type": "markdown",
      "source": [
        "Get dataset names"
      ],
      "metadata": {
        "id": "jKUY_LXZFPW-"
      }
    },
    {
      "cell_type": "code",
      "source": [
        "sns.get_dataset_names()"
      ],
      "metadata": {
        "colab": {
          "base_uri": "https://localhost:8080/"
        },
        "id": "kkrc3lf1FNqS",
        "outputId": "089ad352-e0a6-46ac-ea1f-f2068e8d5f93"
      },
      "execution_count": null,
      "outputs": [
        {
          "output_type": "execute_result",
          "data": {
            "text/plain": [
              "['anagrams',\n",
              " 'anscombe',\n",
              " 'attention',\n",
              " 'brain_networks',\n",
              " 'car_crashes',\n",
              " 'diamonds',\n",
              " 'dots',\n",
              " 'exercise',\n",
              " 'flights',\n",
              " 'fmri',\n",
              " 'gammas',\n",
              " 'geyser',\n",
              " 'iris',\n",
              " 'mpg',\n",
              " 'penguins',\n",
              " 'planets',\n",
              " 'taxis',\n",
              " 'tips',\n",
              " 'titanic']"
            ]
          },
          "metadata": {},
          "execution_count": 2
        }
      ]
    },
    {
      "cell_type": "markdown",
      "source": [
        "Load Dataset"
      ],
      "metadata": {
        "id": "1pcHVgEeFR3h"
      }
    },
    {
      "cell_type": "code",
      "source": [
        "df = sns.load_dataset(\"mpg\")"
      ],
      "metadata": {
        "id": "cNhPk4_OFULw"
      },
      "execution_count": null,
      "outputs": []
    },
    {
      "cell_type": "code",
      "source": [
        "type(df)"
      ],
      "metadata": {
        "colab": {
          "base_uri": "https://localhost:8080/"
        },
        "id": "56zUHyjiIruI",
        "outputId": "e246d666-bcfb-42b0-b4f6-54fcbce94452"
      },
      "execution_count": null,
      "outputs": [
        {
          "output_type": "execute_result",
          "data": {
            "text/plain": [
              "pandas.core.frame.DataFrame"
            ]
          },
          "metadata": {},
          "execution_count": 4
        }
      ]
    },
    {
      "cell_type": "markdown",
      "source": [
        "Check first 3 rows"
      ],
      "metadata": {
        "id": "my4MDBSwFWjr"
      }
    },
    {
      "cell_type": "code",
      "source": [
        "df.head(3)"
      ],
      "metadata": {
        "colab": {
          "base_uri": "https://localhost:8080/",
          "height": 143
        },
        "id": "NgVkOjVHFZFq",
        "outputId": "0b953f50-39c4-4850-fc59-05d8c8f3f018"
      },
      "execution_count": null,
      "outputs": [
        {
          "output_type": "execute_result",
          "data": {
            "text/plain": [
              "    mpg  cylinders  displacement  horsepower  weight  acceleration  \\\n",
              "0  18.0          8         307.0       130.0    3504          12.0   \n",
              "1  15.0          8         350.0       165.0    3693          11.5   \n",
              "2  18.0          8         318.0       150.0    3436          11.0   \n",
              "\n",
              "   model_year origin                       name  \n",
              "0          70    usa  chevrolet chevelle malibu  \n",
              "1          70    usa          buick skylark 320  \n",
              "2          70    usa         plymouth satellite  "
            ],
            "text/html": [
              "\n",
              "  <div id=\"df-5f867e49-d1d6-451e-8c5e-7656b9b316d0\">\n",
              "    <div class=\"colab-df-container\">\n",
              "      <div>\n",
              "<style scoped>\n",
              "    .dataframe tbody tr th:only-of-type {\n",
              "        vertical-align: middle;\n",
              "    }\n",
              "\n",
              "    .dataframe tbody tr th {\n",
              "        vertical-align: top;\n",
              "    }\n",
              "\n",
              "    .dataframe thead th {\n",
              "        text-align: right;\n",
              "    }\n",
              "</style>\n",
              "<table border=\"1\" class=\"dataframe\">\n",
              "  <thead>\n",
              "    <tr style=\"text-align: right;\">\n",
              "      <th></th>\n",
              "      <th>mpg</th>\n",
              "      <th>cylinders</th>\n",
              "      <th>displacement</th>\n",
              "      <th>horsepower</th>\n",
              "      <th>weight</th>\n",
              "      <th>acceleration</th>\n",
              "      <th>model_year</th>\n",
              "      <th>origin</th>\n",
              "      <th>name</th>\n",
              "    </tr>\n",
              "  </thead>\n",
              "  <tbody>\n",
              "    <tr>\n",
              "      <th>0</th>\n",
              "      <td>18.0</td>\n",
              "      <td>8</td>\n",
              "      <td>307.0</td>\n",
              "      <td>130.0</td>\n",
              "      <td>3504</td>\n",
              "      <td>12.0</td>\n",
              "      <td>70</td>\n",
              "      <td>usa</td>\n",
              "      <td>chevrolet chevelle malibu</td>\n",
              "    </tr>\n",
              "    <tr>\n",
              "      <th>1</th>\n",
              "      <td>15.0</td>\n",
              "      <td>8</td>\n",
              "      <td>350.0</td>\n",
              "      <td>165.0</td>\n",
              "      <td>3693</td>\n",
              "      <td>11.5</td>\n",
              "      <td>70</td>\n",
              "      <td>usa</td>\n",
              "      <td>buick skylark 320</td>\n",
              "    </tr>\n",
              "    <tr>\n",
              "      <th>2</th>\n",
              "      <td>18.0</td>\n",
              "      <td>8</td>\n",
              "      <td>318.0</td>\n",
              "      <td>150.0</td>\n",
              "      <td>3436</td>\n",
              "      <td>11.0</td>\n",
              "      <td>70</td>\n",
              "      <td>usa</td>\n",
              "      <td>plymouth satellite</td>\n",
              "    </tr>\n",
              "  </tbody>\n",
              "</table>\n",
              "</div>\n",
              "      <button class=\"colab-df-convert\" onclick=\"convertToInteractive('df-5f867e49-d1d6-451e-8c5e-7656b9b316d0')\"\n",
              "              title=\"Convert this dataframe to an interactive table.\"\n",
              "              style=\"display:none;\">\n",
              "        \n",
              "  <svg xmlns=\"http://www.w3.org/2000/svg\" height=\"24px\"viewBox=\"0 0 24 24\"\n",
              "       width=\"24px\">\n",
              "    <path d=\"M0 0h24v24H0V0z\" fill=\"none\"/>\n",
              "    <path d=\"M18.56 5.44l.94 2.06.94-2.06 2.06-.94-2.06-.94-.94-2.06-.94 2.06-2.06.94zm-11 1L8.5 8.5l.94-2.06 2.06-.94-2.06-.94L8.5 2.5l-.94 2.06-2.06.94zm10 10l.94 2.06.94-2.06 2.06-.94-2.06-.94-.94-2.06-.94 2.06-2.06.94z\"/><path d=\"M17.41 7.96l-1.37-1.37c-.4-.4-.92-.59-1.43-.59-.52 0-1.04.2-1.43.59L10.3 9.45l-7.72 7.72c-.78.78-.78 2.05 0 2.83L4 21.41c.39.39.9.59 1.41.59.51 0 1.02-.2 1.41-.59l7.78-7.78 2.81-2.81c.8-.78.8-2.07 0-2.86zM5.41 20L4 18.59l7.72-7.72 1.47 1.35L5.41 20z\"/>\n",
              "  </svg>\n",
              "      </button>\n",
              "      \n",
              "  <style>\n",
              "    .colab-df-container {\n",
              "      display:flex;\n",
              "      flex-wrap:wrap;\n",
              "      gap: 12px;\n",
              "    }\n",
              "\n",
              "    .colab-df-convert {\n",
              "      background-color: #E8F0FE;\n",
              "      border: none;\n",
              "      border-radius: 50%;\n",
              "      cursor: pointer;\n",
              "      display: none;\n",
              "      fill: #1967D2;\n",
              "      height: 32px;\n",
              "      padding: 0 0 0 0;\n",
              "      width: 32px;\n",
              "    }\n",
              "\n",
              "    .colab-df-convert:hover {\n",
              "      background-color: #E2EBFA;\n",
              "      box-shadow: 0px 1px 2px rgba(60, 64, 67, 0.3), 0px 1px 3px 1px rgba(60, 64, 67, 0.15);\n",
              "      fill: #174EA6;\n",
              "    }\n",
              "\n",
              "    [theme=dark] .colab-df-convert {\n",
              "      background-color: #3B4455;\n",
              "      fill: #D2E3FC;\n",
              "    }\n",
              "\n",
              "    [theme=dark] .colab-df-convert:hover {\n",
              "      background-color: #434B5C;\n",
              "      box-shadow: 0px 1px 3px 1px rgba(0, 0, 0, 0.15);\n",
              "      filter: drop-shadow(0px 1px 2px rgba(0, 0, 0, 0.3));\n",
              "      fill: #FFFFFF;\n",
              "    }\n",
              "  </style>\n",
              "\n",
              "      <script>\n",
              "        const buttonEl =\n",
              "          document.querySelector('#df-5f867e49-d1d6-451e-8c5e-7656b9b316d0 button.colab-df-convert');\n",
              "        buttonEl.style.display =\n",
              "          google.colab.kernel.accessAllowed ? 'block' : 'none';\n",
              "\n",
              "        async function convertToInteractive(key) {\n",
              "          const element = document.querySelector('#df-5f867e49-d1d6-451e-8c5e-7656b9b316d0');\n",
              "          const dataTable =\n",
              "            await google.colab.kernel.invokeFunction('convertToInteractive',\n",
              "                                                     [key], {});\n",
              "          if (!dataTable) return;\n",
              "\n",
              "          const docLinkHtml = 'Like what you see? Visit the ' +\n",
              "            '<a target=\"_blank\" href=https://colab.research.google.com/notebooks/data_table.ipynb>data table notebook</a>'\n",
              "            + ' to learn more about interactive tables.';\n",
              "          element.innerHTML = '';\n",
              "          dataTable['output_type'] = 'display_data';\n",
              "          await google.colab.output.renderOutput(dataTable, element);\n",
              "          const docLink = document.createElement('div');\n",
              "          docLink.innerHTML = docLinkHtml;\n",
              "          element.appendChild(docLink);\n",
              "        }\n",
              "      </script>\n",
              "    </div>\n",
              "  </div>\n",
              "  "
            ]
          },
          "metadata": {},
          "execution_count": 5
        }
      ]
    },
    {
      "cell_type": "markdown",
      "source": [
        "Check last 5 rows"
      ],
      "metadata": {
        "id": "zuY9Tb3kFZyf"
      }
    },
    {
      "cell_type": "code",
      "source": [
        "df.tail()"
      ],
      "metadata": {
        "colab": {
          "base_uri": "https://localhost:8080/",
          "height": 206
        },
        "id": "_T5et_nGFcEv",
        "outputId": "ba2362ad-23a4-4bc8-943c-ffe22b62e8cc"
      },
      "execution_count": null,
      "outputs": [
        {
          "output_type": "execute_result",
          "data": {
            "text/plain": [
              "      mpg  cylinders  displacement  horsepower  weight  acceleration  \\\n",
              "393  27.0          4         140.0        86.0    2790          15.6   \n",
              "394  44.0          4          97.0        52.0    2130          24.6   \n",
              "395  32.0          4         135.0        84.0    2295          11.6   \n",
              "396  28.0          4         120.0        79.0    2625          18.6   \n",
              "397  31.0          4         119.0        82.0    2720          19.4   \n",
              "\n",
              "     model_year  origin             name  \n",
              "393          82     usa  ford mustang gl  \n",
              "394          82  europe        vw pickup  \n",
              "395          82     usa    dodge rampage  \n",
              "396          82     usa      ford ranger  \n",
              "397          82     usa       chevy s-10  "
            ],
            "text/html": [
              "\n",
              "  <div id=\"df-c3529ce8-f7b2-4bcf-8344-a7f6b2962416\">\n",
              "    <div class=\"colab-df-container\">\n",
              "      <div>\n",
              "<style scoped>\n",
              "    .dataframe tbody tr th:only-of-type {\n",
              "        vertical-align: middle;\n",
              "    }\n",
              "\n",
              "    .dataframe tbody tr th {\n",
              "        vertical-align: top;\n",
              "    }\n",
              "\n",
              "    .dataframe thead th {\n",
              "        text-align: right;\n",
              "    }\n",
              "</style>\n",
              "<table border=\"1\" class=\"dataframe\">\n",
              "  <thead>\n",
              "    <tr style=\"text-align: right;\">\n",
              "      <th></th>\n",
              "      <th>mpg</th>\n",
              "      <th>cylinders</th>\n",
              "      <th>displacement</th>\n",
              "      <th>horsepower</th>\n",
              "      <th>weight</th>\n",
              "      <th>acceleration</th>\n",
              "      <th>model_year</th>\n",
              "      <th>origin</th>\n",
              "      <th>name</th>\n",
              "    </tr>\n",
              "  </thead>\n",
              "  <tbody>\n",
              "    <tr>\n",
              "      <th>393</th>\n",
              "      <td>27.0</td>\n",
              "      <td>4</td>\n",
              "      <td>140.0</td>\n",
              "      <td>86.0</td>\n",
              "      <td>2790</td>\n",
              "      <td>15.6</td>\n",
              "      <td>82</td>\n",
              "      <td>usa</td>\n",
              "      <td>ford mustang gl</td>\n",
              "    </tr>\n",
              "    <tr>\n",
              "      <th>394</th>\n",
              "      <td>44.0</td>\n",
              "      <td>4</td>\n",
              "      <td>97.0</td>\n",
              "      <td>52.0</td>\n",
              "      <td>2130</td>\n",
              "      <td>24.6</td>\n",
              "      <td>82</td>\n",
              "      <td>europe</td>\n",
              "      <td>vw pickup</td>\n",
              "    </tr>\n",
              "    <tr>\n",
              "      <th>395</th>\n",
              "      <td>32.0</td>\n",
              "      <td>4</td>\n",
              "      <td>135.0</td>\n",
              "      <td>84.0</td>\n",
              "      <td>2295</td>\n",
              "      <td>11.6</td>\n",
              "      <td>82</td>\n",
              "      <td>usa</td>\n",
              "      <td>dodge rampage</td>\n",
              "    </tr>\n",
              "    <tr>\n",
              "      <th>396</th>\n",
              "      <td>28.0</td>\n",
              "      <td>4</td>\n",
              "      <td>120.0</td>\n",
              "      <td>79.0</td>\n",
              "      <td>2625</td>\n",
              "      <td>18.6</td>\n",
              "      <td>82</td>\n",
              "      <td>usa</td>\n",
              "      <td>ford ranger</td>\n",
              "    </tr>\n",
              "    <tr>\n",
              "      <th>397</th>\n",
              "      <td>31.0</td>\n",
              "      <td>4</td>\n",
              "      <td>119.0</td>\n",
              "      <td>82.0</td>\n",
              "      <td>2720</td>\n",
              "      <td>19.4</td>\n",
              "      <td>82</td>\n",
              "      <td>usa</td>\n",
              "      <td>chevy s-10</td>\n",
              "    </tr>\n",
              "  </tbody>\n",
              "</table>\n",
              "</div>\n",
              "      <button class=\"colab-df-convert\" onclick=\"convertToInteractive('df-c3529ce8-f7b2-4bcf-8344-a7f6b2962416')\"\n",
              "              title=\"Convert this dataframe to an interactive table.\"\n",
              "              style=\"display:none;\">\n",
              "        \n",
              "  <svg xmlns=\"http://www.w3.org/2000/svg\" height=\"24px\"viewBox=\"0 0 24 24\"\n",
              "       width=\"24px\">\n",
              "    <path d=\"M0 0h24v24H0V0z\" fill=\"none\"/>\n",
              "    <path d=\"M18.56 5.44l.94 2.06.94-2.06 2.06-.94-2.06-.94-.94-2.06-.94 2.06-2.06.94zm-11 1L8.5 8.5l.94-2.06 2.06-.94-2.06-.94L8.5 2.5l-.94 2.06-2.06.94zm10 10l.94 2.06.94-2.06 2.06-.94-2.06-.94-.94-2.06-.94 2.06-2.06.94z\"/><path d=\"M17.41 7.96l-1.37-1.37c-.4-.4-.92-.59-1.43-.59-.52 0-1.04.2-1.43.59L10.3 9.45l-7.72 7.72c-.78.78-.78 2.05 0 2.83L4 21.41c.39.39.9.59 1.41.59.51 0 1.02-.2 1.41-.59l7.78-7.78 2.81-2.81c.8-.78.8-2.07 0-2.86zM5.41 20L4 18.59l7.72-7.72 1.47 1.35L5.41 20z\"/>\n",
              "  </svg>\n",
              "      </button>\n",
              "      \n",
              "  <style>\n",
              "    .colab-df-container {\n",
              "      display:flex;\n",
              "      flex-wrap:wrap;\n",
              "      gap: 12px;\n",
              "    }\n",
              "\n",
              "    .colab-df-convert {\n",
              "      background-color: #E8F0FE;\n",
              "      border: none;\n",
              "      border-radius: 50%;\n",
              "      cursor: pointer;\n",
              "      display: none;\n",
              "      fill: #1967D2;\n",
              "      height: 32px;\n",
              "      padding: 0 0 0 0;\n",
              "      width: 32px;\n",
              "    }\n",
              "\n",
              "    .colab-df-convert:hover {\n",
              "      background-color: #E2EBFA;\n",
              "      box-shadow: 0px 1px 2px rgba(60, 64, 67, 0.3), 0px 1px 3px 1px rgba(60, 64, 67, 0.15);\n",
              "      fill: #174EA6;\n",
              "    }\n",
              "\n",
              "    [theme=dark] .colab-df-convert {\n",
              "      background-color: #3B4455;\n",
              "      fill: #D2E3FC;\n",
              "    }\n",
              "\n",
              "    [theme=dark] .colab-df-convert:hover {\n",
              "      background-color: #434B5C;\n",
              "      box-shadow: 0px 1px 3px 1px rgba(0, 0, 0, 0.15);\n",
              "      filter: drop-shadow(0px 1px 2px rgba(0, 0, 0, 0.3));\n",
              "      fill: #FFFFFF;\n",
              "    }\n",
              "  </style>\n",
              "\n",
              "      <script>\n",
              "        const buttonEl =\n",
              "          document.querySelector('#df-c3529ce8-f7b2-4bcf-8344-a7f6b2962416 button.colab-df-convert');\n",
              "        buttonEl.style.display =\n",
              "          google.colab.kernel.accessAllowed ? 'block' : 'none';\n",
              "\n",
              "        async function convertToInteractive(key) {\n",
              "          const element = document.querySelector('#df-c3529ce8-f7b2-4bcf-8344-a7f6b2962416');\n",
              "          const dataTable =\n",
              "            await google.colab.kernel.invokeFunction('convertToInteractive',\n",
              "                                                     [key], {});\n",
              "          if (!dataTable) return;\n",
              "\n",
              "          const docLinkHtml = 'Like what you see? Visit the ' +\n",
              "            '<a target=\"_blank\" href=https://colab.research.google.com/notebooks/data_table.ipynb>data table notebook</a>'\n",
              "            + ' to learn more about interactive tables.';\n",
              "          element.innerHTML = '';\n",
              "          dataTable['output_type'] = 'display_data';\n",
              "          await google.colab.output.renderOutput(dataTable, element);\n",
              "          const docLink = document.createElement('div');\n",
              "          docLink.innerHTML = docLinkHtml;\n",
              "          element.appendChild(docLink);\n",
              "        }\n",
              "      </script>\n",
              "    </div>\n",
              "  </div>\n",
              "  "
            ]
          },
          "metadata": {},
          "execution_count": 6
        }
      ]
    },
    {
      "cell_type": "markdown",
      "source": [
        "Descriptive Statistics"
      ],
      "metadata": {
        "id": "157BAjujGX-W"
      }
    },
    {
      "cell_type": "code",
      "source": [
        "df.describe().T"
      ],
      "metadata": {
        "colab": {
          "base_uri": "https://localhost:8080/",
          "height": 269
        },
        "id": "16fm8E5TGbKt",
        "outputId": "5d4c84ab-a57c-4e73-a309-651f1466efbd"
      },
      "execution_count": null,
      "outputs": [
        {
          "output_type": "execute_result",
          "data": {
            "text/plain": [
              "              count         mean         std     min       25%     50%  \\\n",
              "mpg           398.0    23.514573    7.815984     9.0    17.500    23.0   \n",
              "cylinders     398.0     5.454774    1.701004     3.0     4.000     4.0   \n",
              "displacement  398.0   193.425879  104.269838    68.0   104.250   148.5   \n",
              "horsepower    392.0   104.469388   38.491160    46.0    75.000    93.5   \n",
              "weight        398.0  2970.424623  846.841774  1613.0  2223.750  2803.5   \n",
              "acceleration  398.0    15.568090    2.757689     8.0    13.825    15.5   \n",
              "model_year    398.0    76.010050    3.697627    70.0    73.000    76.0   \n",
              "\n",
              "                   75%     max  \n",
              "mpg             29.000    46.6  \n",
              "cylinders        8.000     8.0  \n",
              "displacement   262.000   455.0  \n",
              "horsepower     126.000   230.0  \n",
              "weight        3608.000  5140.0  \n",
              "acceleration    17.175    24.8  \n",
              "model_year      79.000    82.0  "
            ],
            "text/html": [
              "\n",
              "  <div id=\"df-bac5f33e-40ce-4070-b909-79df1723eb00\">\n",
              "    <div class=\"colab-df-container\">\n",
              "      <div>\n",
              "<style scoped>\n",
              "    .dataframe tbody tr th:only-of-type {\n",
              "        vertical-align: middle;\n",
              "    }\n",
              "\n",
              "    .dataframe tbody tr th {\n",
              "        vertical-align: top;\n",
              "    }\n",
              "\n",
              "    .dataframe thead th {\n",
              "        text-align: right;\n",
              "    }\n",
              "</style>\n",
              "<table border=\"1\" class=\"dataframe\">\n",
              "  <thead>\n",
              "    <tr style=\"text-align: right;\">\n",
              "      <th></th>\n",
              "      <th>count</th>\n",
              "      <th>mean</th>\n",
              "      <th>std</th>\n",
              "      <th>min</th>\n",
              "      <th>25%</th>\n",
              "      <th>50%</th>\n",
              "      <th>75%</th>\n",
              "      <th>max</th>\n",
              "    </tr>\n",
              "  </thead>\n",
              "  <tbody>\n",
              "    <tr>\n",
              "      <th>mpg</th>\n",
              "      <td>398.0</td>\n",
              "      <td>23.514573</td>\n",
              "      <td>7.815984</td>\n",
              "      <td>9.0</td>\n",
              "      <td>17.500</td>\n",
              "      <td>23.0</td>\n",
              "      <td>29.000</td>\n",
              "      <td>46.6</td>\n",
              "    </tr>\n",
              "    <tr>\n",
              "      <th>cylinders</th>\n",
              "      <td>398.0</td>\n",
              "      <td>5.454774</td>\n",
              "      <td>1.701004</td>\n",
              "      <td>3.0</td>\n",
              "      <td>4.000</td>\n",
              "      <td>4.0</td>\n",
              "      <td>8.000</td>\n",
              "      <td>8.0</td>\n",
              "    </tr>\n",
              "    <tr>\n",
              "      <th>displacement</th>\n",
              "      <td>398.0</td>\n",
              "      <td>193.425879</td>\n",
              "      <td>104.269838</td>\n",
              "      <td>68.0</td>\n",
              "      <td>104.250</td>\n",
              "      <td>148.5</td>\n",
              "      <td>262.000</td>\n",
              "      <td>455.0</td>\n",
              "    </tr>\n",
              "    <tr>\n",
              "      <th>horsepower</th>\n",
              "      <td>392.0</td>\n",
              "      <td>104.469388</td>\n",
              "      <td>38.491160</td>\n",
              "      <td>46.0</td>\n",
              "      <td>75.000</td>\n",
              "      <td>93.5</td>\n",
              "      <td>126.000</td>\n",
              "      <td>230.0</td>\n",
              "    </tr>\n",
              "    <tr>\n",
              "      <th>weight</th>\n",
              "      <td>398.0</td>\n",
              "      <td>2970.424623</td>\n",
              "      <td>846.841774</td>\n",
              "      <td>1613.0</td>\n",
              "      <td>2223.750</td>\n",
              "      <td>2803.5</td>\n",
              "      <td>3608.000</td>\n",
              "      <td>5140.0</td>\n",
              "    </tr>\n",
              "    <tr>\n",
              "      <th>acceleration</th>\n",
              "      <td>398.0</td>\n",
              "      <td>15.568090</td>\n",
              "      <td>2.757689</td>\n",
              "      <td>8.0</td>\n",
              "      <td>13.825</td>\n",
              "      <td>15.5</td>\n",
              "      <td>17.175</td>\n",
              "      <td>24.8</td>\n",
              "    </tr>\n",
              "    <tr>\n",
              "      <th>model_year</th>\n",
              "      <td>398.0</td>\n",
              "      <td>76.010050</td>\n",
              "      <td>3.697627</td>\n",
              "      <td>70.0</td>\n",
              "      <td>73.000</td>\n",
              "      <td>76.0</td>\n",
              "      <td>79.000</td>\n",
              "      <td>82.0</td>\n",
              "    </tr>\n",
              "  </tbody>\n",
              "</table>\n",
              "</div>\n",
              "      <button class=\"colab-df-convert\" onclick=\"convertToInteractive('df-bac5f33e-40ce-4070-b909-79df1723eb00')\"\n",
              "              title=\"Convert this dataframe to an interactive table.\"\n",
              "              style=\"display:none;\">\n",
              "        \n",
              "  <svg xmlns=\"http://www.w3.org/2000/svg\" height=\"24px\"viewBox=\"0 0 24 24\"\n",
              "       width=\"24px\">\n",
              "    <path d=\"M0 0h24v24H0V0z\" fill=\"none\"/>\n",
              "    <path d=\"M18.56 5.44l.94 2.06.94-2.06 2.06-.94-2.06-.94-.94-2.06-.94 2.06-2.06.94zm-11 1L8.5 8.5l.94-2.06 2.06-.94-2.06-.94L8.5 2.5l-.94 2.06-2.06.94zm10 10l.94 2.06.94-2.06 2.06-.94-2.06-.94-.94-2.06-.94 2.06-2.06.94z\"/><path d=\"M17.41 7.96l-1.37-1.37c-.4-.4-.92-.59-1.43-.59-.52 0-1.04.2-1.43.59L10.3 9.45l-7.72 7.72c-.78.78-.78 2.05 0 2.83L4 21.41c.39.39.9.59 1.41.59.51 0 1.02-.2 1.41-.59l7.78-7.78 2.81-2.81c.8-.78.8-2.07 0-2.86zM5.41 20L4 18.59l7.72-7.72 1.47 1.35L5.41 20z\"/>\n",
              "  </svg>\n",
              "      </button>\n",
              "      \n",
              "  <style>\n",
              "    .colab-df-container {\n",
              "      display:flex;\n",
              "      flex-wrap:wrap;\n",
              "      gap: 12px;\n",
              "    }\n",
              "\n",
              "    .colab-df-convert {\n",
              "      background-color: #E8F0FE;\n",
              "      border: none;\n",
              "      border-radius: 50%;\n",
              "      cursor: pointer;\n",
              "      display: none;\n",
              "      fill: #1967D2;\n",
              "      height: 32px;\n",
              "      padding: 0 0 0 0;\n",
              "      width: 32px;\n",
              "    }\n",
              "\n",
              "    .colab-df-convert:hover {\n",
              "      background-color: #E2EBFA;\n",
              "      box-shadow: 0px 1px 2px rgba(60, 64, 67, 0.3), 0px 1px 3px 1px rgba(60, 64, 67, 0.15);\n",
              "      fill: #174EA6;\n",
              "    }\n",
              "\n",
              "    [theme=dark] .colab-df-convert {\n",
              "      background-color: #3B4455;\n",
              "      fill: #D2E3FC;\n",
              "    }\n",
              "\n",
              "    [theme=dark] .colab-df-convert:hover {\n",
              "      background-color: #434B5C;\n",
              "      box-shadow: 0px 1px 3px 1px rgba(0, 0, 0, 0.15);\n",
              "      filter: drop-shadow(0px 1px 2px rgba(0, 0, 0, 0.3));\n",
              "      fill: #FFFFFF;\n",
              "    }\n",
              "  </style>\n",
              "\n",
              "      <script>\n",
              "        const buttonEl =\n",
              "          document.querySelector('#df-bac5f33e-40ce-4070-b909-79df1723eb00 button.colab-df-convert');\n",
              "        buttonEl.style.display =\n",
              "          google.colab.kernel.accessAllowed ? 'block' : 'none';\n",
              "\n",
              "        async function convertToInteractive(key) {\n",
              "          const element = document.querySelector('#df-bac5f33e-40ce-4070-b909-79df1723eb00');\n",
              "          const dataTable =\n",
              "            await google.colab.kernel.invokeFunction('convertToInteractive',\n",
              "                                                     [key], {});\n",
              "          if (!dataTable) return;\n",
              "\n",
              "          const docLinkHtml = 'Like what you see? Visit the ' +\n",
              "            '<a target=\"_blank\" href=https://colab.research.google.com/notebooks/data_table.ipynb>data table notebook</a>'\n",
              "            + ' to learn more about interactive tables.';\n",
              "          element.innerHTML = '';\n",
              "          dataTable['output_type'] = 'display_data';\n",
              "          await google.colab.output.renderOutput(dataTable, element);\n",
              "          const docLink = document.createElement('div');\n",
              "          docLink.innerHTML = docLinkHtml;\n",
              "          element.appendChild(docLink);\n",
              "        }\n",
              "      </script>\n",
              "    </div>\n",
              "  </div>\n",
              "  "
            ]
          },
          "metadata": {},
          "execution_count": 7
        }
      ]
    },
    {
      "cell_type": "markdown",
      "source": [
        "### Scatter Plot"
      ],
      "metadata": {
        "id": "VB5r5GDdFci9"
      }
    },
    {
      "cell_type": "code",
      "source": [
        "sns.scatterplot(x=\"weight\", y=\"acceleration\", hue=\"cylinders\", data=df);"
      ],
      "metadata": {
        "colab": {
          "base_uri": "https://localhost:8080/",
          "height": 279
        },
        "id": "s6kUyB5EFiPn",
        "outputId": "875df981-266f-49a5-8a31-f79a5cff5681"
      },
      "execution_count": null,
      "outputs": [
        {
          "output_type": "display_data",
          "data": {
            "text/plain": [
              "<Figure size 432x288 with 1 Axes>"
            ],
            "image/png": "[encoded data removed]"
          },
          "metadata": {
            "needs_background": "light"
          }
        }
      ]
    },
    {
      "cell_type": "code",
      "source": [
        "sns.scatterplot(x=\"mpg\", y=\"horsepower\", data=df);"
      ],
      "metadata": {
        "colab": {
          "base_uri": "https://localhost:8080/",
          "height": 279
        },
        "id": "zwjCHXFeFjkz",
        "outputId": "a030cbf5-f676-474c-f6f7-2c1e533273cf"
      },
      "execution_count": null,
      "outputs": [
        {
          "output_type": "display_data",
          "data": {
            "text/plain": [
              "<Figure size 432x288 with 1 Axes>"
            ],
            "image/png": "[encoded data removed]"
          },
          "metadata": {
            "needs_background": "light"
          }
        }
      ]
    },
    {
      "cell_type": "code",
      "source": [
        "sns.scatterplot(x=\"acceleration\", y=\"horsepower\", data=df);"
      ],
      "metadata": {
        "colab": {
          "base_uri": "https://localhost:8080/",
          "height": 279
        },
        "id": "1HYglpOUFjrb",
        "outputId": "a88db715-d6a7-423f-db43-251a3d833127"
      },
      "execution_count": null,
      "outputs": [
        {
          "output_type": "display_data",
          "data": {
            "text/plain": [
              "<Figure size 432x288 with 1 Axes>"
            ],
            "image/png": "[encoded data removed]"
          },
          "metadata": {
            "needs_background": "light"
          }
        }
      ]
    },
    {
      "cell_type": "markdown",
      "source": [
        "### Count Plot"
      ],
      "metadata": {
        "id": "yE3WdTTUFkSF"
      }
    },
    {
      "cell_type": "code",
      "source": [
        "sns.countplot(x=\"origin\", data=df);"
      ],
      "metadata": {
        "colab": {
          "base_uri": "https://localhost:8080/",
          "height": 279
        },
        "id": "nWR2RHJrFwXD",
        "outputId": "a51f1c1d-5b47-46a3-fd45-e49dcb4cdbb3"
      },
      "execution_count": null,
      "outputs": [
        {
          "output_type": "display_data",
          "data": {
            "text/plain": [
              "<Figure size 432x288 with 1 Axes>"
            ],
            "image/png": "[encoded data removed]"
          },
          "metadata": {
            "needs_background": "light"
          }
        }
      ]
    },
    {
      "cell_type": "markdown",
      "source": [
        "### Covariance"
      ],
      "metadata": {
        "id": "KYYLitfIFxLW"
      }
    },
    {
      "cell_type": "code",
      "source": [
        "a = np.cov(df[\"weight\"], df[\"acceleration\"])\n",
        "a"
      ],
      "metadata": {
        "colab": {
          "base_uri": "https://localhost:8080/"
        },
        "id": "vYs_EOwOF4xr",
        "outputId": "4b06ac26-476a-4ed6-e67d-37d9ffe037ab"
      },
      "execution_count": null,
      "outputs": [
        {
          "output_type": "execute_result",
          "data": {
            "text/plain": [
              "array([[ 7.17140991e+05, -9.74899011e+02],\n",
              "       [-9.74899011e+02,  7.60484823e+00]])"
            ]
          },
          "metadata": {},
          "execution_count": 12
        }
      ]
    },
    {
      "cell_type": "code",
      "source": [
        "a[0][1]"
      ],
      "metadata": {
        "colab": {
          "base_uri": "https://localhost:8080/"
        },
        "id": "3BnPmq_JNDl1",
        "outputId": "38eb05cd-8bfd-429c-c3dc-9b4edfba7e31"
      },
      "execution_count": null,
      "outputs": [
        {
          "output_type": "execute_result",
          "data": {
            "text/plain": [
              "-974.8990107970582"
            ]
          },
          "metadata": {},
          "execution_count": 13
        }
      ]
    },
    {
      "cell_type": "code",
      "source": [
        "a[0,1]"
      ],
      "metadata": {
        "colab": {
          "base_uri": "https://localhost:8080/"
        },
        "id": "Rinmq-L4NKWM",
        "outputId": "9243bf9b-e5df-4677-c391-48d7ede98512"
      },
      "execution_count": null,
      "outputs": [
        {
          "output_type": "execute_result",
          "data": {
            "text/plain": [
              "-974.8990107970582"
            ]
          },
          "metadata": {},
          "execution_count": 14
        }
      ]
    },
    {
      "cell_type": "markdown",
      "source": [
        "### Correlation"
      ],
      "metadata": {
        "id": "tzrbbnldF5ZA"
      }
    },
    {
      "cell_type": "markdown",
      "source": [
        "w/NumPy"
      ],
      "metadata": {
        "id": "RUgOQTV9GDVN"
      }
    },
    {
      "cell_type": "code",
      "source": [
        "np.corrcoef(df[\"weight\"], df[\"acceleration\"])"
      ],
      "metadata": {
        "colab": {
          "base_uri": "https://localhost:8080/"
        },
        "id": "uu0PE4IGGFVD",
        "outputId": "a41f5d32-5c1e-49fe-fe2a-63fb918bcea9"
      },
      "execution_count": null,
      "outputs": [
        {
          "output_type": "execute_result",
          "data": {
            "text/plain": [
              "array([[ 1.        , -0.41745732],\n",
              "       [-0.41745732,  1.        ]])"
            ]
          },
          "metadata": {},
          "execution_count": 15
        }
      ]
    },
    {
      "cell_type": "code",
      "source": [
        "np.corrcoef(df[\"mpg\"], df[\"horsepower\"])"
      ],
      "metadata": {
        "colab": {
          "base_uri": "https://localhost:8080/"
        },
        "id": "BsnLe2Y3NiG7",
        "outputId": "ae10e1c2-c8f8-498e-ed0a-537f17b65d4f"
      },
      "execution_count": null,
      "outputs": [
        {
          "output_type": "execute_result",
          "data": {
            "text/plain": [
              "array([[ 1., nan],\n",
              "       [nan, nan]])"
            ]
          },
          "metadata": {},
          "execution_count": 16
        }
      ]
    },
    {
      "cell_type": "markdown",
      "source": [
        "w/Pandas"
      ],
      "metadata": {
        "id": "ZeRL3bUDGF09"
      }
    },
    {
      "cell_type": "code",
      "source": [
        "df.corr()"
      ],
      "metadata": {
        "colab": {
          "base_uri": "https://localhost:8080/",
          "height": 269
        },
        "id": "wOmCjPDVGH4t",
        "outputId": "c5f152f1-e5ef-4b72-8d5b-96946b136292"
      },
      "execution_count": null,
      "outputs": [
        {
          "output_type": "execute_result",
          "data": {
            "text/plain": [
              "                   mpg  cylinders  displacement  horsepower    weight  \\\n",
              "mpg           1.000000  -0.775396     -0.804203   -0.778427 -0.831741   \n",
              "cylinders    -0.775396   1.000000      0.950721    0.842983  0.896017   \n",
              "displacement -0.804203   0.950721      1.000000    0.897257  0.932824   \n",
              "horsepower   -0.778427   0.842983      0.897257    1.000000  0.864538   \n",
              "weight       -0.831741   0.896017      0.932824    0.864538  1.000000   \n",
              "acceleration  0.420289  -0.505419     -0.543684   -0.689196 -0.417457   \n",
              "model_year    0.579267  -0.348746     -0.370164   -0.416361 -0.306564   \n",
              "\n",
              "              acceleration  model_year  \n",
              "mpg               0.420289    0.579267  \n",
              "cylinders        -0.505419   -0.348746  \n",
              "displacement     -0.543684   -0.370164  \n",
              "horsepower       -0.689196   -0.416361  \n",
              "weight           -0.417457   -0.306564  \n",
              "acceleration      1.000000    0.288137  \n",
              "model_year        0.288137    1.000000  "
            ],
            "text/html": [
              "\n",
              "  <div id=\"df-f99e627e-ec5f-4382-a053-60122a156f6c\">\n",
              "    <div class=\"colab-df-container\">\n",
              "      <div>\n",
              "<style scoped>\n",
              "    .dataframe tbody tr th:only-of-type {\n",
              "        vertical-align: middle;\n",
              "    }\n",
              "\n",
              "    .dataframe tbody tr th {\n",
              "        vertical-align: top;\n",
              "    }\n",
              "\n",
              "    .dataframe thead th {\n",
              "        text-align: right;\n",
              "    }\n",
              "</style>\n",
              "<table border=\"1\" class=\"dataframe\">\n",
              "  <thead>\n",
              "    <tr style=\"text-align: right;\">\n",
              "      <th></th>\n",
              "      <th>mpg</th>\n",
              "      <th>cylinders</th>\n",
              "      <th>displacement</th>\n",
              "      <th>horsepower</th>\n",
              "      <th>weight</th>\n",
              "      <th>acceleration</th>\n",
              "      <th>model_year</th>\n",
              "    </tr>\n",
              "  </thead>\n",
              "  <tbody>\n",
              "    <tr>\n",
              "      <th>mpg</th>\n",
              "      <td>1.000000</td>\n",
              "      <td>-0.775396</td>\n",
              "      <td>-0.804203</td>\n",
              "      <td>-0.778427</td>\n",
              "      <td>-0.831741</td>\n",
              "      <td>0.420289</td>\n",
              "      <td>0.579267</td>\n",
              "    </tr>\n",
              "    <tr>\n",
              "      <th>cylinders</th>\n",
              "      <td>-0.775396</td>\n",
              "      <td>1.000000</td>\n",
              "      <td>0.950721</td>\n",
              "      <td>0.842983</td>\n",
              "      <td>0.896017</td>\n",
              "      <td>-0.505419</td>\n",
              "      <td>-0.348746</td>\n",
              "    </tr>\n",
              "    <tr>\n",
              "      <th>displacement</th>\n",
              "      <td>-0.804203</td>\n",
              "      <td>0.950721</td>\n",
              "      <td>1.000000</td>\n",
              "      <td>0.897257</td>\n",
              "      <td>0.932824</td>\n",
              "      <td>-0.543684</td>\n",
              "      <td>-0.370164</td>\n",
              "    </tr>\n",
              "    <tr>\n",
              "      <th>horsepower</th>\n",
              "      <td>-0.778427</td>\n",
              "      <td>0.842983</td>\n",
              "      <td>0.897257</td>\n",
              "      <td>1.000000</td>\n",
              "      <td>0.864538</td>\n",
              "      <td>-0.689196</td>\n",
              "      <td>-0.416361</td>\n",
              "    </tr>\n",
              "    <tr>\n",
              "      <th>weight</th>\n",
              "      <td>-0.831741</td>\n",
              "      <td>0.896017</td>\n",
              "      <td>0.932824</td>\n",
              "      <td>0.864538</td>\n",
              "      <td>1.000000</td>\n",
              "      <td>-0.417457</td>\n",
              "      <td>-0.306564</td>\n",
              "    </tr>\n",
              "    <tr>\n",
              "      <th>acceleration</th>\n",
              "      <td>0.420289</td>\n",
              "      <td>-0.505419</td>\n",
              "      <td>-0.543684</td>\n",
              "      <td>-0.689196</td>\n",
              "      <td>-0.417457</td>\n",
              "      <td>1.000000</td>\n",
              "      <td>0.288137</td>\n",
              "    </tr>\n",
              "    <tr>\n",
              "      <th>model_year</th>\n",
              "      <td>0.579267</td>\n",
              "      <td>-0.348746</td>\n",
              "      <td>-0.370164</td>\n",
              "      <td>-0.416361</td>\n",
              "      <td>-0.306564</td>\n",
              "      <td>0.288137</td>\n",
              "      <td>1.000000</td>\n",
              "    </tr>\n",
              "  </tbody>\n",
              "</table>\n",
              "</div>\n",
              "      <button class=\"colab-df-convert\" onclick=\"convertToInteractive('df-f99e627e-ec5f-4382-a053-60122a156f6c')\"\n",
              "              title=\"Convert this dataframe to an interactive table.\"\n",
              "              style=\"display:none;\">\n",
              "        \n",
              "  <svg xmlns=\"http://www.w3.org/2000/svg\" height=\"24px\"viewBox=\"0 0 24 24\"\n",
              "       width=\"24px\">\n",
              "    <path d=\"M0 0h24v24H0V0z\" fill=\"none\"/>\n",
              "    <path d=\"M18.56 5.44l.94 2.06.94-2.06 2.06-.94-2.06-.94-.94-2.06-.94 2.06-2.06.94zm-11 1L8.5 8.5l.94-2.06 2.06-.94-2.06-.94L8.5 2.5l-.94 2.06-2.06.94zm10 10l.94 2.06.94-2.06 2.06-.94-2.06-.94-.94-2.06-.94 2.06-2.06.94z\"/><path d=\"M17.41 7.96l-1.37-1.37c-.4-.4-.92-.59-1.43-.59-.52 0-1.04.2-1.43.59L10.3 9.45l-7.72 7.72c-.78.78-.78 2.05 0 2.83L4 21.41c.39.39.9.59 1.41.59.51 0 1.02-.2 1.41-.59l7.78-7.78 2.81-2.81c.8-.78.8-2.07 0-2.86zM5.41 20L4 18.59l7.72-7.72 1.47 1.35L5.41 20z\"/>\n",
              "  </svg>\n",
              "      </button>\n",
              "      \n",
              "  <style>\n",
              "    .colab-df-container {\n",
              "      display:flex;\n",
              "      flex-wrap:wrap;\n",
              "      gap: 12px;\n",
              "    }\n",
              "\n",
              "    .colab-df-convert {\n",
              "      background-color: #E8F0FE;\n",
              "      border: none;\n",
              "      border-radius: 50%;\n",
              "      cursor: pointer;\n",
              "      display: none;\n",
              "      fill: #1967D2;\n",
              "      height: 32px;\n",
              "      padding: 0 0 0 0;\n",
              "      width: 32px;\n",
              "    }\n",
              "\n",
              "    .colab-df-convert:hover {\n",
              "      background-color: #E2EBFA;\n",
              "      box-shadow: 0px 1px 2px rgba(60, 64, 67, 0.3), 0px 1px 3px 1px rgba(60, 64, 67, 0.15);\n",
              "      fill: #174EA6;\n",
              "    }\n",
              "\n",
              "    [theme=dark] .colab-df-convert {\n",
              "      background-color: #3B4455;\n",
              "      fill: #D2E3FC;\n",
              "    }\n",
              "\n",
              "    [theme=dark] .colab-df-convert:hover {\n",
              "      background-color: #434B5C;\n",
              "      box-shadow: 0px 1px 3px 1px rgba(0, 0, 0, 0.15);\n",
              "      filter: drop-shadow(0px 1px 2px rgba(0, 0, 0, 0.3));\n",
              "      fill: #FFFFFF;\n",
              "    }\n",
              "  </style>\n",
              "\n",
              "      <script>\n",
              "        const buttonEl =\n",
              "          document.querySelector('#df-f99e627e-ec5f-4382-a053-60122a156f6c button.colab-df-convert');\n",
              "        buttonEl.style.display =\n",
              "          google.colab.kernel.accessAllowed ? 'block' : 'none';\n",
              "\n",
              "        async function convertToInteractive(key) {\n",
              "          const element = document.querySelector('#df-f99e627e-ec5f-4382-a053-60122a156f6c');\n",
              "          const dataTable =\n",
              "            await google.colab.kernel.invokeFunction('convertToInteractive',\n",
              "                                                     [key], {});\n",
              "          if (!dataTable) return;\n",
              "\n",
              "          const docLinkHtml = 'Like what you see? Visit the ' +\n",
              "            '<a target=\"_blank\" href=https://colab.research.google.com/notebooks/data_table.ipynb>data table notebook</a>'\n",
              "            + ' to learn more about interactive tables.';\n",
              "          element.innerHTML = '';\n",
              "          dataTable['output_type'] = 'display_data';\n",
              "          await google.colab.output.renderOutput(dataTable, element);\n",
              "          const docLink = document.createElement('div');\n",
              "          docLink.innerHTML = docLinkHtml;\n",
              "          element.appendChild(docLink);\n",
              "        }\n",
              "      </script>\n",
              "    </div>\n",
              "  </div>\n",
              "  "
            ]
          },
          "metadata": {},
          "execution_count": 17
        }
      ]
    },
    {
      "cell_type": "markdown",
      "source": [
        "Heatmap"
      ],
      "metadata": {
        "id": "fCzuyxXMGPV7"
      }
    },
    {
      "cell_type": "code",
      "source": [
        "sns.heatmap(df.corr(), annot=True);"
      ],
      "metadata": {
        "colab": {
          "base_uri": "https://localhost:8080/",
          "height": 327
        },
        "id": "K3A0m6F4GNOv",
        "outputId": "883f4cd0-842e-45c2-e5af-a13b003bc52c"
      },
      "execution_count": null,
      "outputs": [
        {
          "output_type": "display_data",
          "data": {
            "text/plain": [
              "<Figure size 432x288 with 2 Axes>"
            ],
            "image/png": "[encoded data removed]"
          },
          "metadata": {
            "needs_background": "light"
          }
        }
      ]
    },
    {
      "cell_type": "markdown",
      "source": [
        "w/SciPy"
      ],
      "metadata": {
        "id": "qWerbYRKGIUw"
      }
    },
    {
      "cell_type": "code",
      "source": [
        "from scipy import stats"
      ],
      "metadata": {
        "id": "o1sW1TR7GJga"
      },
      "execution_count": null,
      "outputs": []
    },
    {
      "cell_type": "code",
      "source": [
        "stats.pearsonr(df[\"weight\"], df[\"acceleration\"])"
      ],
      "metadata": {
        "colab": {
          "base_uri": "https://localhost:8080/"
        },
        "id": "epzTF0SZQNir",
        "outputId": "3378db5e-968b-4b30-fe6d-273c3c1c81a2"
      },
      "execution_count": null,
      "outputs": [
        {
          "output_type": "execute_result",
          "data": {
            "text/plain": [
              "(-0.41745731994039315, 3.2437942124789463e-18)"
            ]
          },
          "metadata": {},
          "execution_count": 20
        }
      ]
    },
    {
      "cell_type": "code",
      "source": [
        "stats.pearsonr(df[\"weight\"], df[\"acceleration\"])[0]"
      ],
      "metadata": {
        "colab": {
          "base_uri": "https://localhost:8080/"
        },
        "id": "QGomqiLUQwax",
        "outputId": "059b5995-73e4-4ac4-fb6c-73ca5afe59e3"
      },
      "execution_count": null,
      "outputs": [
        {
          "output_type": "execute_result",
          "data": {
            "text/plain": [
              "-0.41745731994039315"
            ]
          },
          "metadata": {},
          "execution_count": 21
        }
      ]
    },
    {
      "cell_type": "markdown",
      "source": [
        "### Normal Distribution"
      ],
      "metadata": {
        "id": "RrHFc6QXGUgI"
      }
    },
    {
      "cell_type": "markdown",
      "source": [
        "Randomly generate numbers from normal distribution"
      ],
      "metadata": {
        "id": "OxtHqmhNG2FK"
      }
    },
    {
      "cell_type": "code",
      "source": [
        "samples = np.random.normal(loc=100, scale=15, size=100000)"
      ],
      "metadata": {
        "id": "sNmtGcvvG0md"
      },
      "execution_count": null,
      "outputs": []
    },
    {
      "cell_type": "code",
      "source": [
        "sns.histplot(samples, bins=50);"
      ],
      "metadata": {
        "colab": {
          "base_uri": "https://localhost:8080/",
          "height": 265
        },
        "id": "yrtuZYpfRwSS",
        "outputId": "ba6e3d9e-d535-4728-83ea-c6af2477d5c7"
      },
      "execution_count": null,
      "outputs": [
        {
          "output_type": "display_data",
          "data": {
            "text/plain": [
              "<Figure size 432x288 with 1 Axes>"
            ],
            "image/png": "[encoded data removed]"
          },
          "metadata": {
            "needs_background": "light"
          }
        }
      ]
    },
    {
      "cell_type": "code",
      "source": [
        "np.random.seed(51)\n",
        "np.random.normal(100, 15, 1000)"
      ],
      "metadata": {
        "colab": {
          "base_uri": "https://localhost:8080/"
        },
        "id": "YcH_Sy4rRTKb",
        "outputId": "1cc2ee18-9d75-4f61-a766-4c773a940401"
      },
      "execution_count": null,
      "outputs": [
        {
          "output_type": "execute_result",
          "data": {
            "text/plain": [
              "array([ 95.6424524 , 101.68192071, 118.76192684,  79.58665043,\n",
              "       101.49899323,  99.28013345,  94.65655465,  83.6716137 ,\n",
              "        94.73473452, 138.8259993 ,  92.41523813,  91.23536188,\n",
              "        80.90350936, 111.2017456 ,  91.62480824,  98.33797661,\n",
              "        82.18995048,  84.87661125,  89.65207403,  98.71536114,\n",
              "       112.34129879, 113.74035707, 125.75272168, 107.78890137,\n",
              "       127.43074091, 116.23618442, 105.52936411, 104.41759934,\n",
              "        79.95694444,  84.34869105,  75.44509046, 119.92096643,\n",
              "       106.26225842, 110.76617034, 115.03236163,  96.93209266,\n",
              "        99.50620346,  94.40294646, 104.7368163 ,  95.42880517,\n",
              "       105.43984786,  91.59024077,  95.47939636, 104.8258482 ,\n",
              "       105.40550149,  97.06796437,  79.89081174, 116.41925863,\n",
              "        82.36544106,  95.5352919 ,  91.69580343,  91.6743851 ,\n",
              "       106.69332653, 112.48820287,  95.48903188,  89.6435997 ,\n",
              "        96.93978135, 100.50523647, 110.50884052,  85.0551334 ,\n",
              "        88.2713097 ,  78.50718029,  97.83641116,  80.60830036,\n",
              "       108.33281359, 116.66489599, 103.84018462, 111.31836402,\n",
              "        70.84191616, 105.56078932, 104.93955954,  88.99058894,\n",
              "        44.81183155, 101.30275948, 105.66510565, 137.3941361 ,\n",
              "       103.79442897,  97.17570975,  83.35638142, 101.5584768 ,\n",
              "       119.98549415, 116.60467063,  94.0599788 ,  81.39577565,\n",
              "       109.83884982, 135.70120899,  85.38015973, 109.90294619,\n",
              "       114.51522415,  97.88880862,  94.00553872, 104.98566851,\n",
              "       105.50175357, 110.08404919,  98.10826867,  95.25674888,\n",
              "       111.59908736,  74.22541472, 116.94826555, 105.26373201,\n",
              "        95.07631496,  75.62177328,  84.6359735 , 105.63099501,\n",
              "        85.54818743,  96.09515917,  70.41850093,  84.02883929,\n",
              "       117.82411637, 105.29927099, 131.23971305,  82.10575536,\n",
              "        88.65244591,  96.87763782,  97.1285729 , 111.77166296,\n",
              "        88.79681966,  84.17739759, 109.98687055,  60.98217324,\n",
              "        67.17598861, 105.49340081, 117.03741114, 117.95896517,\n",
              "       113.89843094,  77.26802131,  98.42882381,  96.72254572,\n",
              "       101.00521733,  85.06879408, 100.13914435, 113.26902299,\n",
              "       114.28794349,  99.56573146, 100.09611325, 109.72860623,\n",
              "       103.88624548, 110.38901458,  82.32006312, 100.36043379,\n",
              "        92.66482244,  98.72792078, 100.62112603,  91.76003019,\n",
              "        95.98509158, 114.93623009, 129.31548754,  93.50123823,\n",
              "       110.39026701, 123.45947763, 119.95626217, 105.8966348 ,\n",
              "        74.83194611, 123.36563578,  93.67155727, 107.19492403,\n",
              "        92.14361124,  94.26778251, 104.49769917,  87.21191378,\n",
              "       121.2658894 ,  98.98158155, 116.3318771 , 104.8642463 ,\n",
              "       110.30415921,  97.33347166, 104.24507177,  83.94107578,\n",
              "       121.66951099, 107.86093499, 114.47203122,  65.22748567,\n",
              "        76.98982127,  95.22926402, 114.82757905,  93.76350874,\n",
              "        86.53327573,  83.3948279 ,  89.48659704,  91.15802057,\n",
              "       112.31496992, 102.9443875 ,  78.10426549, 101.41979641,\n",
              "       116.85983863,  88.30220042,  78.89727023, 104.75188953,\n",
              "        91.69720492, 115.4181919 ,  91.40928952, 105.52384561,\n",
              "       103.57154997, 115.73078933, 102.21063512, 111.6089651 ,\n",
              "       117.75377427,  72.08330716, 119.34609554,  95.0345703 ,\n",
              "        98.53645222, 113.57515758, 104.15577249,  94.90057717,\n",
              "        77.45446774,  93.41204942,  98.79767216,  81.68490827,\n",
              "       120.68562684, 116.4239355 ,  93.61936922,  80.75827016,\n",
              "        66.87548843,  93.50951424,  73.83468088, 110.87276416,\n",
              "        67.48932853, 104.99241501,  90.22472444, 101.12488748,\n",
              "        87.58362113,  94.86516433,  84.70927012, 108.56855234,\n",
              "        88.13009832, 114.55041182,  79.9737134 , 111.96126734,\n",
              "        84.92423048,  89.0482247 ,  87.94821069,  80.11543238,\n",
              "        75.03274485,  94.80105455,  71.81539274,  98.28512233,\n",
              "       106.4934526 ,  81.58140247, 103.3623134 ,  87.6987517 ,\n",
              "       104.88358795, 114.30641185,  96.1565572 , 103.68338805,\n",
              "       130.31330076,  89.6128001 , 105.92128278,  76.43903176,\n",
              "       105.8689522 ,  90.42974751,  93.34939875, 128.66390483,\n",
              "       112.55012289,  91.97705237,  93.22707198,  97.25745399,\n",
              "       111.63908131,  89.63958294,  97.86795236,  74.66319724,\n",
              "       104.30808475,  99.76483219,  86.57060757,  86.29855717,\n",
              "        83.1727041 ,  96.30085239,  75.64805474,  85.01003229,\n",
              "       100.12887839,  83.71594934, 109.16992812,  89.39985336,\n",
              "        93.97839549, 106.96216218, 119.8741071 , 120.53760545,\n",
              "        80.0401999 , 103.33181734,  96.21563925, 101.04286879,\n",
              "        92.76022828,  96.21241374, 109.97314607, 101.76309218,\n",
              "        94.56612137,  97.80250779,  99.76951495,  82.34615804,\n",
              "       121.36709537,  86.61683454, 107.27721623,  88.37954269,\n",
              "        69.34490511, 110.21029267, 106.76373431, 110.47637952,\n",
              "        96.68891319, 102.5611646 ,  77.64469359, 121.21677532,\n",
              "        78.52618909,  89.5832439 , 114.03036017,  98.57255749,\n",
              "       119.02559082,  96.61978513, 114.49231606, 135.96991836,\n",
              "        96.18801083, 103.84408451,  79.6663495 ,  86.47839976,\n",
              "        99.88869663,  87.33367967, 107.54579138,  94.1042035 ,\n",
              "       108.27715809,  98.73386738, 118.23706862,  98.35328468,\n",
              "        88.40943907, 135.92341591,  93.43040122, 109.7424814 ,\n",
              "        98.4905224 ,  96.67052507, 104.52896244, 100.60610649,\n",
              "        86.11420788,  81.55010998, 102.92743781,  83.40586458,\n",
              "       110.46960835, 104.75506616, 110.96686003, 105.57055867,\n",
              "        98.22880636,  49.47135363, 104.52223701, 115.73503026,\n",
              "        96.3582497 ,  95.225669  , 109.41679707, 114.60448672,\n",
              "        87.56179532,  98.64623395,  89.53565398,  72.60387019,\n",
              "       113.80344521, 102.56567782, 105.21583327,  91.15799827,\n",
              "       114.14102009, 102.3607569 ,  93.70405554,  96.08792221,\n",
              "        84.13744911, 117.41779295,  99.47025623,  95.96616015,\n",
              "       120.60264491, 119.06097883,  95.01572802,  96.0301516 ,\n",
              "        90.794389  , 115.87114563, 127.29245527,  93.65923542,\n",
              "       119.41648131, 106.83572808,  65.47990398,  88.99575272,\n",
              "        92.26111162,  98.63250304,  70.43341351, 110.43813667,\n",
              "       107.06636379,  93.56786006,  71.47931675, 105.14033485,\n",
              "       101.09713402, 110.24595325, 132.4144304 ,  88.15817278,\n",
              "       115.89597638,  89.23159435,  99.38944792,  85.2016889 ,\n",
              "        91.86621809,  96.23130697,  74.62554416, 140.42995233,\n",
              "       108.05970699, 102.61752763, 102.79243843, 105.24551732,\n",
              "        74.46491019,  85.11490004, 115.84296292, 107.22172816,\n",
              "       113.57923943,  57.5093815 , 133.10843532,  93.33668545,\n",
              "        85.6758589 ,  97.99147441, 104.32677468, 103.94997246,\n",
              "       106.35740291,  70.60772876, 100.55512755,  87.98081798,\n",
              "        77.77895846, 101.37201989,  89.62674766,  86.7863902 ,\n",
              "       100.66959486, 124.5264788 , 109.62244327,  94.92097025,\n",
              "       119.85914213,  97.73490247, 105.16487635,  88.56712707,\n",
              "        86.08609322, 103.93993831, 102.82454522,  74.08361382,\n",
              "       101.89559424, 129.91242358, 103.75488848,  89.18463535,\n",
              "        98.14627294,  89.51914045,  97.67573424, 122.34314395,\n",
              "        86.73096803,  80.28833353, 114.39689593, 120.35154911,\n",
              "       100.64641117, 127.74543147,  86.77950677,  84.3577575 ,\n",
              "       113.89467886,  90.79611603,  97.42162074, 101.70783124,\n",
              "        92.02384419, 123.83029348,  80.06909032,  85.58183334,\n",
              "        75.85415211,  95.75022417, 108.62434561,  94.73032625,\n",
              "       118.001793  , 124.03969082,  99.83786648, 131.04651161,\n",
              "       117.32750932, 125.78802   , 105.25900128,  87.06933005,\n",
              "       121.5262189 , 106.55316765, 102.29718279, 104.08076966,\n",
              "       101.59743519, 111.73586557, 115.21426171,  90.15537339,\n",
              "       105.10759367,  91.41574878,  82.93094729, 120.85593895,\n",
              "        76.11311741, 102.90604497,  88.19778048, 126.65148497,\n",
              "        99.41962312,  94.81828951,  83.5617762 , 104.30909565,\n",
              "        75.63300177, 103.26056133,  98.73946089, 109.31913808,\n",
              "       139.88832977,  94.34784601, 121.9932335 ,  90.6800231 ,\n",
              "       102.23689308, 118.58403576, 111.19334607, 107.23314872,\n",
              "        80.85594222,  86.5920488 ,  98.74706539, 100.73055585,\n",
              "       115.79098477,  90.39560374,  84.81500055, 106.41245096,\n",
              "        94.41247306, 100.44678065, 112.01833883,  78.62261696,\n",
              "       109.1730291 ,  99.7422555 ,  96.58931591, 131.29724586,\n",
              "        96.50433722,  69.49588729, 126.95426335,  78.25913688,\n",
              "        98.15795488, 103.40398178,  90.56793616,  97.91559125,\n",
              "        75.55266428,  99.46398131,  91.6821248 , 100.41405677,\n",
              "       100.37182681, 112.58520914,  79.36452435, 101.12245965,\n",
              "        98.45476352,  91.32591392,  98.75716402,  91.32115719,\n",
              "       113.82568831,  87.21936935, 108.70720181, 117.24537786,\n",
              "        99.93017849, 111.54759253,  84.48826437, 117.96671521,\n",
              "       119.08885094, 103.88536867,  86.32135515,  92.29417084,\n",
              "        73.79884676, 110.52763584,  86.05298708,  91.33441848,\n",
              "       103.66416828,  99.42819684, 126.13296603,  98.60496967,\n",
              "       103.6006103 , 108.32198066,  93.51351818,  96.89187921,\n",
              "        97.38854373,  99.50995605, 139.54298252,  78.12199453,\n",
              "        85.61223875,  99.03156773,  93.8052651 , 107.34788114,\n",
              "       129.24340283, 114.4427696 ,  87.33733301, 107.71139832,\n",
              "       100.275409  , 116.07675732, 133.61705244, 106.59981034,\n",
              "       118.53589241, 115.60319197, 114.25260476,  97.98206227,\n",
              "       110.23980181, 103.35016842,  97.63989948, 107.35220933,\n",
              "       102.51096398, 148.0413699 ,  83.2648714 ,  85.94763056,\n",
              "       107.60828223, 113.67608088,  78.60704733,  83.86364999,\n",
              "        91.7568187 , 103.75920997, 110.92962411,  93.32674496,\n",
              "       110.64765595, 112.74541603, 110.83289503,  82.41828002,\n",
              "        91.91571789, 102.60685013,  92.92306822,  99.83246268,\n",
              "       123.30927196,  85.6193429 , 111.84923742, 118.00626662,\n",
              "        80.65600327,  69.91935093,  92.60029397, 100.18398915,\n",
              "       106.11740473, 101.30651598, 108.73880427, 108.97629072,\n",
              "        84.27479554,  97.09577172,  91.85335663,  83.60652322,\n",
              "       116.87074899,  97.98374779,  92.22482655,  90.12841619,\n",
              "        83.14924513,  85.32322191,  95.02497514, 112.07741447,\n",
              "       123.88939518,  82.09628354, 101.61169519,  95.44151919,\n",
              "        80.48704325, 100.65297631,  96.67451828, 103.94339526,\n",
              "       108.86282289,  98.53544643,  82.28427631,  98.48355357,\n",
              "       100.18506433, 131.95391277, 110.91526762, 106.07762337,\n",
              "        99.31992494, 121.21173444,  95.68059519,  95.25888183,\n",
              "        84.0923496 ,  92.1477612 ,  98.53716051, 115.12716058,\n",
              "       109.40992596,  87.67797346,  94.34313551,  61.44259642,\n",
              "       103.39404652,  95.64462858,  99.26753278,  90.46541128,\n",
              "        95.25775815,  91.03952942,  98.09563517,  97.35297965,\n",
              "       101.76792264, 103.4718926 , 101.79812595,  85.56179541,\n",
              "       111.32184603, 103.37892716, 126.75760778,  87.0131083 ,\n",
              "       109.97488717, 102.38297494, 108.30259978, 108.14620966,\n",
              "       117.53958047, 108.02138947,  83.45006642,  74.55415421,\n",
              "        85.12000985, 104.16807131, 106.05925012,  91.87758499,\n",
              "        92.54820926,  81.98818304, 113.98619646,  98.79616802,\n",
              "       107.57196801,  94.42021155, 101.49370641,  72.97475007,\n",
              "       100.49559328,  99.6108909 , 100.6823499 , 117.03937807,\n",
              "       129.21368908,  85.04422026, 109.70621426,  95.00371219,\n",
              "        87.72637221,  78.39825175, 115.16952827, 105.30001788,\n",
              "       124.96648229, 102.20538082, 111.49661426, 142.61242052,\n",
              "       133.71422038,  82.16173309,  78.8121478 , 127.26991204,\n",
              "       108.37418661,  84.69125329, 121.75320335, 140.61956615,\n",
              "       114.38767878, 109.21916547, 111.00833872, 114.86783317,\n",
              "        87.91648816, 103.19783228,  95.3633692 , 103.2959605 ,\n",
              "        91.20631458, 115.98148951,  84.68587887,  85.04501807,\n",
              "        98.11390155, 121.26601004,  85.59822561, 107.59585996,\n",
              "        86.89864926,  61.57339849, 101.9233731 ,  98.45175054,\n",
              "        98.98355767,  93.46739541, 127.93664087, 112.63775416,\n",
              "        86.35383831,  92.34417434, 116.11594749, 108.03571668,\n",
              "        94.92170005,  96.86511295, 123.62744277, 102.54667256,\n",
              "       114.34057893, 115.66123469, 119.5559727 , 108.46289886,\n",
              "        90.76680066, 111.30512682,  98.35915019, 109.73949975,\n",
              "        85.65750885,  71.99727984, 100.72208445, 101.16732368,\n",
              "       114.39110503,  89.72578833, 117.55170187,  97.89902426,\n",
              "        98.30080049,  86.88018347,  98.74847626, 105.50012381,\n",
              "       109.35051145, 108.41365593, 113.9109316 ,  70.40735018,\n",
              "        91.04259181,  67.53706411, 102.60490862, 120.98590683,\n",
              "       111.70724246, 125.67467794, 115.20424754,  80.75005653,\n",
              "       101.77127317,  96.88704695,  91.00009406,  87.95917534,\n",
              "       113.60192154, 125.27419758, 114.94605824,  98.47613636,\n",
              "        95.40058857,  95.72005909, 117.29002458,  89.62056376,\n",
              "        93.84430619, 104.06371953, 104.31100468,  88.34858789,\n",
              "       110.63061378, 103.82083297, 116.84438205,  88.11006056,\n",
              "       101.09603694,  80.13265043,  87.38725959, 120.2235262 ,\n",
              "        83.70146169,  69.20723465, 126.12511584, 114.76259226,\n",
              "        85.10901482, 128.18509411,  96.94632483,  94.63632785,\n",
              "       108.61218121,  90.7979256 ,  84.91394443, 120.97320481,\n",
              "       107.98104185, 101.7328993 , 134.79691069, 108.8386818 ,\n",
              "       140.20880117, 117.77787636, 118.96347125,  92.71541282,\n",
              "       111.76746325,  93.84020974,  80.79949557,  83.74610313,\n",
              "       108.61586461, 105.78340368, 116.82602435, 114.58543134,\n",
              "        88.6486363 , 133.73245259,  99.18176598, 112.72579   ,\n",
              "        79.79841081, 114.64331008, 118.45447743,  91.30587902,\n",
              "       105.81850503, 105.38851286, 121.06849128,  95.41354372,\n",
              "        97.92488349, 103.27281446,  67.46143376,  85.14910001,\n",
              "       111.2101072 ,  92.31076248,  79.91467153, 105.7708547 ,\n",
              "        93.9986147 ,  91.19711122,  83.60442246,  95.91663601,\n",
              "        69.3680978 , 110.1308773 , 115.24918417, 110.35773789,\n",
              "       115.17568907,  94.70606756,  98.32231774,  66.6956391 ,\n",
              "        82.92816888, 100.81573227,  96.61412224,  95.55879285,\n",
              "        87.03927175,  90.56659307,  85.99728805, 104.94130977,\n",
              "        87.86093214, 109.25228685,  98.98506308,  98.43648103,\n",
              "       102.83706042,  90.94275049,  90.84105355, 114.55242306,\n",
              "        96.8422394 , 105.240881  ,  88.90216893, 114.79969167,\n",
              "        69.11162605, 113.14469814,  88.26693273, 112.50863966,\n",
              "        97.68217719,  91.18298045,  81.41129241,  91.97448359,\n",
              "       119.40598156,  82.90559787,  98.24653624, 103.46743291,\n",
              "       120.14860249,  87.89946647, 110.54643803, 107.74604411,\n",
              "       106.89954585,  95.12897281,  95.65001077, 114.0530179 ,\n",
              "       128.10992712,  88.23233686,  85.90017819,  78.20867921,\n",
              "        77.74766299,  95.70659814,  99.53761371,  95.16372469,\n",
              "        88.16149547, 118.05685174, 100.38373478,  81.21127256,\n",
              "        93.99691027, 123.64793351,  96.85527249,  95.95042909,\n",
              "        99.67238659, 130.60282956,  71.44782542, 100.48593861,\n",
              "        93.37018286,  97.96033058,  74.77180052, 127.52476041,\n",
              "        97.30220054,  91.37918992, 108.84679887,  93.54802658,\n",
              "       106.77285518,  84.17472156, 110.53097247,  90.5278867 ,\n",
              "       113.14216073, 111.6683886 ,  96.78952567, 104.35660881,\n",
              "        99.26367596,  80.82170828,  99.53128247,  75.59129419,\n",
              "        85.18786608,  77.88546716, 119.83126392,  72.12517475,\n",
              "       114.28175734, 111.90669696, 107.97018741, 108.58766662,\n",
              "        90.22841645, 101.81891765,  73.99623271, 101.79957377,\n",
              "        94.18693546,  93.64893517, 114.08822283, 122.04894886,\n",
              "       121.49565509, 113.90532229,  76.70390318,  93.03818445,\n",
              "       110.86039974,  71.62299183, 107.88652313, 103.1657286 ,\n",
              "       105.5047685 , 114.83672394,  97.08337937, 116.09665342,\n",
              "       113.12716472, 113.98380373,  90.59476771,  94.3270017 ,\n",
              "        99.42748426, 102.82778402, 125.81398322, 103.60116512,\n",
              "        82.3257044 , 114.73835865,  81.37403759, 123.69320128,\n",
              "       115.67085999, 105.53116961, 107.9282395 , 116.53520514,\n",
              "       100.65865796,  92.8086589 ,  97.81130913,  92.13453662,\n",
              "       146.4032235 ,  99.10850879, 131.59790276,  98.35144061,\n",
              "       103.59420387,  63.95379204,  87.28174178,  67.23253546,\n",
              "       111.30733756,  84.00544388,  80.27843274,  95.29819563])"
            ]
          },
          "metadata": {},
          "execution_count": 24
        }
      ]
    },
    {
      "cell_type": "code",
      "source": [
        ""
      ],
      "metadata": {
        "id": "LZOb8LoiRLRq"
      },
      "execution_count": null,
      "outputs": []
    }
  ]
}