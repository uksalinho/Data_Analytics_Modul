{
 "cells": [
  {
   "cell_type": "markdown",
   "metadata": {
    "id": "Z3hO1LT4m8xM"
   },
   "source": [
    "# Fine Tuning For BERT Models with TPU"
   ]
  },
  {
   "cell_type": "markdown",
   "metadata": {
    "id": "MNP2W16Lj-J6"
   },
   "source": [
    "Bidirectional Encoder Representations from Transformers (BERT) is a transformer-based machine learning technique for natural language processing (NLP) pre-training developed by Google."
   ]
  },
  {
   "cell_type": "code",
   "execution_count": 1,
   "metadata": {
    "colab": {
     "base_uri": "https://localhost:8080/"
    },
    "executionInfo": {
     "elapsed": 22862,
     "status": "ok",
     "timestamp": 1655361533769,
     "user": {
      "displayName": "Mete Akı",
      "userId": "12447519110364317014"
     },
     "user_tz": -120
    },
    "id": "LZqjyZ92m1BZ",
    "outputId": "fcf96db8-11c9-4dcf-8ffe-e23696e50182"
   },
   "outputs": [
    {
     "name": "stdout",
     "output_type": "stream",
     "text": [
      "Mounted at /content/drive\n"
     ]
    }
   ],
   "source": [
    "from google.colab import drive\n",
    "drive.mount('/content/drive')"
   ]
  },
  {
   "cell_type": "code",
   "execution_count": 2,
   "metadata": {
    "colab": {
     "base_uri": "https://localhost:8080/"
    },
    "executionInfo": {
     "elapsed": 17098,
     "status": "ok",
     "timestamp": 1655361550863,
     "user": {
      "displayName": "Mete Akı",
      "userId": "12447519110364317014"
     },
     "user_tz": -120
    },
    "id": "uuM1yGIv3C7Q",
    "outputId": "c79f2f67-7c23-4f3a-b2fe-75f4a5f525cd"
   },
   "outputs": [
    {
     "name": "stdout",
     "output_type": "stream",
     "text": [
      "INFO:tensorflow:Deallocate tpu buffers before initializing tpu system.\n"
     ]
    },
    {
     "name": "stderr",
     "output_type": "stream",
     "text": [
      "INFO:tensorflow:Deallocate tpu buffers before initializing tpu system.\n"
     ]
    },
    {
     "name": "stdout",
     "output_type": "stream",
     "text": [
      "INFO:tensorflow:Initializing the TPU system: grpc://10.63.109.74:8470\n"
     ]
    },
    {
     "name": "stderr",
     "output_type": "stream",
     "text": [
      "INFO:tensorflow:Initializing the TPU system: grpc://10.63.109.74:8470\n"
     ]
    },
    {
     "name": "stdout",
     "output_type": "stream",
     "text": [
      "INFO:tensorflow:Finished initializing TPU system.\n"
     ]
    },
    {
     "name": "stderr",
     "output_type": "stream",
     "text": [
      "INFO:tensorflow:Finished initializing TPU system.\n"
     ]
    },
    {
     "name": "stdout",
     "output_type": "stream",
     "text": [
      "All devices:  [LogicalDevice(name='/job:worker/replica:0/task:0/device:TPU:0', device_type='TPU'), LogicalDevice(name='/job:worker/replica:0/task:0/device:TPU:1', device_type='TPU'), LogicalDevice(name='/job:worker/replica:0/task:0/device:TPU:2', device_type='TPU'), LogicalDevice(name='/job:worker/replica:0/task:0/device:TPU:3', device_type='TPU'), LogicalDevice(name='/job:worker/replica:0/task:0/device:TPU:4', device_type='TPU'), LogicalDevice(name='/job:worker/replica:0/task:0/device:TPU:5', device_type='TPU'), LogicalDevice(name='/job:worker/replica:0/task:0/device:TPU:6', device_type='TPU'), LogicalDevice(name='/job:worker/replica:0/task:0/device:TPU:7', device_type='TPU')]\n"
     ]
    }
   ],
   "source": [
    "import tensorflow as tf\n",
    "import os\n",
    "\n",
    "# Note that the `tpu` argument is for Colab-only\n",
    "resolver = tf.distribute.cluster_resolver.TPUClusterResolver(tpu='grpc://' + os.environ['COLAB_TPU_ADDR'])\n",
    "\n",
    "tf.config.experimental_connect_to_cluster(resolver)\n",
    "tf.tpu.experimental.initialize_tpu_system(resolver)\n",
    "print(\"All devices: \", tf.config.list_logical_devices('TPU'))"
   ]
  },
  {
   "cell_type": "code",
   "execution_count": 3,
   "metadata": {
    "colab": {
     "base_uri": "https://localhost:8080/"
    },
    "executionInfo": {
     "elapsed": 299,
     "status": "ok",
     "timestamp": 1655361551144,
     "user": {
      "displayName": "Mete Akı",
      "userId": "12447519110364317014"
     },
     "user_tz": -120
    },
    "id": "iVPEsIFh4mpH",
    "outputId": "1ccedea3-9fd8-4651-a577-a6960ce1b5f1"
   },
   "outputs": [
    {
     "name": "stdout",
     "output_type": "stream",
     "text": [
      "INFO:tensorflow:Found TPU system:\n"
     ]
    },
    {
     "name": "stderr",
     "output_type": "stream",
     "text": [
      "INFO:tensorflow:Found TPU system:\n"
     ]
    },
    {
     "name": "stdout",
     "output_type": "stream",
     "text": [
      "INFO:tensorflow:*** Num TPU Cores: 8\n"
     ]
    },
    {
     "name": "stderr",
     "output_type": "stream",
     "text": [
      "INFO:tensorflow:*** Num TPU Cores: 8\n"
     ]
    },
    {
     "name": "stdout",
     "output_type": "stream",
     "text": [
      "INFO:tensorflow:*** Num TPU Workers: 1\n"
     ]
    },
    {
     "name": "stderr",
     "output_type": "stream",
     "text": [
      "INFO:tensorflow:*** Num TPU Workers: 1\n"
     ]
    },
    {
     "name": "stdout",
     "output_type": "stream",
     "text": [
      "INFO:tensorflow:*** Num TPU Cores Per Worker: 8\n"
     ]
    },
    {
     "name": "stderr",
     "output_type": "stream",
     "text": [
      "INFO:tensorflow:*** Num TPU Cores Per Worker: 8\n"
     ]
    },
    {
     "name": "stdout",
     "output_type": "stream",
     "text": [
      "INFO:tensorflow:*** Available Device: _DeviceAttributes(/job:localhost/replica:0/task:0/device:CPU:0, CPU, 0, 0)\n"
     ]
    },
    {
     "name": "stderr",
     "output_type": "stream",
     "text": [
      "INFO:tensorflow:*** Available Device: _DeviceAttributes(/job:localhost/replica:0/task:0/device:CPU:0, CPU, 0, 0)\n"
     ]
    },
    {
     "name": "stdout",
     "output_type": "stream",
     "text": [
      "INFO:tensorflow:*** Available Device: _DeviceAttributes(/job:worker/replica:0/task:0/device:CPU:0, CPU, 0, 0)\n"
     ]
    },
    {
     "name": "stderr",
     "output_type": "stream",
     "text": [
      "INFO:tensorflow:*** Available Device: _DeviceAttributes(/job:worker/replica:0/task:0/device:CPU:0, CPU, 0, 0)\n"
     ]
    },
    {
     "name": "stdout",
     "output_type": "stream",
     "text": [
      "INFO:tensorflow:*** Available Device: _DeviceAttributes(/job:worker/replica:0/task:0/device:TPU:0, TPU, 0, 0)\n"
     ]
    },
    {
     "name": "stderr",
     "output_type": "stream",
     "text": [
      "INFO:tensorflow:*** Available Device: _DeviceAttributes(/job:worker/replica:0/task:0/device:TPU:0, TPU, 0, 0)\n"
     ]
    },
    {
     "name": "stdout",
     "output_type": "stream",
     "text": [
      "INFO:tensorflow:*** Available Device: _DeviceAttributes(/job:worker/replica:0/task:0/device:TPU:1, TPU, 0, 0)\n"
     ]
    },
    {
     "name": "stderr",
     "output_type": "stream",
     "text": [
      "INFO:tensorflow:*** Available Device: _DeviceAttributes(/job:worker/replica:0/task:0/device:TPU:1, TPU, 0, 0)\n"
     ]
    },
    {
     "name": "stdout",
     "output_type": "stream",
     "text": [
      "INFO:tensorflow:*** Available Device: _DeviceAttributes(/job:worker/replica:0/task:0/device:TPU:2, TPU, 0, 0)\n"
     ]
    },
    {
     "name": "stderr",
     "output_type": "stream",
     "text": [
      "INFO:tensorflow:*** Available Device: _DeviceAttributes(/job:worker/replica:0/task:0/device:TPU:2, TPU, 0, 0)\n"
     ]
    },
    {
     "name": "stdout",
     "output_type": "stream",
     "text": [
      "INFO:tensorflow:*** Available Device: _DeviceAttributes(/job:worker/replica:0/task:0/device:TPU:3, TPU, 0, 0)\n"
     ]
    },
    {
     "name": "stderr",
     "output_type": "stream",
     "text": [
      "INFO:tensorflow:*** Available Device: _DeviceAttributes(/job:worker/replica:0/task:0/device:TPU:3, TPU, 0, 0)\n"
     ]
    },
    {
     "name": "stdout",
     "output_type": "stream",
     "text": [
      "INFO:tensorflow:*** Available Device: _DeviceAttributes(/job:worker/replica:0/task:0/device:TPU:4, TPU, 0, 0)\n"
     ]
    },
    {
     "name": "stderr",
     "output_type": "stream",
     "text": [
      "INFO:tensorflow:*** Available Device: _DeviceAttributes(/job:worker/replica:0/task:0/device:TPU:4, TPU, 0, 0)\n"
     ]
    },
    {
     "name": "stdout",
     "output_type": "stream",
     "text": [
      "INFO:tensorflow:*** Available Device: _DeviceAttributes(/job:worker/replica:0/task:0/device:TPU:5, TPU, 0, 0)\n"
     ]
    },
    {
     "name": "stderr",
     "output_type": "stream",
     "text": [
      "INFO:tensorflow:*** Available Device: _DeviceAttributes(/job:worker/replica:0/task:0/device:TPU:5, TPU, 0, 0)\n"
     ]
    },
    {
     "name": "stdout",
     "output_type": "stream",
     "text": [
      "INFO:tensorflow:*** Available Device: _DeviceAttributes(/job:worker/replica:0/task:0/device:TPU:6, TPU, 0, 0)\n"
     ]
    },
    {
     "name": "stderr",
     "output_type": "stream",
     "text": [
      "INFO:tensorflow:*** Available Device: _DeviceAttributes(/job:worker/replica:0/task:0/device:TPU:6, TPU, 0, 0)\n"
     ]
    },
    {
     "name": "stdout",
     "output_type": "stream",
     "text": [
      "INFO:tensorflow:*** Available Device: _DeviceAttributes(/job:worker/replica:0/task:0/device:TPU:7, TPU, 0, 0)\n"
     ]
    },
    {
     "name": "stderr",
     "output_type": "stream",
     "text": [
      "INFO:tensorflow:*** Available Device: _DeviceAttributes(/job:worker/replica:0/task:0/device:TPU:7, TPU, 0, 0)\n"
     ]
    },
    {
     "name": "stdout",
     "output_type": "stream",
     "text": [
      "INFO:tensorflow:*** Available Device: _DeviceAttributes(/job:worker/replica:0/task:0/device:TPU_SYSTEM:0, TPU_SYSTEM, 0, 0)\n"
     ]
    },
    {
     "name": "stderr",
     "output_type": "stream",
     "text": [
      "INFO:tensorflow:*** Available Device: _DeviceAttributes(/job:worker/replica:0/task:0/device:TPU_SYSTEM:0, TPU_SYSTEM, 0, 0)\n"
     ]
    },
    {
     "name": "stdout",
     "output_type": "stream",
     "text": [
      "INFO:tensorflow:*** Available Device: _DeviceAttributes(/job:worker/replica:0/task:0/device:XLA_CPU:0, XLA_CPU, 0, 0)\n"
     ]
    },
    {
     "name": "stderr",
     "output_type": "stream",
     "text": [
      "INFO:tensorflow:*** Available Device: _DeviceAttributes(/job:worker/replica:0/task:0/device:XLA_CPU:0, XLA_CPU, 0, 0)\n"
     ]
    }
   ],
   "source": [
    "strategy = tf.distribute.TPUStrategy(resolver)"
   ]
  },
  {
   "cell_type": "code",
   "execution_count": 4,
   "metadata": {
    "colab": {
     "base_uri": "https://localhost:8080/"
    },
    "executionInfo": {
     "elapsed": 10197,
     "status": "ok",
     "timestamp": 1655361581019,
     "user": {
      "displayName": "Mete Akı",
      "userId": "12447519110364317014"
     },
     "user_tz": -120
    },
    "id": "_skoAhjLmF0E",
    "outputId": "e55fda16-f2a5-467f-aeef-929b393b37c5"
   },
   "outputs": [
    {
     "name": "stdout",
     "output_type": "stream",
     "text": [
      "Looking in indexes: https://pypi.org/simple, https://us-python.pkg.dev/colab-wheels/public/simple/\n",
      "Collecting transformers\n",
      "  Downloading transformers-4.19.4-py3-none-any.whl (4.2 MB)\n",
      "\u001b[K     |████████████████████████████████| 4.2 MB 5.3 MB/s \n",
      "\u001b[?25hCollecting huggingface-hub<1.0,>=0.1.0\n",
      "  Downloading huggingface_hub-0.7.0-py3-none-any.whl (86 kB)\n",
      "\u001b[K     |████████████████████████████████| 86 kB 4.9 MB/s \n",
      "\u001b[?25hRequirement already satisfied: importlib-metadata in /usr/local/lib/python3.7/dist-packages (from transformers) (4.11.4)\n",
      "Collecting pyyaml>=5.1\n",
      "  Downloading PyYAML-6.0-cp37-cp37m-manylinux_2_5_x86_64.manylinux1_x86_64.manylinux_2_12_x86_64.manylinux2010_x86_64.whl (596 kB)\n",
      "\u001b[K     |████████████████████████████████| 596 kB 56.1 MB/s \n",
      "\u001b[?25hRequirement already satisfied: packaging>=20.0 in /usr/local/lib/python3.7/dist-packages (from transformers) (21.3)\n",
      "Requirement already satisfied: regex!=2019.12.17 in /usr/local/lib/python3.7/dist-packages (from transformers) (2022.6.2)\n",
      "Collecting tokenizers!=0.11.3,<0.13,>=0.11.1\n",
      "  Downloading tokenizers-0.12.1-cp37-cp37m-manylinux_2_12_x86_64.manylinux2010_x86_64.whl (6.6 MB)\n",
      "\u001b[K     |████████████████████████████████| 6.6 MB 22.1 MB/s \n",
      "\u001b[?25hRequirement already satisfied: tqdm>=4.27 in /usr/local/lib/python3.7/dist-packages (from transformers) (4.64.0)\n",
      "Requirement already satisfied: filelock in /usr/local/lib/python3.7/dist-packages (from transformers) (3.7.1)\n",
      "Requirement already satisfied: numpy>=1.17 in /usr/local/lib/python3.7/dist-packages (from transformers) (1.21.6)\n",
      "Requirement already satisfied: requests in /usr/local/lib/python3.7/dist-packages (from transformers) (2.23.0)\n",
      "Requirement already satisfied: typing-extensions>=3.7.4.3 in /usr/local/lib/python3.7/dist-packages (from huggingface-hub<1.0,>=0.1.0->transformers) (4.2.0)\n",
      "Requirement already satisfied: pyparsing!=3.0.5,>=2.0.2 in /usr/local/lib/python3.7/dist-packages (from packaging>=20.0->transformers) (3.0.9)\n",
      "Requirement already satisfied: zipp>=0.5 in /usr/local/lib/python3.7/dist-packages (from importlib-metadata->transformers) (3.8.0)\n",
      "Requirement already satisfied: certifi>=2017.4.17 in /usr/local/lib/python3.7/dist-packages (from requests->transformers) (2022.5.18.1)\n",
      "Requirement already satisfied: urllib3!=1.25.0,!=1.25.1,<1.26,>=1.21.1 in /usr/local/lib/python3.7/dist-packages (from requests->transformers) (1.24.3)\n",
      "Requirement already satisfied: chardet<4,>=3.0.2 in /usr/local/lib/python3.7/dist-packages (from requests->transformers) (3.0.4)\n",
      "Requirement already satisfied: idna<3,>=2.5 in /usr/local/lib/python3.7/dist-packages (from requests->transformers) (2.10)\n",
      "Installing collected packages: pyyaml, tokenizers, huggingface-hub, transformers\n",
      "  Attempting uninstall: pyyaml\n",
      "    Found existing installation: PyYAML 3.13\n",
      "    Uninstalling PyYAML-3.13:\n",
      "      Successfully uninstalled PyYAML-3.13\n",
      "Successfully installed huggingface-hub-0.7.0 pyyaml-6.0 tokenizers-0.12.1 transformers-4.19.4\n"
     ]
    }
   ],
   "source": [
    "!pip install transformers"
   ]
  },
  {
   "cell_type": "markdown",
   "metadata": {
    "id": "FDDYcyvBeFmA"
   },
   "source": [
    "## Import Library"
   ]
  },
  {
   "cell_type": "code",
   "execution_count": 5,
   "metadata": {
    "executionInfo": {
     "elapsed": 2,
     "status": "ok",
     "timestamp": 1655361610156,
     "user": {
      "displayName": "Mete Akı",
      "userId": "12447519110364317014"
     },
     "user_tz": -120
    },
    "id": "UVecSUbKq_si"
   },
   "outputs": [],
   "source": [
    "import numpy as np\n",
    "import pandas as pd\n",
    "import warnings\n",
    "warnings.filterwarnings('ignore')"
   ]
  },
  {
   "cell_type": "code",
   "execution_count": 6,
   "metadata": {
    "executionInfo": {
     "elapsed": 2001,
     "status": "ok",
     "timestamp": 1655361612952,
     "user": {
      "displayName": "Mete Akı",
      "userId": "12447519110364317014"
     },
     "user_tz": -120
    },
    "id": "Vhy2dT_aq_f4"
   },
   "outputs": [],
   "source": [
    "df = pd.read_csv('/content/drive/MyDrive/Colab Notebooks/hepsiburada.csv', encoding=\"utf-8\")"
   ]
  },
  {
   "cell_type": "code",
   "execution_count": 7,
   "metadata": {
    "colab": {
     "base_uri": "https://localhost:8080/",
     "height": 206
    },
    "executionInfo": {
     "elapsed": 9,
     "status": "ok",
     "timestamp": 1655361612953,
     "user": {
      "displayName": "Mete Akı",
      "userId": "12447519110364317014"
     },
     "user_tz": -120
    },
    "id": "f3qQ6RJ0q_R4",
    "outputId": "4e08cbe5-0ddc-4aa4-8fcd-edfb182785a4"
   },
   "outputs": [
    {
     "data": {
      "text/html": [
       "\n",
       "  <div id=\"df-4ebee75f-75fe-4e63-a955-37b6f5e374c0\">\n",
       "    <div class=\"colab-df-container\">\n",
       "      <div>\n",
       "<style scoped>\n",
       "    .dataframe tbody tr th:only-of-type {\n",
       "        vertical-align: middle;\n",
       "    }\n",
       "\n",
       "    .dataframe tbody tr th {\n",
       "        vertical-align: top;\n",
       "    }\n",
       "\n",
       "    .dataframe thead th {\n",
       "        text-align: right;\n",
       "    }\n",
       "</style>\n",
       "<table border=\"1\" class=\"dataframe\">\n",
       "  <thead>\n",
       "    <tr style=\"text-align: right;\">\n",
       "      <th></th>\n",
       "      <th>Rating</th>\n",
       "      <th>Review</th>\n",
       "    </tr>\n",
       "  </thead>\n",
       "  <tbody>\n",
       "    <tr>\n",
       "      <th>0</th>\n",
       "      <td>1</td>\n",
       "      <td>3 yıldır tık demedi. :)</td>\n",
       "    </tr>\n",
       "    <tr>\n",
       "      <th>1</th>\n",
       "      <td>1</td>\n",
       "      <td>3 yıldır kullanıyorum müthiş</td>\n",
       "    </tr>\n",
       "    <tr>\n",
       "      <th>2</th>\n",
       "      <td>1</td>\n",
       "      <td>Ürün bugün elime geçti çok fazla inceleme fırs...</td>\n",
       "    </tr>\n",
       "    <tr>\n",
       "      <th>3</th>\n",
       "      <td>1</td>\n",
       "      <td>Almaya karar verdim. Hemencecik geldi. Keyifle...</td>\n",
       "    </tr>\n",
       "    <tr>\n",
       "      <th>4</th>\n",
       "      <td>1</td>\n",
       "      <td>Günlük kullanımınızı çok çok iyi karsılıyor kı...</td>\n",
       "    </tr>\n",
       "  </tbody>\n",
       "</table>\n",
       "</div>\n",
       "      <button class=\"colab-df-convert\" onclick=\"convertToInteractive('df-4ebee75f-75fe-4e63-a955-37b6f5e374c0')\"\n",
       "              title=\"Convert this dataframe to an interactive table.\"\n",
       "              style=\"display:none;\">\n",
       "        \n",
       "  <svg xmlns=\"http://www.w3.org/2000/svg\" height=\"24px\"viewBox=\"0 0 24 24\"\n",
       "       width=\"24px\">\n",
       "    <path d=\"M0 0h24v24H0V0z\" fill=\"none\"/>\n",
       "    <path d=\"M18.56 5.44l.94 2.06.94-2.06 2.06-.94-2.06-.94-.94-2.06-.94 2.06-2.06.94zm-11 1L8.5 8.5l.94-2.06 2.06-.94-2.06-.94L8.5 2.5l-.94 2.06-2.06.94zm10 10l.94 2.06.94-2.06 2.06-.94-2.06-.94-.94-2.06-.94 2.06-2.06.94z\"/><path d=\"M17.41 7.96l-1.37-1.37c-.4-.4-.92-.59-1.43-.59-.52 0-1.04.2-1.43.59L10.3 9.45l-7.72 7.72c-.78.78-.78 2.05 0 2.83L4 21.41c.39.39.9.59 1.41.59.51 0 1.02-.2 1.41-.59l7.78-7.78 2.81-2.81c.8-.78.8-2.07 0-2.86zM5.41 20L4 18.59l7.72-7.72 1.47 1.35L5.41 20z\"/>\n",
       "  </svg>\n",
       "      </button>\n",
       "      \n",
       "  <style>\n",
       "    .colab-df-container {\n",
       "      display:flex;\n",
       "      flex-wrap:wrap;\n",
       "      gap: 12px;\n",
       "    }\n",
       "\n",
       "    .colab-df-convert {\n",
       "      background-color: #E8F0FE;\n",
       "      border: none;\n",
       "      border-radius: 50%;\n",
       "      cursor: pointer;\n",
       "      display: none;\n",
       "      fill: #1967D2;\n",
       "      height: 32px;\n",
       "      padding: 0 0 0 0;\n",
       "      width: 32px;\n",
       "    }\n",
       "\n",
       "    .colab-df-convert:hover {\n",
       "      background-color: #E2EBFA;\n",
       "      box-shadow: 0px 1px 2px rgba(60, 64, 67, 0.3), 0px 1px 3px 1px rgba(60, 64, 67, 0.15);\n",
       "      fill: #174EA6;\n",
       "    }\n",
       "\n",
       "    [theme=dark] .colab-df-convert {\n",
       "      background-color: #3B4455;\n",
       "      fill: #D2E3FC;\n",
       "    }\n",
       "\n",
       "    [theme=dark] .colab-df-convert:hover {\n",
       "      background-color: #434B5C;\n",
       "      box-shadow: 0px 1px 3px 1px rgba(0, 0, 0, 0.15);\n",
       "      filter: drop-shadow(0px 1px 2px rgba(0, 0, 0, 0.3));\n",
       "      fill: #FFFFFF;\n",
       "    }\n",
       "  </style>\n",
       "\n",
       "      <script>\n",
       "        const buttonEl =\n",
       "          document.querySelector('#df-4ebee75f-75fe-4e63-a955-37b6f5e374c0 button.colab-df-convert');\n",
       "        buttonEl.style.display =\n",
       "          google.colab.kernel.accessAllowed ? 'block' : 'none';\n",
       "\n",
       "        async function convertToInteractive(key) {\n",
       "          const element = document.querySelector('#df-4ebee75f-75fe-4e63-a955-37b6f5e374c0');\n",
       "          const dataTable =\n",
       "            await google.colab.kernel.invokeFunction('convertToInteractive',\n",
       "                                                     [key], {});\n",
       "          if (!dataTable) return;\n",
       "\n",
       "          const docLinkHtml = 'Like what you see? Visit the ' +\n",
       "            '<a target=\"_blank\" href=https://colab.research.google.com/notebooks/data_table.ipynb>data table notebook</a>'\n",
       "            + ' to learn more about interactive tables.';\n",
       "          element.innerHTML = '';\n",
       "          dataTable['output_type'] = 'display_data';\n",
       "          await google.colab.output.renderOutput(dataTable, element);\n",
       "          const docLink = document.createElement('div');\n",
       "          docLink.innerHTML = docLinkHtml;\n",
       "          element.appendChild(docLink);\n",
       "        }\n",
       "      </script>\n",
       "    </div>\n",
       "  </div>\n",
       "  "
      ],
      "text/plain": [
       "   Rating                                             Review\n",
       "0       1                            3 yıldır tık demedi. :)\n",
       "1       1                      3 yıldır kullanıyorum müthiş \n",
       "2       1  Ürün bugün elime geçti çok fazla inceleme fırs...\n",
       "3       1  Almaya karar verdim. Hemencecik geldi. Keyifle...\n",
       "4       1  Günlük kullanımınızı çok çok iyi karsılıyor kı..."
      ]
     },
     "execution_count": 7,
     "metadata": {},
     "output_type": "execute_result"
    }
   ],
   "source": [
    "df.head()"
   ]
  },
  {
   "cell_type": "code",
   "execution_count": 8,
   "metadata": {
    "colab": {
     "base_uri": "https://localhost:8080/"
    },
    "executionInfo": {
     "elapsed": 8,
     "status": "ok",
     "timestamp": 1655361612954,
     "user": {
      "displayName": "Mete Akı",
      "userId": "12447519110364317014"
     },
     "user_tz": -120
    },
    "id": "CKG2ol0COCu2",
    "outputId": "4433d21c-8d5c-46d6-db56-b45fc0d7cdbe"
   },
   "outputs": [
    {
     "data": {
      "text/plain": [
       "1    229821\n",
       "0     13676\n",
       "Name: Rating, dtype: int64"
      ]
     },
     "execution_count": 8,
     "metadata": {},
     "output_type": "execute_result"
    }
   ],
   "source": [
    "df.Rating.value_counts()"
   ]
  },
  {
   "cell_type": "code",
   "execution_count": 9,
   "metadata": {
    "executionInfo": {
     "elapsed": 3,
     "status": "ok",
     "timestamp": 1655361613556,
     "user": {
      "displayName": "Mete Akı",
      "userId": "12447519110364317014"
     },
     "user_tz": -120
    },
    "id": "yCQNvYfHOCga"
   },
   "outputs": [],
   "source": [
    "df.Rating = df.Rating.map({1:0, 0:1})"
   ]
  },
  {
   "cell_type": "code",
   "execution_count": 10,
   "metadata": {
    "colab": {
     "base_uri": "https://localhost:8080/"
    },
    "executionInfo": {
     "elapsed": 3,
     "status": "ok",
     "timestamp": 1655361614317,
     "user": {
      "displayName": "Mete Akı",
      "userId": "12447519110364317014"
     },
     "user_tz": -120
    },
    "id": "emHvfDJFOMLD",
    "outputId": "3cdeb7c1-e525-457c-e46f-16f5ced853c2"
   },
   "outputs": [
    {
     "data": {
      "text/plain": [
       "0    229821\n",
       "1     13676\n",
       "Name: Rating, dtype: int64"
      ]
     },
     "execution_count": 10,
     "metadata": {},
     "output_type": "execute_result"
    }
   ],
   "source": [
    "df.Rating.value_counts()"
   ]
  },
  {
   "cell_type": "code",
   "execution_count": 12,
   "metadata": {
    "executionInfo": {
     "elapsed": 252,
     "status": "ok",
     "timestamp": 1655362309913,
     "user": {
      "displayName": "Mete Akı",
      "userId": "12447519110364317014"
     },
     "user_tz": -120
    },
    "id": "fNZYGlzIHvY7"
   },
   "outputs": [],
   "source": [
    "X = df['Review'].values\n",
    "y = df['Rating'].values\n",
    "\n",
    "# Hizli calismasi icin Array lere cevirdik\n",
    "# MachineLearning modellerinde de Array lere cevirip verirsek islemlerimiz hizlanir."
   ]
  },
  {
   "cell_type": "markdown",
   "metadata": {
    "id": "yB5pzITOeltL"
   },
   "source": [
    "## Tokenization"
   ]
  },
  {
   "cell_type": "markdown",
   "metadata": {
    "id": "wVwOkzBCjmMX"
   },
   "source": [
    "### Fixing token counts of all documents"
   ]
  },
  {
   "cell_type": "code",
   "execution_count": 13,
   "metadata": {
    "colab": {
     "base_uri": "https://localhost:8080/",
     "height": 148,
     "referenced_widgets": [
      "fd3218d4705043d68ccb6e62f3b0c3aa",
      "83c2031b89d848eba91538a3fdb68f4b",
      "2780b569b36f4a6ea0cbb627cb21dd34",
      "523a8d71834e4d30a51abd39a0b5fa26",
      "c8ebfa83915c4416b03defb947bea7f6",
      "6ae0d7b534f54fd8a40ffa0f6fb99f1e",
      "6301b20c4a2943ec87a7bce37675b214",
      "c0fef81c3d13465baf5337dc1aa21f9f",
      "1f60ff39526445a1b22f321aa8cfc938",
      "68cbca12cd85407f8af6bea81c2a945d",
      "4fecf212d9d649b389eb3a333aeb716a",
      "80361c8aafd643dc8b87d9afeb1f674d",
      "02b9be57224f4660a667e82e52bdab87",
      "507362c331464ca0ab9061276afb07e9",
      "41466058e3f142dcbe2176cb02321d4f",
      "eab95a3f0ad3464d9f4995fe3007a87e",
      "288c9b85a32a451a820cb8ccf0666d7a",
      "64145f2fafee47c8acffe140006ba223",
      "a8f6a8e1b46c4094881d3b56041ff380",
      "417a149771b841cdab55a87403855640",
      "7cd5614129b547f2845f1c4ddce3d514",
      "cbb5d437c0cb4abc9240a83931663d8c",
      "29acc46735f545ccbe10049f771a87e7",
      "06b52bbf0d6d4157acbc7573893b90cd",
      "9ff658c5211143868ad3ba2f13b8f50e",
      "8ad6268b403c42278623ae95dee641a5",
      "a3ba0254f4b6428b8ccc275230706127",
      "e496e8f37b0a45e0a61d59044b1556e2",
      "314e6cd765d043c49e835fd647fa1748",
      "30cd9f7ab9ff40dc9b609dba8679a6c5",
      "d13587b6db974e32adf49916683c5927",
      "7718b2b1439e4fcbae97b85571300847",
      "1c93ba6339064ec188bc45e39ab04af3"
     ]
    },
    "executionInfo": {
     "elapsed": 47278,
     "status": "ok",
     "timestamp": 1655362359785,
     "user": {
      "displayName": "Mete Akı",
      "userId": "12447519110364317014"
     },
     "user_tz": -120
    },
    "id": "HXHgV6hdSBdP",
    "outputId": "8c816b6a-c280-47a5-94f7-81203ef0c23f"
   },
   "outputs": [
    {
     "data": {
      "application/vnd.jupyter.widget-view+json": {
       "model_id": "fd3218d4705043d68ccb6e62f3b0c3aa",
       "version_major": 2,
       "version_minor": 0
      },
      "text/plain": [
       "Downloading:   0%|          | 0.00/60.0 [00:00<?, ?B/s]"
      ]
     },
     "metadata": {},
     "output_type": "display_data"
    },
    {
     "data": {
      "application/vnd.jupyter.widget-view+json": {
       "model_id": "80361c8aafd643dc8b87d9afeb1f674d",
       "version_major": 2,
       "version_minor": 0
      },
      "text/plain": [
       "Downloading:   0%|          | 0.00/385 [00:00<?, ?B/s]"
      ]
     },
     "metadata": {},
     "output_type": "display_data"
    },
    {
     "data": {
      "application/vnd.jupyter.widget-view+json": {
       "model_id": "29acc46735f545ccbe10049f771a87e7",
       "version_major": 2,
       "version_minor": 0
      },
      "text/plain": [
       "Downloading:   0%|          | 0.00/245k [00:00<?, ?B/s]"
      ]
     },
     "metadata": {},
     "output_type": "display_data"
    },
    {
     "name": "stderr",
     "output_type": "stream",
     "text": [
      "Token indices sequence length is longer than the specified maximum sequence length for this model (758 > 512). Running this sequence through the model will result in indexing errors\n"
     ]
    },
    {
     "name": "stdout",
     "output_type": "stream",
     "text": [
      "Max sentence length:  758\n"
     ]
    }
   ],
   "source": [
    "from transformers import AutoTokenizer\n",
    "\n",
    "tokenizer = AutoTokenizer.from_pretrained(\"dbmdz/bert-base-turkish-cased\")\n",
    "\n",
    "# transilation, ner gibi calismalrda büyük kücük harf duyarli oldugu icin cased olarak kullanmaliyiz.\n",
    "# cased büyük kücük harf dikkate alinarak tokinize yapiliyor.\n",
    "# uncase kücük harf olarak tokinize yapiyor.\n",
    "# Türkce karakterlerde problem ciktigi icin biz yine manuel yapiyoruz.\n",
    "\n",
    "\n",
    "max_len = 0\n",
    "\n",
    "# For every sentence...\n",
    "max_token = []\n",
    "for sent in X:\n",
    "\n",
    "    # Tokenize the text and add `[CLS]` and `[SEP]` tokens.\n",
    "    \n",
    "    input_ids = tokenizer.encode(sent.lower(), add_special_tokens=True)\n",
    "    max_token.append(len(input_ids))\n",
    "\n",
    "    # Update the maximum sentence length.\n",
    "    max_len = max(max_len, len(input_ids))\n",
    "\n",
    "print('Max sentence length: ', max_len)"
   ]
  },
  {
   "cell_type": "code",
   "execution_count": 14,
   "metadata": {
    "colab": {
     "base_uri": "https://localhost:8080/"
    },
    "executionInfo": {
     "elapsed": 19,
     "status": "ok",
     "timestamp": 1655362359786,
     "user": {
      "displayName": "Mete Akı",
      "userId": "12447519110364317014"
     },
     "user_tz": -120
    },
    "id": "6GUA1Dsx-9ER",
    "outputId": "c964539a-b79d-4100-e77c-8ed6d56ecfaf"
   },
   "outputs": [
    {
     "data": {
      "text/plain": [
       "['şen', '##tepe', '##li', 'şük', '##rü', 'abi', '?', '😊']"
      ]
     },
     "execution_count": 14,
     "metadata": {},
     "output_type": "execute_result"
    }
   ],
   "source": [
    "text = \"Şentepeli Şükrü abi?😊\".lower()\n",
    " \n",
    "tokenizer.tokenize(text)"
   ]
  },
  {
   "cell_type": "code",
   "execution_count": 15,
   "metadata": {
    "colab": {
     "base_uri": "https://localhost:8080/"
    },
    "executionInfo": {
     "elapsed": 17,
     "status": "ok",
     "timestamp": 1655362359786,
     "user": {
      "displayName": "Mete Akı",
      "userId": "12447519110364317014"
     },
     "user_tz": -120
    },
    "id": "SB5SWy9YtxuZ",
    "outputId": "9c354dff-1c51-4ca2-e390-40c38b68ca7c"
   },
   "outputs": [
    {
     "name": "stdout",
     "output_type": "stream",
     "text": [
      "[2, 14192, 5364, 2031, 9204, 9025, 13780, 35, 992, 3]\n",
      "10\n"
     ]
    }
   ],
   "source": [
    "sentence = \"Şentepeli Şükrü abi?😊\".lower()\n",
    "tokens = tokenizer.encode(sentence, add_special_tokens=True)\n",
    "print(tokens)\n",
    "print(len(tokens))\n",
    "\n",
    "# cls 2 ve sep 3 olarak numaralar yerlesti. Digerleri ise corpus daki siklik sayilarina göre verilen indexler.\n",
    "# [2, 14192, 5364, 2031, 9204, 9025, 13780, 35, 992, 3]\n",
    "  # 2 [CLS] ve 3 [SEP]\n",
    "  # ['şen', '##tepe', '##li', 'şük', '##rü', 'abi', '?', '😊'] tokenlerine karsilik gelen \n",
    "  # encoding numara degerleri:[14192, 5364, 2031, 9204, 9025, 13780, 35, 992]\n"
   ]
  },
  {
   "cell_type": "code",
   "execution_count": 16,
   "metadata": {
    "colab": {
     "base_uri": "https://localhost:8080/"
    },
    "executionInfo": {
     "elapsed": 13,
     "status": "ok",
     "timestamp": 1655362359786,
     "user": {
      "displayName": "Mete Akı",
      "userId": "12447519110364317014"
     },
     "user_tz": -120
    },
    "id": "kgq1HhDs7cPY",
    "outputId": "b0d5b020-1514-4f6b-b126-3d78ab4c2e62"
   },
   "outputs": [
    {
     "name": "stdout",
     "output_type": "stream",
     "text": [
      "{'input_ids': [2, 14192, 5364, 2031, 9204, 9025, 13780, 35, 3], 'token_type_ids': [0, 0, 0, 0, 0, 0, 0, 0, 0], 'attention_mask': [1, 1, 1, 1, 1, 1, 1, 1, 1]}\n"
     ]
    }
   ],
   "source": [
    "sentence = \"Şentepeli Şükrü abi?\".lower()\n",
    "tokens = tokenizer.encode_plus(sentence, add_special_tokens=True)\n",
    "print(tokens)"
   ]
  },
  {
   "cell_type": "code",
   "execution_count": 17,
   "metadata": {
    "colab": {
     "base_uri": "https://localhost:8080/"
    },
    "executionInfo": {
     "elapsed": 10,
     "status": "ok",
     "timestamp": 1655362359786,
     "user": {
      "displayName": "Mete Akı",
      "userId": "12447519110364317014"
     },
     "user_tz": -120
    },
    "id": "d1FcGviRvoM4",
    "outputId": "8d83eb17-5233-4629-df63-f3315d888aa9"
   },
   "outputs": [
    {
     "name": "stdout",
     "output_type": "stream",
     "text": [
      "[ True False  True  True False False]\n",
      "3\n"
     ]
    }
   ],
   "source": [
    "list = [5, 10, 8, 9, 12, 15]\n",
    "print(np.array(list) < 10)\n",
    "print(sum(np.array(list) < 10))"
   ]
  },
  {
   "cell_type": "code",
   "execution_count": 18,
   "metadata": {
    "colab": {
     "base_uri": "https://localhost:8080/"
    },
    "executionInfo": {
     "elapsed": 8,
     "status": "ok",
     "timestamp": 1655362359787,
     "user": {
      "displayName": "Mete Akı",
      "userId": "12447519110364317014"
     },
     "user_tz": -120
    },
    "id": "Nl9BCD__wGTk",
    "outputId": "00d7a174-acf2-49fa-c85d-1174649d13c4"
   },
   "outputs": [
    {
     "data": {
      "text/plain": [
       "36.4837390193719"
      ]
     },
     "execution_count": 18,
     "metadata": {},
     "output_type": "execute_result"
    }
   ],
   "source": [
    "np.array(max_token).mean()"
   ]
  },
  {
   "cell_type": "code",
   "execution_count": 19,
   "metadata": {
    "colab": {
     "base_uri": "https://localhost:8080/"
    },
    "executionInfo": {
     "elapsed": 727,
     "status": "ok",
     "timestamp": 1655362360508,
     "user": {
      "displayName": "Mete Akı",
      "userId": "12447519110364317014"
     },
     "user_tz": -120
    },
    "id": "GJEpW1GMUa7Q",
    "outputId": "e3e69313-d903-4af6-b693-33d734e5752d"
   },
   "outputs": [
    {
     "data": {
      "text/plain": [
       "0.9877000537994308"
      ]
     },
     "execution_count": 19,
     "metadata": {},
     "output_type": "execute_result"
    }
   ],
   "source": [
    "sum(np.array(max_token) < 160) / len(max_token)"
   ]
  },
  {
   "cell_type": "code",
   "execution_count": 25,
   "metadata": {
    "executionInfo": {
     "elapsed": 187,
     "status": "ok",
     "timestamp": 1655362900065,
     "user": {
      "displayName": "Mete Akı",
      "userId": "12447519110364317014"
     },
     "user_tz": -120
    },
    "id": "GhFdnT3ha45y"
   },
   "outputs": [],
   "source": [
    "def transformation(X):\n",
    "  # set array dimensions\n",
    "  seq_len = 160\n",
    "  num_samples = len(X)\n",
    "\n",
    "  # initialize empty zero arrays\n",
    "  Xids = np.zeros((num_samples, seq_len))\n",
    "  Xmask = np.zeros((num_samples, seq_len))\n",
    "\n",
    "    \n",
    "  for i, phrase in enumerate(X):\n",
    "      tokens = tokenizer.encode_plus(phrase.lower(), max_length=seq_len, truncation=True,\n",
    "                                      padding='max_length', add_special_tokens=True) \n",
    "      # assign tokenized outputs to respective rows in numpy arrays\n",
    "      Xids[i, :] = tokens['input_ids']\n",
    "      Xmask[i, :] = tokens['attention_mask']\n",
    "  return Xids, Xmask\n",
    "\n",
    "# endcode_plus tokenlerimizi Bert modelin istedigi formata, yani 3 tane matrise ceviriyor.  "
   ]
  },
  {
   "cell_type": "code",
   "execution_count": 21,
   "metadata": {
    "executionInfo": {
     "elapsed": 63622,
     "status": "ok",
     "timestamp": 1655362558712,
     "user": {
      "displayName": "Mete Akı",
      "userId": "12447519110364317014"
     },
     "user_tz": -120
    },
    "id": "0NV4wPkfHS3h"
   },
   "outputs": [],
   "source": [
    "Xids, Xmask = transformation(X)"
   ]
  },
  {
   "cell_type": "code",
   "execution_count": 22,
   "metadata": {
    "colab": {
     "base_uri": "https://localhost:8080/"
    },
    "executionInfo": {
     "elapsed": 18,
     "status": "ok",
     "timestamp": 1655362558712,
     "user": {
      "displayName": "Mete Akı",
      "userId": "12447519110364317014"
     },
     "user_tz": -120
    },
    "id": "BZoNGKMXf1Y8",
    "outputId": "09867e91-b6f0-49d0-8228-fe1293c1a5b1"
   },
   "outputs": [
    {
     "data": {
      "text/plain": [
       "(243497, 160)"
      ]
     },
     "execution_count": 22,
     "metadata": {},
     "output_type": "execute_result"
    }
   ],
   "source": [
    "Xids.shape"
   ]
  },
  {
   "cell_type": "code",
   "execution_count": 23,
   "metadata": {
    "colab": {
     "base_uri": "https://localhost:8080/"
    },
    "executionInfo": {
     "elapsed": 10,
     "status": "ok",
     "timestamp": 1655362558713,
     "user": {
      "displayName": "Mete Akı",
      "userId": "12447519110364317014"
     },
     "user_tz": -120
    },
    "id": "4ZcS_JrWf1pX",
    "outputId": "b5e397ef-8692-4706-8bd5-c63c52da7055"
   },
   "outputs": [
    {
     "data": {
      "text/plain": [
       "(243497, 160)"
      ]
     },
     "execution_count": 23,
     "metadata": {},
     "output_type": "execute_result"
    }
   ],
   "source": [
    "Xmask.shape"
   ]
  },
  {
   "cell_type": "code",
   "execution_count": 82,
   "metadata": {
    "colab": {
     "base_uri": "https://localhost:8080/"
    },
    "executionInfo": {
     "elapsed": 191,
     "status": "ok",
     "timestamp": 1655381665359,
     "user": {
      "displayName": "Mete Akı",
      "userId": "12447519110364317014"
     },
     "user_tz": -120
    },
    "id": "eHRynsnl9VZo",
    "outputId": "f76e8a69-f3e3-4c85-f5b7-fe0717dae58f"
   },
   "outputs": [
    {
     "name": "stdout",
     "output_type": "stream",
     "text": [
      "{'input_ids': [2, 7286, 5364, 2031, 16972, 13780, 35, 3, 0, 0, 0, 0, 0, 0, 0, 0, 0, 0, 0, 0], 'token_type_ids': [0, 0, 0, 0, 0, 0, 0, 0, 0, 0, 0, 0, 0, 0, 0, 0, 0, 0, 0, 0], 'attention_mask': [1, 1, 1, 1, 1, 1, 1, 1, 0, 0, 0, 0, 0, 0, 0, 0, 0, 0, 0, 0]}\n"
     ]
    }
   ],
   "source": [
    "sentence = \"Şentepeli Şükrü abi?\"\n",
    "tokens = tokenizer.encode_plus(sentence, max_length=20, truncation=True,\n",
    "                                      padding='max_length', add_special_tokens=True)\n",
    "print(tokens)"
   ]
  },
  {
   "cell_type": "code",
   "execution_count": 26,
   "metadata": {
    "colab": {
     "base_uri": "https://localhost:8080/",
     "height": 36
    },
    "executionInfo": {
     "elapsed": 204,
     "status": "ok",
     "timestamp": 1655363005440,
     "user": {
      "displayName": "Mete Akı",
      "userId": "12447519110364317014"
     },
     "user_tz": -120
    },
    "id": "hcuAwwD2S-cl",
    "outputId": "97eb8047-b8ad-4a1e-a481-85b072458477"
   },
   "outputs": [
    {
     "data": {
      "application/vnd.google.colaboratory.intrinsic+json": {
       "type": "string"
      },
      "text/plain": [
       "'3 yıldır tık demedi. :)'"
      ]
     },
     "execution_count": 26,
     "metadata": {},
     "output_type": "execute_result"
    }
   ],
   "source": [
    "X[0]"
   ]
  },
  {
   "cell_type": "code",
   "execution_count": 27,
   "metadata": {
    "colab": {
     "base_uri": "https://localhost:8080/"
    },
    "executionInfo": {
     "elapsed": 217,
     "status": "ok",
     "timestamp": 1655363008427,
     "user": {
      "displayName": "Mete Akı",
      "userId": "12447519110364317014"
     },
     "user_tz": -120
    },
    "id": "4KviNXM2q1b-",
    "outputId": "b53afa53-4232-42b2-f3f8-9d111c1333b7"
   },
   "outputs": [
    {
     "data": {
      "text/plain": [
       "array([2.0000e+00, 2.3000e+01, 5.1420e+03, 4.1730e+03, 1.4643e+04,\n",
       "       2.0160e+03, 1.8000e+01, 3.0000e+01, 1.3000e+01, 3.0000e+00,\n",
       "       0.0000e+00, 0.0000e+00, 0.0000e+00, 0.0000e+00, 0.0000e+00,\n",
       "       0.0000e+00, 0.0000e+00, 0.0000e+00, 0.0000e+00, 0.0000e+00,\n",
       "       0.0000e+00, 0.0000e+00, 0.0000e+00, 0.0000e+00, 0.0000e+00,\n",
       "       0.0000e+00, 0.0000e+00, 0.0000e+00, 0.0000e+00, 0.0000e+00,\n",
       "       0.0000e+00, 0.0000e+00, 0.0000e+00, 0.0000e+00, 0.0000e+00,\n",
       "       0.0000e+00, 0.0000e+00, 0.0000e+00, 0.0000e+00, 0.0000e+00,\n",
       "       0.0000e+00, 0.0000e+00, 0.0000e+00, 0.0000e+00, 0.0000e+00,\n",
       "       0.0000e+00, 0.0000e+00, 0.0000e+00, 0.0000e+00, 0.0000e+00,\n",
       "       0.0000e+00, 0.0000e+00, 0.0000e+00, 0.0000e+00, 0.0000e+00,\n",
       "       0.0000e+00, 0.0000e+00, 0.0000e+00, 0.0000e+00, 0.0000e+00,\n",
       "       0.0000e+00, 0.0000e+00, 0.0000e+00, 0.0000e+00, 0.0000e+00,\n",
       "       0.0000e+00, 0.0000e+00, 0.0000e+00, 0.0000e+00, 0.0000e+00,\n",
       "       0.0000e+00, 0.0000e+00, 0.0000e+00, 0.0000e+00, 0.0000e+00,\n",
       "       0.0000e+00, 0.0000e+00, 0.0000e+00, 0.0000e+00, 0.0000e+00,\n",
       "       0.0000e+00, 0.0000e+00, 0.0000e+00, 0.0000e+00, 0.0000e+00,\n",
       "       0.0000e+00, 0.0000e+00, 0.0000e+00, 0.0000e+00, 0.0000e+00,\n",
       "       0.0000e+00, 0.0000e+00, 0.0000e+00, 0.0000e+00, 0.0000e+00,\n",
       "       0.0000e+00, 0.0000e+00, 0.0000e+00, 0.0000e+00, 0.0000e+00,\n",
       "       0.0000e+00, 0.0000e+00, 0.0000e+00, 0.0000e+00, 0.0000e+00,\n",
       "       0.0000e+00, 0.0000e+00, 0.0000e+00, 0.0000e+00, 0.0000e+00,\n",
       "       0.0000e+00, 0.0000e+00, 0.0000e+00, 0.0000e+00, 0.0000e+00,\n",
       "       0.0000e+00, 0.0000e+00, 0.0000e+00, 0.0000e+00, 0.0000e+00,\n",
       "       0.0000e+00, 0.0000e+00, 0.0000e+00, 0.0000e+00, 0.0000e+00,\n",
       "       0.0000e+00, 0.0000e+00, 0.0000e+00, 0.0000e+00, 0.0000e+00,\n",
       "       0.0000e+00, 0.0000e+00, 0.0000e+00, 0.0000e+00, 0.0000e+00,\n",
       "       0.0000e+00, 0.0000e+00, 0.0000e+00, 0.0000e+00, 0.0000e+00,\n",
       "       0.0000e+00, 0.0000e+00, 0.0000e+00, 0.0000e+00, 0.0000e+00,\n",
       "       0.0000e+00, 0.0000e+00, 0.0000e+00, 0.0000e+00, 0.0000e+00,\n",
       "       0.0000e+00, 0.0000e+00, 0.0000e+00, 0.0000e+00, 0.0000e+00,\n",
       "       0.0000e+00, 0.0000e+00, 0.0000e+00, 0.0000e+00, 0.0000e+00])"
      ]
     },
     "execution_count": 27,
     "metadata": {},
     "output_type": "execute_result"
    }
   ],
   "source": [
    "Xids[0]"
   ]
  },
  {
   "cell_type": "code",
   "execution_count": 28,
   "metadata": {
    "colab": {
     "base_uri": "https://localhost:8080/"
    },
    "executionInfo": {
     "elapsed": 232,
     "status": "ok",
     "timestamp": 1655363012462,
     "user": {
      "displayName": "Mete Akı",
      "userId": "12447519110364317014"
     },
     "user_tz": -120
    },
    "id": "xLxn9zXC_H11",
    "outputId": "147bad67-18b8-4873-d545-9c6cbb7e6dba"
   },
   "outputs": [
    {
     "data": {
      "text/plain": [
       "array([[0., 0., 0., 0., 0., 0., 0., 0., 0., 0.],\n",
       "       [0., 0., 0., 0., 0., 0., 0., 0., 0., 0.],\n",
       "       [0., 0., 0., 0., 0., 0., 0., 0., 0., 0.],\n",
       "       [0., 0., 0., 0., 0., 0., 0., 0., 0., 0.],\n",
       "       [0., 0., 0., 0., 0., 0., 0., 0., 0., 0.]])"
      ]
     },
     "execution_count": 28,
     "metadata": {},
     "output_type": "execute_result"
    }
   ],
   "source": [
    "np.zeros((5, 10))"
   ]
  },
  {
   "cell_type": "code",
   "execution_count": 29,
   "metadata": {
    "colab": {
     "base_uri": "https://localhost:8080/"
    },
    "executionInfo": {
     "elapsed": 236,
     "status": "ok",
     "timestamp": 1655363113170,
     "user": {
      "displayName": "Mete Akı",
      "userId": "12447519110364317014"
     },
     "user_tz": -120
    },
    "id": "8DzAyweED5R7",
    "outputId": "1266d99b-3e2f-41c8-e097-797447fbb04c"
   },
   "outputs": [
    {
     "data": {
      "text/plain": [
       "array([[2.0000e+00, 2.3000e+01, 5.1420e+03, ..., 0.0000e+00, 0.0000e+00,\n",
       "        0.0000e+00],\n",
       "       [2.0000e+00, 2.3000e+01, 5.1420e+03, ..., 0.0000e+00, 0.0000e+00,\n",
       "        0.0000e+00],\n",
       "       [2.0000e+00, 2.7820e+03, 3.1200e+03, ..., 0.0000e+00, 0.0000e+00,\n",
       "        0.0000e+00],\n",
       "       ...,\n",
       "       [2.0000e+00, 3.8070e+03, 9.2500e+03, ..., 0.0000e+00, 0.0000e+00,\n",
       "        0.0000e+00],\n",
       "       [2.0000e+00, 3.1560e+03, 4.1650e+03, ..., 0.0000e+00, 0.0000e+00,\n",
       "        0.0000e+00],\n",
       "       [2.0000e+00, 1.6807e+04, 1.9870e+03, ..., 0.0000e+00, 0.0000e+00,\n",
       "        0.0000e+00]])"
      ]
     },
     "execution_count": 29,
     "metadata": {},
     "output_type": "execute_result"
    }
   ],
   "source": [
    "Xids"
   ]
  },
  {
   "cell_type": "code",
   "execution_count": 30,
   "metadata": {
    "colab": {
     "base_uri": "https://localhost:8080/"
    },
    "executionInfo": {
     "elapsed": 201,
     "status": "ok",
     "timestamp": 1655363116106,
     "user": {
      "displayName": "Mete Akı",
      "userId": "12447519110364317014"
     },
     "user_tz": -120
    },
    "id": "wC4e77awEDp5",
    "outputId": "28f75a2f-8d5a-4676-aafd-fdec73b7d269"
   },
   "outputs": [
    {
     "data": {
      "text/plain": [
       "array([[1., 1., 1., ..., 0., 0., 0.],\n",
       "       [1., 1., 1., ..., 0., 0., 0.],\n",
       "       [1., 1., 1., ..., 0., 0., 0.],\n",
       "       ...,\n",
       "       [1., 1., 1., ..., 0., 0., 0.],\n",
       "       [1., 1., 1., ..., 0., 0., 0.],\n",
       "       [1., 1., 1., ..., 0., 0., 0.]])"
      ]
     },
     "execution_count": 30,
     "metadata": {},
     "output_type": "execute_result"
    }
   ],
   "source": [
    "Xmask"
   ]
  },
  {
   "cell_type": "code",
   "execution_count": 31,
   "metadata": {
    "colab": {
     "base_uri": "https://localhost:8080/"
    },
    "executionInfo": {
     "elapsed": 274,
     "status": "ok",
     "timestamp": 1655363117968,
     "user": {
      "displayName": "Mete Akı",
      "userId": "12447519110364317014"
     },
     "user_tz": -120
    },
    "id": "25t-t9T0mVxS",
    "outputId": "df6fe073-aa47-4ff9-87ee-37bbff885354"
   },
   "outputs": [
    {
     "data": {
      "text/plain": [
       "array([[0., 1., 0., 0., 0.],\n",
       "       [1., 0., 0., 0., 0.],\n",
       "       [0., 0., 1., 0., 0.],\n",
       "       [0., 0., 0., 1., 0.],\n",
       "       [0., 0., 0., 0., 1.]], dtype=float32)"
      ]
     },
     "execution_count": 31,
     "metadata": {},
     "output_type": "execute_result"
    }
   ],
   "source": [
    "from tensorflow.keras.utils import to_categorical\n",
    "\n",
    "l = np.array([1, 0, 2, 3, 4])\n",
    "to_categorical(l, 5) "
   ]
  },
  {
   "cell_type": "code",
   "execution_count": 32,
   "metadata": {
    "colab": {
     "base_uri": "https://localhost:8080/"
    },
    "executionInfo": {
     "elapsed": 222,
     "status": "ok",
     "timestamp": 1655363129617,
     "user": {
      "displayName": "Mete Akı",
      "userId": "12447519110364317014"
     },
     "user_tz": -120
    },
    "id": "Vrg9W-mPoUT-",
    "outputId": "e45b561d-eba6-4fdb-a3a6-70f230956377"
   },
   "outputs": [
    {
     "data": {
      "text/plain": [
       "array([[1],\n",
       "       [0],\n",
       "       [1],\n",
       "       [0],\n",
       "       [0]])"
      ]
     },
     "execution_count": 32,
     "metadata": {},
     "output_type": "execute_result"
    }
   ],
   "source": [
    "np.array([1, 0, 1, 0, 0]).reshape(-1,1) #reshape(5,1)"
   ]
  },
  {
   "cell_type": "code",
   "execution_count": 33,
   "metadata": {
    "colab": {
     "base_uri": "https://localhost:8080/"
    },
    "executionInfo": {
     "elapsed": 218,
     "status": "ok",
     "timestamp": 1655363354221,
     "user": {
      "displayName": "Mete Akı",
      "userId": "12447519110364317014"
     },
     "user_tz": -120
    },
    "id": "oQSgvvRlDfE-",
    "outputId": "291865b7-9df9-4a0d-8fab-e19e2ed1fd94"
   },
   "outputs": [
    {
     "data": {
      "text/plain": [
       "array([0, 0, 0, ..., 0, 0, 0])"
      ]
     },
     "execution_count": 33,
     "metadata": {},
     "output_type": "execute_result"
    }
   ],
   "source": [
    "y"
   ]
  },
  {
   "cell_type": "code",
   "execution_count": 34,
   "metadata": {
    "colab": {
     "base_uri": "https://localhost:8080/"
    },
    "executionInfo": {
     "elapsed": 5,
     "status": "ok",
     "timestamp": 1655363355104,
     "user": {
      "displayName": "Mete Akı",
      "userId": "12447519110364317014"
     },
     "user_tz": -120
    },
    "id": "lHJJhrbztBv9",
    "outputId": "5a4a53dc-c1b2-4e18-a42b-ffb4c929509c"
   },
   "outputs": [
    {
     "data": {
      "text/plain": [
       "array([[0],\n",
       "       [0],\n",
       "       [0],\n",
       "       ...,\n",
       "       [0],\n",
       "       [0],\n",
       "       [0]])"
      ]
     },
     "execution_count": 34,
     "metadata": {},
     "output_type": "execute_result"
    }
   ],
   "source": [
    "labels = y.reshape(-1,1)\n",
    "labels"
   ]
  },
  {
   "cell_type": "code",
   "execution_count": 36,
   "metadata": {
    "colab": {
     "base_uri": "https://localhost:8080/"
    },
    "executionInfo": {
     "elapsed": 675,
     "status": "ok",
     "timestamp": 1655363589486,
     "user": {
      "displayName": "Mete Akı",
      "userId": "12447519110364317014"
     },
     "user_tz": -120
    },
    "id": "_WwNbUgys-oJ",
    "outputId": "f578b322-d968-4f8b-f62e-97d001c8e4ae"
   },
   "outputs": [
    {
     "data": {
      "text/plain": [
       "<TensorSliceDataset element_spec=(TensorSpec(shape=(160,), dtype=tf.float64, name=None), TensorSpec(shape=(160,), dtype=tf.float64, name=None), TensorSpec(shape=(1,), dtype=tf.int64, name=None))>"
      ]
     },
     "execution_count": 36,
     "metadata": {},
     "output_type": "execute_result"
    }
   ],
   "source": [
    "import tensorflow as tf\n",
    "\n",
    "# Herbir yorumumuzu, satirlar halinde tensorlere cevirdik, modelimiz sadece bu sekilde tensor kabul ediyor\n",
    "# Batch size lara ayirmak icin satir satir tensörlere cevrildi\n",
    "\n",
    "dataset = tf.data.Dataset.from_tensor_slices((Xids, Xmask, labels)) #tf.data.Dataset.from_tensors((Xids, Xmask, labels))\n",
    "dataset"
   ]
  },
  {
   "cell_type": "markdown",
   "metadata": {
    "id": "geq2mjQSdPIt"
   },
   "source": []
  },
  {
   "cell_type": "code",
   "execution_count": 37,
   "metadata": {
    "executionInfo": {
     "elapsed": 438,
     "status": "ok",
     "timestamp": 1655363593653,
     "user": {
      "displayName": "Mete Akı",
      "userId": "12447519110364317014"
     },
     "user_tz": -120
    },
    "id": "QPM4QFRgm_Dq"
   },
   "outputs": [],
   "source": [
    "import tensorflow as tf\n",
    "dataset = tf.data.Dataset.from_tensor_slices((Xids, Xmask, labels))\n",
    "\n",
    "def map_func(Xids, Xmask, labels):\n",
    "    # we convert our three-item tuple into a two-item tuple where the input item is a dictionary\n",
    "    return {'input_ids': Xids, 'attention_mask': Xmask}, labels\n",
    "\n",
    "# Model input_ids ve attention_mask i tanimasi icin map function ile bu isimlere atadik\n",
    "# Tokenize icerisinde gecen haliyle 'input_ids' ve 'attention_mask' olarak dictionary icerisinde olmasi lazim.\n",
    "# Bu sekilde map dönüsüm uyguluyorum.\n",
    "# Dolayisiyla Tensorlere cevirdigimiz yorumlarimizi map ile tekrar \n",
    "# then we use the dataset map method to apply this transformation\n",
    "dataset = dataset.map(map_func)"
   ]
  },
  {
   "cell_type": "code",
   "execution_count": 38,
   "metadata": {
    "colab": {
     "base_uri": "https://localhost:8080/"
    },
    "executionInfo": {
     "elapsed": 241,
     "status": "ok",
     "timestamp": 1655363596682,
     "user": {
      "displayName": "Mete Akı",
      "userId": "12447519110364317014"
     },
     "user_tz": -120
    },
    "id": "w9siHyyDp_CR",
    "outputId": "56af90c4-25c6-4f4d-c9a9-a4c87d203d11"
   },
   "outputs": [
    {
     "data": {
      "text/plain": [
       "<MapDataset element_spec=({'input_ids': TensorSpec(shape=(160,), dtype=tf.float64, name=None), 'attention_mask': TensorSpec(shape=(160,), dtype=tf.float64, name=None)}, TensorSpec(shape=(1,), dtype=tf.int64, name=None))>"
      ]
     },
     "execution_count": 38,
     "metadata": {},
     "output_type": "execute_result"
    }
   ],
   "source": [
    "dataset"
   ]
  },
  {
   "cell_type": "code",
   "execution_count": null,
   "metadata": {
    "id": "G6CtrgIDvvX_"
   },
   "outputs": [],
   "source": []
  },
  {
   "cell_type": "markdown",
   "metadata": {
    "id": "VCuOU85Ldns6"
   },
   "source": [
    "## Train Test Split"
   ]
  },
  {
   "cell_type": "code",
   "execution_count": 39,
   "metadata": {
    "executionInfo": {
     "elapsed": 182,
     "status": "ok",
     "timestamp": 1655363602456,
     "user": {
      "displayName": "Mete Akı",
      "userId": "12447519110364317014"
     },
     "user_tz": -120
    },
    "id": "1PDQLvW_m_ww"
   },
   "outputs": [],
   "source": [
    "batch_size = 32 #16\n",
    "\n",
    "# batch_size ilk asamada belirliyoruz\n",
    "# tavsiye 32 ya da 16 olarak belirleniyor\n",
    "# datayi shuffle ile kariyoruz\n",
    "# en iyi karma olmasi icin, buffer_size a satir sayisindan fazla bir sayi verilmeli.\n",
    "# reshuffle_each_iteration=False alarak test datamizi train datamiza karismasinin önüne geciyoruz ve saglikli degerlendirme icin önemli\n",
    "# True olursa diger epoch ta test datasi train datasina dahil oldugundan overfittinge sebep olur.\n",
    "\n",
    "# shuffle and batch\n",
    "# fit into a batch of 32\n",
    "dataset = dataset.shuffle(243500, reshuffle_each_iteration=False).batch(batch_size, drop_remainder=True)\n",
    "\n",
    "# 32 li paketler halinde modele verilecegini bildirmek icin drop_remainder=True yaziyoruz, aksi halde None oldugundan hata verir."
   ]
  },
  {
   "cell_type": "code",
   "execution_count": 41,
   "metadata": {
    "colab": {
     "base_uri": "https://localhost:8080/"
    },
    "executionInfo": {
     "elapsed": 225,
     "status": "ok",
     "timestamp": 1655363722819,
     "user": {
      "displayName": "Mete Akı",
      "userId": "12447519110364317014"
     },
     "user_tz": -120
    },
    "id": "9Ois7VXgq_qb",
    "outputId": "d4b63e7a-1dba-4753-ac46-f09d1f94c138"
   },
   "outputs": [
    {
     "data": {
      "text/plain": [
       "<BatchDataset element_spec=({'input_ids': TensorSpec(shape=(32, 160), dtype=tf.float64, name=None), 'attention_mask': TensorSpec(shape=(32, 160), dtype=tf.float64, name=None)}, TensorSpec(shape=(32, 1), dtype=tf.int64, name=None))>"
      ]
     },
     "execution_count": 41,
     "metadata": {},
     "output_type": "execute_result"
    }
   ],
   "source": [
    "dataset"
   ]
  },
  {
   "cell_type": "code",
   "execution_count": 42,
   "metadata": {
    "executionInfo": {
     "elapsed": 249,
     "status": "ok",
     "timestamp": 1655364612688,
     "user": {
      "displayName": "Mete Akı",
      "userId": "12447519110364317014"
     },
     "user_tz": -120
    },
    "id": "83GtiRjGm_6B"
   },
   "outputs": [],
   "source": [
    "# set split size (90% training data) and calculate training set size\n",
    "split = 0.9\n",
    "size = int(len(dataset)*split) #int((Xids.shape[0]/batch_size)*split)\n",
    "\n",
    "# get training and validation sets\n",
    "train_ds = dataset.take(size)\n",
    "val_ds = dataset.skip(size)\n",
    "\n",
    "# Datamizi train ve test olarak ayirdik"
   ]
  },
  {
   "cell_type": "code",
   "execution_count": 43,
   "metadata": {
    "colab": {
     "base_uri": "https://localhost:8080/"
    },
    "executionInfo": {
     "elapsed": 213,
     "status": "ok",
     "timestamp": 1655364820752,
     "user": {
      "displayName": "Mete Akı",
      "userId": "12447519110364317014"
     },
     "user_tz": -120
    },
    "id": "Nddk6eatxmYF",
    "outputId": "111d5e9d-14f2-4ac0-e03d-0f0ea1b9b198"
   },
   "outputs": [
    {
     "name": "stdout",
     "output_type": "stream",
     "text": [
      "7609\n",
      "6848.1\n",
      "6848\n"
     ]
    }
   ],
   "source": [
    "print(len(dataset))\n",
    "print(len(dataset)*0.9)\n",
    "print(int(len(dataset)*0.9))"
   ]
  },
  {
   "cell_type": "code",
   "execution_count": 44,
   "metadata": {
    "colab": {
     "base_uri": "https://localhost:8080/"
    },
    "executionInfo": {
     "elapsed": 297,
     "status": "ok",
     "timestamp": 1655364822267,
     "user": {
      "displayName": "Mete Akı",
      "userId": "12447519110364317014"
     },
     "user_tz": -120
    },
    "id": "zqlVuZg8KeSK",
    "outputId": "3db4c4d5-a6ac-4137-db1b-97b758b9aaf6"
   },
   "outputs": [
    {
     "data": {
      "text/plain": [
       "(243497, 160)"
      ]
     },
     "execution_count": 44,
     "metadata": {},
     "output_type": "execute_result"
    }
   ],
   "source": [
    "Xids.shape"
   ]
  },
  {
   "cell_type": "code",
   "execution_count": 45,
   "metadata": {
    "colab": {
     "base_uri": "https://localhost:8080/"
    },
    "executionInfo": {
     "elapsed": 203,
     "status": "ok",
     "timestamp": 1655364824531,
     "user": {
      "displayName": "Mete Akı",
      "userId": "12447519110364317014"
     },
     "user_tz": -120
    },
    "id": "f1Z2kkoczyvP",
    "outputId": "5ae27bc9-f159-4505-decf-aaec8bede380"
   },
   "outputs": [
    {
     "data": {
      "text/plain": [
       "7609"
      ]
     },
     "execution_count": 45,
     "metadata": {},
     "output_type": "execute_result"
    }
   ],
   "source": [
    "#batch_size=32\n",
    "int(Xids.shape[0]/batch_size)"
   ]
  },
  {
   "cell_type": "markdown",
   "metadata": {
    "id": "qrDXF1ibl76v"
   },
   "source": [
    "## Creating Model"
   ]
  },
  {
   "cell_type": "code",
   "execution_count": 69,
   "metadata": {
    "colab": {
     "base_uri": "https://localhost:8080/"
    },
    "executionInfo": {
     "elapsed": 14819,
     "status": "ok",
     "timestamp": 1655378806464,
     "user": {
      "displayName": "Mete Akı",
      "userId": "12447519110364317014"
     },
     "user_tz": -120
    },
    "id": "7bZANURDQwMX",
    "outputId": "f1fd7f63-6b32-4452-8bec-d53669d074c8"
   },
   "outputs": [
    {
     "name": "stderr",
     "output_type": "stream",
     "text": [
      "Some layers from the model checkpoint at dbmdz/bert-base-turkish-cased were not used when initializing TFBertModel: ['nsp___cls', 'mlm___cls']\n",
      "- This IS expected if you are initializing TFBertModel from the checkpoint of a model trained on another task or with another architecture (e.g. initializing a BertForSequenceClassification model from a BertForPreTraining model).\n",
      "- This IS NOT expected if you are initializing TFBertModel from the checkpoint of a model that you expect to be exactly identical (initializing a BertForSequenceClassification model from a BertForSequenceClassification model).\n",
      "All the layers of TFBertModel were initialized from the model checkpoint at dbmdz/bert-base-turkish-cased.\n",
      "If your task is similar to the task the model of the checkpoint was trained on, you can already use TFBertModel for predictions without further training.\n"
     ]
    },
    {
     "data": {
      "text/plain": [
       "TFBaseModelOutputWithPoolingAndCrossAttentions([('last_hidden_state',\n",
       "                                                 <KerasTensor: shape=(None, 160, 768) dtype=float32 (created by layer 'bert')>),\n",
       "                                                ('pooler_output',\n",
       "                                                 <KerasTensor: shape=(None, 768) dtype=float32 (created by layer 'bert')>)])"
      ]
     },
     "execution_count": 69,
     "metadata": {},
     "output_type": "execute_result"
    }
   ],
   "source": [
    "from transformers import TFAutoModel\n",
    "model = TFAutoModel.from_pretrained(\"dbmdz/bert-base-turkish-cased\")\n",
    "input_ids = tf.keras.layers.Input(shape=(160,), name='input_ids', dtype='int32')\n",
    "attention_mask = tf.keras.layers.Input(shape=(160,), name='attention_mask', dtype='int32')\n",
    "model.bert(input_ids=input_ids, attention_mask=attention_mask)"
   ]
  },
  {
   "cell_type": "code",
   "execution_count": 71,
   "metadata": {
    "colab": {
     "base_uri": "https://localhost:8080/"
    },
    "executionInfo": {
     "elapsed": 3522,
     "status": "ok",
     "timestamp": 1655378906728,
     "user": {
      "displayName": "Mete Akı",
      "userId": "12447519110364317014"
     },
     "user_tz": -120
    },
    "id": "JbmTIKeQRJma",
    "outputId": "ad8004d0-68ba-4836-b5fc-c69a89c70d84"
   },
   "outputs": [
    {
     "name": "stdout",
     "output_type": "stream",
     "text": [
      "KerasTensor(type_spec=TensorSpec(shape=(None, 160, 768), dtype=tf.float32, name=None), name='bert/encoder/layer_._11/output/LayerNorm/batchnorm/add_1:0', description=\"created by layer 'bert'\")\n"
     ]
    }
   ],
   "source": [
    "print(model.bert(input_ids=input_ids, attention_mask=attention_mask)['last_hidden_state'])"
   ]
  },
  {
   "cell_type": "code",
   "execution_count": 47,
   "metadata": {
    "executionInfo": {
     "elapsed": 201,
     "status": "ok",
     "timestamp": 1655366062029,
     "user": {
      "displayName": "Mete Akı",
      "userId": "12447519110364317014"
     },
     "user_tz": -120
    },
    "id": "p__xkFOt4_oI"
   },
   "outputs": [],
   "source": [
    "def create_model():\n",
    "    from transformers import TFAutoModel\n",
    "    model = TFAutoModel.from_pretrained(\"dbmdz/bert-base-turkish-cased\")\n",
    "    input_ids = tf.keras.layers.Input(shape=(160,), name='input_ids', dtype='int32')\n",
    "    attention_mask = tf.keras.layers.Input(shape=(160,), name='attention_mask', dtype='int32')\n",
    "\n",
    "    embeddings = model.bert(input_ids=input_ids, attention_mask=attention_mask)[\"pooler_output\"] #[1]\n",
    "# bert modelde shape maximum 512 olarak verilebiliyor\n",
    "# pooler_output bert modellerinin en son kismidir\n",
    "# word embedding bert ile egitilmis oldugu icin bir tokenin iliskisi olabilecek tüm tokenleri bilen bir 768 boyutlu bir embedding eklenmis oluyor.\n",
    "# burada bert in word embeddinglerini kullaniyorum, önemli olan bu.\n",
    "\n",
    "    x = tf.keras.layers.Dense(160, activation='relu')(embeddings) # bu yapi api yapisi olarak gecer normalde suana kadar squential ögrendik\n",
    "    x = tf.keras.layers.Dropout(0.2, name=\"dropout\")(x) # 0.1 tavsiye edilen deger\n",
    "    y = tf.keras.layers.Dense(1, activation='sigmoid', name='outputs')(x)\n",
    "\n",
    "# burada aktarma islemi add ile degil de önceki asamayi parantez icerisinde yazarak aktariyoruz.\n",
    "# attention_mask ler de 768 boyutlu word embeddinge cevriliyor.\n",
    "# \n",
    "\n",
    "    return tf.keras.Model(inputs=[input_ids, attention_mask], outputs=y)\n",
    "\n",
    "# Modeli def icerisinde yazmamiz gerekiyor.\n",
    "# TensorFlow library kullandigimizdan dolayi modelimizi TFAutomodel olarak import ediyoruz.    \n",
    "# Input layerlarimizdan birine input_ids digerine attention_mask olarak tanimliyoruz.\n",
    "# modelimize dtype= int32 olarak datayi vermemiz gerekiyor.\n",
    "#  "
   ]
  },
  {
   "cell_type": "code",
   "execution_count": 48,
   "metadata": {
    "colab": {
     "base_uri": "https://localhost:8080/",
     "height": 156,
     "referenced_widgets": [
      "2fd4d8bbd984420a84a4696e5f5a0771",
      "0061854eb121471cbef7f501d9f042ec",
      "019fce7dc48246ea831d00d3fd056abe",
      "32c9233e21024766894dde879795293b",
      "c62d3694eed945a1acd17d4d0919422e",
      "aa69ef2e7350414382742933fb2df1cf",
      "f7894976d4bf456a9a34251b39b96306",
      "ece2840fff094fa6b4e45ec8eb711be4",
      "93f053e64c8648a5aac68b23416cdfc7",
      "84233a7e269f41bea718db407ec72e19",
      "d2277987129d434294f6c969b1ecdd7e"
     ]
    },
    "executionInfo": {
     "elapsed": 62508,
     "status": "ok",
     "timestamp": 1655366127866,
     "user": {
      "displayName": "Mete Akı",
      "userId": "12447519110364317014"
     },
     "user_tz": -120
    },
    "id": "tPRqyWNQDzyb",
    "outputId": "42529c07-89c3-4a15-91da-84e54ed4b775"
   },
   "outputs": [
    {
     "data": {
      "application/vnd.jupyter.widget-view+json": {
       "model_id": "2fd4d8bbd984420a84a4696e5f5a0771",
       "version_major": 2,
       "version_minor": 0
      },
      "text/plain": [
       "Downloading:   0%|          | 0.00/520M [00:00<?, ?B/s]"
      ]
     },
     "metadata": {},
     "output_type": "display_data"
    },
    {
     "name": "stderr",
     "output_type": "stream",
     "text": [
      "Some layers from the model checkpoint at dbmdz/bert-base-turkish-cased were not used when initializing TFBertModel: ['nsp___cls', 'mlm___cls']\n",
      "- This IS expected if you are initializing TFBertModel from the checkpoint of a model trained on another task or with another architecture (e.g. initializing a BertForSequenceClassification model from a BertForPreTraining model).\n",
      "- This IS NOT expected if you are initializing TFBertModel from the checkpoint of a model that you expect to be exactly identical (initializing a BertForSequenceClassification model from a BertForSequenceClassification model).\n",
      "All the layers of TFBertModel were initialized from the model checkpoint at dbmdz/bert-base-turkish-cased.\n",
      "If your task is similar to the task the model of the checkpoint was trained on, you can already use TFBertModel for predictions without further training.\n"
     ]
    }
   ],
   "source": [
    "with strategy.scope():\n",
    "  \n",
    "  optimizer = tf.keras.optimizers.Adam(learning_rate=3e-5) # tavsiye edilen learning_rate ler 2e-5 3e-5 5e-5\n",
    "  loss = tf.keras.losses.BinaryCrossentropy()\n",
    "  recall = tf.keras.metrics.Recall()\n",
    "  model3 = create_model()\n",
    "  model3.compile(optimizer=optimizer, loss=loss, metrics=[recall])"
   ]
  },
  {
   "cell_type": "code",
   "execution_count": null,
   "metadata": {
    "colab": {
     "base_uri": "https://localhost:8080/"
    },
    "id": "GHBMQ5bTxL4o",
    "outputId": "1075a427-9d36-4f69-c72e-da21b9345167"
   },
   "outputs": [
    {
     "data": {
      "text/plain": [
       "0    0.943835\n",
       "1    0.056165\n",
       "dtype: float64"
      ]
     },
     "execution_count": 144,
     "metadata": {},
     "output_type": "execute_result"
    }
   ],
   "source": [
    "#pd.Series(y).value_counts(normalize=True)"
   ]
  },
  {
   "cell_type": "code",
   "execution_count": null,
   "metadata": {
    "id": "vTi2xgkPhNlO"
   },
   "outputs": [],
   "source": [
    "# Burada sample_weight uygulayamiyoruz\n",
    "# Ama class_weight kullanabiliriz"
   ]
  },
  {
   "cell_type": "code",
   "execution_count": null,
   "metadata": {
    "id": "GpqDx2KRxNpj"
   },
   "outputs": [],
   "source": [
    "#weights = {0:0.05, 1:0.95}"
   ]
  },
  {
   "cell_type": "code",
   "execution_count": 49,
   "metadata": {
    "colab": {
     "base_uri": "https://localhost:8080/"
    },
    "executionInfo": {
     "elapsed": 210,
     "status": "ok",
     "timestamp": 1655366358575,
     "user": {
      "displayName": "Mete Akı",
      "userId": "12447519110364317014"
     },
     "user_tz": -120
    },
    "id": "tLEyg_TUVTXn",
    "outputId": "3fbce214-8c9d-40ab-b71f-7d12f8b1c965"
   },
   "outputs": [
    {
     "name": "stdout",
     "output_type": "stream",
     "text": [
      "Model: \"model\"\n",
      "__________________________________________________________________________________________________\n",
      " Layer (type)                   Output Shape         Param #     Connected to                     \n",
      "==================================================================================================\n",
      " input_ids (InputLayer)         [(None, 160)]        0           []                               \n",
      "                                                                                                  \n",
      " attention_mask (InputLayer)    [(None, 160)]        0           []                               \n",
      "                                                                                                  \n",
      " bert (TFBertMainLayer)         TFBaseModelOutputWi  110617344   ['input_ids[0][0]',              \n",
      "                                thPoolingAndCrossAt               'attention_mask[0][0]']         \n",
      "                                tentions(last_hidde                                               \n",
      "                                n_state=(None, 160,                                               \n",
      "                                 768),                                                            \n",
      "                                 pooler_output=(Non                                               \n",
      "                                e, 768),                                                          \n",
      "                                 past_key_values=No                                               \n",
      "                                ne, hidden_states=N                                               \n",
      "                                one, attentions=Non                                               \n",
      "                                e, cross_attentions                                               \n",
      "                                =None)                                                            \n",
      "                                                                                                  \n",
      " dense (Dense)                  (None, 160)          123040      ['bert[0][1]']                   \n",
      "                                                                                                  \n",
      " dropout (Dropout)              (None, 160)          0           ['dense[0][0]']                  \n",
      "                                                                                                  \n",
      " outputs (Dense)                (None, 1)            161         ['dropout[0][0]']                \n",
      "                                                                                                  \n",
      "==================================================================================================\n",
      "Total params: 110,740,545\n",
      "Trainable params: 110,740,545\n",
      "Non-trainable params: 0\n",
      "__________________________________________________________________________________________________\n"
     ]
    }
   ],
   "source": [
    "model3.summary()"
   ]
  },
  {
   "cell_type": "code",
   "execution_count": 50,
   "metadata": {
    "colab": {
     "base_uri": "https://localhost:8080/"
    },
    "executionInfo": {
     "elapsed": 665974,
     "status": "ok",
     "timestamp": 1655367041995,
     "user": {
      "displayName": "Mete Akı",
      "userId": "12447519110364317014"
     },
     "user_tz": -120
    },
    "id": "YxZ_YPsK61ll",
    "outputId": "cfcd9010-b07b-4ec5-a231-284f6121d00f"
   },
   "outputs": [
    {
     "name": "stdout",
     "output_type": "stream",
     "text": [
      "6848/6848 [==============================] - 664s 85ms/step - loss: 0.0778 - recall: 0.6696 - val_loss: 0.0617 - val_recall: 0.7842\n"
     ]
    }
   ],
   "source": [
    "history = model3.fit(\n",
    "    train_ds, validation_data= val_ds,\n",
    "    epochs=1) \n",
    "\n",
    "# epoch=2 or 3 olarak tavsiye ediliyor, fazla yapilirsa overfittinge gider\n",
    "    "
   ]
  },
  {
   "cell_type": "markdown",
   "metadata": {
    "id": "LjsWW1VAmPxK"
   },
   "source": [
    "## Model evaluation"
   ]
  },
  {
   "cell_type": "code",
   "execution_count": 51,
   "metadata": {
    "colab": {
     "base_uri": "https://localhost:8080/"
    },
    "executionInfo": {
     "elapsed": 27962,
     "status": "ok",
     "timestamp": 1655367075959,
     "user": {
      "displayName": "Mete Akı",
      "userId": "12447519110364317014"
     },
     "user_tz": -120
    },
    "id": "Po2U0-F_D1ks",
    "outputId": "e13650f0-6982-4d77-87b5-e29e0f49b2fc"
   },
   "outputs": [
    {
     "name": "stdout",
     "output_type": "stream",
     "text": [
      "              precision    recall  f1-score   support\n",
      "\n",
      "           0       0.99      0.99      0.99     23008\n",
      "           1       0.83      0.78      0.80      1344\n",
      "\n",
      "    accuracy                           0.98     24352\n",
      "   macro avg       0.91      0.89      0.90     24352\n",
      "weighted avg       0.98      0.98      0.98     24352\n",
      "\n"
     ]
    }
   ],
   "source": [
    "from sklearn.metrics import classification_report, confusion_matrix\n",
    "\n",
    "y_pred = model3.predict(val_ds) >= 0.5\n",
    "\n",
    "y_test = []\n",
    "for i in val_ds:\n",
    "  for j in np.array(i[1]):\n",
    "    y_test.append(j)\n",
    "\n",
    "print(classification_report(y_test, y_pred))\n",
    "\n",
    "# Array daha hizli calistigi icin Array a cevirdik\n",
    "# Tensör ü Array a dönüstürüp validation datasindan y label ini aliyoruz."
   ]
  },
  {
   "cell_type": "code",
   "execution_count": 52,
   "metadata": {
    "colab": {
     "base_uri": "https://localhost:8080/"
    },
    "executionInfo": {
     "elapsed": 151392,
     "status": "ok",
     "timestamp": 1655367227348,
     "user": {
      "displayName": "Mete Akı",
      "userId": "12447519110364317014"
     },
     "user_tz": -120
    },
    "id": "QiPDFzwmdknu",
    "outputId": "37e79c4f-e48a-411f-c379-71dbb5dae724"
   },
   "outputs": [
    {
     "name": "stdout",
     "output_type": "stream",
     "text": [
      "              precision    recall  f1-score   support\n",
      "\n",
      "           0       0.99      0.99      0.99    206804\n",
      "           1       0.88      0.85      0.87     12332\n",
      "\n",
      "    accuracy                           0.99    219136\n",
      "   macro avg       0.94      0.92      0.93    219136\n",
      "weighted avg       0.99      0.99      0.99    219136\n",
      "\n"
     ]
    }
   ],
   "source": [
    "y_train_pred = model3.predict(train_ds) >= 0.5\n",
    "\n",
    "y_train = []\n",
    "for i in train_ds:\n",
    "  for j in np.array(i[1]):\n",
    "    y_train.append(j)\n",
    "\n",
    "print(classification_report(y_train, y_train_pred)) "
   ]
  },
  {
   "cell_type": "code",
   "execution_count": 53,
   "metadata": {
    "colab": {
     "base_uri": "https://localhost:8080/"
    },
    "executionInfo": {
     "elapsed": 5,
     "status": "ok",
     "timestamp": 1655367227348,
     "user": {
      "displayName": "Mete Akı",
      "userId": "12447519110364317014"
     },
     "user_tz": -120
    },
    "id": "NZogPcBjND7i",
    "outputId": "a3fb0b5f-cac4-409a-dca3-bd038478eaf2"
   },
   "outputs": [
    {
     "data": {
      "text/plain": [
       "<SkipDataset element_spec=({'input_ids': TensorSpec(shape=(32, 160), dtype=tf.float64, name=None), 'attention_mask': TensorSpec(shape=(32, 160), dtype=tf.float64, name=None)}, TensorSpec(shape=(32, 1), dtype=tf.int64, name=None))>"
      ]
     },
     "execution_count": 53,
     "metadata": {},
     "output_type": "execute_result"
    }
   ],
   "source": [
    "val_ds"
   ]
  },
  {
   "cell_type": "code",
   "execution_count": 54,
   "metadata": {
    "colab": {
     "base_uri": "https://localhost:8080/"
    },
    "executionInfo": {
     "elapsed": 2962,
     "status": "ok",
     "timestamp": 1655367926361,
     "user": {
      "displayName": "Mete Akı",
      "userId": "12447519110364317014"
     },
     "user_tz": -120
    },
    "id": "xh-OJF74AbAY",
    "outputId": "fbdb6343-c484-49d6-8552-830d523ce4e5"
   },
   "outputs": [
    {
     "name": "stdout",
     "output_type": "stream",
     "text": [
      "[[0]\n",
      " [0]\n",
      " [0]\n",
      " [0]\n",
      " [0]\n",
      " [1]\n",
      " [0]\n",
      " [1]\n",
      " [0]\n",
      " [0]\n",
      " [0]\n",
      " [0]\n",
      " [0]\n",
      " [1]\n",
      " [0]\n",
      " [0]\n",
      " [0]\n",
      " [0]\n",
      " [0]\n",
      " [0]\n",
      " [0]\n",
      " [0]\n",
      " [0]\n",
      " [0]\n",
      " [0]\n",
      " [0]\n",
      " [0]\n",
      " [0]\n",
      " [1]\n",
      " [0]\n",
      " [0]\n",
      " [0]]\n"
     ]
    }
   ],
   "source": [
    "for i in val_ds:\n",
    "  print(np.array(i[1]))\n",
    "  break"
   ]
  },
  {
   "cell_type": "code",
   "execution_count": null,
   "metadata": {
    "id": "kudkOYjaXcMS"
   },
   "outputs": [],
   "source": [
    " #Ağırlıklandırılmış Model ---> dropout(0,1), batchsize = 16, epoch =1, learning rate = 2e-5\n",
    " \n",
    " TEST SET\n",
    "                precision    recall  f1-score   support\n",
    "\n",
    "           0       0.99      0.97      0.98     22987\n",
    "           1       0.63      0.89      0.74      1365\n",
    "\n",
    "    accuracy                           0.96     24352\n",
    "   macro avg       0.81      0.93      0.86     24352\n",
    "weighted avg       0.97      0.96      0.97     24352\n",
    "\n",
    "TRAIN SET\n",
    "                precision    recall  f1-score   support\n",
    "\n",
    "           0       1.00      0.97      0.99    206825\n",
    "           1       0.69      0.95      0.80     12311\n",
    "\n",
    "    accuracy                           0.97    219136\n",
    "   macro avg       0.84      0.96      0.89    219136\n",
    "weighted avg       0.98      0.97      0.98    219136\n",
    "\n",
    "\n",
    "\n",
    "history = model3.fit(\n",
    "    train_ds, validation_data= val_ds,\n",
    "    epochs=1,class_weight=weights)"
   ]
  },
  {
   "cell_type": "code",
   "execution_count": null,
   "metadata": {
    "id": "wz2gWXxbXcXr"
   },
   "outputs": [],
   "source": []
  },
  {
   "cell_type": "code",
   "execution_count": null,
   "metadata": {
    "id": "GVdM_75GXciM"
   },
   "outputs": [],
   "source": []
  },
  {
   "cell_type": "code",
   "execution_count": 55,
   "metadata": {
    "colab": {
     "base_uri": "https://localhost:8080/",
     "height": 295
    },
    "executionInfo": {
     "elapsed": 19846,
     "status": "ok",
     "timestamp": 1655367969605,
     "user": {
      "displayName": "Mete Akı",
      "userId": "12447519110364317014"
     },
     "user_tz": -120
    },
    "id": "ZFRpVxcuOyk5",
    "outputId": "50a9d2e5-f4cb-4289-834b-b68cd6346af5"
   },
   "outputs": [
    {
     "data": {
      "image/png": "[encoded data removed]",
      "text/plain": [
       "<Figure size 432x288 with 1 Axes>"
      ]
     },
     "metadata": {
      "needs_background": "light"
     },
     "output_type": "display_data"
    }
   ],
   "source": [
    "from sklearn.metrics import precision_recall_curve, average_precision_score\n",
    "import matplotlib.pyplot as plt\n",
    "\n",
    "y_pred_proba = model3.predict(val_ds)\n",
    "precision, recall, thresholds = precision_recall_curve(y_test, y_pred_proba)\n",
    "plt.plot([1,0],[0,1],'k--')\n",
    "plt.plot(recall, precision)\n",
    "plt.xlabel('recall')\n",
    "plt.ylabel('precision')\n",
    "plt.title('precision recall curve')\n",
    "plt.show()"
   ]
  },
  {
   "cell_type": "code",
   "execution_count": 56,
   "metadata": {
    "colab": {
     "base_uri": "https://localhost:8080/"
    },
    "executionInfo": {
     "elapsed": 257,
     "status": "ok",
     "timestamp": 1655367975958,
     "user": {
      "displayName": "Mete Akı",
      "userId": "12447519110364317014"
     },
     "user_tz": -120
    },
    "id": "t2X-rrucPPrX",
    "outputId": "877660b8-6f3e-44ea-e1a5-097d3cc42384"
   },
   "outputs": [
    {
     "data": {
      "text/plain": [
       "0.883154925010698"
      ]
     },
     "execution_count": 56,
     "metadata": {},
     "output_type": "execute_result"
    }
   ],
   "source": [
    "average_precision_score(y_test, y_pred_proba)"
   ]
  },
  {
   "cell_type": "code",
   "execution_count": 57,
   "metadata": {
    "executionInfo": {
     "elapsed": 10574,
     "status": "ok",
     "timestamp": 1655367989986,
     "user": {
      "displayName": "Mete Akı",
      "userId": "12447519110364317014"
     },
     "user_tz": -120
    },
    "id": "_B6Sv63_H3we"
   },
   "outputs": [],
   "source": [
    "model3.save(\"sentiment_model_without_weighted.h5\")"
   ]
  },
  {
   "cell_type": "code",
   "execution_count": 58,
   "metadata": {
    "executionInfo": {
     "elapsed": 17950,
     "status": "ok",
     "timestamp": 1655368058194,
     "user": {
      "displayName": "Mete Akı",
      "userId": "12447519110364317014"
     },
     "user_tz": -120
    },
    "id": "X_2ErgJnLKV0"
   },
   "outputs": [],
   "source": [
    "import tensorflow as tf\n",
    "#import official.nlp.optimization as adamw\n",
    "from tensorflow.keras.models import load_model\n",
    "\n",
    "\n",
    "model4 = load_model('/content/sentiment_model_without_weighted.h5')"
   ]
  },
  {
   "cell_type": "code",
   "execution_count": 59,
   "metadata": {
    "executionInfo": {
     "elapsed": 1638,
     "status": "ok",
     "timestamp": 1655368522869,
     "user": {
      "displayName": "Mete Akı",
      "userId": "12447519110364317014"
     },
     "user_tz": -120
    },
    "id": "yaARaSiXEstW"
   },
   "outputs": [],
   "source": [
    "# initialize tokenizer from transformers\n",
    "from transformers import AutoTokenizer, TFAutoModel\n",
    "\n",
    "tokenizers = AutoTokenizer.from_pretrained(\"dbmdz/bert-base-turkish-cased\")\n",
    "\n",
    "def prep_data(text):\n",
    "    # tokenize to get input IDs and attention mask tensors\n",
    "    tokens = tokenizers.encode_plus(text.lower(), max_length=160,\n",
    "                                   truncation=True, padding='max_length',\n",
    "                                   add_special_tokens=True,\n",
    "                                   return_tensors='tf')\n",
    "  \n",
    "    return {'input_ids': tokens['input_ids'],      #tf.cast(tokens['input_ids'], tf.int32)\n",
    "            'attention_mask': tokens['attention_mask']} #tf.cast(tokens['attention_mask'], tf.int32)\n",
    "            \n",
    "# return_tensors='tf' yazarak prediction icin verecegimiz text leri tensöre ceviriyor            "
   ]
  },
  {
   "cell_type": "markdown",
   "metadata": {
    "id": "bBupEhP3ZnGA"
   },
   "source": [
    "The main difference is stemming from the additional information that encode_plus is providing. If you read the documentation on the respective functions, then there is a slight difference forencode():\n",
    "\n",
    "Converts a string in a sequence of ids (integer), using the tokenizer and vocabulary. Same as doing self.convert_tokens_to_ids(self.tokenize(text)).\n",
    "\n",
    "and the description of encode_plus():\n",
    "\n",
    "Returns a dictionary containing the encoded sequence or sequence pair and additional information: the mask for sequence classification and the overflowing elements if a max_length is specified.\n",
    "\n",
    "Depending on your specified model and input sentence, the difference lies in the additionally encoded information, specifically the input mask. Since you are feeding in two sentences at a time, BERT (and likely other model variants), expect some form of masking, which allows the model to discern between the two sequences, see here. Since encode_plus is providing this information, but encode isn't, you get different output results."
   ]
  },
  {
   "cell_type": "markdown",
   "metadata": {
    "id": "96n-sK6LZi8P"
   },
   "source": [
    "https://huggingface.co/docs/transformers/model_doc/bert#transformers.BertTokenizer.create_token_type_ids_from_sequences"
   ]
  },
  {
   "cell_type": "markdown",
   "metadata": {
    "id": "U25S2J5gZe_i"
   },
   "source": []
  },
  {
   "cell_type": "code",
   "execution_count": 60,
   "metadata": {
    "executionInfo": {
     "elapsed": 249,
     "status": "ok",
     "timestamp": 1655368524014,
     "user": {
      "displayName": "Mete Akı",
      "userId": "12447519110364317014"
     },
     "user_tz": -120
    },
    "id": "-tbmF2a5QZHD"
   },
   "outputs": [],
   "source": [
    "review1 = \"çok beğendim herkese tavsiye ederim\"\n",
    "review2 = \"süper ürün aynı gün elime geçti\"\n",
    "review3 = \"büyük bir hayal kırıklığı yaşadım bu ürünü bu markaya yakıştıramadım\"\n",
    "review4 = \"kelimelerle tarif edilemez\"\n",
    "review5 = \"tasarımı harika ancak kargo çok geç geldi ve ürün açılmıştı hayal kırıklığı gerçekten\"\n",
    "review6 = \"hiç resimde gösterildiği gibi değil\"\n",
    "review7 = \"kötü yorumlar gözümü korkutmuştu ancak hiçbir sorun yaşamadım teşekkürler\"\n",
    "review8 = \"hiç bu kadar kötü bir satıcıya denk gelmemiştim ürün siparişimi iptal ediyorum\"\n",
    "review9 = \"tam bir fiyat performans ürünü\"\n",
    "review10 = \"beklediğim gibi çıkmadı\"\n",
    "review11 = \"on numara beş yıldız\"\n",
    "review12 = \"bu kargoyu biran önce bırakın. yoksa üründe sıkıntı yok\"\n",
    "review13 = \"televizyonun görüntü kalitesi çok kötü, dün akşam evde arkadaşlarla toplandık. yedik, içtik, sohbet ettik. Sonra televizyonda Türkiye - İngiltere maçını seyrettik. \"\n",
    "review14 = '1 gün gibi kısa bir sürede elime geçti. Ve bu fıyata süper bir ürün tavsiye ederim. Lakin eli büyük olan kişiler daha büyük modelini tercih edebilirler ortaboy ürün. Teşekkürler '\n",
    "review15 = \"alınca anlarsın anyayı konyayı\"\n",
    "review16 = \"çöpe atacak paran varsa alabilirsin\"\n",
    "review17= \"Telefon fena değil\"\n",
    "review18 = \"al da gününü gör\"\n",
    "review19 = \"Ürün süper ama satıcı ve kargo berbat\"\n",
    "review20= \"kargo süper ama ürün berbat\"\n",
    "review21 = \"Aldigim TV cok kaliteli diye dusunmustum, sonradan cok da iyi bir TV olmadigini dusundum, ama neyse yine de memnunum.\"\n",
    "review22 = \"😊\"\n",
    "review23 = \":)\"\n",
    "review24= \"I ❤️ you\"\n",
    "reviews = [review1, review2, review3, review4, review5, review6, review7, review8, review9, review10, review11, review12, review13, review14, review15, review16, review17, review18, review19, review20, review21, review22, review23, review24]"
   ]
  },
  {
   "cell_type": "code",
   "execution_count": 61,
   "metadata": {
    "executionInfo": {
     "elapsed": 9094,
     "status": "ok",
     "timestamp": 1655368535754,
     "user": {
      "displayName": "Mete Akı",
      "userId": "12447519110364317014"
     },
     "user_tz": -120
    },
    "id": "7fecjxatQayR"
   },
   "outputs": [],
   "source": [
    "probs = []\n",
    "for i in reviews:\n",
    "\n",
    "  in_tensor = prep_data(i)\n",
    "\n",
    "  prob = model4.predict(in_tensor)[0][0]\n",
    "\n",
    "  probs.append(prob)\n",
    "\n",
    "# tanimlanan def ile text leri tensörlere cevirdik  "
   ]
  },
  {
   "cell_type": "code",
   "execution_count": 63,
   "metadata": {
    "colab": {
     "base_uri": "https://localhost:8080/"
    },
    "executionInfo": {
     "elapsed": 192,
     "status": "ok",
     "timestamp": 1655368561528,
     "user": {
      "displayName": "Mete Akı",
      "userId": "12447519110364317014"
     },
     "user_tz": -120
    },
    "id": "2eYHmqGfp4vn",
    "outputId": "0d499df6-fe51-4416-a167-e2a7b1a326ec"
   },
   "outputs": [
    {
     "data": {
      "text/plain": [
       "{'attention_mask': <tf.Tensor: shape=(1, 160), dtype=int32, numpy=\n",
       " array([[1, 1, 1, 1, 1, 1, 0, 0, 0, 0, 0, 0, 0, 0, 0, 0, 0, 0, 0, 0, 0, 0,\n",
       "         0, 0, 0, 0, 0, 0, 0, 0, 0, 0, 0, 0, 0, 0, 0, 0, 0, 0, 0, 0, 0, 0,\n",
       "         0, 0, 0, 0, 0, 0, 0, 0, 0, 0, 0, 0, 0, 0, 0, 0, 0, 0, 0, 0, 0, 0,\n",
       "         0, 0, 0, 0, 0, 0, 0, 0, 0, 0, 0, 0, 0, 0, 0, 0, 0, 0, 0, 0, 0, 0,\n",
       "         0, 0, 0, 0, 0, 0, 0, 0, 0, 0, 0, 0, 0, 0, 0, 0, 0, 0, 0, 0, 0, 0,\n",
       "         0, 0, 0, 0, 0, 0, 0, 0, 0, 0, 0, 0, 0, 0, 0, 0, 0, 0, 0, 0, 0, 0,\n",
       "         0, 0, 0, 0, 0, 0, 0, 0, 0, 0, 0, 0, 0, 0, 0, 0, 0, 0, 0, 0, 0, 0,\n",
       "         0, 0, 0, 0, 0, 0]], dtype=int32)>,\n",
       " 'input_ids': <tf.Tensor: shape=(1, 160), dtype=int32, numpy=\n",
       " array([[    2,    77,   610,  1354, 13799,     3,     0,     0,     0,\n",
       "             0,     0,     0,     0,     0,     0,     0,     0,     0,\n",
       "             0,     0,     0,     0,     0,     0,     0,     0,     0,\n",
       "             0,     0,     0,     0,     0,     0,     0,     0,     0,\n",
       "             0,     0,     0,     0,     0,     0,     0,     0,     0,\n",
       "             0,     0,     0,     0,     0,     0,     0,     0,     0,\n",
       "             0,     0,     0,     0,     0,     0,     0,     0,     0,\n",
       "             0,     0,     0,     0,     0,     0,     0,     0,     0,\n",
       "             0,     0,     0,     0,     0,     0,     0,     0,     0,\n",
       "             0,     0,     0,     0,     0,     0,     0,     0,     0,\n",
       "             0,     0,     0,     0,     0,     0,     0,     0,     0,\n",
       "             0,     0,     0,     0,     0,     0,     0,     0,     0,\n",
       "             0,     0,     0,     0,     0,     0,     0,     0,     0,\n",
       "             0,     0,     0,     0,     0,     0,     0,     0,     0,\n",
       "             0,     0,     0,     0,     0,     0,     0,     0,     0,\n",
       "             0,     0,     0,     0,     0,     0,     0,     0,     0,\n",
       "             0,     0,     0,     0,     0,     0,     0,     0,     0,\n",
       "             0,     0,     0,     0,     0,     0,     0]], dtype=int32)>}"
      ]
     },
     "execution_count": 63,
     "metadata": {},
     "output_type": "execute_result"
    }
   ],
   "source": [
    "in_tensor"
   ]
  },
  {
   "cell_type": "code",
   "execution_count": 62,
   "metadata": {
    "colab": {
     "base_uri": "https://localhost:8080/"
    },
    "executionInfo": {
     "elapsed": 309,
     "status": "ok",
     "timestamp": 1655368536052,
     "user": {
      "displayName": "Mete Akı",
      "userId": "12447519110364317014"
     },
     "user_tz": -120
    },
    "id": "bdtIuEtRBvqB",
    "outputId": "f5738d1a-05e7-41a0-e466-7152a37e903b"
   },
   "outputs": [
    {
     "data": {
      "text/plain": [
       "array([[0.04739168]], dtype=float32)"
      ]
     },
     "execution_count": 62,
     "metadata": {},
     "output_type": "execute_result"
    }
   ],
   "source": [
    "model4.predict(in_tensor)"
   ]
  },
  {
   "cell_type": "code",
   "execution_count": 64,
   "metadata": {
    "colab": {
     "base_uri": "https://localhost:8080/"
    },
    "executionInfo": {
     "elapsed": 217,
     "status": "ok",
     "timestamp": 1655368652089,
     "user": {
      "displayName": "Mete Akı",
      "userId": "12447519110364317014"
     },
     "user_tz": -120
    },
    "id": "TMaJLPfQEwlz",
    "outputId": "3bbc74ee-df7f-43d8-aaba-159cd572ea91"
   },
   "outputs": [
    {
     "data": {
      "text/plain": [
       "[0.00051757693,\n",
       " 0.00049877167,\n",
       " 0.98805517,\n",
       " 0.008706719,\n",
       " 0.3299187,\n",
       " 0.9785163,\n",
       " 0.0011189282,\n",
       " 0.99287677,\n",
       " 0.0004967451,\n",
       " 0.9761807,\n",
       " 0.0005121231,\n",
       " 0.2837559,\n",
       " 0.9212624,\n",
       " 0.014458746,\n",
       " 0.050358146,\n",
       " 0.32332814,\n",
       " 0.42445558,\n",
       " 0.027199715,\n",
       " 0.12589908,\n",
       " 0.7540023,\n",
       " 0.029877901,\n",
       " 0.35565487,\n",
       " 0.008768827,\n",
       " 0.047391683]"
      ]
     },
     "execution_count": 64,
     "metadata": {},
     "output_type": "execute_result"
    }
   ],
   "source": [
    "probs"
   ]
  },
  {
   "cell_type": "code",
   "execution_count": 65,
   "metadata": {
    "colab": {
     "base_uri": "https://localhost:8080/"
    },
    "executionInfo": {
     "elapsed": 187,
     "status": "ok",
     "timestamp": 1655368658793,
     "user": {
      "displayName": "Mete Akı",
      "userId": "12447519110364317014"
     },
     "user_tz": -120
    },
    "id": "dxgMYBczYyNC",
    "outputId": "2197b405-f88b-42db-fffa-0a053471ebe5"
   },
   "outputs": [
    {
     "data": {
      "text/plain": [
       "array([0, 0, 1, 0, 0, 1, 0, 1, 0, 1, 0, 0, 1, 0, 0, 0, 0, 0, 0, 1, 0, 0,\n",
       "       0, 0])"
      ]
     },
     "execution_count": 65,
     "metadata": {},
     "output_type": "execute_result"
    }
   ],
   "source": [
    "classes  = (np.array(probs) >= 0.5).astype(\"int\")\n",
    "classes"
   ]
  },
  {
   "cell_type": "code",
   "execution_count": 66,
   "metadata": {
    "executionInfo": {
     "elapsed": 268,
     "status": "ok",
     "timestamp": 1655368665363,
     "user": {
      "displayName": "Mete Akı",
      "userId": "12447519110364317014"
     },
     "user_tz": -120
    },
    "id": "IgH72FPhYyBr"
   },
   "outputs": [],
   "source": [
    "my_dict = {\"Review\":reviews, \"prob\":probs, \"classes\":classes}"
   ]
  },
  {
   "cell_type": "code",
   "execution_count": 67,
   "metadata": {
    "colab": {
     "base_uri": "https://localhost:8080/",
     "height": 802
    },
    "executionInfo": {
     "elapsed": 246,
     "status": "ok",
     "timestamp": 1655368674814,
     "user": {
      "displayName": "Mete Akı",
      "userId": "12447519110364317014"
     },
     "user_tz": -120
    },
    "id": "TLeukDeMYx1o",
    "outputId": "ac8aa1a4-c949-4823-f650-1c080cddc83d"
   },
   "outputs": [
    {
     "data": {
      "text/html": [
       "\n",
       "  <div id=\"df-822e45cc-a1db-4820-acc6-f988a188e821\">\n",
       "    <div class=\"colab-df-container\">\n",
       "      <div>\n",
       "<style scoped>\n",
       "    .dataframe tbody tr th:only-of-type {\n",
       "        vertical-align: middle;\n",
       "    }\n",
       "\n",
       "    .dataframe tbody tr th {\n",
       "        vertical-align: top;\n",
       "    }\n",
       "\n",
       "    .dataframe thead th {\n",
       "        text-align: right;\n",
       "    }\n",
       "</style>\n",
       "<table border=\"1\" class=\"dataframe\">\n",
       "  <thead>\n",
       "    <tr style=\"text-align: right;\">\n",
       "      <th></th>\n",
       "      <th>Review</th>\n",
       "      <th>prob</th>\n",
       "      <th>classes</th>\n",
       "    </tr>\n",
       "  </thead>\n",
       "  <tbody>\n",
       "    <tr>\n",
       "      <th>0</th>\n",
       "      <td>çok beğendim herkese tavsiye ederim</td>\n",
       "      <td>0.000518</td>\n",
       "      <td>0</td>\n",
       "    </tr>\n",
       "    <tr>\n",
       "      <th>1</th>\n",
       "      <td>süper ürün aynı gün elime geçti</td>\n",
       "      <td>0.000499</td>\n",
       "      <td>0</td>\n",
       "    </tr>\n",
       "    <tr>\n",
       "      <th>2</th>\n",
       "      <td>büyük bir hayal kırıklığı yaşadım bu ürünü bu markaya yakıştıramadım</td>\n",
       "      <td>0.988055</td>\n",
       "      <td>1</td>\n",
       "    </tr>\n",
       "    <tr>\n",
       "      <th>3</th>\n",
       "      <td>kelimelerle tarif edilemez</td>\n",
       "      <td>0.008707</td>\n",
       "      <td>0</td>\n",
       "    </tr>\n",
       "    <tr>\n",
       "      <th>4</th>\n",
       "      <td>tasarımı harika ancak kargo çok geç geldi ve ürün açılmıştı hayal kırıklığı gerçekten</td>\n",
       "      <td>0.329919</td>\n",
       "      <td>0</td>\n",
       "    </tr>\n",
       "    <tr>\n",
       "      <th>5</th>\n",
       "      <td>hiç resimde gösterildiği gibi değil</td>\n",
       "      <td>0.978516</td>\n",
       "      <td>1</td>\n",
       "    </tr>\n",
       "    <tr>\n",
       "      <th>6</th>\n",
       "      <td>kötü yorumlar gözümü korkutmuştu ancak hiçbir sorun yaşamadım teşekkürler</td>\n",
       "      <td>0.001119</td>\n",
       "      <td>0</td>\n",
       "    </tr>\n",
       "    <tr>\n",
       "      <th>7</th>\n",
       "      <td>hiç bu kadar kötü bir satıcıya denk gelmemiştim ürün siparişimi iptal ediyorum</td>\n",
       "      <td>0.992877</td>\n",
       "      <td>1</td>\n",
       "    </tr>\n",
       "    <tr>\n",
       "      <th>8</th>\n",
       "      <td>tam bir fiyat performans ürünü</td>\n",
       "      <td>0.000497</td>\n",
       "      <td>0</td>\n",
       "    </tr>\n",
       "    <tr>\n",
       "      <th>9</th>\n",
       "      <td>beklediğim gibi çıkmadı</td>\n",
       "      <td>0.976181</td>\n",
       "      <td>1</td>\n",
       "    </tr>\n",
       "    <tr>\n",
       "      <th>10</th>\n",
       "      <td>on numara beş yıldız</td>\n",
       "      <td>0.000512</td>\n",
       "      <td>0</td>\n",
       "    </tr>\n",
       "    <tr>\n",
       "      <th>11</th>\n",
       "      <td>bu kargoyu biran önce bırakın. yoksa üründe sıkıntı yok</td>\n",
       "      <td>0.283756</td>\n",
       "      <td>0</td>\n",
       "    </tr>\n",
       "    <tr>\n",
       "      <th>12</th>\n",
       "      <td>televizyonun görüntü kalitesi çok kötü, dün akşam evde arkadaşlarla toplandık. yedik, içtik, sohbet ettik. Sonra televizyonda Türkiye - İngiltere maçını seyrettik.</td>\n",
       "      <td>0.921262</td>\n",
       "      <td>1</td>\n",
       "    </tr>\n",
       "    <tr>\n",
       "      <th>13</th>\n",
       "      <td>1 gün gibi kısa bir sürede elime geçti. Ve bu fıyata süper bir ürün tavsiye ederim. Lakin eli büyük olan kişiler daha büyük modelini tercih edebilirler ortaboy ürün. Teşekkürler</td>\n",
       "      <td>0.014459</td>\n",
       "      <td>0</td>\n",
       "    </tr>\n",
       "    <tr>\n",
       "      <th>14</th>\n",
       "      <td>alınca anlarsın anyayı konyayı</td>\n",
       "      <td>0.050358</td>\n",
       "      <td>0</td>\n",
       "    </tr>\n",
       "    <tr>\n",
       "      <th>15</th>\n",
       "      <td>çöpe atacak paran varsa alabilirsin</td>\n",
       "      <td>0.323328</td>\n",
       "      <td>0</td>\n",
       "    </tr>\n",
       "    <tr>\n",
       "      <th>16</th>\n",
       "      <td>Telefon fena değil</td>\n",
       "      <td>0.424456</td>\n",
       "      <td>0</td>\n",
       "    </tr>\n",
       "    <tr>\n",
       "      <th>17</th>\n",
       "      <td>al da gününü gör</td>\n",
       "      <td>0.027200</td>\n",
       "      <td>0</td>\n",
       "    </tr>\n",
       "    <tr>\n",
       "      <th>18</th>\n",
       "      <td>Ürün süper ama satıcı ve kargo berbat</td>\n",
       "      <td>0.125899</td>\n",
       "      <td>0</td>\n",
       "    </tr>\n",
       "    <tr>\n",
       "      <th>19</th>\n",
       "      <td>kargo süper ama ürün berbat</td>\n",
       "      <td>0.754002</td>\n",
       "      <td>1</td>\n",
       "    </tr>\n",
       "    <tr>\n",
       "      <th>20</th>\n",
       "      <td>Aldigim TV cok kaliteli diye dusunmustum, sonradan cok da iyi bir TV olmadigini dusundum, ama neyse yine de memnunum.</td>\n",
       "      <td>0.029878</td>\n",
       "      <td>0</td>\n",
       "    </tr>\n",
       "    <tr>\n",
       "      <th>21</th>\n",
       "      <td>😊</td>\n",
       "      <td>0.355655</td>\n",
       "      <td>0</td>\n",
       "    </tr>\n",
       "    <tr>\n",
       "      <th>22</th>\n",
       "      <td>:)</td>\n",
       "      <td>0.008769</td>\n",
       "      <td>0</td>\n",
       "    </tr>\n",
       "    <tr>\n",
       "      <th>23</th>\n",
       "      <td>I ❤️ you</td>\n",
       "      <td>0.047392</td>\n",
       "      <td>0</td>\n",
       "    </tr>\n",
       "  </tbody>\n",
       "</table>\n",
       "</div>\n",
       "      <button class=\"colab-df-convert\" onclick=\"convertToInteractive('df-822e45cc-a1db-4820-acc6-f988a188e821')\"\n",
       "              title=\"Convert this dataframe to an interactive table.\"\n",
       "              style=\"display:none;\">\n",
       "        \n",
       "  <svg xmlns=\"http://www.w3.org/2000/svg\" height=\"24px\"viewBox=\"0 0 24 24\"\n",
       "       width=\"24px\">\n",
       "    <path d=\"M0 0h24v24H0V0z\" fill=\"none\"/>\n",
       "    <path d=\"M18.56 5.44l.94 2.06.94-2.06 2.06-.94-2.06-.94-.94-2.06-.94 2.06-2.06.94zm-11 1L8.5 8.5l.94-2.06 2.06-.94-2.06-.94L8.5 2.5l-.94 2.06-2.06.94zm10 10l.94 2.06.94-2.06 2.06-.94-2.06-.94-.94-2.06-.94 2.06-2.06.94z\"/><path d=\"M17.41 7.96l-1.37-1.37c-.4-.4-.92-.59-1.43-.59-.52 0-1.04.2-1.43.59L10.3 9.45l-7.72 7.72c-.78.78-.78 2.05 0 2.83L4 21.41c.39.39.9.59 1.41.59.51 0 1.02-.2 1.41-.59l7.78-7.78 2.81-2.81c.8-.78.8-2.07 0-2.86zM5.41 20L4 18.59l7.72-7.72 1.47 1.35L5.41 20z\"/>\n",
       "  </svg>\n",
       "      </button>\n",
       "      \n",
       "  <style>\n",
       "    .colab-df-container {\n",
       "      display:flex;\n",
       "      flex-wrap:wrap;\n",
       "      gap: 12px;\n",
       "    }\n",
       "\n",
       "    .colab-df-convert {\n",
       "      background-color: #E8F0FE;\n",
       "      border: none;\n",
       "      border-radius: 50%;\n",
       "      cursor: pointer;\n",
       "      display: none;\n",
       "      fill: #1967D2;\n",
       "      height: 32px;\n",
       "      padding: 0 0 0 0;\n",
       "      width: 32px;\n",
       "    }\n",
       "\n",
       "    .colab-df-convert:hover {\n",
       "      background-color: #E2EBFA;\n",
       "      box-shadow: 0px 1px 2px rgba(60, 64, 67, 0.3), 0px 1px 3px 1px rgba(60, 64, 67, 0.15);\n",
       "      fill: #174EA6;\n",
       "    }\n",
       "\n",
       "    [theme=dark] .colab-df-convert {\n",
       "      background-color: #3B4455;\n",
       "      fill: #D2E3FC;\n",
       "    }\n",
       "\n",
       "    [theme=dark] .colab-df-convert:hover {\n",
       "      background-color: #434B5C;\n",
       "      box-shadow: 0px 1px 3px 1px rgba(0, 0, 0, 0.15);\n",
       "      filter: drop-shadow(0px 1px 2px rgba(0, 0, 0, 0.3));\n",
       "      fill: #FFFFFF;\n",
       "    }\n",
       "  </style>\n",
       "\n",
       "      <script>\n",
       "        const buttonEl =\n",
       "          document.querySelector('#df-822e45cc-a1db-4820-acc6-f988a188e821 button.colab-df-convert');\n",
       "        buttonEl.style.display =\n",
       "          google.colab.kernel.accessAllowed ? 'block' : 'none';\n",
       "\n",
       "        async function convertToInteractive(key) {\n",
       "          const element = document.querySelector('#df-822e45cc-a1db-4820-acc6-f988a188e821');\n",
       "          const dataTable =\n",
       "            await google.colab.kernel.invokeFunction('convertToInteractive',\n",
       "                                                     [key], {});\n",
       "          if (!dataTable) return;\n",
       "\n",
       "          const docLinkHtml = 'Like what you see? Visit the ' +\n",
       "            '<a target=\"_blank\" href=https://colab.research.google.com/notebooks/data_table.ipynb>data table notebook</a>'\n",
       "            + ' to learn more about interactive tables.';\n",
       "          element.innerHTML = '';\n",
       "          dataTable['output_type'] = 'display_data';\n",
       "          await google.colab.output.renderOutput(dataTable, element);\n",
       "          const docLink = document.createElement('div');\n",
       "          docLink.innerHTML = docLinkHtml;\n",
       "          element.appendChild(docLink);\n",
       "        }\n",
       "      </script>\n",
       "    </div>\n",
       "  </div>\n",
       "  "
      ],
      "text/plain": [
       "                                                                                                                                                                                Review  \\\n",
       "0                                                                                                                                                  çok beğendim herkese tavsiye ederim   \n",
       "1                                                                                                                                                      süper ürün aynı gün elime geçti   \n",
       "2                                                                                                                 büyük bir hayal kırıklığı yaşadım bu ürünü bu markaya yakıştıramadım   \n",
       "3                                                                                                                                                           kelimelerle tarif edilemez   \n",
       "4                                                                                                tasarımı harika ancak kargo çok geç geldi ve ürün açılmıştı hayal kırıklığı gerçekten   \n",
       "5                                                                                                                                                  hiç resimde gösterildiği gibi değil   \n",
       "6                                                                                                            kötü yorumlar gözümü korkutmuştu ancak hiçbir sorun yaşamadım teşekkürler   \n",
       "7                                                                                                       hiç bu kadar kötü bir satıcıya denk gelmemiştim ürün siparişimi iptal ediyorum   \n",
       "8                                                                                                                                                       tam bir fiyat performans ürünü   \n",
       "9                                                                                                                                                              beklediğim gibi çıkmadı   \n",
       "10                                                                                                                                                                on numara beş yıldız   \n",
       "11                                                                                                                             bu kargoyu biran önce bırakın. yoksa üründe sıkıntı yok   \n",
       "12                televizyonun görüntü kalitesi çok kötü, dün akşam evde arkadaşlarla toplandık. yedik, içtik, sohbet ettik. Sonra televizyonda Türkiye - İngiltere maçını seyrettik.    \n",
       "13  1 gün gibi kısa bir sürede elime geçti. Ve bu fıyata süper bir ürün tavsiye ederim. Lakin eli büyük olan kişiler daha büyük modelini tercih edebilirler ortaboy ürün. Teşekkürler    \n",
       "14                                                                                                                                                      alınca anlarsın anyayı konyayı   \n",
       "15                                                                                                                                                 çöpe atacak paran varsa alabilirsin   \n",
       "16                                                                                                                                                                  Telefon fena değil   \n",
       "17                                                                                                                                                                    al da gününü gör   \n",
       "18                                                                                                                                               Ürün süper ama satıcı ve kargo berbat   \n",
       "19                                                                                                                                                         kargo süper ama ürün berbat   \n",
       "20                                                               Aldigim TV cok kaliteli diye dusunmustum, sonradan cok da iyi bir TV olmadigini dusundum, ama neyse yine de memnunum.   \n",
       "21                                                                                                                                                                                   😊   \n",
       "22                                                                                                                                                                                  :)   \n",
       "23                                                                                                                                                                            I ❤️ you   \n",
       "\n",
       "        prob  classes  \n",
       "0   0.000518        0  \n",
       "1   0.000499        0  \n",
       "2   0.988055        1  \n",
       "3   0.008707        0  \n",
       "4   0.329919        0  \n",
       "5   0.978516        1  \n",
       "6   0.001119        0  \n",
       "7   0.992877        1  \n",
       "8   0.000497        0  \n",
       "9   0.976181        1  \n",
       "10  0.000512        0  \n",
       "11  0.283756        0  \n",
       "12  0.921262        1  \n",
       "13  0.014459        0  \n",
       "14  0.050358        0  \n",
       "15  0.323328        0  \n",
       "16  0.424456        0  \n",
       "17  0.027200        0  \n",
       "18  0.125899        0  \n",
       "19  0.754002        1  \n",
       "20  0.029878        0  \n",
       "21  0.355655        0  \n",
       "22  0.008769        0  \n",
       "23  0.047392        0  "
      ]
     },
     "execution_count": 67,
     "metadata": {},
     "output_type": "execute_result"
    }
   ],
   "source": [
    "pd.set_option('display.max_colwidth', None)\n",
    "pd.DataFrame(my_dict)"
   ]
  }
 ],
 "metadata": {
  "accelerator": "TPU",
  "colab": {
   "collapsed_sections": [],
   "name": "NLP_5_(Fine_Tuning_For_BERT_models_with_TPU)_15_Jun_2022.ipynb",
   "provenance": []
  },
  "gpuClass": "standard",
  "kernelspec": {
   "display_name": "Python 3 (ipykernel)",
   "language": "python",
   "name": "python3"
  },
  "language_info": {
   "codemirror_mode": {
    "name": "ipython",
    "version": 3
   },
   "file_extension": ".py",
   "mimetype": "text/x-python",
   "name": "python",
   "nbconvert_exporter": "python",
   "pygments_lexer": "ipython3",
   "version": "3.8.13"
  },
  "widgets": {
   "application/vnd.jupyter.widget-state+json": {
    "0061854eb121471cbef7f501d9f042ec": {
     "model_module": "@jupyter-widgets/controls",
     "model_module_version": "1.5.0",
     "model_name": "HTMLModel",
     "state": {
      "_dom_classes": [],
      "_model_module": "@jupyter-widgets/controls",
      "_model_module_version": "1.5.0",
      "_model_name": "HTMLModel",
      "_view_count": null,
      "_view_module": "@jupyter-widgets/controls",
      "_view_module_version": "1.5.0",
      "_view_name": "HTMLView",
      "description": "",
      "description_tooltip": null,
      "layout": "IPY_MODEL_aa69ef2e7350414382742933fb2df1cf",
      "placeholder": "​",
      "style": "IPY_MODEL_f7894976d4bf456a9a34251b39b96306",
      "value": "Downloading: 100%"
     }
    },
    "019fce7dc48246ea831d00d3fd056abe": {
     "model_module": "@jupyter-widgets/controls",
     "model_module_version": "1.5.0",
     "model_name": "FloatProgressModel",
     "state": {
      "_dom_classes": [],
      "_model_module": "@jupyter-widgets/controls",
      "_model_module_version": "1.5.0",
      "_model_name": "FloatProgressModel",
      "_view_count": null,
      "_view_module": "@jupyter-widgets/controls",
      "_view_module_version": "1.5.0",
      "_view_name": "ProgressView",
      "bar_style": "success",
      "description": "",
      "description_tooltip": null,
      "layout": "IPY_MODEL_ece2840fff094fa6b4e45ec8eb711be4",
      "max": 545150592,
      "min": 0,
      "orientation": "horizontal",
      "style": "IPY_MODEL_93f053e64c8648a5aac68b23416cdfc7",
      "value": 545150592
     }
    },
    "02b9be57224f4660a667e82e52bdab87": {
     "model_module": "@jupyter-widgets/controls",
     "model_module_version": "1.5.0",
     "model_name": "HTMLModel",
     "state": {
      "_dom_classes": [],
      "_model_module": "@jupyter-widgets/controls",
      "_model_module_version": "1.5.0",
      "_model_name": "HTMLModel",
      "_view_count": null,
      "_view_module": "@jupyter-widgets/controls",
      "_view_module_version": "1.5.0",
      "_view_name": "HTMLView",
      "description": "",
      "description_tooltip": null,
      "layout": "IPY_MODEL_288c9b85a32a451a820cb8ccf0666d7a",
      "placeholder": "​",
      "style": "IPY_MODEL_64145f2fafee47c8acffe140006ba223",
      "value": "Downloading: 100%"
     }
    },
    "06b52bbf0d6d4157acbc7573893b90cd": {
     "model_module": "@jupyter-widgets/controls",
     "model_module_version": "1.5.0",
     "model_name": "HTMLModel",
     "state": {
      "_dom_classes": [],
      "_model_module": "@jupyter-widgets/controls",
      "_model_module_version": "1.5.0",
      "_model_name": "HTMLModel",
      "_view_count": null,
      "_view_module": "@jupyter-widgets/controls",
      "_view_module_version": "1.5.0",
      "_view_name": "HTMLView",
      "description": "",
      "description_tooltip": null,
      "layout": "IPY_MODEL_e496e8f37b0a45e0a61d59044b1556e2",
      "placeholder": "​",
      "style": "IPY_MODEL_314e6cd765d043c49e835fd647fa1748",
      "value": "Downloading: 100%"
     }
    },
    "1c93ba6339064ec188bc45e39ab04af3": {
     "model_module": "@jupyter-widgets/controls",
     "model_module_version": "1.5.0",
     "model_name": "DescriptionStyleModel",
     "state": {
      "_model_module": "@jupyter-widgets/controls",
      "_model_module_version": "1.5.0",
      "_model_name": "DescriptionStyleModel",
      "_view_count": null,
      "_view_module": "@jupyter-widgets/base",
      "_view_module_version": "1.2.0",
      "_view_name": "StyleView",
      "description_width": ""
     }
    },
    "1f60ff39526445a1b22f321aa8cfc938": {
     "model_module": "@jupyter-widgets/controls",
     "model_module_version": "1.5.0",
     "model_name": "ProgressStyleModel",
     "state": {
      "_model_module": "@jupyter-widgets/controls",
      "_model_module_version": "1.5.0",
      "_model_name": "ProgressStyleModel",
      "_view_count": null,
      "_view_module": "@jupyter-widgets/base",
      "_view_module_version": "1.2.0",
      "_view_name": "StyleView",
      "bar_color": null,
      "description_width": ""
     }
    },
    "2780b569b36f4a6ea0cbb627cb21dd34": {
     "model_module": "@jupyter-widgets/controls",
     "model_module_version": "1.5.0",
     "model_name": "FloatProgressModel",
     "state": {
      "_dom_classes": [],
      "_model_module": "@jupyter-widgets/controls",
      "_model_module_version": "1.5.0",
      "_model_name": "FloatProgressModel",
      "_view_count": null,
      "_view_module": "@jupyter-widgets/controls",
      "_view_module_version": "1.5.0",
      "_view_name": "ProgressView",
      "bar_style": "success",
      "description": "",
      "description_tooltip": null,
      "layout": "IPY_MODEL_c0fef81c3d13465baf5337dc1aa21f9f",
      "max": 60,
      "min": 0,
      "orientation": "horizontal",
      "style": "IPY_MODEL_1f60ff39526445a1b22f321aa8cfc938",
      "value": 60
     }
    },
    "288c9b85a32a451a820cb8ccf0666d7a": {
     "model_module": "@jupyter-widgets/base",
     "model_module_version": "1.2.0",
     "model_name": "LayoutModel",
     "state": {
      "_model_module": "@jupyter-widgets/base",
      "_model_module_version": "1.2.0",
      "_model_name": "LayoutModel",
      "_view_count": null,
      "_view_module": "@jupyter-widgets/base",
      "_view_module_version": "1.2.0",
      "_view_name": "LayoutView",
      "align_content": null,
      "align_items": null,
      "align_self": null,
      "border": null,
      "bottom": null,
      "display": null,
      "flex": null,
      "flex_flow": null,
      "grid_area": null,
      "grid_auto_columns": null,
      "grid_auto_flow": null,
      "grid_auto_rows": null,
      "grid_column": null,
      "grid_gap": null,
      "grid_row": null,
      "grid_template_areas": null,
      "grid_template_columns": null,
      "grid_template_rows": null,
      "height": null,
      "justify_content": null,
      "justify_items": null,
      "left": null,
      "margin": null,
      "max_height": null,
      "max_width": null,
      "min_height": null,
      "min_width": null,
      "object_fit": null,
      "object_position": null,
      "order": null,
      "overflow": null,
      "overflow_x": null,
      "overflow_y": null,
      "padding": null,
      "right": null,
      "top": null,
      "visibility": null,
      "width": null
     }
    },
    "29acc46735f545ccbe10049f771a87e7": {
     "model_module": "@jupyter-widgets/controls",
     "model_module_version": "1.5.0",
     "model_name": "HBoxModel",
     "state": {
      "_dom_classes": [],
      "_model_module": "@jupyter-widgets/controls",
      "_model_module_version": "1.5.0",
      "_model_name": "HBoxModel",
      "_view_count": null,
      "_view_module": "@jupyter-widgets/controls",
      "_view_module_version": "1.5.0",
      "_view_name": "HBoxView",
      "box_style": "",
      "children": [
       "IPY_MODEL_06b52bbf0d6d4157acbc7573893b90cd",
       "IPY_MODEL_9ff658c5211143868ad3ba2f13b8f50e",
       "IPY_MODEL_8ad6268b403c42278623ae95dee641a5"
      ],
      "layout": "IPY_MODEL_a3ba0254f4b6428b8ccc275230706127"
     }
    },
    "2fd4d8bbd984420a84a4696e5f5a0771": {
     "model_module": "@jupyter-widgets/controls",
     "model_module_version": "1.5.0",
     "model_name": "HBoxModel",
     "state": {
      "_dom_classes": [],
      "_model_module": "@jupyter-widgets/controls",
      "_model_module_version": "1.5.0",
      "_model_name": "HBoxModel",
      "_view_count": null,
      "_view_module": "@jupyter-widgets/controls",
      "_view_module_version": "1.5.0",
      "_view_name": "HBoxView",
      "box_style": "",
      "children": [
       "IPY_MODEL_0061854eb121471cbef7f501d9f042ec",
       "IPY_MODEL_019fce7dc48246ea831d00d3fd056abe",
       "IPY_MODEL_32c9233e21024766894dde879795293b"
      ],
      "layout": "IPY_MODEL_c62d3694eed945a1acd17d4d0919422e"
     }
    },
    "30cd9f7ab9ff40dc9b609dba8679a6c5": {
     "model_module": "@jupyter-widgets/base",
     "model_module_version": "1.2.0",
     "model_name": "LayoutModel",
     "state": {
      "_model_module": "@jupyter-widgets/base",
      "_model_module_version": "1.2.0",
      "_model_name": "LayoutModel",
      "_view_count": null,
      "_view_module": "@jupyter-widgets/base",
      "_view_module_version": "1.2.0",
      "_view_name": "LayoutView",
      "align_content": null,
      "align_items": null,
      "align_self": null,
      "border": null,
      "bottom": null,
      "display": null,
      "flex": null,
      "flex_flow": null,
      "grid_area": null,
      "grid_auto_columns": null,
      "grid_auto_flow": null,
      "grid_auto_rows": null,
      "grid_column": null,
      "grid_gap": null,
      "grid_row": null,
      "grid_template_areas": null,
      "grid_template_columns": null,
      "grid_template_rows": null,
      "height": null,
      "justify_content": null,
      "justify_items": null,
      "left": null,
      "margin": null,
      "max_height": null,
      "max_width": null,
      "min_height": null,
      "min_width": null,
      "object_fit": null,
      "object_position": null,
      "order": null,
      "overflow": null,
      "overflow_x": null,
      "overflow_y": null,
      "padding": null,
      "right": null,
      "top": null,
      "visibility": null,
      "width": null
     }
    },
    "314e6cd765d043c49e835fd647fa1748": {
     "model_module": "@jupyter-widgets/controls",
     "model_module_version": "1.5.0",
     "model_name": "DescriptionStyleModel",
     "state": {
      "_model_module": "@jupyter-widgets/controls",
      "_model_module_version": "1.5.0",
      "_model_name": "DescriptionStyleModel",
      "_view_count": null,
      "_view_module": "@jupyter-widgets/base",
      "_view_module_version": "1.2.0",
      "_view_name": "StyleView",
      "description_width": ""
     }
    },
    "32c9233e21024766894dde879795293b": {
     "model_module": "@jupyter-widgets/controls",
     "model_module_version": "1.5.0",
     "model_name": "HTMLModel",
     "state": {
      "_dom_classes": [],
      "_model_module": "@jupyter-widgets/controls",
      "_model_module_version": "1.5.0",
      "_model_name": "HTMLModel",
      "_view_count": null,
      "_view_module": "@jupyter-widgets/controls",
      "_view_module_version": "1.5.0",
      "_view_name": "HTMLView",
      "description": "",
      "description_tooltip": null,
      "layout": "IPY_MODEL_84233a7e269f41bea718db407ec72e19",
      "placeholder": "​",
      "style": "IPY_MODEL_d2277987129d434294f6c969b1ecdd7e",
      "value": " 520M/520M [00:12&lt;00:00, 47.3MB/s]"
     }
    },
    "41466058e3f142dcbe2176cb02321d4f": {
     "model_module": "@jupyter-widgets/controls",
     "model_module_version": "1.5.0",
     "model_name": "HTMLModel",
     "state": {
      "_dom_classes": [],
      "_model_module": "@jupyter-widgets/controls",
      "_model_module_version": "1.5.0",
      "_model_name": "HTMLModel",
      "_view_count": null,
      "_view_module": "@jupyter-widgets/controls",
      "_view_module_version": "1.5.0",
      "_view_name": "HTMLView",
      "description": "",
      "description_tooltip": null,
      "layout": "IPY_MODEL_7cd5614129b547f2845f1c4ddce3d514",
      "placeholder": "​",
      "style": "IPY_MODEL_cbb5d437c0cb4abc9240a83931663d8c",
      "value": " 385/385 [00:00&lt;00:00, 9.65kB/s]"
     }
    },
    "417a149771b841cdab55a87403855640": {
     "model_module": "@jupyter-widgets/controls",
     "model_module_version": "1.5.0",
     "model_name": "ProgressStyleModel",
     "state": {
      "_model_module": "@jupyter-widgets/controls",
      "_model_module_version": "1.5.0",
      "_model_name": "ProgressStyleModel",
      "_view_count": null,
      "_view_module": "@jupyter-widgets/base",
      "_view_module_version": "1.2.0",
      "_view_name": "StyleView",
      "bar_color": null,
      "description_width": ""
     }
    },
    "4fecf212d9d649b389eb3a333aeb716a": {
     "model_module": "@jupyter-widgets/controls",
     "model_module_version": "1.5.0",
     "model_name": "DescriptionStyleModel",
     "state": {
      "_model_module": "@jupyter-widgets/controls",
      "_model_module_version": "1.5.0",
      "_model_name": "DescriptionStyleModel",
      "_view_count": null,
      "_view_module": "@jupyter-widgets/base",
      "_view_module_version": "1.2.0",
      "_view_name": "StyleView",
      "description_width": ""
     }
    },
    "507362c331464ca0ab9061276afb07e9": {
     "model_module": "@jupyter-widgets/controls",
     "model_module_version": "1.5.0",
     "model_name": "FloatProgressModel",
     "state": {
      "_dom_classes": [],
      "_model_module": "@jupyter-widgets/controls",
      "_model_module_version": "1.5.0",
      "_model_name": "FloatProgressModel",
      "_view_count": null,
      "_view_module": "@jupyter-widgets/controls",
      "_view_module_version": "1.5.0",
      "_view_name": "ProgressView",
      "bar_style": "success",
      "description": "",
      "description_tooltip": null,
      "layout": "IPY_MODEL_a8f6a8e1b46c4094881d3b56041ff380",
      "max": 385,
      "min": 0,
      "orientation": "horizontal",
      "style": "IPY_MODEL_417a149771b841cdab55a87403855640",
      "value": 385
     }
    },
    "523a8d71834e4d30a51abd39a0b5fa26": {
     "model_module": "@jupyter-widgets/controls",
     "model_module_version": "1.5.0",
     "model_name": "HTMLModel",
     "state": {
      "_dom_classes": [],
      "_model_module": "@jupyter-widgets/controls",
      "_model_module_version": "1.5.0",
      "_model_name": "HTMLModel",
      "_view_count": null,
      "_view_module": "@jupyter-widgets/controls",
      "_view_module_version": "1.5.0",
      "_view_name": "HTMLView",
      "description": "",
      "description_tooltip": null,
      "layout": "IPY_MODEL_68cbca12cd85407f8af6bea81c2a945d",
      "placeholder": "​",
      "style": "IPY_MODEL_4fecf212d9d649b389eb3a333aeb716a",
      "value": " 60.0/60.0 [00:00&lt;00:00, 862B/s]"
     }
    },
    "6301b20c4a2943ec87a7bce37675b214": {
     "model_module": "@jupyter-widgets/controls",
     "model_module_version": "1.5.0",
     "model_name": "DescriptionStyleModel",
     "state": {
      "_model_module": "@jupyter-widgets/controls",
      "_model_module_version": "1.5.0",
      "_model_name": "DescriptionStyleModel",
      "_view_count": null,
      "_view_module": "@jupyter-widgets/base",
      "_view_module_version": "1.2.0",
      "_view_name": "StyleView",
      "description_width": ""
     }
    },
    "64145f2fafee47c8acffe140006ba223": {
     "model_module": "@jupyter-widgets/controls",
     "model_module_version": "1.5.0",
     "model_name": "DescriptionStyleModel",
     "state": {
      "_model_module": "@jupyter-widgets/controls",
      "_model_module_version": "1.5.0",
      "_model_name": "DescriptionStyleModel",
      "_view_count": null,
      "_view_module": "@jupyter-widgets/base",
      "_view_module_version": "1.2.0",
      "_view_name": "StyleView",
      "description_width": ""
     }
    },
    "68cbca12cd85407f8af6bea81c2a945d": {
     "model_module": "@jupyter-widgets/base",
     "model_module_version": "1.2.0",
     "model_name": "LayoutModel",
     "state": {
      "_model_module": "@jupyter-widgets/base",
      "_model_module_version": "1.2.0",
      "_model_name": "LayoutModel",
      "_view_count": null,
      "_view_module": "@jupyter-widgets/base",
      "_view_module_version": "1.2.0",
      "_view_name": "LayoutView",
      "align_content": null,
      "align_items": null,
      "align_self": null,
      "border": null,
      "bottom": null,
      "display": null,
      "flex": null,
      "flex_flow": null,
      "grid_area": null,
      "grid_auto_columns": null,
      "grid_auto_flow": null,
      "grid_auto_rows": null,
      "grid_column": null,
      "grid_gap": null,
      "grid_row": null,
      "grid_template_areas": null,
      "grid_template_columns": null,
      "grid_template_rows": null,
      "height": null,
      "justify_content": null,
      "justify_items": null,
      "left": null,
      "margin": null,
      "max_height": null,
      "max_width": null,
      "min_height": null,
      "min_width": null,
      "object_fit": null,
      "object_position": null,
      "order": null,
      "overflow": null,
      "overflow_x": null,
      "overflow_y": null,
      "padding": null,
      "right": null,
      "top": null,
      "visibility": null,
      "width": null
     }
    },
    "6ae0d7b534f54fd8a40ffa0f6fb99f1e": {
     "model_module": "@jupyter-widgets/base",
     "model_module_version": "1.2.0",
     "model_name": "LayoutModel",
     "state": {
      "_model_module": "@jupyter-widgets/base",
      "_model_module_version": "1.2.0",
      "_model_name": "LayoutModel",
      "_view_count": null,
      "_view_module": "@jupyter-widgets/base",
      "_view_module_version": "1.2.0",
      "_view_name": "LayoutView",
      "align_content": null,
      "align_items": null,
      "align_self": null,
      "border": null,
      "bottom": null,
      "display": null,
      "flex": null,
      "flex_flow": null,
      "grid_area": null,
      "grid_auto_columns": null,
      "grid_auto_flow": null,
      "grid_auto_rows": null,
      "grid_column": null,
      "grid_gap": null,
      "grid_row": null,
      "grid_template_areas": null,
      "grid_template_columns": null,
      "grid_template_rows": null,
      "height": null,
      "justify_content": null,
      "justify_items": null,
      "left": null,
      "margin": null,
      "max_height": null,
      "max_width": null,
      "min_height": null,
      "min_width": null,
      "object_fit": null,
      "object_position": null,
      "order": null,
      "overflow": null,
      "overflow_x": null,
      "overflow_y": null,
      "padding": null,
      "right": null,
      "top": null,
      "visibility": null,
      "width": null
     }
    },
    "7718b2b1439e4fcbae97b85571300847": {
     "model_module": "@jupyter-widgets/base",
     "model_module_version": "1.2.0",
     "model_name": "LayoutModel",
     "state": {
      "_model_module": "@jupyter-widgets/base",
      "_model_module_version": "1.2.0",
      "_model_name": "LayoutModel",
      "_view_count": null,
      "_view_module": "@jupyter-widgets/base",
      "_view_module_version": "1.2.0",
      "_view_name": "LayoutView",
      "align_content": null,
      "align_items": null,
      "align_self": null,
      "border": null,
      "bottom": null,
      "display": null,
      "flex": null,
      "flex_flow": null,
      "grid_area": null,
      "grid_auto_columns": null,
      "grid_auto_flow": null,
      "grid_auto_rows": null,
      "grid_column": null,
      "grid_gap": null,
      "grid_row": null,
      "grid_template_areas": null,
      "grid_template_columns": null,
      "grid_template_rows": null,
      "height": null,
      "justify_content": null,
      "justify_items": null,
      "left": null,
      "margin": null,
      "max_height": null,
      "max_width": null,
      "min_height": null,
      "min_width": null,
      "object_fit": null,
      "object_position": null,
      "order": null,
      "overflow": null,
      "overflow_x": null,
      "overflow_y": null,
      "padding": null,
      "right": null,
      "top": null,
      "visibility": null,
      "width": null
     }
    },
    "7cd5614129b547f2845f1c4ddce3d514": {
     "model_module": "@jupyter-widgets/base",
     "model_module_version": "1.2.0",
     "model_name": "LayoutModel",
     "state": {
      "_model_module": "@jupyter-widgets/base",
      "_model_module_version": "1.2.0",
      "_model_name": "LayoutModel",
      "_view_count": null,
      "_view_module": "@jupyter-widgets/base",
      "_view_module_version": "1.2.0",
      "_view_name": "LayoutView",
      "align_content": null,
      "align_items": null,
      "align_self": null,
      "border": null,
      "bottom": null,
      "display": null,
      "flex": null,
      "flex_flow": null,
      "grid_area": null,
      "grid_auto_columns": null,
      "grid_auto_flow": null,
      "grid_auto_rows": null,
      "grid_column": null,
      "grid_gap": null,
      "grid_row": null,
      "grid_template_areas": null,
      "grid_template_columns": null,
      "grid_template_rows": null,
      "height": null,
      "justify_content": null,
      "justify_items": null,
      "left": null,
      "margin": null,
      "max_height": null,
      "max_width": null,
      "min_height": null,
      "min_width": null,
      "object_fit": null,
      "object_position": null,
      "order": null,
      "overflow": null,
      "overflow_x": null,
      "overflow_y": null,
      "padding": null,
      "right": null,
      "top": null,
      "visibility": null,
      "width": null
     }
    },
    "80361c8aafd643dc8b87d9afeb1f674d": {
     "model_module": "@jupyter-widgets/controls",
     "model_module_version": "1.5.0",
     "model_name": "HBoxModel",
     "state": {
      "_dom_classes": [],
      "_model_module": "@jupyter-widgets/controls",
      "_model_module_version": "1.5.0",
      "_model_name": "HBoxModel",
      "_view_count": null,
      "_view_module": "@jupyter-widgets/controls",
      "_view_module_version": "1.5.0",
      "_view_name": "HBoxView",
      "box_style": "",
      "children": [
       "IPY_MODEL_02b9be57224f4660a667e82e52bdab87",
       "IPY_MODEL_507362c331464ca0ab9061276afb07e9",
       "IPY_MODEL_41466058e3f142dcbe2176cb02321d4f"
      ],
      "layout": "IPY_MODEL_eab95a3f0ad3464d9f4995fe3007a87e"
     }
    },
    "83c2031b89d848eba91538a3fdb68f4b": {
     "model_module": "@jupyter-widgets/controls",
     "model_module_version": "1.5.0",
     "model_name": "HTMLModel",
     "state": {
      "_dom_classes": [],
      "_model_module": "@jupyter-widgets/controls",
      "_model_module_version": "1.5.0",
      "_model_name": "HTMLModel",
      "_view_count": null,
      "_view_module": "@jupyter-widgets/controls",
      "_view_module_version": "1.5.0",
      "_view_name": "HTMLView",
      "description": "",
      "description_tooltip": null,
      "layout": "IPY_MODEL_6ae0d7b534f54fd8a40ffa0f6fb99f1e",
      "placeholder": "​",
      "style": "IPY_MODEL_6301b20c4a2943ec87a7bce37675b214",
      "value": "Downloading: 100%"
     }
    },
    "84233a7e269f41bea718db407ec72e19": {
     "model_module": "@jupyter-widgets/base",
     "model_module_version": "1.2.0",
     "model_name": "LayoutModel",
     "state": {
      "_model_module": "@jupyter-widgets/base",
      "_model_module_version": "1.2.0",
      "_model_name": "LayoutModel",
      "_view_count": null,
      "_view_module": "@jupyter-widgets/base",
      "_view_module_version": "1.2.0",
      "_view_name": "LayoutView",
      "align_content": null,
      "align_items": null,
      "align_self": null,
      "border": null,
      "bottom": null,
      "display": null,
      "flex": null,
      "flex_flow": null,
      "grid_area": null,
      "grid_auto_columns": null,
      "grid_auto_flow": null,
      "grid_auto_rows": null,
      "grid_column": null,
      "grid_gap": null,
      "grid_row": null,
      "grid_template_areas": null,
      "grid_template_columns": null,
      "grid_template_rows": null,
      "height": null,
      "justify_content": null,
      "justify_items": null,
      "left": null,
      "margin": null,
      "max_height": null,
      "max_width": null,
      "min_height": null,
      "min_width": null,
      "object_fit": null,
      "object_position": null,
      "order": null,
      "overflow": null,
      "overflow_x": null,
      "overflow_y": null,
      "padding": null,
      "right": null,
      "top": null,
      "visibility": null,
      "width": null
     }
    },
    "8ad6268b403c42278623ae95dee641a5": {
     "model_module": "@jupyter-widgets/controls",
     "model_module_version": "1.5.0",
     "model_name": "HTMLModel",
     "state": {
      "_dom_classes": [],
      "_model_module": "@jupyter-widgets/controls",
      "_model_module_version": "1.5.0",
      "_model_name": "HTMLModel",
      "_view_count": null,
      "_view_module": "@jupyter-widgets/controls",
      "_view_module_version": "1.5.0",
      "_view_name": "HTMLView",
      "description": "",
      "description_tooltip": null,
      "layout": "IPY_MODEL_7718b2b1439e4fcbae97b85571300847",
      "placeholder": "​",
      "style": "IPY_MODEL_1c93ba6339064ec188bc45e39ab04af3",
      "value": " 245k/245k [00:00&lt;00:00, 1.33MB/s]"
     }
    },
    "93f053e64c8648a5aac68b23416cdfc7": {
     "model_module": "@jupyter-widgets/controls",
     "model_module_version": "1.5.0",
     "model_name": "ProgressStyleModel",
     "state": {
      "_model_module": "@jupyter-widgets/controls",
      "_model_module_version": "1.5.0",
      "_model_name": "ProgressStyleModel",
      "_view_count": null,
      "_view_module": "@jupyter-widgets/base",
      "_view_module_version": "1.2.0",
      "_view_name": "StyleView",
      "bar_color": null,
      "description_width": ""
     }
    },
    "9ff658c5211143868ad3ba2f13b8f50e": {
     "model_module": "@jupyter-widgets/controls",
     "model_module_version": "1.5.0",
     "model_name": "FloatProgressModel",
     "state": {
      "_dom_classes": [],
      "_model_module": "@jupyter-widgets/controls",
      "_model_module_version": "1.5.0",
      "_model_name": "FloatProgressModel",
      "_view_count": null,
      "_view_module": "@jupyter-widgets/controls",
      "_view_module_version": "1.5.0",
      "_view_name": "ProgressView",
      "bar_style": "success",
      "description": "",
      "description_tooltip": null,
      "layout": "IPY_MODEL_30cd9f7ab9ff40dc9b609dba8679a6c5",
      "max": 251003,
      "min": 0,
      "orientation": "horizontal",
      "style": "IPY_MODEL_d13587b6db974e32adf49916683c5927",
      "value": 251003
     }
    },
    "a3ba0254f4b6428b8ccc275230706127": {
     "model_module": "@jupyter-widgets/base",
     "model_module_version": "1.2.0",
     "model_name": "LayoutModel",
     "state": {
      "_model_module": "@jupyter-widgets/base",
      "_model_module_version": "1.2.0",
      "_model_name": "LayoutModel",
      "_view_count": null,
      "_view_module": "@jupyter-widgets/base",
      "_view_module_version": "1.2.0",
      "_view_name": "LayoutView",
      "align_content": null,
      "align_items": null,
      "align_self": null,
      "border": null,
      "bottom": null,
      "display": null,
      "flex": null,
      "flex_flow": null,
      "grid_area": null,
      "grid_auto_columns": null,
      "grid_auto_flow": null,
      "grid_auto_rows": null,
      "grid_column": null,
      "grid_gap": null,
      "grid_row": null,
      "grid_template_areas": null,
      "grid_template_columns": null,
      "grid_template_rows": null,
      "height": null,
      "justify_content": null,
      "justify_items": null,
      "left": null,
      "margin": null,
      "max_height": null,
      "max_width": null,
      "min_height": null,
      "min_width": null,
      "object_fit": null,
      "object_position": null,
      "order": null,
      "overflow": null,
      "overflow_x": null,
      "overflow_y": null,
      "padding": null,
      "right": null,
      "top": null,
      "visibility": null,
      "width": null
     }
    },
    "a8f6a8e1b46c4094881d3b56041ff380": {
     "model_module": "@jupyter-widgets/base",
     "model_module_version": "1.2.0",
     "model_name": "LayoutModel",
     "state": {
      "_model_module": "@jupyter-widgets/base",
      "_model_module_version": "1.2.0",
      "_model_name": "LayoutModel",
      "_view_count": null,
      "_view_module": "@jupyter-widgets/base",
      "_view_module_version": "1.2.0",
      "_view_name": "LayoutView",
      "align_content": null,
      "align_items": null,
      "align_self": null,
      "border": null,
      "bottom": null,
      "display": null,
      "flex": null,
      "flex_flow": null,
      "grid_area": null,
      "grid_auto_columns": null,
      "grid_auto_flow": null,
      "grid_auto_rows": null,
      "grid_column": null,
      "grid_gap": null,
      "grid_row": null,
      "grid_template_areas": null,
      "grid_template_columns": null,
      "grid_template_rows": null,
      "height": null,
      "justify_content": null,
      "justify_items": null,
      "left": null,
      "margin": null,
      "max_height": null,
      "max_width": null,
      "min_height": null,
      "min_width": null,
      "object_fit": null,
      "object_position": null,
      "order": null,
      "overflow": null,
      "overflow_x": null,
      "overflow_y": null,
      "padding": null,
      "right": null,
      "top": null,
      "visibility": null,
      "width": null
     }
    },
    "aa69ef2e7350414382742933fb2df1cf": {
     "model_module": "@jupyter-widgets/base",
     "model_module_version": "1.2.0",
     "model_name": "LayoutModel",
     "state": {
      "_model_module": "@jupyter-widgets/base",
      "_model_module_version": "1.2.0",
      "_model_name": "LayoutModel",
      "_view_count": null,
      "_view_module": "@jupyter-widgets/base",
      "_view_module_version": "1.2.0",
      "_view_name": "LayoutView",
      "align_content": null,
      "align_items": null,
      "align_self": null,
      "border": null,
      "bottom": null,
      "display": null,
      "flex": null,
      "flex_flow": null,
      "grid_area": null,
      "grid_auto_columns": null,
      "grid_auto_flow": null,
      "grid_auto_rows": null,
      "grid_column": null,
      "grid_gap": null,
      "grid_row": null,
      "grid_template_areas": null,
      "grid_template_columns": null,
      "grid_template_rows": null,
      "height": null,
      "justify_content": null,
      "justify_items": null,
      "left": null,
      "margin": null,
      "max_height": null,
      "max_width": null,
      "min_height": null,
      "min_width": null,
      "object_fit": null,
      "object_position": null,
      "order": null,
      "overflow": null,
      "overflow_x": null,
      "overflow_y": null,
      "padding": null,
      "right": null,
      "top": null,
      "visibility": null,
      "width": null
     }
    },
    "c0fef81c3d13465baf5337dc1aa21f9f": {
     "model_module": "@jupyter-widgets/base",
     "model_module_version": "1.2.0",
     "model_name": "LayoutModel",
     "state": {
      "_model_module": "@jupyter-widgets/base",
      "_model_module_version": "1.2.0",
      "_model_name": "LayoutModel",
      "_view_count": null,
      "_view_module": "@jupyter-widgets/base",
      "_view_module_version": "1.2.0",
      "_view_name": "LayoutView",
      "align_content": null,
      "align_items": null,
      "align_self": null,
      "border": null,
      "bottom": null,
      "display": null,
      "flex": null,
      "flex_flow": null,
      "grid_area": null,
      "grid_auto_columns": null,
      "grid_auto_flow": null,
      "grid_auto_rows": null,
      "grid_column": null,
      "grid_gap": null,
      "grid_row": null,
      "grid_template_areas": null,
      "grid_template_columns": null,
      "grid_template_rows": null,
      "height": null,
      "justify_content": null,
      "justify_items": null,
      "left": null,
      "margin": null,
      "max_height": null,
      "max_width": null,
      "min_height": null,
      "min_width": null,
      "object_fit": null,
      "object_position": null,
      "order": null,
      "overflow": null,
      "overflow_x": null,
      "overflow_y": null,
      "padding": null,
      "right": null,
      "top": null,
      "visibility": null,
      "width": null
     }
    },
    "c62d3694eed945a1acd17d4d0919422e": {
     "model_module": "@jupyter-widgets/base",
     "model_module_version": "1.2.0",
     "model_name": "LayoutModel",
     "state": {
      "_model_module": "@jupyter-widgets/base",
      "_model_module_version": "1.2.0",
      "_model_name": "LayoutModel",
      "_view_count": null,
      "_view_module": "@jupyter-widgets/base",
      "_view_module_version": "1.2.0",
      "_view_name": "LayoutView",
      "align_content": null,
      "align_items": null,
      "align_self": null,
      "border": null,
      "bottom": null,
      "display": null,
      "flex": null,
      "flex_flow": null,
      "grid_area": null,
      "grid_auto_columns": null,
      "grid_auto_flow": null,
      "grid_auto_rows": null,
      "grid_column": null,
      "grid_gap": null,
      "grid_row": null,
      "grid_template_areas": null,
      "grid_template_columns": null,
      "grid_template_rows": null,
      "height": null,
      "justify_content": null,
      "justify_items": null,
      "left": null,
      "margin": null,
      "max_height": null,
      "max_width": null,
      "min_height": null,
      "min_width": null,
      "object_fit": null,
      "object_position": null,
      "order": null,
      "overflow": null,
      "overflow_x": null,
      "overflow_y": null,
      "padding": null,
      "right": null,
      "top": null,
      "visibility": null,
      "width": null
     }
    },
    "c8ebfa83915c4416b03defb947bea7f6": {
     "model_module": "@jupyter-widgets/base",
     "model_module_version": "1.2.0",
     "model_name": "LayoutModel",
     "state": {
      "_model_module": "@jupyter-widgets/base",
      "_model_module_version": "1.2.0",
      "_model_name": "LayoutModel",
      "_view_count": null,
      "_view_module": "@jupyter-widgets/base",
      "_view_module_version": "1.2.0",
      "_view_name": "LayoutView",
      "align_content": null,
      "align_items": null,
      "align_self": null,
      "border": null,
      "bottom": null,
      "display": null,
      "flex": null,
      "flex_flow": null,
      "grid_area": null,
      "grid_auto_columns": null,
      "grid_auto_flow": null,
      "grid_auto_rows": null,
      "grid_column": null,
      "grid_gap": null,
      "grid_row": null,
      "grid_template_areas": null,
      "grid_template_columns": null,
      "grid_template_rows": null,
      "height": null,
      "justify_content": null,
      "justify_items": null,
      "left": null,
      "margin": null,
      "max_height": null,
      "max_width": null,
      "min_height": null,
      "min_width": null,
      "object_fit": null,
      "object_position": null,
      "order": null,
      "overflow": null,
      "overflow_x": null,
      "overflow_y": null,
      "padding": null,
      "right": null,
      "top": null,
      "visibility": null,
      "width": null
     }
    },
    "cbb5d437c0cb4abc9240a83931663d8c": {
     "model_module": "@jupyter-widgets/controls",
     "model_module_version": "1.5.0",
     "model_name": "DescriptionStyleModel",
     "state": {
      "_model_module": "@jupyter-widgets/controls",
      "_model_module_version": "1.5.0",
      "_model_name": "DescriptionStyleModel",
      "_view_count": null,
      "_view_module": "@jupyter-widgets/base",
      "_view_module_version": "1.2.0",
      "_view_name": "StyleView",
      "description_width": ""
     }
    },
    "d13587b6db974e32adf49916683c5927": {
     "model_module": "@jupyter-widgets/controls",
     "model_module_version": "1.5.0",
     "model_name": "ProgressStyleModel",
     "state": {
      "_model_module": "@jupyter-widgets/controls",
      "_model_module_version": "1.5.0",
      "_model_name": "ProgressStyleModel",
      "_view_count": null,
      "_view_module": "@jupyter-widgets/base",
      "_view_module_version": "1.2.0",
      "_view_name": "StyleView",
      "bar_color": null,
      "description_width": ""
     }
    },
    "d2277987129d434294f6c969b1ecdd7e": {
     "model_module": "@jupyter-widgets/controls",
     "model_module_version": "1.5.0",
     "model_name": "DescriptionStyleModel",
     "state": {
      "_model_module": "@jupyter-widgets/controls",
      "_model_module_version": "1.5.0",
      "_model_name": "DescriptionStyleModel",
      "_view_count": null,
      "_view_module": "@jupyter-widgets/base",
      "_view_module_version": "1.2.0",
      "_view_name": "StyleView",
      "description_width": ""
     }
    },
    "e496e8f37b0a45e0a61d59044b1556e2": {
     "model_module": "@jupyter-widgets/base",
     "model_module_version": "1.2.0",
     "model_name": "LayoutModel",
     "state": {
      "_model_module": "@jupyter-widgets/base",
      "_model_module_version": "1.2.0",
      "_model_name": "LayoutModel",
      "_view_count": null,
      "_view_module": "@jupyter-widgets/base",
      "_view_module_version": "1.2.0",
      "_view_name": "LayoutView",
      "align_content": null,
      "align_items": null,
      "align_self": null,
      "border": null,
      "bottom": null,
      "display": null,
      "flex": null,
      "flex_flow": null,
      "grid_area": null,
      "grid_auto_columns": null,
      "grid_auto_flow": null,
      "grid_auto_rows": null,
      "grid_column": null,
      "grid_gap": null,
      "grid_row": null,
      "grid_template_areas": null,
      "grid_template_columns": null,
      "grid_template_rows": null,
      "height": null,
      "justify_content": null,
      "justify_items": null,
      "left": null,
      "margin": null,
      "max_height": null,
      "max_width": null,
      "min_height": null,
      "min_width": null,
      "object_fit": null,
      "object_position": null,
      "order": null,
      "overflow": null,
      "overflow_x": null,
      "overflow_y": null,
      "padding": null,
      "right": null,
      "top": null,
      "visibility": null,
      "width": null
     }
    },
    "eab95a3f0ad3464d9f4995fe3007a87e": {
     "model_module": "@jupyter-widgets/base",
     "model_module_version": "1.2.0",
     "model_name": "LayoutModel",
     "state": {
      "_model_module": "@jupyter-widgets/base",
      "_model_module_version": "1.2.0",
      "_model_name": "LayoutModel",
      "_view_count": null,
      "_view_module": "@jupyter-widgets/base",
      "_view_module_version": "1.2.0",
      "_view_name": "LayoutView",
      "align_content": null,
      "align_items": null,
      "align_self": null,
      "border": null,
      "bottom": null,
      "display": null,
      "flex": null,
      "flex_flow": null,
      "grid_area": null,
      "grid_auto_columns": null,
      "grid_auto_flow": null,
      "grid_auto_rows": null,
      "grid_column": null,
      "grid_gap": null,
      "grid_row": null,
      "grid_template_areas": null,
      "grid_template_columns": null,
      "grid_template_rows": null,
      "height": null,
      "justify_content": null,
      "justify_items": null,
      "left": null,
      "margin": null,
      "max_height": null,
      "max_width": null,
      "min_height": null,
      "min_width": null,
      "object_fit": null,
      "object_position": null,
      "order": null,
      "overflow": null,
      "overflow_x": null,
      "overflow_y": null,
      "padding": null,
      "right": null,
      "top": null,
      "visibility": null,
      "width": null
     }
    },
    "ece2840fff094fa6b4e45ec8eb711be4": {
     "model_module": "@jupyter-widgets/base",
     "model_module_version": "1.2.0",
     "model_name": "LayoutModel",
     "state": {
      "_model_module": "@jupyter-widgets/base",
      "_model_module_version": "1.2.0",
      "_model_name": "LayoutModel",
      "_view_count": null,
      "_view_module": "@jupyter-widgets/base",
      "_view_module_version": "1.2.0",
      "_view_name": "LayoutView",
      "align_content": null,
      "align_items": null,
      "align_self": null,
      "border": null,
      "bottom": null,
      "display": null,
      "flex": null,
      "flex_flow": null,
      "grid_area": null,
      "grid_auto_columns": null,
      "grid_auto_flow": null,
      "grid_auto_rows": null,
      "grid_column": null,
      "grid_gap": null,
      "grid_row": null,
      "grid_template_areas": null,
      "grid_template_columns": null,
      "grid_template_rows": null,
      "height": null,
      "justify_content": null,
      "justify_items": null,
      "left": null,
      "margin": null,
      "max_height": null,
      "max_width": null,
      "min_height": null,
      "min_width": null,
      "object_fit": null,
      "object_position": null,
      "order": null,
      "overflow": null,
      "overflow_x": null,
      "overflow_y": null,
      "padding": null,
      "right": null,
      "top": null,
      "visibility": null,
      "width": null
     }
    },
    "f7894976d4bf456a9a34251b39b96306": {
     "model_module": "@jupyter-widgets/controls",
     "model_module_version": "1.5.0",
     "model_name": "DescriptionStyleModel",
     "state": {
      "_model_module": "@jupyter-widgets/controls",
      "_model_module_version": "1.5.0",
      "_model_name": "DescriptionStyleModel",
      "_view_count": null,
      "_view_module": "@jupyter-widgets/base",
      "_view_module_version": "1.2.0",
      "_view_name": "StyleView",
      "description_width": ""
     }
    },
    "fd3218d4705043d68ccb6e62f3b0c3aa": {
     "model_module": "@jupyter-widgets/controls",
     "model_module_version": "1.5.0",
     "model_name": "HBoxModel",
     "state": {
      "_dom_classes": [],
      "_model_module": "@jupyter-widgets/controls",
      "_model_module_version": "1.5.0",
      "_model_name": "HBoxModel",
      "_view_count": null,
      "_view_module": "@jupyter-widgets/controls",
      "_view_module_version": "1.5.0",
      "_view_name": "HBoxView",
      "box_style": "",
      "children": [
       "IPY_MODEL_83c2031b89d848eba91538a3fdb68f4b",
       "IPY_MODEL_2780b569b36f4a6ea0cbb627cb21dd34",
       "IPY_MODEL_523a8d71834e4d30a51abd39a0b5fa26"
      ],
      "layout": "IPY_MODEL_c8ebfa83915c4416b03defb947bea7f6"
     }
    }
   }
  }
 },
 "nbformat": 4,
 "nbformat_minor": 1
}
